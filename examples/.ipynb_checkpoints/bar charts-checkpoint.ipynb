{
 "cells": [
  {
   "cell_type": "markdown",
   "metadata": {
    "toc": true
   },
   "source": [
    "<h1>Table of Contents<span class=\"tocSkip\"></span></h1>\n",
    "<div class=\"toc\"><ul class=\"toc-item\"></ul></div>"
   ]
  },
  {
   "cell_type": "code",
   "execution_count": 1,
   "metadata": {},
   "outputs": [
    {
     "data": {
      "text/html": [
       "        <script type=\"text/javascript\">\n",
       "        window.PlotlyConfig = {MathJaxConfig: 'local'};\n",
       "        if (window.MathJax) {MathJax.Hub.Config({SVG: {font: \"STIX-Web\"}});}\n",
       "        if (typeof require !== 'undefined') {\n",
       "        require.undef(\"plotly\");\n",
       "        requirejs.config({\n",
       "            paths: {\n",
       "                'plotly': ['https://cdn.plot.ly/plotly-latest.min']\n",
       "            }\n",
       "        });\n",
       "        require(['plotly'], function(Plotly) {\n",
       "            window._Plotly = Plotly;\n",
       "        });\n",
       "        }\n",
       "        </script>\n",
       "        "
      ]
     },
     "metadata": {},
     "output_type": "display_data"
    }
   ],
   "source": [
    "import os\n",
    "import sys\n",
    "import pandas as pd\n",
    "module_path = os.path.abspath(os.path.join('..'))\n",
    "if module_path not in sys.path:\n",
    "    sys.path.append(module_path)\n",
    "\n",
    "from plotly_chart_builder.plotly_chart_builder import PlotlyChart\n",
    "\n",
    "chart = PlotlyChart()"
   ]
  },
  {
   "cell_type": "markdown",
   "metadata": {},
   "source": [
    "## Simple Vertical Bar Chart"
   ]
  },
  {
   "cell_type": "code",
   "execution_count": 2,
   "metadata": {},
   "outputs": [
    {
     "data": {
      "text/html": [
       "<div>\n",
       "<style scoped>\n",
       "    .dataframe tbody tr th:only-of-type {\n",
       "        vertical-align: middle;\n",
       "    }\n",
       "\n",
       "    .dataframe tbody tr th {\n",
       "        vertical-align: top;\n",
       "    }\n",
       "\n",
       "    .dataframe thead th {\n",
       "        text-align: right;\n",
       "    }\n",
       "</style>\n",
       "<table border=\"1\" class=\"dataframe\">\n",
       "  <thead>\n",
       "    <tr style=\"text-align: right;\">\n",
       "      <th></th>\n",
       "      <th>Product A</th>\n",
       "      <th>Product B</th>\n",
       "      <th>Product C</th>\n",
       "    </tr>\n",
       "  </thead>\n",
       "  <tbody>\n",
       "    <tr>\n",
       "      <th>Products</th>\n",
       "      <td>37.5</td>\n",
       "      <td>40.2</td>\n",
       "      <td>27.8</td>\n",
       "    </tr>\n",
       "  </tbody>\n",
       "</table>\n",
       "</div>"
      ],
      "text/plain": [
       "          Product A  Product B  Product C\n",
       "Products       37.5       40.2       27.8"
      ]
     },
     "execution_count": 2,
     "metadata": {},
     "output_type": "execute_result"
    }
   ],
   "source": [
    "# create data\n",
    "x = ['Product A', 'Product B', 'Product C']\n",
    "y = [37.5, 40.2, 27.8]\n",
    "data = pd.DataFrame(data=y, index=x, columns=['Products'])\n",
    "data = data.transpose()\n",
    "data"
   ]
  },
  {
   "cell_type": "code",
   "execution_count": 3,
   "metadata": {},
   "outputs": [
    {
     "data": {
      "application/vnd.plotly.v1+json": {
       "config": {
        "linkText": "Export to plot.ly",
        "plotlyServerURL": "https://plot.ly",
        "showLink": false
       },
       "data": [
        {
         "marker": {
          "line": {
           "color": "#2C3347",
           "width": 1
          },
          "opacity": 0.9
         },
         "name": "Products",
         "orientation": "v",
         "text": [
          40.2,
          37.5,
          27.8
         ],
         "type": "bar",
         "width": 0.4,
         "x": [
          "Product B",
          "Product A",
          "Product C"
         ],
         "y": [
          40.2,
          37.5,
          27.8
         ]
        }
       ],
       "layout": {
        "annotations": [
         {
          "font": {
           "color": "lightgrey",
           "family": "sans-serif",
           "size": 15
          },
          "showarrow": false,
          "text": "37.5",
          "x": "Product A",
          "xref": "x",
          "y": 18.75,
          "yref": "y"
         },
         {
          "font": {
           "color": "lightgrey",
           "family": "sans-serif",
           "size": 15
          },
          "showarrow": false,
          "text": "40.2",
          "x": "Product B",
          "xref": "x",
          "y": 20.1,
          "yref": "y"
         },
         {
          "font": {
           "color": "lightgrey",
           "family": "sans-serif",
           "size": 15
          },
          "showarrow": false,
          "text": "27.8",
          "x": "Product C",
          "xref": "x",
          "y": 13.9,
          "yref": "y"
         }
        ],
        "autosize": false,
        "height": 400,
        "legend": {
         "bordercolor": "#202534",
         "borderwidth": 0,
         "font": {
          "color": "lightgrey",
          "family": "sans-serif",
          "size": 12
         },
         "orientation": "v",
         "traceorder": "normal",
         "x": 1.02,
         "xanchor": "left",
         "y": 1,
         "yanchor": "middle"
        },
        "margin": {
         "b": 75,
         "l": 75,
         "pad": 10,
         "r": 50,
         "t": 75
        },
        "paper_bgcolor": "#202534",
        "plot_bgcolor": "#202534",
        "template": {
         "data": {
          "bar": [
           {
            "error_x": {
             "color": "#2a3f5f"
            },
            "error_y": {
             "color": "#2a3f5f"
            },
            "marker": {
             "line": {
              "color": "#E5ECF6",
              "width": 0.5
             }
            },
            "type": "bar"
           }
          ],
          "barpolar": [
           {
            "marker": {
             "line": {
              "color": "#E5ECF6",
              "width": 0.5
             }
            },
            "type": "barpolar"
           }
          ],
          "carpet": [
           {
            "aaxis": {
             "endlinecolor": "#2a3f5f",
             "gridcolor": "white",
             "linecolor": "white",
             "minorgridcolor": "white",
             "startlinecolor": "#2a3f5f"
            },
            "baxis": {
             "endlinecolor": "#2a3f5f",
             "gridcolor": "white",
             "linecolor": "white",
             "minorgridcolor": "white",
             "startlinecolor": "#2a3f5f"
            },
            "type": "carpet"
           }
          ],
          "choropleth": [
           {
            "colorbar": {
             "outlinewidth": 0,
             "ticks": ""
            },
            "type": "choropleth"
           }
          ],
          "contour": [
           {
            "colorbar": {
             "outlinewidth": 0,
             "ticks": ""
            },
            "colorscale": [
             [
              0,
              "#0d0887"
             ],
             [
              0.1111111111111111,
              "#46039f"
             ],
             [
              0.2222222222222222,
              "#7201a8"
             ],
             [
              0.3333333333333333,
              "#9c179e"
             ],
             [
              0.4444444444444444,
              "#bd3786"
             ],
             [
              0.5555555555555556,
              "#d8576b"
             ],
             [
              0.6666666666666666,
              "#ed7953"
             ],
             [
              0.7777777777777778,
              "#fb9f3a"
             ],
             [
              0.8888888888888888,
              "#fdca26"
             ],
             [
              1,
              "#f0f921"
             ]
            ],
            "type": "contour"
           }
          ],
          "contourcarpet": [
           {
            "colorbar": {
             "outlinewidth": 0,
             "ticks": ""
            },
            "type": "contourcarpet"
           }
          ],
          "heatmap": [
           {
            "colorbar": {
             "outlinewidth": 0,
             "ticks": ""
            },
            "colorscale": [
             [
              0,
              "#0d0887"
             ],
             [
              0.1111111111111111,
              "#46039f"
             ],
             [
              0.2222222222222222,
              "#7201a8"
             ],
             [
              0.3333333333333333,
              "#9c179e"
             ],
             [
              0.4444444444444444,
              "#bd3786"
             ],
             [
              0.5555555555555556,
              "#d8576b"
             ],
             [
              0.6666666666666666,
              "#ed7953"
             ],
             [
              0.7777777777777778,
              "#fb9f3a"
             ],
             [
              0.8888888888888888,
              "#fdca26"
             ],
             [
              1,
              "#f0f921"
             ]
            ],
            "type": "heatmap"
           }
          ],
          "heatmapgl": [
           {
            "colorbar": {
             "outlinewidth": 0,
             "ticks": ""
            },
            "colorscale": [
             [
              0,
              "#0d0887"
             ],
             [
              0.1111111111111111,
              "#46039f"
             ],
             [
              0.2222222222222222,
              "#7201a8"
             ],
             [
              0.3333333333333333,
              "#9c179e"
             ],
             [
              0.4444444444444444,
              "#bd3786"
             ],
             [
              0.5555555555555556,
              "#d8576b"
             ],
             [
              0.6666666666666666,
              "#ed7953"
             ],
             [
              0.7777777777777778,
              "#fb9f3a"
             ],
             [
              0.8888888888888888,
              "#fdca26"
             ],
             [
              1,
              "#f0f921"
             ]
            ],
            "type": "heatmapgl"
           }
          ],
          "histogram": [
           {
            "marker": {
             "colorbar": {
              "outlinewidth": 0,
              "ticks": ""
             }
            },
            "type": "histogram"
           }
          ],
          "histogram2d": [
           {
            "colorbar": {
             "outlinewidth": 0,
             "ticks": ""
            },
            "colorscale": [
             [
              0,
              "#0d0887"
             ],
             [
              0.1111111111111111,
              "#46039f"
             ],
             [
              0.2222222222222222,
              "#7201a8"
             ],
             [
              0.3333333333333333,
              "#9c179e"
             ],
             [
              0.4444444444444444,
              "#bd3786"
             ],
             [
              0.5555555555555556,
              "#d8576b"
             ],
             [
              0.6666666666666666,
              "#ed7953"
             ],
             [
              0.7777777777777778,
              "#fb9f3a"
             ],
             [
              0.8888888888888888,
              "#fdca26"
             ],
             [
              1,
              "#f0f921"
             ]
            ],
            "type": "histogram2d"
           }
          ],
          "histogram2dcontour": [
           {
            "colorbar": {
             "outlinewidth": 0,
             "ticks": ""
            },
            "colorscale": [
             [
              0,
              "#0d0887"
             ],
             [
              0.1111111111111111,
              "#46039f"
             ],
             [
              0.2222222222222222,
              "#7201a8"
             ],
             [
              0.3333333333333333,
              "#9c179e"
             ],
             [
              0.4444444444444444,
              "#bd3786"
             ],
             [
              0.5555555555555556,
              "#d8576b"
             ],
             [
              0.6666666666666666,
              "#ed7953"
             ],
             [
              0.7777777777777778,
              "#fb9f3a"
             ],
             [
              0.8888888888888888,
              "#fdca26"
             ],
             [
              1,
              "#f0f921"
             ]
            ],
            "type": "histogram2dcontour"
           }
          ],
          "mesh3d": [
           {
            "colorbar": {
             "outlinewidth": 0,
             "ticks": ""
            },
            "type": "mesh3d"
           }
          ],
          "parcoords": [
           {
            "line": {
             "colorbar": {
              "outlinewidth": 0,
              "ticks": ""
             }
            },
            "type": "parcoords"
           }
          ],
          "pie": [
           {
            "automargin": true,
            "type": "pie"
           }
          ],
          "scatter": [
           {
            "marker": {
             "colorbar": {
              "outlinewidth": 0,
              "ticks": ""
             }
            },
            "type": "scatter"
           }
          ],
          "scatter3d": [
           {
            "line": {
             "colorbar": {
              "outlinewidth": 0,
              "ticks": ""
             }
            },
            "marker": {
             "colorbar": {
              "outlinewidth": 0,
              "ticks": ""
             }
            },
            "type": "scatter3d"
           }
          ],
          "scattercarpet": [
           {
            "marker": {
             "colorbar": {
              "outlinewidth": 0,
              "ticks": ""
             }
            },
            "type": "scattercarpet"
           }
          ],
          "scattergeo": [
           {
            "marker": {
             "colorbar": {
              "outlinewidth": 0,
              "ticks": ""
             }
            },
            "type": "scattergeo"
           }
          ],
          "scattergl": [
           {
            "marker": {
             "colorbar": {
              "outlinewidth": 0,
              "ticks": ""
             }
            },
            "type": "scattergl"
           }
          ],
          "scattermapbox": [
           {
            "marker": {
             "colorbar": {
              "outlinewidth": 0,
              "ticks": ""
             }
            },
            "type": "scattermapbox"
           }
          ],
          "scatterpolar": [
           {
            "marker": {
             "colorbar": {
              "outlinewidth": 0,
              "ticks": ""
             }
            },
            "type": "scatterpolar"
           }
          ],
          "scatterpolargl": [
           {
            "marker": {
             "colorbar": {
              "outlinewidth": 0,
              "ticks": ""
             }
            },
            "type": "scatterpolargl"
           }
          ],
          "scatterternary": [
           {
            "marker": {
             "colorbar": {
              "outlinewidth": 0,
              "ticks": ""
             }
            },
            "type": "scatterternary"
           }
          ],
          "surface": [
           {
            "colorbar": {
             "outlinewidth": 0,
             "ticks": ""
            },
            "colorscale": [
             [
              0,
              "#0d0887"
             ],
             [
              0.1111111111111111,
              "#46039f"
             ],
             [
              0.2222222222222222,
              "#7201a8"
             ],
             [
              0.3333333333333333,
              "#9c179e"
             ],
             [
              0.4444444444444444,
              "#bd3786"
             ],
             [
              0.5555555555555556,
              "#d8576b"
             ],
             [
              0.6666666666666666,
              "#ed7953"
             ],
             [
              0.7777777777777778,
              "#fb9f3a"
             ],
             [
              0.8888888888888888,
              "#fdca26"
             ],
             [
              1,
              "#f0f921"
             ]
            ],
            "type": "surface"
           }
          ],
          "table": [
           {
            "cells": {
             "fill": {
              "color": "#EBF0F8"
             },
             "line": {
              "color": "white"
             }
            },
            "header": {
             "fill": {
              "color": "#C8D4E3"
             },
             "line": {
              "color": "white"
             }
            },
            "type": "table"
           }
          ]
         },
         "layout": {
          "annotationdefaults": {
           "arrowcolor": "#2a3f5f",
           "arrowhead": 0,
           "arrowwidth": 1
          },
          "coloraxis": {
           "colorbar": {
            "outlinewidth": 0,
            "ticks": ""
           }
          },
          "colorscale": {
           "diverging": [
            [
             0,
             "#8e0152"
            ],
            [
             0.1,
             "#c51b7d"
            ],
            [
             0.2,
             "#de77ae"
            ],
            [
             0.3,
             "#f1b6da"
            ],
            [
             0.4,
             "#fde0ef"
            ],
            [
             0.5,
             "#f7f7f7"
            ],
            [
             0.6,
             "#e6f5d0"
            ],
            [
             0.7,
             "#b8e186"
            ],
            [
             0.8,
             "#7fbc41"
            ],
            [
             0.9,
             "#4d9221"
            ],
            [
             1,
             "#276419"
            ]
           ],
           "sequential": [
            [
             0,
             "#0d0887"
            ],
            [
             0.1111111111111111,
             "#46039f"
            ],
            [
             0.2222222222222222,
             "#7201a8"
            ],
            [
             0.3333333333333333,
             "#9c179e"
            ],
            [
             0.4444444444444444,
             "#bd3786"
            ],
            [
             0.5555555555555556,
             "#d8576b"
            ],
            [
             0.6666666666666666,
             "#ed7953"
            ],
            [
             0.7777777777777778,
             "#fb9f3a"
            ],
            [
             0.8888888888888888,
             "#fdca26"
            ],
            [
             1,
             "#f0f921"
            ]
           ],
           "sequentialminus": [
            [
             0,
             "#0d0887"
            ],
            [
             0.1111111111111111,
             "#46039f"
            ],
            [
             0.2222222222222222,
             "#7201a8"
            ],
            [
             0.3333333333333333,
             "#9c179e"
            ],
            [
             0.4444444444444444,
             "#bd3786"
            ],
            [
             0.5555555555555556,
             "#d8576b"
            ],
            [
             0.6666666666666666,
             "#ed7953"
            ],
            [
             0.7777777777777778,
             "#fb9f3a"
            ],
            [
             0.8888888888888888,
             "#fdca26"
            ],
            [
             1,
             "#f0f921"
            ]
           ]
          },
          "colorway": [
           "#636efa",
           "#EF553B",
           "#00cc96",
           "#ab63fa",
           "#FFA15A",
           "#19d3f3",
           "#FF6692",
           "#B6E880",
           "#FF97FF",
           "#FECB52"
          ],
          "font": {
           "color": "#2a3f5f"
          },
          "geo": {
           "bgcolor": "white",
           "lakecolor": "white",
           "landcolor": "#E5ECF6",
           "showlakes": true,
           "showland": true,
           "subunitcolor": "white"
          },
          "hoverlabel": {
           "align": "left"
          },
          "hovermode": "closest",
          "mapbox": {
           "style": "light"
          },
          "paper_bgcolor": "white",
          "plot_bgcolor": "#E5ECF6",
          "polar": {
           "angularaxis": {
            "gridcolor": "white",
            "linecolor": "white",
            "ticks": ""
           },
           "bgcolor": "#E5ECF6",
           "radialaxis": {
            "gridcolor": "white",
            "linecolor": "white",
            "ticks": ""
           }
          },
          "scene": {
           "xaxis": {
            "backgroundcolor": "#E5ECF6",
            "gridcolor": "white",
            "gridwidth": 2,
            "linecolor": "white",
            "showbackground": true,
            "ticks": "",
            "zerolinecolor": "white"
           },
           "yaxis": {
            "backgroundcolor": "#E5ECF6",
            "gridcolor": "white",
            "gridwidth": 2,
            "linecolor": "white",
            "showbackground": true,
            "ticks": "",
            "zerolinecolor": "white"
           },
           "zaxis": {
            "backgroundcolor": "#E5ECF6",
            "gridcolor": "white",
            "gridwidth": 2,
            "linecolor": "white",
            "showbackground": true,
            "ticks": "",
            "zerolinecolor": "white"
           }
          },
          "shapedefaults": {
           "line": {
            "color": "#2a3f5f"
           }
          },
          "ternary": {
           "aaxis": {
            "gridcolor": "white",
            "linecolor": "white",
            "ticks": ""
           },
           "baxis": {
            "gridcolor": "white",
            "linecolor": "white",
            "ticks": ""
           },
           "bgcolor": "#E5ECF6",
           "caxis": {
            "gridcolor": "white",
            "linecolor": "white",
            "ticks": ""
           }
          },
          "title": {
           "x": 0.05
          },
          "xaxis": {
           "automargin": true,
           "gridcolor": "white",
           "linecolor": "white",
           "ticks": "",
           "title": {
            "standoff": 15
           },
           "zerolinecolor": "white",
           "zerolinewidth": 2
          },
          "yaxis": {
           "automargin": true,
           "gridcolor": "white",
           "linecolor": "white",
           "ticks": "",
           "title": {
            "standoff": 15
           },
           "zerolinecolor": "white",
           "zerolinewidth": 2
          }
         }
        },
        "title": {
         "font": {
          "color": "lightgrey",
          "family": "sans-serif",
          "size": 16
         },
         "text": "Sales per product (millions)",
         "x": 0.5
        },
        "width": 500,
        "xaxis": {
         "autorange": true,
         "color": "lightgrey",
         "dtick": 1,
         "gridcolor": "#343846",
         "gridwidth": 0.5,
         "showgrid": false,
         "showline": false,
         "showticklabels": true,
         "tickfont": {
          "color": "lightgrey",
          "size": 14
         },
         "tickformat": "",
         "tickmode": "auto",
         "title": {
          "font": {
           "color": "lightgrey",
           "family": "sans-serif",
           "size": 18
          },
          "text": ""
         },
         "type": "-",
         "zeroline": false,
         "zerolinecolor": "grey"
        },
        "yaxis": {
         "autorange": true,
         "color": "lightgrey",
         "dtick": 1,
         "gridcolor": "#343846",
         "gridwidth": 0.5,
         "showgrid": true,
         "showline": false,
         "showticklabels": true,
         "tickfont": {
          "color": "lightgrey",
          "size": 13
         },
         "tickformat": "",
         "tickmode": "auto",
         "ticks": "",
         "title": {
          "font": {
           "color": "lightgrey",
           "family": "sans-serif",
           "size": 18
          },
          "text": ""
         },
         "type": "-",
         "zeroline": true,
         "zerolinecolor": "grey"
        }
       }
      },
      "text/html": [
       "<div>\n",
       "        \n",
       "        \n",
       "            <div id=\"ca67bc5a-17cf-4cc3-b990-c3e7bf298213\" class=\"plotly-graph-div\" style=\"height:400px; width:500px;\"></div>\n",
       "            <script type=\"text/javascript\">\n",
       "                require([\"plotly\"], function(Plotly) {\n",
       "                    window.PLOTLYENV=window.PLOTLYENV || {};\n",
       "                    \n",
       "                if (document.getElementById(\"ca67bc5a-17cf-4cc3-b990-c3e7bf298213\")) {\n",
       "                    Plotly.newPlot(\n",
       "                        'ca67bc5a-17cf-4cc3-b990-c3e7bf298213',\n",
       "                        [{\"marker\": {\"line\": {\"color\": \"#2C3347\", \"width\": 1}, \"opacity\": 0.9}, \"name\": \"Products\", \"orientation\": \"v\", \"text\": [40.2, 37.5, 27.8], \"type\": \"bar\", \"width\": 0.4, \"x\": [\"Product B\", \"Product A\", \"Product C\"], \"y\": [40.2, 37.5, 27.8]}],\n",
       "                        {\"annotations\": [{\"font\": {\"color\": \"lightgrey\", \"family\": \"sans-serif\", \"size\": 15}, \"showarrow\": false, \"text\": \"37.5\", \"x\": \"Product A\", \"xref\": \"x\", \"y\": 18.75, \"yref\": \"y\"}, {\"font\": {\"color\": \"lightgrey\", \"family\": \"sans-serif\", \"size\": 15}, \"showarrow\": false, \"text\": \"40.2\", \"x\": \"Product B\", \"xref\": \"x\", \"y\": 20.1, \"yref\": \"y\"}, {\"font\": {\"color\": \"lightgrey\", \"family\": \"sans-serif\", \"size\": 15}, \"showarrow\": false, \"text\": \"27.8\", \"x\": \"Product C\", \"xref\": \"x\", \"y\": 13.9, \"yref\": \"y\"}], \"autosize\": false, \"height\": 400, \"legend\": {\"bordercolor\": \"#202534\", \"borderwidth\": 0, \"font\": {\"color\": \"lightgrey\", \"family\": \"sans-serif\", \"size\": 12}, \"orientation\": \"v\", \"traceorder\": \"normal\", \"x\": 1.02, \"xanchor\": \"left\", \"y\": 1, \"yanchor\": \"middle\"}, \"margin\": {\"b\": 75, \"l\": 75, \"pad\": 10, \"r\": 50, \"t\": 75}, \"paper_bgcolor\": \"#202534\", \"plot_bgcolor\": \"#202534\", \"template\": {\"data\": {\"bar\": [{\"error_x\": {\"color\": \"#2a3f5f\"}, \"error_y\": {\"color\": \"#2a3f5f\"}, \"marker\": {\"line\": {\"color\": \"#E5ECF6\", \"width\": 0.5}}, \"type\": \"bar\"}], \"barpolar\": [{\"marker\": {\"line\": {\"color\": \"#E5ECF6\", \"width\": 0.5}}, \"type\": \"barpolar\"}], \"carpet\": [{\"aaxis\": {\"endlinecolor\": \"#2a3f5f\", \"gridcolor\": \"white\", \"linecolor\": \"white\", \"minorgridcolor\": \"white\", \"startlinecolor\": \"#2a3f5f\"}, \"baxis\": {\"endlinecolor\": \"#2a3f5f\", \"gridcolor\": \"white\", \"linecolor\": \"white\", \"minorgridcolor\": \"white\", \"startlinecolor\": \"#2a3f5f\"}, \"type\": \"carpet\"}], \"choropleth\": [{\"colorbar\": {\"outlinewidth\": 0, \"ticks\": \"\"}, \"type\": \"choropleth\"}], \"contour\": [{\"colorbar\": {\"outlinewidth\": 0, \"ticks\": \"\"}, \"colorscale\": [[0.0, \"#0d0887\"], [0.1111111111111111, \"#46039f\"], [0.2222222222222222, \"#7201a8\"], [0.3333333333333333, \"#9c179e\"], [0.4444444444444444, \"#bd3786\"], [0.5555555555555556, \"#d8576b\"], [0.6666666666666666, \"#ed7953\"], [0.7777777777777778, \"#fb9f3a\"], [0.8888888888888888, \"#fdca26\"], [1.0, \"#f0f921\"]], \"type\": \"contour\"}], \"contourcarpet\": [{\"colorbar\": {\"outlinewidth\": 0, \"ticks\": \"\"}, \"type\": \"contourcarpet\"}], \"heatmap\": [{\"colorbar\": {\"outlinewidth\": 0, \"ticks\": \"\"}, \"colorscale\": [[0.0, \"#0d0887\"], [0.1111111111111111, \"#46039f\"], [0.2222222222222222, \"#7201a8\"], [0.3333333333333333, \"#9c179e\"], [0.4444444444444444, \"#bd3786\"], [0.5555555555555556, \"#d8576b\"], [0.6666666666666666, \"#ed7953\"], [0.7777777777777778, \"#fb9f3a\"], [0.8888888888888888, \"#fdca26\"], [1.0, \"#f0f921\"]], \"type\": \"heatmap\"}], \"heatmapgl\": [{\"colorbar\": {\"outlinewidth\": 0, \"ticks\": \"\"}, \"colorscale\": [[0.0, \"#0d0887\"], [0.1111111111111111, \"#46039f\"], [0.2222222222222222, \"#7201a8\"], [0.3333333333333333, \"#9c179e\"], [0.4444444444444444, \"#bd3786\"], [0.5555555555555556, \"#d8576b\"], [0.6666666666666666, \"#ed7953\"], [0.7777777777777778, \"#fb9f3a\"], [0.8888888888888888, \"#fdca26\"], [1.0, \"#f0f921\"]], \"type\": \"heatmapgl\"}], \"histogram\": [{\"marker\": {\"colorbar\": {\"outlinewidth\": 0, \"ticks\": \"\"}}, \"type\": \"histogram\"}], \"histogram2d\": [{\"colorbar\": {\"outlinewidth\": 0, \"ticks\": \"\"}, \"colorscale\": [[0.0, \"#0d0887\"], [0.1111111111111111, \"#46039f\"], [0.2222222222222222, \"#7201a8\"], [0.3333333333333333, \"#9c179e\"], [0.4444444444444444, \"#bd3786\"], [0.5555555555555556, \"#d8576b\"], [0.6666666666666666, \"#ed7953\"], [0.7777777777777778, \"#fb9f3a\"], [0.8888888888888888, \"#fdca26\"], [1.0, \"#f0f921\"]], \"type\": \"histogram2d\"}], \"histogram2dcontour\": [{\"colorbar\": {\"outlinewidth\": 0, \"ticks\": \"\"}, \"colorscale\": [[0.0, \"#0d0887\"], [0.1111111111111111, \"#46039f\"], [0.2222222222222222, \"#7201a8\"], [0.3333333333333333, \"#9c179e\"], [0.4444444444444444, \"#bd3786\"], [0.5555555555555556, \"#d8576b\"], [0.6666666666666666, \"#ed7953\"], [0.7777777777777778, \"#fb9f3a\"], [0.8888888888888888, \"#fdca26\"], [1.0, \"#f0f921\"]], \"type\": \"histogram2dcontour\"}], \"mesh3d\": [{\"colorbar\": {\"outlinewidth\": 0, \"ticks\": \"\"}, \"type\": \"mesh3d\"}], \"parcoords\": [{\"line\": {\"colorbar\": {\"outlinewidth\": 0, \"ticks\": \"\"}}, \"type\": \"parcoords\"}], \"pie\": [{\"automargin\": true, \"type\": \"pie\"}], \"scatter\": [{\"marker\": {\"colorbar\": {\"outlinewidth\": 0, \"ticks\": \"\"}}, \"type\": \"scatter\"}], \"scatter3d\": [{\"line\": {\"colorbar\": {\"outlinewidth\": 0, \"ticks\": \"\"}}, \"marker\": {\"colorbar\": {\"outlinewidth\": 0, \"ticks\": \"\"}}, \"type\": \"scatter3d\"}], \"scattercarpet\": [{\"marker\": {\"colorbar\": {\"outlinewidth\": 0, \"ticks\": \"\"}}, \"type\": \"scattercarpet\"}], \"scattergeo\": [{\"marker\": {\"colorbar\": {\"outlinewidth\": 0, \"ticks\": \"\"}}, \"type\": \"scattergeo\"}], \"scattergl\": [{\"marker\": {\"colorbar\": {\"outlinewidth\": 0, \"ticks\": \"\"}}, \"type\": \"scattergl\"}], \"scattermapbox\": [{\"marker\": {\"colorbar\": {\"outlinewidth\": 0, \"ticks\": \"\"}}, \"type\": \"scattermapbox\"}], \"scatterpolar\": [{\"marker\": {\"colorbar\": {\"outlinewidth\": 0, \"ticks\": \"\"}}, \"type\": \"scatterpolar\"}], \"scatterpolargl\": [{\"marker\": {\"colorbar\": {\"outlinewidth\": 0, \"ticks\": \"\"}}, \"type\": \"scatterpolargl\"}], \"scatterternary\": [{\"marker\": {\"colorbar\": {\"outlinewidth\": 0, \"ticks\": \"\"}}, \"type\": \"scatterternary\"}], \"surface\": [{\"colorbar\": {\"outlinewidth\": 0, \"ticks\": \"\"}, \"colorscale\": [[0.0, \"#0d0887\"], [0.1111111111111111, \"#46039f\"], [0.2222222222222222, \"#7201a8\"], [0.3333333333333333, \"#9c179e\"], [0.4444444444444444, \"#bd3786\"], [0.5555555555555556, \"#d8576b\"], [0.6666666666666666, \"#ed7953\"], [0.7777777777777778, \"#fb9f3a\"], [0.8888888888888888, \"#fdca26\"], [1.0, \"#f0f921\"]], \"type\": \"surface\"}], \"table\": [{\"cells\": {\"fill\": {\"color\": \"#EBF0F8\"}, \"line\": {\"color\": \"white\"}}, \"header\": {\"fill\": {\"color\": \"#C8D4E3\"}, \"line\": {\"color\": \"white\"}}, \"type\": \"table\"}]}, \"layout\": {\"annotationdefaults\": {\"arrowcolor\": \"#2a3f5f\", \"arrowhead\": 0, \"arrowwidth\": 1}, \"coloraxis\": {\"colorbar\": {\"outlinewidth\": 0, \"ticks\": \"\"}}, \"colorscale\": {\"diverging\": [[0, \"#8e0152\"], [0.1, \"#c51b7d\"], [0.2, \"#de77ae\"], [0.3, \"#f1b6da\"], [0.4, \"#fde0ef\"], [0.5, \"#f7f7f7\"], [0.6, \"#e6f5d0\"], [0.7, \"#b8e186\"], [0.8, \"#7fbc41\"], [0.9, \"#4d9221\"], [1, \"#276419\"]], \"sequential\": [[0.0, \"#0d0887\"], [0.1111111111111111, \"#46039f\"], [0.2222222222222222, \"#7201a8\"], [0.3333333333333333, \"#9c179e\"], [0.4444444444444444, \"#bd3786\"], [0.5555555555555556, \"#d8576b\"], [0.6666666666666666, \"#ed7953\"], [0.7777777777777778, \"#fb9f3a\"], [0.8888888888888888, \"#fdca26\"], [1.0, \"#f0f921\"]], \"sequentialminus\": [[0.0, \"#0d0887\"], [0.1111111111111111, \"#46039f\"], [0.2222222222222222, \"#7201a8\"], [0.3333333333333333, \"#9c179e\"], [0.4444444444444444, \"#bd3786\"], [0.5555555555555556, \"#d8576b\"], [0.6666666666666666, \"#ed7953\"], [0.7777777777777778, \"#fb9f3a\"], [0.8888888888888888, \"#fdca26\"], [1.0, \"#f0f921\"]]}, \"colorway\": [\"#636efa\", \"#EF553B\", \"#00cc96\", \"#ab63fa\", \"#FFA15A\", \"#19d3f3\", \"#FF6692\", \"#B6E880\", \"#FF97FF\", \"#FECB52\"], \"font\": {\"color\": \"#2a3f5f\"}, \"geo\": {\"bgcolor\": \"white\", \"lakecolor\": \"white\", \"landcolor\": \"#E5ECF6\", \"showlakes\": true, \"showland\": true, \"subunitcolor\": \"white\"}, \"hoverlabel\": {\"align\": \"left\"}, \"hovermode\": \"closest\", \"mapbox\": {\"style\": \"light\"}, \"paper_bgcolor\": \"white\", \"plot_bgcolor\": \"#E5ECF6\", \"polar\": {\"angularaxis\": {\"gridcolor\": \"white\", \"linecolor\": \"white\", \"ticks\": \"\"}, \"bgcolor\": \"#E5ECF6\", \"radialaxis\": {\"gridcolor\": \"white\", \"linecolor\": \"white\", \"ticks\": \"\"}}, \"scene\": {\"xaxis\": {\"backgroundcolor\": \"#E5ECF6\", \"gridcolor\": \"white\", \"gridwidth\": 2, \"linecolor\": \"white\", \"showbackground\": true, \"ticks\": \"\", \"zerolinecolor\": \"white\"}, \"yaxis\": {\"backgroundcolor\": \"#E5ECF6\", \"gridcolor\": \"white\", \"gridwidth\": 2, \"linecolor\": \"white\", \"showbackground\": true, \"ticks\": \"\", \"zerolinecolor\": \"white\"}, \"zaxis\": {\"backgroundcolor\": \"#E5ECF6\", \"gridcolor\": \"white\", \"gridwidth\": 2, \"linecolor\": \"white\", \"showbackground\": true, \"ticks\": \"\", \"zerolinecolor\": \"white\"}}, \"shapedefaults\": {\"line\": {\"color\": \"#2a3f5f\"}}, \"ternary\": {\"aaxis\": {\"gridcolor\": \"white\", \"linecolor\": \"white\", \"ticks\": \"\"}, \"baxis\": {\"gridcolor\": \"white\", \"linecolor\": \"white\", \"ticks\": \"\"}, \"bgcolor\": \"#E5ECF6\", \"caxis\": {\"gridcolor\": \"white\", \"linecolor\": \"white\", \"ticks\": \"\"}}, \"title\": {\"x\": 0.05}, \"xaxis\": {\"automargin\": true, \"gridcolor\": \"white\", \"linecolor\": \"white\", \"ticks\": \"\", \"title\": {\"standoff\": 15}, \"zerolinecolor\": \"white\", \"zerolinewidth\": 2}, \"yaxis\": {\"automargin\": true, \"gridcolor\": \"white\", \"linecolor\": \"white\", \"ticks\": \"\", \"title\": {\"standoff\": 15}, \"zerolinecolor\": \"white\", \"zerolinewidth\": 2}}}, \"title\": {\"font\": {\"color\": \"lightgrey\", \"family\": \"sans-serif\", \"size\": 16}, \"text\": \"Sales per product (millions)\", \"x\": 0.5}, \"width\": 500, \"xaxis\": {\"autorange\": true, \"color\": \"lightgrey\", \"dtick\": 1, \"gridcolor\": \"#343846\", \"gridwidth\": 0.5, \"showgrid\": false, \"showline\": false, \"showticklabels\": true, \"tickfont\": {\"color\": \"lightgrey\", \"size\": 14}, \"tickformat\": \"\", \"tickmode\": \"auto\", \"title\": {\"font\": {\"color\": \"lightgrey\", \"family\": \"sans-serif\", \"size\": 18}, \"text\": \"\"}, \"type\": \"-\", \"zeroline\": false, \"zerolinecolor\": \"grey\"}, \"yaxis\": {\"autorange\": true, \"color\": \"lightgrey\", \"dtick\": 1, \"gridcolor\": \"#343846\", \"gridwidth\": 0.5, \"showgrid\": true, \"showline\": false, \"showticklabels\": true, \"tickfont\": {\"color\": \"lightgrey\", \"size\": 13}, \"tickformat\": \"\", \"tickmode\": \"auto\", \"ticks\": \"\", \"title\": {\"font\": {\"color\": \"lightgrey\", \"family\": \"sans-serif\", \"size\": 18}, \"text\": \"\"}, \"type\": \"-\", \"zeroline\": true, \"zerolinecolor\": \"grey\"}},\n",
       "                        {\"responsive\": true}\n",
       "                    ).then(function(){\n",
       "                            \n",
       "var gd = document.getElementById('ca67bc5a-17cf-4cc3-b990-c3e7bf298213');\n",
       "var x = new MutationObserver(function (mutations, observer) {{\n",
       "        var display = window.getComputedStyle(gd).display;\n",
       "        if (!display || display === 'none') {{\n",
       "            console.log([gd, 'removed!']);\n",
       "            Plotly.purge(gd);\n",
       "            observer.disconnect();\n",
       "        }}\n",
       "}});\n",
       "\n",
       "// Listen for the removal of the full notebook cells\n",
       "var notebookContainer = gd.closest('#notebook-container');\n",
       "if (notebookContainer) {{\n",
       "    x.observe(notebookContainer, {childList: true});\n",
       "}}\n",
       "\n",
       "// Listen for the clearing of the current output cell\n",
       "var outputEl = gd.closest('.output');\n",
       "if (outputEl) {{\n",
       "    x.observe(outputEl, {childList: true});\n",
       "}}\n",
       "\n",
       "                        })\n",
       "                };\n",
       "                });\n",
       "            </script>\n",
       "        </div>"
      ]
     },
     "metadata": {},
     "output_type": "display_data"
    }
   ],
   "source": [
    "# create data\n",
    "x = ['Product A', 'Product B', 'Product C']\n",
    "y = [37.5, 40.2, 27.8]\n",
    "data = pd.DataFrame(data=y, index=x, columns=['Products'])\n",
    "data = data.transpose()\n",
    "\n",
    "# create chart\n",
    "color_palette = chart.palette(palette='colorful')\n",
    "\n",
    "layout = chart.layout(color_palette=color_palette, width=500, height=400,\n",
    "                     title='Sales per product (millions)', \n",
    "                      title_size=16, xaxis_ticksize=14)\n",
    "\n",
    "annot = chart.add_bar_values(data, orientation='v')\n",
    "\n",
    "chart.bar(data, layout=layout, orientation='v', sort_by='Products', ascending=False,\n",
    "            annotations=annot, bar_width=0.4)"
   ]
  },
  {
   "cell_type": "markdown",
   "metadata": {},
   "source": [
    "## Simple Horizontal Bar Chart"
   ]
  },
  {
   "cell_type": "code",
   "execution_count": 5,
   "metadata": {},
   "outputs": [
    {
     "data": {
      "application/vnd.plotly.v1+json": {
       "config": {
        "linkText": "Export to plot.ly",
        "plotlyServerURL": "https://plot.ly",
        "showLink": false
       },
       "data": [
        {
         "marker": {
          "line": {
           "color": "#2C3347",
           "width": 1
          },
          "opacity": 0.9
         },
         "name": "Products",
         "orientation": "h",
         "text": [
          27.8,
          37.5,
          40.2
         ],
         "type": "bar",
         "width": 0.5,
         "x": [
          27.8,
          37.5,
          40.2
         ],
         "y": [
          "Product C",
          "Product A",
          "Product B"
         ]
        }
       ],
       "layout": {
        "annotations": [
         {
          "font": {
           "color": "lightgrey",
           "family": "sans-serif",
           "size": 15
          },
          "showarrow": false,
          "text": "37.5",
          "x": 18.75,
          "xref": "x",
          "y": "Product A",
          "yref": "y"
         },
         {
          "font": {
           "color": "lightgrey",
           "family": "sans-serif",
           "size": 15
          },
          "showarrow": false,
          "text": "40.2",
          "x": 20.1,
          "xref": "x",
          "y": "Product B",
          "yref": "y"
         },
         {
          "font": {
           "color": "lightgrey",
           "family": "sans-serif",
           "size": 15
          },
          "showarrow": false,
          "text": "27.8",
          "x": 13.9,
          "xref": "x",
          "y": "Product C",
          "yref": "y"
         }
        ],
        "autosize": false,
        "height": 400,
        "legend": {
         "bordercolor": "#202534",
         "borderwidth": 0,
         "font": {
          "color": "lightgrey",
          "family": "sans-serif",
          "size": 12
         },
         "orientation": "v",
         "traceorder": "normal",
         "x": 1.02,
         "xanchor": "left",
         "y": 1,
         "yanchor": "middle"
        },
        "margin": {
         "b": 75,
         "l": 75,
         "pad": 10,
         "r": 50,
         "t": 75
        },
        "paper_bgcolor": "#202534",
        "plot_bgcolor": "#202534",
        "template": {
         "data": {
          "bar": [
           {
            "error_x": {
             "color": "#2a3f5f"
            },
            "error_y": {
             "color": "#2a3f5f"
            },
            "marker": {
             "line": {
              "color": "#E5ECF6",
              "width": 0.5
             }
            },
            "type": "bar"
           }
          ],
          "barpolar": [
           {
            "marker": {
             "line": {
              "color": "#E5ECF6",
              "width": 0.5
             }
            },
            "type": "barpolar"
           }
          ],
          "carpet": [
           {
            "aaxis": {
             "endlinecolor": "#2a3f5f",
             "gridcolor": "white",
             "linecolor": "white",
             "minorgridcolor": "white",
             "startlinecolor": "#2a3f5f"
            },
            "baxis": {
             "endlinecolor": "#2a3f5f",
             "gridcolor": "white",
             "linecolor": "white",
             "minorgridcolor": "white",
             "startlinecolor": "#2a3f5f"
            },
            "type": "carpet"
           }
          ],
          "choropleth": [
           {
            "colorbar": {
             "outlinewidth": 0,
             "ticks": ""
            },
            "type": "choropleth"
           }
          ],
          "contour": [
           {
            "colorbar": {
             "outlinewidth": 0,
             "ticks": ""
            },
            "colorscale": [
             [
              0,
              "#0d0887"
             ],
             [
              0.1111111111111111,
              "#46039f"
             ],
             [
              0.2222222222222222,
              "#7201a8"
             ],
             [
              0.3333333333333333,
              "#9c179e"
             ],
             [
              0.4444444444444444,
              "#bd3786"
             ],
             [
              0.5555555555555556,
              "#d8576b"
             ],
             [
              0.6666666666666666,
              "#ed7953"
             ],
             [
              0.7777777777777778,
              "#fb9f3a"
             ],
             [
              0.8888888888888888,
              "#fdca26"
             ],
             [
              1,
              "#f0f921"
             ]
            ],
            "type": "contour"
           }
          ],
          "contourcarpet": [
           {
            "colorbar": {
             "outlinewidth": 0,
             "ticks": ""
            },
            "type": "contourcarpet"
           }
          ],
          "heatmap": [
           {
            "colorbar": {
             "outlinewidth": 0,
             "ticks": ""
            },
            "colorscale": [
             [
              0,
              "#0d0887"
             ],
             [
              0.1111111111111111,
              "#46039f"
             ],
             [
              0.2222222222222222,
              "#7201a8"
             ],
             [
              0.3333333333333333,
              "#9c179e"
             ],
             [
              0.4444444444444444,
              "#bd3786"
             ],
             [
              0.5555555555555556,
              "#d8576b"
             ],
             [
              0.6666666666666666,
              "#ed7953"
             ],
             [
              0.7777777777777778,
              "#fb9f3a"
             ],
             [
              0.8888888888888888,
              "#fdca26"
             ],
             [
              1,
              "#f0f921"
             ]
            ],
            "type": "heatmap"
           }
          ],
          "heatmapgl": [
           {
            "colorbar": {
             "outlinewidth": 0,
             "ticks": ""
            },
            "colorscale": [
             [
              0,
              "#0d0887"
             ],
             [
              0.1111111111111111,
              "#46039f"
             ],
             [
              0.2222222222222222,
              "#7201a8"
             ],
             [
              0.3333333333333333,
              "#9c179e"
             ],
             [
              0.4444444444444444,
              "#bd3786"
             ],
             [
              0.5555555555555556,
              "#d8576b"
             ],
             [
              0.6666666666666666,
              "#ed7953"
             ],
             [
              0.7777777777777778,
              "#fb9f3a"
             ],
             [
              0.8888888888888888,
              "#fdca26"
             ],
             [
              1,
              "#f0f921"
             ]
            ],
            "type": "heatmapgl"
           }
          ],
          "histogram": [
           {
            "marker": {
             "colorbar": {
              "outlinewidth": 0,
              "ticks": ""
             }
            },
            "type": "histogram"
           }
          ],
          "histogram2d": [
           {
            "colorbar": {
             "outlinewidth": 0,
             "ticks": ""
            },
            "colorscale": [
             [
              0,
              "#0d0887"
             ],
             [
              0.1111111111111111,
              "#46039f"
             ],
             [
              0.2222222222222222,
              "#7201a8"
             ],
             [
              0.3333333333333333,
              "#9c179e"
             ],
             [
              0.4444444444444444,
              "#bd3786"
             ],
             [
              0.5555555555555556,
              "#d8576b"
             ],
             [
              0.6666666666666666,
              "#ed7953"
             ],
             [
              0.7777777777777778,
              "#fb9f3a"
             ],
             [
              0.8888888888888888,
              "#fdca26"
             ],
             [
              1,
              "#f0f921"
             ]
            ],
            "type": "histogram2d"
           }
          ],
          "histogram2dcontour": [
           {
            "colorbar": {
             "outlinewidth": 0,
             "ticks": ""
            },
            "colorscale": [
             [
              0,
              "#0d0887"
             ],
             [
              0.1111111111111111,
              "#46039f"
             ],
             [
              0.2222222222222222,
              "#7201a8"
             ],
             [
              0.3333333333333333,
              "#9c179e"
             ],
             [
              0.4444444444444444,
              "#bd3786"
             ],
             [
              0.5555555555555556,
              "#d8576b"
             ],
             [
              0.6666666666666666,
              "#ed7953"
             ],
             [
              0.7777777777777778,
              "#fb9f3a"
             ],
             [
              0.8888888888888888,
              "#fdca26"
             ],
             [
              1,
              "#f0f921"
             ]
            ],
            "type": "histogram2dcontour"
           }
          ],
          "mesh3d": [
           {
            "colorbar": {
             "outlinewidth": 0,
             "ticks": ""
            },
            "type": "mesh3d"
           }
          ],
          "parcoords": [
           {
            "line": {
             "colorbar": {
              "outlinewidth": 0,
              "ticks": ""
             }
            },
            "type": "parcoords"
           }
          ],
          "pie": [
           {
            "automargin": true,
            "type": "pie"
           }
          ],
          "scatter": [
           {
            "marker": {
             "colorbar": {
              "outlinewidth": 0,
              "ticks": ""
             }
            },
            "type": "scatter"
           }
          ],
          "scatter3d": [
           {
            "line": {
             "colorbar": {
              "outlinewidth": 0,
              "ticks": ""
             }
            },
            "marker": {
             "colorbar": {
              "outlinewidth": 0,
              "ticks": ""
             }
            },
            "type": "scatter3d"
           }
          ],
          "scattercarpet": [
           {
            "marker": {
             "colorbar": {
              "outlinewidth": 0,
              "ticks": ""
             }
            },
            "type": "scattercarpet"
           }
          ],
          "scattergeo": [
           {
            "marker": {
             "colorbar": {
              "outlinewidth": 0,
              "ticks": ""
             }
            },
            "type": "scattergeo"
           }
          ],
          "scattergl": [
           {
            "marker": {
             "colorbar": {
              "outlinewidth": 0,
              "ticks": ""
             }
            },
            "type": "scattergl"
           }
          ],
          "scattermapbox": [
           {
            "marker": {
             "colorbar": {
              "outlinewidth": 0,
              "ticks": ""
             }
            },
            "type": "scattermapbox"
           }
          ],
          "scatterpolar": [
           {
            "marker": {
             "colorbar": {
              "outlinewidth": 0,
              "ticks": ""
             }
            },
            "type": "scatterpolar"
           }
          ],
          "scatterpolargl": [
           {
            "marker": {
             "colorbar": {
              "outlinewidth": 0,
              "ticks": ""
             }
            },
            "type": "scatterpolargl"
           }
          ],
          "scatterternary": [
           {
            "marker": {
             "colorbar": {
              "outlinewidth": 0,
              "ticks": ""
             }
            },
            "type": "scatterternary"
           }
          ],
          "surface": [
           {
            "colorbar": {
             "outlinewidth": 0,
             "ticks": ""
            },
            "colorscale": [
             [
              0,
              "#0d0887"
             ],
             [
              0.1111111111111111,
              "#46039f"
             ],
             [
              0.2222222222222222,
              "#7201a8"
             ],
             [
              0.3333333333333333,
              "#9c179e"
             ],
             [
              0.4444444444444444,
              "#bd3786"
             ],
             [
              0.5555555555555556,
              "#d8576b"
             ],
             [
              0.6666666666666666,
              "#ed7953"
             ],
             [
              0.7777777777777778,
              "#fb9f3a"
             ],
             [
              0.8888888888888888,
              "#fdca26"
             ],
             [
              1,
              "#f0f921"
             ]
            ],
            "type": "surface"
           }
          ],
          "table": [
           {
            "cells": {
             "fill": {
              "color": "#EBF0F8"
             },
             "line": {
              "color": "white"
             }
            },
            "header": {
             "fill": {
              "color": "#C8D4E3"
             },
             "line": {
              "color": "white"
             }
            },
            "type": "table"
           }
          ]
         },
         "layout": {
          "annotationdefaults": {
           "arrowcolor": "#2a3f5f",
           "arrowhead": 0,
           "arrowwidth": 1
          },
          "coloraxis": {
           "colorbar": {
            "outlinewidth": 0,
            "ticks": ""
           }
          },
          "colorscale": {
           "diverging": [
            [
             0,
             "#8e0152"
            ],
            [
             0.1,
             "#c51b7d"
            ],
            [
             0.2,
             "#de77ae"
            ],
            [
             0.3,
             "#f1b6da"
            ],
            [
             0.4,
             "#fde0ef"
            ],
            [
             0.5,
             "#f7f7f7"
            ],
            [
             0.6,
             "#e6f5d0"
            ],
            [
             0.7,
             "#b8e186"
            ],
            [
             0.8,
             "#7fbc41"
            ],
            [
             0.9,
             "#4d9221"
            ],
            [
             1,
             "#276419"
            ]
           ],
           "sequential": [
            [
             0,
             "#0d0887"
            ],
            [
             0.1111111111111111,
             "#46039f"
            ],
            [
             0.2222222222222222,
             "#7201a8"
            ],
            [
             0.3333333333333333,
             "#9c179e"
            ],
            [
             0.4444444444444444,
             "#bd3786"
            ],
            [
             0.5555555555555556,
             "#d8576b"
            ],
            [
             0.6666666666666666,
             "#ed7953"
            ],
            [
             0.7777777777777778,
             "#fb9f3a"
            ],
            [
             0.8888888888888888,
             "#fdca26"
            ],
            [
             1,
             "#f0f921"
            ]
           ],
           "sequentialminus": [
            [
             0,
             "#0d0887"
            ],
            [
             0.1111111111111111,
             "#46039f"
            ],
            [
             0.2222222222222222,
             "#7201a8"
            ],
            [
             0.3333333333333333,
             "#9c179e"
            ],
            [
             0.4444444444444444,
             "#bd3786"
            ],
            [
             0.5555555555555556,
             "#d8576b"
            ],
            [
             0.6666666666666666,
             "#ed7953"
            ],
            [
             0.7777777777777778,
             "#fb9f3a"
            ],
            [
             0.8888888888888888,
             "#fdca26"
            ],
            [
             1,
             "#f0f921"
            ]
           ]
          },
          "colorway": [
           "#636efa",
           "#EF553B",
           "#00cc96",
           "#ab63fa",
           "#FFA15A",
           "#19d3f3",
           "#FF6692",
           "#B6E880",
           "#FF97FF",
           "#FECB52"
          ],
          "font": {
           "color": "#2a3f5f"
          },
          "geo": {
           "bgcolor": "white",
           "lakecolor": "white",
           "landcolor": "#E5ECF6",
           "showlakes": true,
           "showland": true,
           "subunitcolor": "white"
          },
          "hoverlabel": {
           "align": "left"
          },
          "hovermode": "closest",
          "mapbox": {
           "style": "light"
          },
          "paper_bgcolor": "white",
          "plot_bgcolor": "#E5ECF6",
          "polar": {
           "angularaxis": {
            "gridcolor": "white",
            "linecolor": "white",
            "ticks": ""
           },
           "bgcolor": "#E5ECF6",
           "radialaxis": {
            "gridcolor": "white",
            "linecolor": "white",
            "ticks": ""
           }
          },
          "scene": {
           "xaxis": {
            "backgroundcolor": "#E5ECF6",
            "gridcolor": "white",
            "gridwidth": 2,
            "linecolor": "white",
            "showbackground": true,
            "ticks": "",
            "zerolinecolor": "white"
           },
           "yaxis": {
            "backgroundcolor": "#E5ECF6",
            "gridcolor": "white",
            "gridwidth": 2,
            "linecolor": "white",
            "showbackground": true,
            "ticks": "",
            "zerolinecolor": "white"
           },
           "zaxis": {
            "backgroundcolor": "#E5ECF6",
            "gridcolor": "white",
            "gridwidth": 2,
            "linecolor": "white",
            "showbackground": true,
            "ticks": "",
            "zerolinecolor": "white"
           }
          },
          "shapedefaults": {
           "line": {
            "color": "#2a3f5f"
           }
          },
          "ternary": {
           "aaxis": {
            "gridcolor": "white",
            "linecolor": "white",
            "ticks": ""
           },
           "baxis": {
            "gridcolor": "white",
            "linecolor": "white",
            "ticks": ""
           },
           "bgcolor": "#E5ECF6",
           "caxis": {
            "gridcolor": "white",
            "linecolor": "white",
            "ticks": ""
           }
          },
          "title": {
           "x": 0.05
          },
          "xaxis": {
           "automargin": true,
           "gridcolor": "white",
           "linecolor": "white",
           "ticks": "",
           "title": {
            "standoff": 15
           },
           "zerolinecolor": "white",
           "zerolinewidth": 2
          },
          "yaxis": {
           "automargin": true,
           "gridcolor": "white",
           "linecolor": "white",
           "ticks": "",
           "title": {
            "standoff": 15
           },
           "zerolinecolor": "white",
           "zerolinewidth": 2
          }
         }
        },
        "title": {
         "font": {
          "color": "lightgrey",
          "family": "sans-serif",
          "size": 16
         },
         "text": "Sales per product (millions)",
         "x": 0.5
        },
        "width": 500,
        "xaxis": {
         "autorange": true,
         "color": "lightgrey",
         "dtick": 1,
         "gridcolor": "#343846",
         "gridwidth": 0.5,
         "showgrid": false,
         "showline": false,
         "showticklabels": true,
         "tickfont": {
          "color": "lightgrey",
          "size": 14
         },
         "tickformat": "",
         "tickmode": "auto",
         "title": {
          "font": {
           "color": "lightgrey",
           "family": "sans-serif",
           "size": 18
          },
          "text": ""
         },
         "type": "-",
         "zeroline": false,
         "zerolinecolor": "grey"
        },
        "yaxis": {
         "autorange": true,
         "color": "lightgrey",
         "dtick": 1,
         "gridcolor": "#343846",
         "gridwidth": 0.5,
         "showgrid": true,
         "showline": false,
         "showticklabels": true,
         "tickfont": {
          "color": "lightgrey",
          "size": 13
         },
         "tickformat": "",
         "tickmode": "auto",
         "ticks": "",
         "title": {
          "font": {
           "color": "lightgrey",
           "family": "sans-serif",
           "size": 18
          },
          "text": ""
         },
         "type": "-",
         "zeroline": true,
         "zerolinecolor": "grey"
        }
       }
      },
      "text/html": [
       "<div>\n",
       "        \n",
       "        \n",
       "            <div id=\"1df447ed-7e1c-4cad-8602-ec0157dcfb10\" class=\"plotly-graph-div\" style=\"height:400px; width:500px;\"></div>\n",
       "            <script type=\"text/javascript\">\n",
       "                require([\"plotly\"], function(Plotly) {\n",
       "                    window.PLOTLYENV=window.PLOTLYENV || {};\n",
       "                    \n",
       "                if (document.getElementById(\"1df447ed-7e1c-4cad-8602-ec0157dcfb10\")) {\n",
       "                    Plotly.newPlot(\n",
       "                        '1df447ed-7e1c-4cad-8602-ec0157dcfb10',\n",
       "                        [{\"marker\": {\"line\": {\"color\": \"#2C3347\", \"width\": 1}, \"opacity\": 0.9}, \"name\": \"Products\", \"orientation\": \"h\", \"text\": [27.8, 37.5, 40.2], \"type\": \"bar\", \"width\": 0.5, \"x\": [27.8, 37.5, 40.2], \"y\": [\"Product C\", \"Product A\", \"Product B\"]}],\n",
       "                        {\"annotations\": [{\"font\": {\"color\": \"lightgrey\", \"family\": \"sans-serif\", \"size\": 15}, \"showarrow\": false, \"text\": \"37.5\", \"x\": 18.75, \"xref\": \"x\", \"y\": \"Product A\", \"yref\": \"y\"}, {\"font\": {\"color\": \"lightgrey\", \"family\": \"sans-serif\", \"size\": 15}, \"showarrow\": false, \"text\": \"40.2\", \"x\": 20.1, \"xref\": \"x\", \"y\": \"Product B\", \"yref\": \"y\"}, {\"font\": {\"color\": \"lightgrey\", \"family\": \"sans-serif\", \"size\": 15}, \"showarrow\": false, \"text\": \"27.8\", \"x\": 13.9, \"xref\": \"x\", \"y\": \"Product C\", \"yref\": \"y\"}], \"autosize\": false, \"height\": 400, \"legend\": {\"bordercolor\": \"#202534\", \"borderwidth\": 0, \"font\": {\"color\": \"lightgrey\", \"family\": \"sans-serif\", \"size\": 12}, \"orientation\": \"v\", \"traceorder\": \"normal\", \"x\": 1.02, \"xanchor\": \"left\", \"y\": 1, \"yanchor\": \"middle\"}, \"margin\": {\"b\": 75, \"l\": 75, \"pad\": 10, \"r\": 50, \"t\": 75}, \"paper_bgcolor\": \"#202534\", \"plot_bgcolor\": \"#202534\", \"template\": {\"data\": {\"bar\": [{\"error_x\": {\"color\": \"#2a3f5f\"}, \"error_y\": {\"color\": \"#2a3f5f\"}, \"marker\": {\"line\": {\"color\": \"#E5ECF6\", \"width\": 0.5}}, \"type\": \"bar\"}], \"barpolar\": [{\"marker\": {\"line\": {\"color\": \"#E5ECF6\", \"width\": 0.5}}, \"type\": \"barpolar\"}], \"carpet\": [{\"aaxis\": {\"endlinecolor\": \"#2a3f5f\", \"gridcolor\": \"white\", \"linecolor\": \"white\", \"minorgridcolor\": \"white\", \"startlinecolor\": \"#2a3f5f\"}, \"baxis\": {\"endlinecolor\": \"#2a3f5f\", \"gridcolor\": \"white\", \"linecolor\": \"white\", \"minorgridcolor\": \"white\", \"startlinecolor\": \"#2a3f5f\"}, \"type\": \"carpet\"}], \"choropleth\": [{\"colorbar\": {\"outlinewidth\": 0, \"ticks\": \"\"}, \"type\": \"choropleth\"}], \"contour\": [{\"colorbar\": {\"outlinewidth\": 0, \"ticks\": \"\"}, \"colorscale\": [[0.0, \"#0d0887\"], [0.1111111111111111, \"#46039f\"], [0.2222222222222222, \"#7201a8\"], [0.3333333333333333, \"#9c179e\"], [0.4444444444444444, \"#bd3786\"], [0.5555555555555556, \"#d8576b\"], [0.6666666666666666, \"#ed7953\"], [0.7777777777777778, \"#fb9f3a\"], [0.8888888888888888, \"#fdca26\"], [1.0, \"#f0f921\"]], \"type\": \"contour\"}], \"contourcarpet\": [{\"colorbar\": {\"outlinewidth\": 0, \"ticks\": \"\"}, \"type\": \"contourcarpet\"}], \"heatmap\": [{\"colorbar\": {\"outlinewidth\": 0, \"ticks\": \"\"}, \"colorscale\": [[0.0, \"#0d0887\"], [0.1111111111111111, \"#46039f\"], [0.2222222222222222, \"#7201a8\"], [0.3333333333333333, \"#9c179e\"], [0.4444444444444444, \"#bd3786\"], [0.5555555555555556, \"#d8576b\"], [0.6666666666666666, \"#ed7953\"], [0.7777777777777778, \"#fb9f3a\"], [0.8888888888888888, \"#fdca26\"], [1.0, \"#f0f921\"]], \"type\": \"heatmap\"}], \"heatmapgl\": [{\"colorbar\": {\"outlinewidth\": 0, \"ticks\": \"\"}, \"colorscale\": [[0.0, \"#0d0887\"], [0.1111111111111111, \"#46039f\"], [0.2222222222222222, \"#7201a8\"], [0.3333333333333333, \"#9c179e\"], [0.4444444444444444, \"#bd3786\"], [0.5555555555555556, \"#d8576b\"], [0.6666666666666666, \"#ed7953\"], [0.7777777777777778, \"#fb9f3a\"], [0.8888888888888888, \"#fdca26\"], [1.0, \"#f0f921\"]], \"type\": \"heatmapgl\"}], \"histogram\": [{\"marker\": {\"colorbar\": {\"outlinewidth\": 0, \"ticks\": \"\"}}, \"type\": \"histogram\"}], \"histogram2d\": [{\"colorbar\": {\"outlinewidth\": 0, \"ticks\": \"\"}, \"colorscale\": [[0.0, \"#0d0887\"], [0.1111111111111111, \"#46039f\"], [0.2222222222222222, \"#7201a8\"], [0.3333333333333333, \"#9c179e\"], [0.4444444444444444, \"#bd3786\"], [0.5555555555555556, \"#d8576b\"], [0.6666666666666666, \"#ed7953\"], [0.7777777777777778, \"#fb9f3a\"], [0.8888888888888888, \"#fdca26\"], [1.0, \"#f0f921\"]], \"type\": \"histogram2d\"}], \"histogram2dcontour\": [{\"colorbar\": {\"outlinewidth\": 0, \"ticks\": \"\"}, \"colorscale\": [[0.0, \"#0d0887\"], [0.1111111111111111, \"#46039f\"], [0.2222222222222222, \"#7201a8\"], [0.3333333333333333, \"#9c179e\"], [0.4444444444444444, \"#bd3786\"], [0.5555555555555556, \"#d8576b\"], [0.6666666666666666, \"#ed7953\"], [0.7777777777777778, \"#fb9f3a\"], [0.8888888888888888, \"#fdca26\"], [1.0, \"#f0f921\"]], \"type\": \"histogram2dcontour\"}], \"mesh3d\": [{\"colorbar\": {\"outlinewidth\": 0, \"ticks\": \"\"}, \"type\": \"mesh3d\"}], \"parcoords\": [{\"line\": {\"colorbar\": {\"outlinewidth\": 0, \"ticks\": \"\"}}, \"type\": \"parcoords\"}], \"pie\": [{\"automargin\": true, \"type\": \"pie\"}], \"scatter\": [{\"marker\": {\"colorbar\": {\"outlinewidth\": 0, \"ticks\": \"\"}}, \"type\": \"scatter\"}], \"scatter3d\": [{\"line\": {\"colorbar\": {\"outlinewidth\": 0, \"ticks\": \"\"}}, \"marker\": {\"colorbar\": {\"outlinewidth\": 0, \"ticks\": \"\"}}, \"type\": \"scatter3d\"}], \"scattercarpet\": [{\"marker\": {\"colorbar\": {\"outlinewidth\": 0, \"ticks\": \"\"}}, \"type\": \"scattercarpet\"}], \"scattergeo\": [{\"marker\": {\"colorbar\": {\"outlinewidth\": 0, \"ticks\": \"\"}}, \"type\": \"scattergeo\"}], \"scattergl\": [{\"marker\": {\"colorbar\": {\"outlinewidth\": 0, \"ticks\": \"\"}}, \"type\": \"scattergl\"}], \"scattermapbox\": [{\"marker\": {\"colorbar\": {\"outlinewidth\": 0, \"ticks\": \"\"}}, \"type\": \"scattermapbox\"}], \"scatterpolar\": [{\"marker\": {\"colorbar\": {\"outlinewidth\": 0, \"ticks\": \"\"}}, \"type\": \"scatterpolar\"}], \"scatterpolargl\": [{\"marker\": {\"colorbar\": {\"outlinewidth\": 0, \"ticks\": \"\"}}, \"type\": \"scatterpolargl\"}], \"scatterternary\": [{\"marker\": {\"colorbar\": {\"outlinewidth\": 0, \"ticks\": \"\"}}, \"type\": \"scatterternary\"}], \"surface\": [{\"colorbar\": {\"outlinewidth\": 0, \"ticks\": \"\"}, \"colorscale\": [[0.0, \"#0d0887\"], [0.1111111111111111, \"#46039f\"], [0.2222222222222222, \"#7201a8\"], [0.3333333333333333, \"#9c179e\"], [0.4444444444444444, \"#bd3786\"], [0.5555555555555556, \"#d8576b\"], [0.6666666666666666, \"#ed7953\"], [0.7777777777777778, \"#fb9f3a\"], [0.8888888888888888, \"#fdca26\"], [1.0, \"#f0f921\"]], \"type\": \"surface\"}], \"table\": [{\"cells\": {\"fill\": {\"color\": \"#EBF0F8\"}, \"line\": {\"color\": \"white\"}}, \"header\": {\"fill\": {\"color\": \"#C8D4E3\"}, \"line\": {\"color\": \"white\"}}, \"type\": \"table\"}]}, \"layout\": {\"annotationdefaults\": {\"arrowcolor\": \"#2a3f5f\", \"arrowhead\": 0, \"arrowwidth\": 1}, \"coloraxis\": {\"colorbar\": {\"outlinewidth\": 0, \"ticks\": \"\"}}, \"colorscale\": {\"diverging\": [[0, \"#8e0152\"], [0.1, \"#c51b7d\"], [0.2, \"#de77ae\"], [0.3, \"#f1b6da\"], [0.4, \"#fde0ef\"], [0.5, \"#f7f7f7\"], [0.6, \"#e6f5d0\"], [0.7, \"#b8e186\"], [0.8, \"#7fbc41\"], [0.9, \"#4d9221\"], [1, \"#276419\"]], \"sequential\": [[0.0, \"#0d0887\"], [0.1111111111111111, \"#46039f\"], [0.2222222222222222, \"#7201a8\"], [0.3333333333333333, \"#9c179e\"], [0.4444444444444444, \"#bd3786\"], [0.5555555555555556, \"#d8576b\"], [0.6666666666666666, \"#ed7953\"], [0.7777777777777778, \"#fb9f3a\"], [0.8888888888888888, \"#fdca26\"], [1.0, \"#f0f921\"]], \"sequentialminus\": [[0.0, \"#0d0887\"], [0.1111111111111111, \"#46039f\"], [0.2222222222222222, \"#7201a8\"], [0.3333333333333333, \"#9c179e\"], [0.4444444444444444, \"#bd3786\"], [0.5555555555555556, \"#d8576b\"], [0.6666666666666666, \"#ed7953\"], [0.7777777777777778, \"#fb9f3a\"], [0.8888888888888888, \"#fdca26\"], [1.0, \"#f0f921\"]]}, \"colorway\": [\"#636efa\", \"#EF553B\", \"#00cc96\", \"#ab63fa\", \"#FFA15A\", \"#19d3f3\", \"#FF6692\", \"#B6E880\", \"#FF97FF\", \"#FECB52\"], \"font\": {\"color\": \"#2a3f5f\"}, \"geo\": {\"bgcolor\": \"white\", \"lakecolor\": \"white\", \"landcolor\": \"#E5ECF6\", \"showlakes\": true, \"showland\": true, \"subunitcolor\": \"white\"}, \"hoverlabel\": {\"align\": \"left\"}, \"hovermode\": \"closest\", \"mapbox\": {\"style\": \"light\"}, \"paper_bgcolor\": \"white\", \"plot_bgcolor\": \"#E5ECF6\", \"polar\": {\"angularaxis\": {\"gridcolor\": \"white\", \"linecolor\": \"white\", \"ticks\": \"\"}, \"bgcolor\": \"#E5ECF6\", \"radialaxis\": {\"gridcolor\": \"white\", \"linecolor\": \"white\", \"ticks\": \"\"}}, \"scene\": {\"xaxis\": {\"backgroundcolor\": \"#E5ECF6\", \"gridcolor\": \"white\", \"gridwidth\": 2, \"linecolor\": \"white\", \"showbackground\": true, \"ticks\": \"\", \"zerolinecolor\": \"white\"}, \"yaxis\": {\"backgroundcolor\": \"#E5ECF6\", \"gridcolor\": \"white\", \"gridwidth\": 2, \"linecolor\": \"white\", \"showbackground\": true, \"ticks\": \"\", \"zerolinecolor\": \"white\"}, \"zaxis\": {\"backgroundcolor\": \"#E5ECF6\", \"gridcolor\": \"white\", \"gridwidth\": 2, \"linecolor\": \"white\", \"showbackground\": true, \"ticks\": \"\", \"zerolinecolor\": \"white\"}}, \"shapedefaults\": {\"line\": {\"color\": \"#2a3f5f\"}}, \"ternary\": {\"aaxis\": {\"gridcolor\": \"white\", \"linecolor\": \"white\", \"ticks\": \"\"}, \"baxis\": {\"gridcolor\": \"white\", \"linecolor\": \"white\", \"ticks\": \"\"}, \"bgcolor\": \"#E5ECF6\", \"caxis\": {\"gridcolor\": \"white\", \"linecolor\": \"white\", \"ticks\": \"\"}}, \"title\": {\"x\": 0.05}, \"xaxis\": {\"automargin\": true, \"gridcolor\": \"white\", \"linecolor\": \"white\", \"ticks\": \"\", \"title\": {\"standoff\": 15}, \"zerolinecolor\": \"white\", \"zerolinewidth\": 2}, \"yaxis\": {\"automargin\": true, \"gridcolor\": \"white\", \"linecolor\": \"white\", \"ticks\": \"\", \"title\": {\"standoff\": 15}, \"zerolinecolor\": \"white\", \"zerolinewidth\": 2}}}, \"title\": {\"font\": {\"color\": \"lightgrey\", \"family\": \"sans-serif\", \"size\": 16}, \"text\": \"Sales per product (millions)\", \"x\": 0.5}, \"width\": 500, \"xaxis\": {\"autorange\": true, \"color\": \"lightgrey\", \"dtick\": 1, \"gridcolor\": \"#343846\", \"gridwidth\": 0.5, \"showgrid\": false, \"showline\": false, \"showticklabels\": true, \"tickfont\": {\"color\": \"lightgrey\", \"size\": 14}, \"tickformat\": \"\", \"tickmode\": \"auto\", \"title\": {\"font\": {\"color\": \"lightgrey\", \"family\": \"sans-serif\", \"size\": 18}, \"text\": \"\"}, \"type\": \"-\", \"zeroline\": false, \"zerolinecolor\": \"grey\"}, \"yaxis\": {\"autorange\": true, \"color\": \"lightgrey\", \"dtick\": 1, \"gridcolor\": \"#343846\", \"gridwidth\": 0.5, \"showgrid\": true, \"showline\": false, \"showticklabels\": true, \"tickfont\": {\"color\": \"lightgrey\", \"size\": 13}, \"tickformat\": \"\", \"tickmode\": \"auto\", \"ticks\": \"\", \"title\": {\"font\": {\"color\": \"lightgrey\", \"family\": \"sans-serif\", \"size\": 18}, \"text\": \"\"}, \"type\": \"-\", \"zeroline\": true, \"zerolinecolor\": \"grey\"}},\n",
       "                        {\"responsive\": true}\n",
       "                    ).then(function(){\n",
       "                            \n",
       "var gd = document.getElementById('1df447ed-7e1c-4cad-8602-ec0157dcfb10');\n",
       "var x = new MutationObserver(function (mutations, observer) {{\n",
       "        var display = window.getComputedStyle(gd).display;\n",
       "        if (!display || display === 'none') {{\n",
       "            console.log([gd, 'removed!']);\n",
       "            Plotly.purge(gd);\n",
       "            observer.disconnect();\n",
       "        }}\n",
       "}});\n",
       "\n",
       "// Listen for the removal of the full notebook cells\n",
       "var notebookContainer = gd.closest('#notebook-container');\n",
       "if (notebookContainer) {{\n",
       "    x.observe(notebookContainer, {childList: true});\n",
       "}}\n",
       "\n",
       "// Listen for the clearing of the current output cell\n",
       "var outputEl = gd.closest('.output');\n",
       "if (outputEl) {{\n",
       "    x.observe(outputEl, {childList: true});\n",
       "}}\n",
       "\n",
       "                        })\n",
       "                };\n",
       "                });\n",
       "            </script>\n",
       "        </div>"
      ]
     },
     "metadata": {},
     "output_type": "display_data"
    }
   ],
   "source": [
    "# create data\n",
    "x = ['Product A', 'Product B', 'Product C']\n",
    "y = [37.5, 40.2, 27.8]\n",
    "data = pd.DataFrame(data=y, index=x, columns=['Products'])\n",
    "\n",
    "# create chart\n",
    "color_palette = chart.palette(palette='colorful')\n",
    "\n",
    "layout = chart.layout(color_palette=color_palette, width=500, height=400,\n",
    "                     title='Sales per product (millions)', \n",
    "                      title_size=16, xaxis_ticksize=14)\n",
    "\n",
    "annot = chart.add_bar_values(data, orientation='h')\n",
    "\n",
    "chart.bar(data, layout=layout, orientation='h', sort_by='Products', ascending=True,\n",
    "            annotations=annot)"
   ]
  },
  {
   "cell_type": "markdown",
   "metadata": {},
   "source": [
    "## Grouped Vertical Bar Chart"
   ]
  },
  {
   "cell_type": "code",
   "execution_count": 11,
   "metadata": {},
   "outputs": [
    {
     "data": {
      "text/html": [
       "<div>\n",
       "<style scoped>\n",
       "    .dataframe tbody tr th:only-of-type {\n",
       "        vertical-align: middle;\n",
       "    }\n",
       "\n",
       "    .dataframe tbody tr th {\n",
       "        vertical-align: top;\n",
       "    }\n",
       "\n",
       "    .dataframe thead th {\n",
       "        text-align: right;\n",
       "    }\n",
       "</style>\n",
       "<table border=\"1\" class=\"dataframe\">\n",
       "  <thead>\n",
       "    <tr style=\"text-align: right;\">\n",
       "      <th></th>\n",
       "      <th>Division 1</th>\n",
       "      <th>Division 2</th>\n",
       "      <th>Division 3</th>\n",
       "      <th>Division 4</th>\n",
       "    </tr>\n",
       "  </thead>\n",
       "  <tbody>\n",
       "    <tr>\n",
       "      <th>Factory</th>\n",
       "      <td>55</td>\n",
       "      <td>50</td>\n",
       "      <td>45</td>\n",
       "      <td>40</td>\n",
       "    </tr>\n",
       "    <tr>\n",
       "      <th>Assembly</th>\n",
       "      <td>35</td>\n",
       "      <td>30</td>\n",
       "      <td>45</td>\n",
       "      <td>45</td>\n",
       "    </tr>\n",
       "    <tr>\n",
       "      <th>Design</th>\n",
       "      <td>10</td>\n",
       "      <td>20</td>\n",
       "      <td>10</td>\n",
       "      <td>15</td>\n",
       "    </tr>\n",
       "  </tbody>\n",
       "</table>\n",
       "</div>"
      ],
      "text/plain": [
       "          Division 1  Division 2  Division 3  Division 4\n",
       "Factory           55          50          45          40\n",
       "Assembly          35          30          45          45\n",
       "Design            10          20          10          15"
      ]
     },
     "execution_count": 11,
     "metadata": {},
     "output_type": "execute_result"
    }
   ],
   "source": [
    "data"
   ]
  },
  {
   "cell_type": "code",
   "execution_count": 17,
   "metadata": {},
   "outputs": [
    {
     "data": {
      "application/vnd.plotly.v1+json": {
       "config": {
        "linkText": "Export to plot.ly",
        "plotlyServerURL": "https://plot.ly",
        "showLink": false
       },
       "data": [
        {
         "marker": {
          "line": {
           "color": "#2C3347",
           "width": 1
          },
          "opacity": 0.9
         },
         "name": "Factory",
         "orientation": "v",
         "text": [
          55,
          50,
          45,
          40
         ],
         "textposition": "inside",
         "type": "bar",
         "width": 0.2,
         "x": [
          "Division 1",
          "Division 2",
          "Division 3",
          "Division 4"
         ],
         "y": [
          55,
          50,
          45,
          40
         ]
        },
        {
         "marker": {
          "line": {
           "color": "#2C3347",
           "width": 1
          },
          "opacity": 0.9
         },
         "name": "Assembly",
         "orientation": "v",
         "text": [
          35,
          30,
          45,
          45
         ],
         "textposition": "inside",
         "type": "bar",
         "width": 0.2,
         "x": [
          "Division 1",
          "Division 2",
          "Division 3",
          "Division 4"
         ],
         "y": [
          35,
          30,
          45,
          45
         ]
        },
        {
         "marker": {
          "line": {
           "color": "#2C3347",
           "width": 1
          },
          "opacity": 0.9
         },
         "name": "Design",
         "orientation": "v",
         "text": [
          10,
          20,
          10,
          15
         ],
         "textposition": "inside",
         "type": "bar",
         "width": 0.2,
         "x": [
          "Division 1",
          "Division 2",
          "Division 3",
          "Division 4"
         ],
         "y": [
          10,
          20,
          10,
          15
         ]
        }
       ],
       "layout": {
        "autosize": false,
        "colorway": [
         "#4368d4",
         "#5D50B2",
         "#AA6342",
         "#557DA0",
         "#DD483E",
         "#58a2d4",
         "#543c84"
        ],
        "height": 600,
        "legend": {
         "bordercolor": "#202534",
         "borderwidth": 0,
         "font": {
          "color": "lightgrey",
          "family": "sans-serif",
          "size": 12
         },
         "orientation": "v",
         "traceorder": "normal",
         "x": 1.02,
         "xanchor": "left",
         "y": 1,
         "yanchor": "middle"
        },
        "margin": {
         "b": 75,
         "l": 50,
         "pad": 10,
         "r": 50,
         "t": 75
        },
        "paper_bgcolor": "#202534",
        "plot_bgcolor": "#202534",
        "shapes": [
         {
          "line": {
           "color": "royalblue",
           "width": 1.5
          },
          "opacity": 1,
          "type": "rect",
          "x0": 0.55,
          "x1": 1.45,
          "xref": "x",
          "y0": 0,
          "y1": 53,
          "yref": "y"
         }
        ],
        "template": {
         "data": {
          "bar": [
           {
            "error_x": {
             "color": "#2a3f5f"
            },
            "error_y": {
             "color": "#2a3f5f"
            },
            "marker": {
             "line": {
              "color": "#E5ECF6",
              "width": 0.5
             }
            },
            "type": "bar"
           }
          ],
          "barpolar": [
           {
            "marker": {
             "line": {
              "color": "#E5ECF6",
              "width": 0.5
             }
            },
            "type": "barpolar"
           }
          ],
          "carpet": [
           {
            "aaxis": {
             "endlinecolor": "#2a3f5f",
             "gridcolor": "white",
             "linecolor": "white",
             "minorgridcolor": "white",
             "startlinecolor": "#2a3f5f"
            },
            "baxis": {
             "endlinecolor": "#2a3f5f",
             "gridcolor": "white",
             "linecolor": "white",
             "minorgridcolor": "white",
             "startlinecolor": "#2a3f5f"
            },
            "type": "carpet"
           }
          ],
          "choropleth": [
           {
            "colorbar": {
             "outlinewidth": 0,
             "ticks": ""
            },
            "type": "choropleth"
           }
          ],
          "contour": [
           {
            "colorbar": {
             "outlinewidth": 0,
             "ticks": ""
            },
            "colorscale": [
             [
              0,
              "#0d0887"
             ],
             [
              0.1111111111111111,
              "#46039f"
             ],
             [
              0.2222222222222222,
              "#7201a8"
             ],
             [
              0.3333333333333333,
              "#9c179e"
             ],
             [
              0.4444444444444444,
              "#bd3786"
             ],
             [
              0.5555555555555556,
              "#d8576b"
             ],
             [
              0.6666666666666666,
              "#ed7953"
             ],
             [
              0.7777777777777778,
              "#fb9f3a"
             ],
             [
              0.8888888888888888,
              "#fdca26"
             ],
             [
              1,
              "#f0f921"
             ]
            ],
            "type": "contour"
           }
          ],
          "contourcarpet": [
           {
            "colorbar": {
             "outlinewidth": 0,
             "ticks": ""
            },
            "type": "contourcarpet"
           }
          ],
          "heatmap": [
           {
            "colorbar": {
             "outlinewidth": 0,
             "ticks": ""
            },
            "colorscale": [
             [
              0,
              "#0d0887"
             ],
             [
              0.1111111111111111,
              "#46039f"
             ],
             [
              0.2222222222222222,
              "#7201a8"
             ],
             [
              0.3333333333333333,
              "#9c179e"
             ],
             [
              0.4444444444444444,
              "#bd3786"
             ],
             [
              0.5555555555555556,
              "#d8576b"
             ],
             [
              0.6666666666666666,
              "#ed7953"
             ],
             [
              0.7777777777777778,
              "#fb9f3a"
             ],
             [
              0.8888888888888888,
              "#fdca26"
             ],
             [
              1,
              "#f0f921"
             ]
            ],
            "type": "heatmap"
           }
          ],
          "heatmapgl": [
           {
            "colorbar": {
             "outlinewidth": 0,
             "ticks": ""
            },
            "colorscale": [
             [
              0,
              "#0d0887"
             ],
             [
              0.1111111111111111,
              "#46039f"
             ],
             [
              0.2222222222222222,
              "#7201a8"
             ],
             [
              0.3333333333333333,
              "#9c179e"
             ],
             [
              0.4444444444444444,
              "#bd3786"
             ],
             [
              0.5555555555555556,
              "#d8576b"
             ],
             [
              0.6666666666666666,
              "#ed7953"
             ],
             [
              0.7777777777777778,
              "#fb9f3a"
             ],
             [
              0.8888888888888888,
              "#fdca26"
             ],
             [
              1,
              "#f0f921"
             ]
            ],
            "type": "heatmapgl"
           }
          ],
          "histogram": [
           {
            "marker": {
             "colorbar": {
              "outlinewidth": 0,
              "ticks": ""
             }
            },
            "type": "histogram"
           }
          ],
          "histogram2d": [
           {
            "colorbar": {
             "outlinewidth": 0,
             "ticks": ""
            },
            "colorscale": [
             [
              0,
              "#0d0887"
             ],
             [
              0.1111111111111111,
              "#46039f"
             ],
             [
              0.2222222222222222,
              "#7201a8"
             ],
             [
              0.3333333333333333,
              "#9c179e"
             ],
             [
              0.4444444444444444,
              "#bd3786"
             ],
             [
              0.5555555555555556,
              "#d8576b"
             ],
             [
              0.6666666666666666,
              "#ed7953"
             ],
             [
              0.7777777777777778,
              "#fb9f3a"
             ],
             [
              0.8888888888888888,
              "#fdca26"
             ],
             [
              1,
              "#f0f921"
             ]
            ],
            "type": "histogram2d"
           }
          ],
          "histogram2dcontour": [
           {
            "colorbar": {
             "outlinewidth": 0,
             "ticks": ""
            },
            "colorscale": [
             [
              0,
              "#0d0887"
             ],
             [
              0.1111111111111111,
              "#46039f"
             ],
             [
              0.2222222222222222,
              "#7201a8"
             ],
             [
              0.3333333333333333,
              "#9c179e"
             ],
             [
              0.4444444444444444,
              "#bd3786"
             ],
             [
              0.5555555555555556,
              "#d8576b"
             ],
             [
              0.6666666666666666,
              "#ed7953"
             ],
             [
              0.7777777777777778,
              "#fb9f3a"
             ],
             [
              0.8888888888888888,
              "#fdca26"
             ],
             [
              1,
              "#f0f921"
             ]
            ],
            "type": "histogram2dcontour"
           }
          ],
          "mesh3d": [
           {
            "colorbar": {
             "outlinewidth": 0,
             "ticks": ""
            },
            "type": "mesh3d"
           }
          ],
          "parcoords": [
           {
            "line": {
             "colorbar": {
              "outlinewidth": 0,
              "ticks": ""
             }
            },
            "type": "parcoords"
           }
          ],
          "pie": [
           {
            "automargin": true,
            "type": "pie"
           }
          ],
          "scatter": [
           {
            "marker": {
             "colorbar": {
              "outlinewidth": 0,
              "ticks": ""
             }
            },
            "type": "scatter"
           }
          ],
          "scatter3d": [
           {
            "line": {
             "colorbar": {
              "outlinewidth": 0,
              "ticks": ""
             }
            },
            "marker": {
             "colorbar": {
              "outlinewidth": 0,
              "ticks": ""
             }
            },
            "type": "scatter3d"
           }
          ],
          "scattercarpet": [
           {
            "marker": {
             "colorbar": {
              "outlinewidth": 0,
              "ticks": ""
             }
            },
            "type": "scattercarpet"
           }
          ],
          "scattergeo": [
           {
            "marker": {
             "colorbar": {
              "outlinewidth": 0,
              "ticks": ""
             }
            },
            "type": "scattergeo"
           }
          ],
          "scattergl": [
           {
            "marker": {
             "colorbar": {
              "outlinewidth": 0,
              "ticks": ""
             }
            },
            "type": "scattergl"
           }
          ],
          "scattermapbox": [
           {
            "marker": {
             "colorbar": {
              "outlinewidth": 0,
              "ticks": ""
             }
            },
            "type": "scattermapbox"
           }
          ],
          "scatterpolar": [
           {
            "marker": {
             "colorbar": {
              "outlinewidth": 0,
              "ticks": ""
             }
            },
            "type": "scatterpolar"
           }
          ],
          "scatterpolargl": [
           {
            "marker": {
             "colorbar": {
              "outlinewidth": 0,
              "ticks": ""
             }
            },
            "type": "scatterpolargl"
           }
          ],
          "scatterternary": [
           {
            "marker": {
             "colorbar": {
              "outlinewidth": 0,
              "ticks": ""
             }
            },
            "type": "scatterternary"
           }
          ],
          "surface": [
           {
            "colorbar": {
             "outlinewidth": 0,
             "ticks": ""
            },
            "colorscale": [
             [
              0,
              "#0d0887"
             ],
             [
              0.1111111111111111,
              "#46039f"
             ],
             [
              0.2222222222222222,
              "#7201a8"
             ],
             [
              0.3333333333333333,
              "#9c179e"
             ],
             [
              0.4444444444444444,
              "#bd3786"
             ],
             [
              0.5555555555555556,
              "#d8576b"
             ],
             [
              0.6666666666666666,
              "#ed7953"
             ],
             [
              0.7777777777777778,
              "#fb9f3a"
             ],
             [
              0.8888888888888888,
              "#fdca26"
             ],
             [
              1,
              "#f0f921"
             ]
            ],
            "type": "surface"
           }
          ],
          "table": [
           {
            "cells": {
             "fill": {
              "color": "#EBF0F8"
             },
             "line": {
              "color": "white"
             }
            },
            "header": {
             "fill": {
              "color": "#C8D4E3"
             },
             "line": {
              "color": "white"
             }
            },
            "type": "table"
           }
          ]
         },
         "layout": {
          "annotationdefaults": {
           "arrowcolor": "#2a3f5f",
           "arrowhead": 0,
           "arrowwidth": 1
          },
          "coloraxis": {
           "colorbar": {
            "outlinewidth": 0,
            "ticks": ""
           }
          },
          "colorscale": {
           "diverging": [
            [
             0,
             "#8e0152"
            ],
            [
             0.1,
             "#c51b7d"
            ],
            [
             0.2,
             "#de77ae"
            ],
            [
             0.3,
             "#f1b6da"
            ],
            [
             0.4,
             "#fde0ef"
            ],
            [
             0.5,
             "#f7f7f7"
            ],
            [
             0.6,
             "#e6f5d0"
            ],
            [
             0.7,
             "#b8e186"
            ],
            [
             0.8,
             "#7fbc41"
            ],
            [
             0.9,
             "#4d9221"
            ],
            [
             1,
             "#276419"
            ]
           ],
           "sequential": [
            [
             0,
             "#0d0887"
            ],
            [
             0.1111111111111111,
             "#46039f"
            ],
            [
             0.2222222222222222,
             "#7201a8"
            ],
            [
             0.3333333333333333,
             "#9c179e"
            ],
            [
             0.4444444444444444,
             "#bd3786"
            ],
            [
             0.5555555555555556,
             "#d8576b"
            ],
            [
             0.6666666666666666,
             "#ed7953"
            ],
            [
             0.7777777777777778,
             "#fb9f3a"
            ],
            [
             0.8888888888888888,
             "#fdca26"
            ],
            [
             1,
             "#f0f921"
            ]
           ],
           "sequentialminus": [
            [
             0,
             "#0d0887"
            ],
            [
             0.1111111111111111,
             "#46039f"
            ],
            [
             0.2222222222222222,
             "#7201a8"
            ],
            [
             0.3333333333333333,
             "#9c179e"
            ],
            [
             0.4444444444444444,
             "#bd3786"
            ],
            [
             0.5555555555555556,
             "#d8576b"
            ],
            [
             0.6666666666666666,
             "#ed7953"
            ],
            [
             0.7777777777777778,
             "#fb9f3a"
            ],
            [
             0.8888888888888888,
             "#fdca26"
            ],
            [
             1,
             "#f0f921"
            ]
           ]
          },
          "colorway": [
           "#636efa",
           "#EF553B",
           "#00cc96",
           "#ab63fa",
           "#FFA15A",
           "#19d3f3",
           "#FF6692",
           "#B6E880",
           "#FF97FF",
           "#FECB52"
          ],
          "font": {
           "color": "#2a3f5f"
          },
          "geo": {
           "bgcolor": "white",
           "lakecolor": "white",
           "landcolor": "#E5ECF6",
           "showlakes": true,
           "showland": true,
           "subunitcolor": "white"
          },
          "hoverlabel": {
           "align": "left"
          },
          "hovermode": "closest",
          "mapbox": {
           "style": "light"
          },
          "paper_bgcolor": "white",
          "plot_bgcolor": "#E5ECF6",
          "polar": {
           "angularaxis": {
            "gridcolor": "white",
            "linecolor": "white",
            "ticks": ""
           },
           "bgcolor": "#E5ECF6",
           "radialaxis": {
            "gridcolor": "white",
            "linecolor": "white",
            "ticks": ""
           }
          },
          "scene": {
           "xaxis": {
            "backgroundcolor": "#E5ECF6",
            "gridcolor": "white",
            "gridwidth": 2,
            "linecolor": "white",
            "showbackground": true,
            "ticks": "",
            "zerolinecolor": "white"
           },
           "yaxis": {
            "backgroundcolor": "#E5ECF6",
            "gridcolor": "white",
            "gridwidth": 2,
            "linecolor": "white",
            "showbackground": true,
            "ticks": "",
            "zerolinecolor": "white"
           },
           "zaxis": {
            "backgroundcolor": "#E5ECF6",
            "gridcolor": "white",
            "gridwidth": 2,
            "linecolor": "white",
            "showbackground": true,
            "ticks": "",
            "zerolinecolor": "white"
           }
          },
          "shapedefaults": {
           "line": {
            "color": "#2a3f5f"
           }
          },
          "ternary": {
           "aaxis": {
            "gridcolor": "white",
            "linecolor": "white",
            "ticks": ""
           },
           "baxis": {
            "gridcolor": "white",
            "linecolor": "white",
            "ticks": ""
           },
           "bgcolor": "#E5ECF6",
           "caxis": {
            "gridcolor": "white",
            "linecolor": "white",
            "ticks": ""
           }
          },
          "title": {
           "x": 0.05
          },
          "xaxis": {
           "automargin": true,
           "gridcolor": "white",
           "linecolor": "white",
           "ticks": "",
           "title": {
            "standoff": 15
           },
           "zerolinecolor": "white",
           "zerolinewidth": 2
          },
          "yaxis": {
           "automargin": true,
           "gridcolor": "white",
           "linecolor": "white",
           "ticks": "",
           "title": {
            "standoff": 15
           },
           "zerolinecolor": "white",
           "zerolinewidth": 2
          }
         }
        },
        "title": {
         "font": {
          "color": "lightgrey",
          "family": "sans-serif",
          "size": 24
         },
         "text": "",
         "x": 0.5
        },
        "width": 1000,
        "xaxis": {
         "autorange": true,
         "color": "lightgrey",
         "dtick": 1,
         "gridcolor": "#343846",
         "gridwidth": 0.5,
         "showgrid": false,
         "showline": false,
         "showticklabels": true,
         "tickfont": {
          "color": "lightgrey",
          "size": 13
         },
         "tickformat": "",
         "tickmode": "auto",
         "title": {
          "font": {
           "color": "lightgrey",
           "family": "sans-serif",
           "size": 18
          },
          "text": ""
         },
         "type": "-",
         "zeroline": false,
         "zerolinecolor": "grey"
        },
        "yaxis": {
         "autorange": true,
         "color": "lightgrey",
         "dtick": 1,
         "gridcolor": "#343846",
         "gridwidth": 0.5,
         "showgrid": true,
         "showline": false,
         "showticklabels": true,
         "tickfont": {
          "color": "lightgrey",
          "size": 13
         },
         "tickformat": "",
         "tickmode": "auto",
         "ticks": "",
         "title": {
          "font": {
           "color": "lightgrey",
           "family": "sans-serif",
           "size": 18
          },
          "text": ""
         },
         "type": "-",
         "zeroline": true,
         "zerolinecolor": "grey"
        }
       }
      },
      "text/html": [
       "<div>\n",
       "        \n",
       "        \n",
       "            <div id=\"d88160b5-00ef-437b-81d1-20c4fbe9e022\" class=\"plotly-graph-div\" style=\"height:600px; width:1000px;\"></div>\n",
       "            <script type=\"text/javascript\">\n",
       "                require([\"plotly\"], function(Plotly) {\n",
       "                    window.PLOTLYENV=window.PLOTLYENV || {};\n",
       "                    \n",
       "                if (document.getElementById(\"d88160b5-00ef-437b-81d1-20c4fbe9e022\")) {\n",
       "                    Plotly.newPlot(\n",
       "                        'd88160b5-00ef-437b-81d1-20c4fbe9e022',\n",
       "                        [{\"marker\": {\"line\": {\"color\": \"#2C3347\", \"width\": 1}, \"opacity\": 0.9}, \"name\": \"Factory\", \"orientation\": \"v\", \"text\": [55.0, 50.0, 45.0, 40.0], \"textposition\": \"inside\", \"type\": \"bar\", \"width\": 0.2, \"x\": [\"Division 1\", \"Division 2\", \"Division 3\", \"Division 4\"], \"y\": [55, 50, 45, 40]}, {\"marker\": {\"line\": {\"color\": \"#2C3347\", \"width\": 1}, \"opacity\": 0.9}, \"name\": \"Assembly\", \"orientation\": \"v\", \"text\": [35.0, 30.0, 45.0, 45.0], \"textposition\": \"inside\", \"type\": \"bar\", \"width\": 0.2, \"x\": [\"Division 1\", \"Division 2\", \"Division 3\", \"Division 4\"], \"y\": [35, 30, 45, 45]}, {\"marker\": {\"line\": {\"color\": \"#2C3347\", \"width\": 1}, \"opacity\": 0.9}, \"name\": \"Design\", \"orientation\": \"v\", \"text\": [10.0, 20.0, 10.0, 15.0], \"textposition\": \"inside\", \"type\": \"bar\", \"width\": 0.2, \"x\": [\"Division 1\", \"Division 2\", \"Division 3\", \"Division 4\"], \"y\": [10, 20, 10, 15]}],\n",
       "                        {\"autosize\": false, \"colorway\": [\"#4368d4\", \"#5D50B2\", \"#AA6342\", \"#557DA0\", \"#DD483E\", \"#58a2d4\", \"#543c84\"], \"height\": 600, \"legend\": {\"bordercolor\": \"#202534\", \"borderwidth\": 0, \"font\": {\"color\": \"lightgrey\", \"family\": \"sans-serif\", \"size\": 12}, \"orientation\": \"v\", \"traceorder\": \"normal\", \"x\": 1.02, \"xanchor\": \"left\", \"y\": 1, \"yanchor\": \"middle\"}, \"margin\": {\"b\": 75, \"l\": 50, \"pad\": 10, \"r\": 50, \"t\": 75}, \"paper_bgcolor\": \"#202534\", \"plot_bgcolor\": \"#202534\", \"shapes\": [{\"line\": {\"color\": \"royalblue\", \"width\": 1.5}, \"opacity\": 1, \"type\": \"rect\", \"x0\": 0.55, \"x1\": 1.45, \"xref\": \"x\", \"y0\": 0, \"y1\": 53, \"yref\": \"y\"}], \"template\": {\"data\": {\"bar\": [{\"error_x\": {\"color\": \"#2a3f5f\"}, \"error_y\": {\"color\": \"#2a3f5f\"}, \"marker\": {\"line\": {\"color\": \"#E5ECF6\", \"width\": 0.5}}, \"type\": \"bar\"}], \"barpolar\": [{\"marker\": {\"line\": {\"color\": \"#E5ECF6\", \"width\": 0.5}}, \"type\": \"barpolar\"}], \"carpet\": [{\"aaxis\": {\"endlinecolor\": \"#2a3f5f\", \"gridcolor\": \"white\", \"linecolor\": \"white\", \"minorgridcolor\": \"white\", \"startlinecolor\": \"#2a3f5f\"}, \"baxis\": {\"endlinecolor\": \"#2a3f5f\", \"gridcolor\": \"white\", \"linecolor\": \"white\", \"minorgridcolor\": \"white\", \"startlinecolor\": \"#2a3f5f\"}, \"type\": \"carpet\"}], \"choropleth\": [{\"colorbar\": {\"outlinewidth\": 0, \"ticks\": \"\"}, \"type\": \"choropleth\"}], \"contour\": [{\"colorbar\": {\"outlinewidth\": 0, \"ticks\": \"\"}, \"colorscale\": [[0.0, \"#0d0887\"], [0.1111111111111111, \"#46039f\"], [0.2222222222222222, \"#7201a8\"], [0.3333333333333333, \"#9c179e\"], [0.4444444444444444, \"#bd3786\"], [0.5555555555555556, \"#d8576b\"], [0.6666666666666666, \"#ed7953\"], [0.7777777777777778, \"#fb9f3a\"], [0.8888888888888888, \"#fdca26\"], [1.0, \"#f0f921\"]], \"type\": \"contour\"}], \"contourcarpet\": [{\"colorbar\": {\"outlinewidth\": 0, \"ticks\": \"\"}, \"type\": \"contourcarpet\"}], \"heatmap\": [{\"colorbar\": {\"outlinewidth\": 0, \"ticks\": \"\"}, \"colorscale\": [[0.0, \"#0d0887\"], [0.1111111111111111, \"#46039f\"], [0.2222222222222222, \"#7201a8\"], [0.3333333333333333, \"#9c179e\"], [0.4444444444444444, \"#bd3786\"], [0.5555555555555556, \"#d8576b\"], [0.6666666666666666, \"#ed7953\"], [0.7777777777777778, \"#fb9f3a\"], [0.8888888888888888, \"#fdca26\"], [1.0, \"#f0f921\"]], \"type\": \"heatmap\"}], \"heatmapgl\": [{\"colorbar\": {\"outlinewidth\": 0, \"ticks\": \"\"}, \"colorscale\": [[0.0, \"#0d0887\"], [0.1111111111111111, \"#46039f\"], [0.2222222222222222, \"#7201a8\"], [0.3333333333333333, \"#9c179e\"], [0.4444444444444444, \"#bd3786\"], [0.5555555555555556, \"#d8576b\"], [0.6666666666666666, \"#ed7953\"], [0.7777777777777778, \"#fb9f3a\"], [0.8888888888888888, \"#fdca26\"], [1.0, \"#f0f921\"]], \"type\": \"heatmapgl\"}], \"histogram\": [{\"marker\": {\"colorbar\": {\"outlinewidth\": 0, \"ticks\": \"\"}}, \"type\": \"histogram\"}], \"histogram2d\": [{\"colorbar\": {\"outlinewidth\": 0, \"ticks\": \"\"}, \"colorscale\": [[0.0, \"#0d0887\"], [0.1111111111111111, \"#46039f\"], [0.2222222222222222, \"#7201a8\"], [0.3333333333333333, \"#9c179e\"], [0.4444444444444444, \"#bd3786\"], [0.5555555555555556, \"#d8576b\"], [0.6666666666666666, \"#ed7953\"], [0.7777777777777778, \"#fb9f3a\"], [0.8888888888888888, \"#fdca26\"], [1.0, \"#f0f921\"]], \"type\": \"histogram2d\"}], \"histogram2dcontour\": [{\"colorbar\": {\"outlinewidth\": 0, \"ticks\": \"\"}, \"colorscale\": [[0.0, \"#0d0887\"], [0.1111111111111111, \"#46039f\"], [0.2222222222222222, \"#7201a8\"], [0.3333333333333333, \"#9c179e\"], [0.4444444444444444, \"#bd3786\"], [0.5555555555555556, \"#d8576b\"], [0.6666666666666666, \"#ed7953\"], [0.7777777777777778, \"#fb9f3a\"], [0.8888888888888888, \"#fdca26\"], [1.0, \"#f0f921\"]], \"type\": \"histogram2dcontour\"}], \"mesh3d\": [{\"colorbar\": {\"outlinewidth\": 0, \"ticks\": \"\"}, \"type\": \"mesh3d\"}], \"parcoords\": [{\"line\": {\"colorbar\": {\"outlinewidth\": 0, \"ticks\": \"\"}}, \"type\": \"parcoords\"}], \"pie\": [{\"automargin\": true, \"type\": \"pie\"}], \"scatter\": [{\"marker\": {\"colorbar\": {\"outlinewidth\": 0, \"ticks\": \"\"}}, \"type\": \"scatter\"}], \"scatter3d\": [{\"line\": {\"colorbar\": {\"outlinewidth\": 0, \"ticks\": \"\"}}, \"marker\": {\"colorbar\": {\"outlinewidth\": 0, \"ticks\": \"\"}}, \"type\": \"scatter3d\"}], \"scattercarpet\": [{\"marker\": {\"colorbar\": {\"outlinewidth\": 0, \"ticks\": \"\"}}, \"type\": \"scattercarpet\"}], \"scattergeo\": [{\"marker\": {\"colorbar\": {\"outlinewidth\": 0, \"ticks\": \"\"}}, \"type\": \"scattergeo\"}], \"scattergl\": [{\"marker\": {\"colorbar\": {\"outlinewidth\": 0, \"ticks\": \"\"}}, \"type\": \"scattergl\"}], \"scattermapbox\": [{\"marker\": {\"colorbar\": {\"outlinewidth\": 0, \"ticks\": \"\"}}, \"type\": \"scattermapbox\"}], \"scatterpolar\": [{\"marker\": {\"colorbar\": {\"outlinewidth\": 0, \"ticks\": \"\"}}, \"type\": \"scatterpolar\"}], \"scatterpolargl\": [{\"marker\": {\"colorbar\": {\"outlinewidth\": 0, \"ticks\": \"\"}}, \"type\": \"scatterpolargl\"}], \"scatterternary\": [{\"marker\": {\"colorbar\": {\"outlinewidth\": 0, \"ticks\": \"\"}}, \"type\": \"scatterternary\"}], \"surface\": [{\"colorbar\": {\"outlinewidth\": 0, \"ticks\": \"\"}, \"colorscale\": [[0.0, \"#0d0887\"], [0.1111111111111111, \"#46039f\"], [0.2222222222222222, \"#7201a8\"], [0.3333333333333333, \"#9c179e\"], [0.4444444444444444, \"#bd3786\"], [0.5555555555555556, \"#d8576b\"], [0.6666666666666666, \"#ed7953\"], [0.7777777777777778, \"#fb9f3a\"], [0.8888888888888888, \"#fdca26\"], [1.0, \"#f0f921\"]], \"type\": \"surface\"}], \"table\": [{\"cells\": {\"fill\": {\"color\": \"#EBF0F8\"}, \"line\": {\"color\": \"white\"}}, \"header\": {\"fill\": {\"color\": \"#C8D4E3\"}, \"line\": {\"color\": \"white\"}}, \"type\": \"table\"}]}, \"layout\": {\"annotationdefaults\": {\"arrowcolor\": \"#2a3f5f\", \"arrowhead\": 0, \"arrowwidth\": 1}, \"coloraxis\": {\"colorbar\": {\"outlinewidth\": 0, \"ticks\": \"\"}}, \"colorscale\": {\"diverging\": [[0, \"#8e0152\"], [0.1, \"#c51b7d\"], [0.2, \"#de77ae\"], [0.3, \"#f1b6da\"], [0.4, \"#fde0ef\"], [0.5, \"#f7f7f7\"], [0.6, \"#e6f5d0\"], [0.7, \"#b8e186\"], [0.8, \"#7fbc41\"], [0.9, \"#4d9221\"], [1, \"#276419\"]], \"sequential\": [[0.0, \"#0d0887\"], [0.1111111111111111, \"#46039f\"], [0.2222222222222222, \"#7201a8\"], [0.3333333333333333, \"#9c179e\"], [0.4444444444444444, \"#bd3786\"], [0.5555555555555556, \"#d8576b\"], [0.6666666666666666, \"#ed7953\"], [0.7777777777777778, \"#fb9f3a\"], [0.8888888888888888, \"#fdca26\"], [1.0, \"#f0f921\"]], \"sequentialminus\": [[0.0, \"#0d0887\"], [0.1111111111111111, \"#46039f\"], [0.2222222222222222, \"#7201a8\"], [0.3333333333333333, \"#9c179e\"], [0.4444444444444444, \"#bd3786\"], [0.5555555555555556, \"#d8576b\"], [0.6666666666666666, \"#ed7953\"], [0.7777777777777778, \"#fb9f3a\"], [0.8888888888888888, \"#fdca26\"], [1.0, \"#f0f921\"]]}, \"colorway\": [\"#636efa\", \"#EF553B\", \"#00cc96\", \"#ab63fa\", \"#FFA15A\", \"#19d3f3\", \"#FF6692\", \"#B6E880\", \"#FF97FF\", \"#FECB52\"], \"font\": {\"color\": \"#2a3f5f\"}, \"geo\": {\"bgcolor\": \"white\", \"lakecolor\": \"white\", \"landcolor\": \"#E5ECF6\", \"showlakes\": true, \"showland\": true, \"subunitcolor\": \"white\"}, \"hoverlabel\": {\"align\": \"left\"}, \"hovermode\": \"closest\", \"mapbox\": {\"style\": \"light\"}, \"paper_bgcolor\": \"white\", \"plot_bgcolor\": \"#E5ECF6\", \"polar\": {\"angularaxis\": {\"gridcolor\": \"white\", \"linecolor\": \"white\", \"ticks\": \"\"}, \"bgcolor\": \"#E5ECF6\", \"radialaxis\": {\"gridcolor\": \"white\", \"linecolor\": \"white\", \"ticks\": \"\"}}, \"scene\": {\"xaxis\": {\"backgroundcolor\": \"#E5ECF6\", \"gridcolor\": \"white\", \"gridwidth\": 2, \"linecolor\": \"white\", \"showbackground\": true, \"ticks\": \"\", \"zerolinecolor\": \"white\"}, \"yaxis\": {\"backgroundcolor\": \"#E5ECF6\", \"gridcolor\": \"white\", \"gridwidth\": 2, \"linecolor\": \"white\", \"showbackground\": true, \"ticks\": \"\", \"zerolinecolor\": \"white\"}, \"zaxis\": {\"backgroundcolor\": \"#E5ECF6\", \"gridcolor\": \"white\", \"gridwidth\": 2, \"linecolor\": \"white\", \"showbackground\": true, \"ticks\": \"\", \"zerolinecolor\": \"white\"}}, \"shapedefaults\": {\"line\": {\"color\": \"#2a3f5f\"}}, \"ternary\": {\"aaxis\": {\"gridcolor\": \"white\", \"linecolor\": \"white\", \"ticks\": \"\"}, \"baxis\": {\"gridcolor\": \"white\", \"linecolor\": \"white\", \"ticks\": \"\"}, \"bgcolor\": \"#E5ECF6\", \"caxis\": {\"gridcolor\": \"white\", \"linecolor\": \"white\", \"ticks\": \"\"}}, \"title\": {\"x\": 0.05}, \"xaxis\": {\"automargin\": true, \"gridcolor\": \"white\", \"linecolor\": \"white\", \"ticks\": \"\", \"title\": {\"standoff\": 15}, \"zerolinecolor\": \"white\", \"zerolinewidth\": 2}, \"yaxis\": {\"automargin\": true, \"gridcolor\": \"white\", \"linecolor\": \"white\", \"ticks\": \"\", \"title\": {\"standoff\": 15}, \"zerolinecolor\": \"white\", \"zerolinewidth\": 2}}}, \"title\": {\"font\": {\"color\": \"lightgrey\", \"family\": \"sans-serif\", \"size\": 24}, \"text\": \"\", \"x\": 0.5}, \"width\": 1000, \"xaxis\": {\"autorange\": true, \"color\": \"lightgrey\", \"dtick\": 1, \"gridcolor\": \"#343846\", \"gridwidth\": 0.5, \"showgrid\": false, \"showline\": false, \"showticklabels\": true, \"tickfont\": {\"color\": \"lightgrey\", \"size\": 13}, \"tickformat\": \"\", \"tickmode\": \"auto\", \"title\": {\"font\": {\"color\": \"lightgrey\", \"family\": \"sans-serif\", \"size\": 18}, \"text\": \"\"}, \"type\": \"-\", \"zeroline\": false, \"zerolinecolor\": \"grey\"}, \"yaxis\": {\"autorange\": true, \"color\": \"lightgrey\", \"dtick\": 1, \"gridcolor\": \"#343846\", \"gridwidth\": 0.5, \"showgrid\": true, \"showline\": false, \"showticklabels\": true, \"tickfont\": {\"color\": \"lightgrey\", \"size\": 13}, \"tickformat\": \"\", \"tickmode\": \"auto\", \"ticks\": \"\", \"title\": {\"font\": {\"color\": \"lightgrey\", \"family\": \"sans-serif\", \"size\": 18}, \"text\": \"\"}, \"type\": \"-\", \"zeroline\": true, \"zerolinecolor\": \"grey\"}},\n",
       "                        {\"responsive\": true}\n",
       "                    ).then(function(){\n",
       "                            \n",
       "var gd = document.getElementById('d88160b5-00ef-437b-81d1-20c4fbe9e022');\n",
       "var x = new MutationObserver(function (mutations, observer) {{\n",
       "        var display = window.getComputedStyle(gd).display;\n",
       "        if (!display || display === 'none') {{\n",
       "            console.log([gd, 'removed!']);\n",
       "            Plotly.purge(gd);\n",
       "            observer.disconnect();\n",
       "        }}\n",
       "}});\n",
       "\n",
       "// Listen for the removal of the full notebook cells\n",
       "var notebookContainer = gd.closest('#notebook-container');\n",
       "if (notebookContainer) {{\n",
       "    x.observe(notebookContainer, {childList: true});\n",
       "}}\n",
       "\n",
       "// Listen for the clearing of the current output cell\n",
       "var outputEl = gd.closest('.output');\n",
       "if (outputEl) {{\n",
       "    x.observe(outputEl, {childList: true});\n",
       "}}\n",
       "\n",
       "                        })\n",
       "                };\n",
       "                });\n",
       "            </script>\n",
       "        </div>"
      ]
     },
     "metadata": {},
     "output_type": "display_data"
    }
   ],
   "source": [
    "index = ['Factory', 'Assembly', 'Design']\n",
    "values = {'Division 1': [55, 35, 10], \n",
    "         'Division 2': [50, 30, 20],\n",
    "         'Division 3': [45, 45, 10],\n",
    "         'Division 4': [40, 45, 15]}\n",
    "\n",
    "data = pd.DataFrame(data=values, index=index)\n",
    "\n",
    "color_palette = chart.palette(palette='colorful')\n",
    "layout = chart.layout(width=1000, ml=50, palette=color_palette)\n",
    "shape = chart.add_shape(x0=0.55, x1=1.45, y0=0, y1=53, xref='paper', fill_color=None, opacity=1, line_width=1.5)\n",
    "chart.bar(df=data, layout=layout, bar_width=0.20,  shapes=shape, textpos='inside', linewidth=1)"
   ]
  },
  {
   "cell_type": "code",
   "execution_count": 2,
   "metadata": {},
   "outputs": [
    {
     "data": {
      "application/vnd.plotly.v1+json": {
       "config": {
        "linkText": "Export to plot.ly",
        "plotlyServerURL": "https://plot.ly",
        "showLink": false
       },
       "data": [
        {
         "marker": {
          "line": {
           "color": "#2C3347",
           "width": 1
          },
          "opacity": 0.9
         },
         "name": "Factory",
         "orientation": "h",
         "text": [
          55,
          50,
          45,
          40
         ],
         "type": "bar",
         "width": 0.4,
         "x": [
          55,
          50,
          45,
          40
         ],
         "y": [
          "Division 1",
          "Division 2",
          "Division 3",
          "Division 4"
         ]
        },
        {
         "marker": {
          "line": {
           "color": "#2C3347",
           "width": 1
          },
          "opacity": 0.9
         },
         "name": "Assembly",
         "orientation": "h",
         "text": [
          35,
          30,
          45,
          45
         ],
         "type": "bar",
         "width": 0.4,
         "x": [
          35,
          30,
          45,
          45
         ],
         "y": [
          "Division 1",
          "Division 2",
          "Division 3",
          "Division 4"
         ]
        },
        {
         "marker": {
          "line": {
           "color": "#2C3347",
           "width": 1
          },
          "opacity": 0.9
         },
         "name": "Design",
         "orientation": "h",
         "text": [
          10,
          20,
          10,
          15
         ],
         "type": "bar",
         "width": 0.4,
         "x": [
          10,
          20,
          10,
          15
         ],
         "y": [
          "Division 1",
          "Division 2",
          "Division 3",
          "Division 4"
         ]
        }
       ],
       "layout": {
        "annotations": [
         {
          "font": {
           "color": "lightgrey",
           "family": "sans-serif",
           "size": 15
          },
          "showarrow": false,
          "text": "55",
          "x": 27.5,
          "xref": "x",
          "y": "Division 1",
          "yref": "y"
         },
         {
          "font": {
           "color": "lightgrey",
           "family": "sans-serif",
           "size": 15
          },
          "showarrow": false,
          "text": "35",
          "x": 72.5,
          "xref": "x",
          "y": "Division 1",
          "yref": "y"
         },
         {
          "font": {
           "color": "lightgrey",
           "family": "sans-serif",
           "size": 15
          },
          "showarrow": false,
          "text": "10",
          "x": 95,
          "xref": "x",
          "y": "Division 1",
          "yref": "y"
         },
         {
          "font": {
           "color": "lightgrey",
           "family": "sans-serif",
           "size": 15
          },
          "showarrow": false,
          "text": "50",
          "x": 25,
          "xref": "x",
          "y": "Division 2",
          "yref": "y"
         },
         {
          "font": {
           "color": "lightgrey",
           "family": "sans-serif",
           "size": 15
          },
          "showarrow": false,
          "text": "30",
          "x": 65,
          "xref": "x",
          "y": "Division 2",
          "yref": "y"
         },
         {
          "font": {
           "color": "lightgrey",
           "family": "sans-serif",
           "size": 15
          },
          "showarrow": false,
          "text": "20",
          "x": 90,
          "xref": "x",
          "y": "Division 2",
          "yref": "y"
         },
         {
          "font": {
           "color": "lightgrey",
           "family": "sans-serif",
           "size": 15
          },
          "showarrow": false,
          "text": "45",
          "x": 22.5,
          "xref": "x",
          "y": "Division 3",
          "yref": "y"
         },
         {
          "font": {
           "color": "lightgrey",
           "family": "sans-serif",
           "size": 15
          },
          "showarrow": false,
          "text": "45",
          "x": 67.5,
          "xref": "x",
          "y": "Division 3",
          "yref": "y"
         },
         {
          "font": {
           "color": "lightgrey",
           "family": "sans-serif",
           "size": 15
          },
          "showarrow": false,
          "text": "10",
          "x": 95,
          "xref": "x",
          "y": "Division 3",
          "yref": "y"
         },
         {
          "font": {
           "color": "lightgrey",
           "family": "sans-serif",
           "size": 15
          },
          "showarrow": false,
          "text": "40",
          "x": 20,
          "xref": "x",
          "y": "Division 4",
          "yref": "y"
         },
         {
          "font": {
           "color": "lightgrey",
           "family": "sans-serif",
           "size": 15
          },
          "showarrow": false,
          "text": "45",
          "x": 62.5,
          "xref": "x",
          "y": "Division 4",
          "yref": "y"
         },
         {
          "font": {
           "color": "lightgrey",
           "family": "sans-serif",
           "size": 15
          },
          "showarrow": false,
          "text": "15",
          "x": 92.5,
          "xref": "x",
          "y": "Division 4",
          "yref": "y"
         },
         {
          "font": {
           "color": "lightgrey",
           "family": "sans-serif",
           "size": 16
          },
          "showarrow": false,
          "text": "Factory",
          "textangle": 0,
          "x": 20,
          "xref": "x",
          "y": 1.02,
          "yref": "paper"
         },
         {
          "font": {
           "color": "lightgrey",
           "family": "sans-serif",
           "size": 16
          },
          "showarrow": false,
          "text": "Assembly",
          "textangle": 0,
          "x": 62.5,
          "xref": "x",
          "y": 1.02,
          "yref": "paper"
         },
         {
          "font": {
           "color": "lightgrey",
           "family": "sans-serif",
           "size": 16
          },
          "showarrow": false,
          "text": "Design",
          "textangle": 0,
          "x": 92.5,
          "xref": "x",
          "y": 1.02,
          "yref": "paper"
         }
        ],
        "autosize": false,
        "barmode": "stack",
        "colorway": [
         "#a43232",
         "#b24c4c",
         "#be6666",
         "#cc8080",
         "#d89999",
         "#e6b3b3",
         "#f2cccc",
         "#ffe5e5"
        ],
        "height": 600,
        "legend": {
         "bordercolor": "#202534",
         "borderwidth": 0,
         "font": {
          "color": "lightgrey",
          "family": "sans-serif",
          "size": 12
         },
         "orientation": "h",
         "traceorder": "normal",
         "x": 0.58,
         "xanchor": "left",
         "y": -0.05,
         "yanchor": "middle"
        },
        "margin": {
         "b": 75,
         "l": 50,
         "pad": 10,
         "r": 50,
         "t": 75
        },
        "paper_bgcolor": "#202534",
        "plot_bgcolor": "#202534",
        "template": {
         "data": {
          "bar": [
           {
            "error_x": {
             "color": "#2a3f5f"
            },
            "error_y": {
             "color": "#2a3f5f"
            },
            "marker": {
             "line": {
              "color": "#E5ECF6",
              "width": 0.5
             }
            },
            "type": "bar"
           }
          ],
          "barpolar": [
           {
            "marker": {
             "line": {
              "color": "#E5ECF6",
              "width": 0.5
             }
            },
            "type": "barpolar"
           }
          ],
          "carpet": [
           {
            "aaxis": {
             "endlinecolor": "#2a3f5f",
             "gridcolor": "white",
             "linecolor": "white",
             "minorgridcolor": "white",
             "startlinecolor": "#2a3f5f"
            },
            "baxis": {
             "endlinecolor": "#2a3f5f",
             "gridcolor": "white",
             "linecolor": "white",
             "minorgridcolor": "white",
             "startlinecolor": "#2a3f5f"
            },
            "type": "carpet"
           }
          ],
          "choropleth": [
           {
            "colorbar": {
             "outlinewidth": 0,
             "ticks": ""
            },
            "type": "choropleth"
           }
          ],
          "contour": [
           {
            "colorbar": {
             "outlinewidth": 0,
             "ticks": ""
            },
            "colorscale": [
             [
              0,
              "#0d0887"
             ],
             [
              0.1111111111111111,
              "#46039f"
             ],
             [
              0.2222222222222222,
              "#7201a8"
             ],
             [
              0.3333333333333333,
              "#9c179e"
             ],
             [
              0.4444444444444444,
              "#bd3786"
             ],
             [
              0.5555555555555556,
              "#d8576b"
             ],
             [
              0.6666666666666666,
              "#ed7953"
             ],
             [
              0.7777777777777778,
              "#fb9f3a"
             ],
             [
              0.8888888888888888,
              "#fdca26"
             ],
             [
              1,
              "#f0f921"
             ]
            ],
            "type": "contour"
           }
          ],
          "contourcarpet": [
           {
            "colorbar": {
             "outlinewidth": 0,
             "ticks": ""
            },
            "type": "contourcarpet"
           }
          ],
          "heatmap": [
           {
            "colorbar": {
             "outlinewidth": 0,
             "ticks": ""
            },
            "colorscale": [
             [
              0,
              "#0d0887"
             ],
             [
              0.1111111111111111,
              "#46039f"
             ],
             [
              0.2222222222222222,
              "#7201a8"
             ],
             [
              0.3333333333333333,
              "#9c179e"
             ],
             [
              0.4444444444444444,
              "#bd3786"
             ],
             [
              0.5555555555555556,
              "#d8576b"
             ],
             [
              0.6666666666666666,
              "#ed7953"
             ],
             [
              0.7777777777777778,
              "#fb9f3a"
             ],
             [
              0.8888888888888888,
              "#fdca26"
             ],
             [
              1,
              "#f0f921"
             ]
            ],
            "type": "heatmap"
           }
          ],
          "heatmapgl": [
           {
            "colorbar": {
             "outlinewidth": 0,
             "ticks": ""
            },
            "colorscale": [
             [
              0,
              "#0d0887"
             ],
             [
              0.1111111111111111,
              "#46039f"
             ],
             [
              0.2222222222222222,
              "#7201a8"
             ],
             [
              0.3333333333333333,
              "#9c179e"
             ],
             [
              0.4444444444444444,
              "#bd3786"
             ],
             [
              0.5555555555555556,
              "#d8576b"
             ],
             [
              0.6666666666666666,
              "#ed7953"
             ],
             [
              0.7777777777777778,
              "#fb9f3a"
             ],
             [
              0.8888888888888888,
              "#fdca26"
             ],
             [
              1,
              "#f0f921"
             ]
            ],
            "type": "heatmapgl"
           }
          ],
          "histogram": [
           {
            "marker": {
             "colorbar": {
              "outlinewidth": 0,
              "ticks": ""
             }
            },
            "type": "histogram"
           }
          ],
          "histogram2d": [
           {
            "colorbar": {
             "outlinewidth": 0,
             "ticks": ""
            },
            "colorscale": [
             [
              0,
              "#0d0887"
             ],
             [
              0.1111111111111111,
              "#46039f"
             ],
             [
              0.2222222222222222,
              "#7201a8"
             ],
             [
              0.3333333333333333,
              "#9c179e"
             ],
             [
              0.4444444444444444,
              "#bd3786"
             ],
             [
              0.5555555555555556,
              "#d8576b"
             ],
             [
              0.6666666666666666,
              "#ed7953"
             ],
             [
              0.7777777777777778,
              "#fb9f3a"
             ],
             [
              0.8888888888888888,
              "#fdca26"
             ],
             [
              1,
              "#f0f921"
             ]
            ],
            "type": "histogram2d"
           }
          ],
          "histogram2dcontour": [
           {
            "colorbar": {
             "outlinewidth": 0,
             "ticks": ""
            },
            "colorscale": [
             [
              0,
              "#0d0887"
             ],
             [
              0.1111111111111111,
              "#46039f"
             ],
             [
              0.2222222222222222,
              "#7201a8"
             ],
             [
              0.3333333333333333,
              "#9c179e"
             ],
             [
              0.4444444444444444,
              "#bd3786"
             ],
             [
              0.5555555555555556,
              "#d8576b"
             ],
             [
              0.6666666666666666,
              "#ed7953"
             ],
             [
              0.7777777777777778,
              "#fb9f3a"
             ],
             [
              0.8888888888888888,
              "#fdca26"
             ],
             [
              1,
              "#f0f921"
             ]
            ],
            "type": "histogram2dcontour"
           }
          ],
          "mesh3d": [
           {
            "colorbar": {
             "outlinewidth": 0,
             "ticks": ""
            },
            "type": "mesh3d"
           }
          ],
          "parcoords": [
           {
            "line": {
             "colorbar": {
              "outlinewidth": 0,
              "ticks": ""
             }
            },
            "type": "parcoords"
           }
          ],
          "pie": [
           {
            "automargin": true,
            "type": "pie"
           }
          ],
          "scatter": [
           {
            "marker": {
             "colorbar": {
              "outlinewidth": 0,
              "ticks": ""
             }
            },
            "type": "scatter"
           }
          ],
          "scatter3d": [
           {
            "line": {
             "colorbar": {
              "outlinewidth": 0,
              "ticks": ""
             }
            },
            "marker": {
             "colorbar": {
              "outlinewidth": 0,
              "ticks": ""
             }
            },
            "type": "scatter3d"
           }
          ],
          "scattercarpet": [
           {
            "marker": {
             "colorbar": {
              "outlinewidth": 0,
              "ticks": ""
             }
            },
            "type": "scattercarpet"
           }
          ],
          "scattergeo": [
           {
            "marker": {
             "colorbar": {
              "outlinewidth": 0,
              "ticks": ""
             }
            },
            "type": "scattergeo"
           }
          ],
          "scattergl": [
           {
            "marker": {
             "colorbar": {
              "outlinewidth": 0,
              "ticks": ""
             }
            },
            "type": "scattergl"
           }
          ],
          "scattermapbox": [
           {
            "marker": {
             "colorbar": {
              "outlinewidth": 0,
              "ticks": ""
             }
            },
            "type": "scattermapbox"
           }
          ],
          "scatterpolar": [
           {
            "marker": {
             "colorbar": {
              "outlinewidth": 0,
              "ticks": ""
             }
            },
            "type": "scatterpolar"
           }
          ],
          "scatterpolargl": [
           {
            "marker": {
             "colorbar": {
              "outlinewidth": 0,
              "ticks": ""
             }
            },
            "type": "scatterpolargl"
           }
          ],
          "scatterternary": [
           {
            "marker": {
             "colorbar": {
              "outlinewidth": 0,
              "ticks": ""
             }
            },
            "type": "scatterternary"
           }
          ],
          "surface": [
           {
            "colorbar": {
             "outlinewidth": 0,
             "ticks": ""
            },
            "colorscale": [
             [
              0,
              "#0d0887"
             ],
             [
              0.1111111111111111,
              "#46039f"
             ],
             [
              0.2222222222222222,
              "#7201a8"
             ],
             [
              0.3333333333333333,
              "#9c179e"
             ],
             [
              0.4444444444444444,
              "#bd3786"
             ],
             [
              0.5555555555555556,
              "#d8576b"
             ],
             [
              0.6666666666666666,
              "#ed7953"
             ],
             [
              0.7777777777777778,
              "#fb9f3a"
             ],
             [
              0.8888888888888888,
              "#fdca26"
             ],
             [
              1,
              "#f0f921"
             ]
            ],
            "type": "surface"
           }
          ],
          "table": [
           {
            "cells": {
             "fill": {
              "color": "#EBF0F8"
             },
             "line": {
              "color": "white"
             }
            },
            "header": {
             "fill": {
              "color": "#C8D4E3"
             },
             "line": {
              "color": "white"
             }
            },
            "type": "table"
           }
          ]
         },
         "layout": {
          "annotationdefaults": {
           "arrowcolor": "#2a3f5f",
           "arrowhead": 0,
           "arrowwidth": 1
          },
          "coloraxis": {
           "colorbar": {
            "outlinewidth": 0,
            "ticks": ""
           }
          },
          "colorscale": {
           "diverging": [
            [
             0,
             "#8e0152"
            ],
            [
             0.1,
             "#c51b7d"
            ],
            [
             0.2,
             "#de77ae"
            ],
            [
             0.3,
             "#f1b6da"
            ],
            [
             0.4,
             "#fde0ef"
            ],
            [
             0.5,
             "#f7f7f7"
            ],
            [
             0.6,
             "#e6f5d0"
            ],
            [
             0.7,
             "#b8e186"
            ],
            [
             0.8,
             "#7fbc41"
            ],
            [
             0.9,
             "#4d9221"
            ],
            [
             1,
             "#276419"
            ]
           ],
           "sequential": [
            [
             0,
             "#0d0887"
            ],
            [
             0.1111111111111111,
             "#46039f"
            ],
            [
             0.2222222222222222,
             "#7201a8"
            ],
            [
             0.3333333333333333,
             "#9c179e"
            ],
            [
             0.4444444444444444,
             "#bd3786"
            ],
            [
             0.5555555555555556,
             "#d8576b"
            ],
            [
             0.6666666666666666,
             "#ed7953"
            ],
            [
             0.7777777777777778,
             "#fb9f3a"
            ],
            [
             0.8888888888888888,
             "#fdca26"
            ],
            [
             1,
             "#f0f921"
            ]
           ],
           "sequentialminus": [
            [
             0,
             "#0d0887"
            ],
            [
             0.1111111111111111,
             "#46039f"
            ],
            [
             0.2222222222222222,
             "#7201a8"
            ],
            [
             0.3333333333333333,
             "#9c179e"
            ],
            [
             0.4444444444444444,
             "#bd3786"
            ],
            [
             0.5555555555555556,
             "#d8576b"
            ],
            [
             0.6666666666666666,
             "#ed7953"
            ],
            [
             0.7777777777777778,
             "#fb9f3a"
            ],
            [
             0.8888888888888888,
             "#fdca26"
            ],
            [
             1,
             "#f0f921"
            ]
           ]
          },
          "colorway": [
           "#636efa",
           "#EF553B",
           "#00cc96",
           "#ab63fa",
           "#FFA15A",
           "#19d3f3",
           "#FF6692",
           "#B6E880",
           "#FF97FF",
           "#FECB52"
          ],
          "font": {
           "color": "#2a3f5f"
          },
          "geo": {
           "bgcolor": "white",
           "lakecolor": "white",
           "landcolor": "#E5ECF6",
           "showlakes": true,
           "showland": true,
           "subunitcolor": "white"
          },
          "hoverlabel": {
           "align": "left"
          },
          "hovermode": "closest",
          "mapbox": {
           "style": "light"
          },
          "paper_bgcolor": "white",
          "plot_bgcolor": "#E5ECF6",
          "polar": {
           "angularaxis": {
            "gridcolor": "white",
            "linecolor": "white",
            "ticks": ""
           },
           "bgcolor": "#E5ECF6",
           "radialaxis": {
            "gridcolor": "white",
            "linecolor": "white",
            "ticks": ""
           }
          },
          "scene": {
           "xaxis": {
            "backgroundcolor": "#E5ECF6",
            "gridcolor": "white",
            "gridwidth": 2,
            "linecolor": "white",
            "showbackground": true,
            "ticks": "",
            "zerolinecolor": "white"
           },
           "yaxis": {
            "backgroundcolor": "#E5ECF6",
            "gridcolor": "white",
            "gridwidth": 2,
            "linecolor": "white",
            "showbackground": true,
            "ticks": "",
            "zerolinecolor": "white"
           },
           "zaxis": {
            "backgroundcolor": "#E5ECF6",
            "gridcolor": "white",
            "gridwidth": 2,
            "linecolor": "white",
            "showbackground": true,
            "ticks": "",
            "zerolinecolor": "white"
           }
          },
          "shapedefaults": {
           "line": {
            "color": "#2a3f5f"
           }
          },
          "ternary": {
           "aaxis": {
            "gridcolor": "white",
            "linecolor": "white",
            "ticks": ""
           },
           "baxis": {
            "gridcolor": "white",
            "linecolor": "white",
            "ticks": ""
           },
           "bgcolor": "#E5ECF6",
           "caxis": {
            "gridcolor": "white",
            "linecolor": "white",
            "ticks": ""
           }
          },
          "title": {
           "x": 0.05
          },
          "xaxis": {
           "automargin": true,
           "gridcolor": "white",
           "linecolor": "white",
           "ticks": "",
           "title": {
            "standoff": 15
           },
           "zerolinecolor": "white",
           "zerolinewidth": 2
          },
          "yaxis": {
           "automargin": true,
           "gridcolor": "white",
           "linecolor": "white",
           "ticks": "",
           "title": {
            "standoff": 15
           },
           "zerolinecolor": "white",
           "zerolinewidth": 2
          }
         }
        },
        "title": {
         "font": {
          "color": "lightgrey",
          "family": "sans-serif",
          "size": 24
         },
         "text": "",
         "x": 0.5
        },
        "width": 900,
        "xaxis": {
         "autorange": true,
         "color": "lightgrey",
         "dtick": 1,
         "gridcolor": "#343846",
         "gridwidth": 0.5,
         "showgrid": false,
         "showline": false,
         "showticklabels": false,
         "tickfont": {
          "color": "lightgrey",
          "size": 13
         },
         "tickformat": "",
         "tickmode": "auto",
         "title": {
          "font": {
           "color": "lightgrey",
           "family": "sans-serif",
           "size": 18
          },
          "text": ""
         },
         "type": "-",
         "zeroline": false,
         "zerolinecolor": "grey"
        },
        "yaxis": {
         "autorange": true,
         "color": "lightgrey",
         "dtick": 1,
         "gridcolor": "#343846",
         "gridwidth": 0.5,
         "showgrid": false,
         "showline": false,
         "showticklabels": true,
         "tickfont": {
          "color": "lightgrey",
          "size": 16
         },
         "tickformat": "",
         "tickmode": "auto",
         "ticks": "",
         "title": {
          "font": {
           "color": "lightgrey",
           "family": "sans-serif",
           "size": 18
          },
          "text": ""
         },
         "type": "-",
         "zeroline": true,
         "zerolinecolor": "grey"
        }
       }
      },
      "text/html": [
       "<div>\n",
       "        \n",
       "        \n",
       "            <div id=\"0a57c058-ca49-414b-af08-c67a8b1bb910\" class=\"plotly-graph-div\" style=\"height:600px; width:900px;\"></div>\n",
       "            <script type=\"text/javascript\">\n",
       "                require([\"plotly\"], function(Plotly) {\n",
       "                    window.PLOTLYENV=window.PLOTLYENV || {};\n",
       "                    \n",
       "                if (document.getElementById(\"0a57c058-ca49-414b-af08-c67a8b1bb910\")) {\n",
       "                    Plotly.newPlot(\n",
       "                        '0a57c058-ca49-414b-af08-c67a8b1bb910',\n",
       "                        [{\"marker\": {\"line\": {\"color\": \"#2C3347\", \"width\": 1}, \"opacity\": 0.9}, \"name\": \"Factory\", \"orientation\": \"h\", \"text\": [55.0, 50.0, 45.0, 40.0], \"type\": \"bar\", \"width\": 0.4, \"x\": [55, 50, 45, 40], \"y\": [\"Division 1\", \"Division 2\", \"Division 3\", \"Division 4\"]}, {\"marker\": {\"line\": {\"color\": \"#2C3347\", \"width\": 1}, \"opacity\": 0.9}, \"name\": \"Assembly\", \"orientation\": \"h\", \"text\": [35.0, 30.0, 45.0, 45.0], \"type\": \"bar\", \"width\": 0.4, \"x\": [35, 30, 45, 45], \"y\": [\"Division 1\", \"Division 2\", \"Division 3\", \"Division 4\"]}, {\"marker\": {\"line\": {\"color\": \"#2C3347\", \"width\": 1}, \"opacity\": 0.9}, \"name\": \"Design\", \"orientation\": \"h\", \"text\": [10.0, 20.0, 10.0, 15.0], \"type\": \"bar\", \"width\": 0.4, \"x\": [10, 20, 10, 15], \"y\": [\"Division 1\", \"Division 2\", \"Division 3\", \"Division 4\"]}],\n",
       "                        {\"annotations\": [{\"font\": {\"color\": \"lightgrey\", \"family\": \"sans-serif\", \"size\": 15}, \"showarrow\": false, \"text\": \"55\", \"x\": 27.5, \"xref\": \"x\", \"y\": \"Division 1\", \"yref\": \"y\"}, {\"font\": {\"color\": \"lightgrey\", \"family\": \"sans-serif\", \"size\": 15}, \"showarrow\": false, \"text\": \"35\", \"x\": 72.5, \"xref\": \"x\", \"y\": \"Division 1\", \"yref\": \"y\"}, {\"font\": {\"color\": \"lightgrey\", \"family\": \"sans-serif\", \"size\": 15}, \"showarrow\": false, \"text\": \"10\", \"x\": 95.0, \"xref\": \"x\", \"y\": \"Division 1\", \"yref\": \"y\"}, {\"font\": {\"color\": \"lightgrey\", \"family\": \"sans-serif\", \"size\": 15}, \"showarrow\": false, \"text\": \"50\", \"x\": 25.0, \"xref\": \"x\", \"y\": \"Division 2\", \"yref\": \"y\"}, {\"font\": {\"color\": \"lightgrey\", \"family\": \"sans-serif\", \"size\": 15}, \"showarrow\": false, \"text\": \"30\", \"x\": 65.0, \"xref\": \"x\", \"y\": \"Division 2\", \"yref\": \"y\"}, {\"font\": {\"color\": \"lightgrey\", \"family\": \"sans-serif\", \"size\": 15}, \"showarrow\": false, \"text\": \"20\", \"x\": 90.0, \"xref\": \"x\", \"y\": \"Division 2\", \"yref\": \"y\"}, {\"font\": {\"color\": \"lightgrey\", \"family\": \"sans-serif\", \"size\": 15}, \"showarrow\": false, \"text\": \"45\", \"x\": 22.5, \"xref\": \"x\", \"y\": \"Division 3\", \"yref\": \"y\"}, {\"font\": {\"color\": \"lightgrey\", \"family\": \"sans-serif\", \"size\": 15}, \"showarrow\": false, \"text\": \"45\", \"x\": 67.5, \"xref\": \"x\", \"y\": \"Division 3\", \"yref\": \"y\"}, {\"font\": {\"color\": \"lightgrey\", \"family\": \"sans-serif\", \"size\": 15}, \"showarrow\": false, \"text\": \"10\", \"x\": 95.0, \"xref\": \"x\", \"y\": \"Division 3\", \"yref\": \"y\"}, {\"font\": {\"color\": \"lightgrey\", \"family\": \"sans-serif\", \"size\": 15}, \"showarrow\": false, \"text\": \"40\", \"x\": 20.0, \"xref\": \"x\", \"y\": \"Division 4\", \"yref\": \"y\"}, {\"font\": {\"color\": \"lightgrey\", \"family\": \"sans-serif\", \"size\": 15}, \"showarrow\": false, \"text\": \"45\", \"x\": 62.5, \"xref\": \"x\", \"y\": \"Division 4\", \"yref\": \"y\"}, {\"font\": {\"color\": \"lightgrey\", \"family\": \"sans-serif\", \"size\": 15}, \"showarrow\": false, \"text\": \"15\", \"x\": 92.5, \"xref\": \"x\", \"y\": \"Division 4\", \"yref\": \"y\"}, {\"font\": {\"color\": \"lightgrey\", \"family\": \"sans-serif\", \"size\": 16}, \"showarrow\": false, \"text\": \"Factory\", \"textangle\": 0, \"x\": 20.0, \"xref\": \"x\", \"y\": 1.02, \"yref\": \"paper\"}, {\"font\": {\"color\": \"lightgrey\", \"family\": \"sans-serif\", \"size\": 16}, \"showarrow\": false, \"text\": \"Assembly\", \"textangle\": 0, \"x\": 62.5, \"xref\": \"x\", \"y\": 1.02, \"yref\": \"paper\"}, {\"font\": {\"color\": \"lightgrey\", \"family\": \"sans-serif\", \"size\": 16}, \"showarrow\": false, \"text\": \"Design\", \"textangle\": 0, \"x\": 92.5, \"xref\": \"x\", \"y\": 1.02, \"yref\": \"paper\"}], \"autosize\": false, \"barmode\": \"stack\", \"colorway\": [\"#a43232\", \"#b24c4c\", \"#be6666\", \"#cc8080\", \"#d89999\", \"#e6b3b3\", \"#f2cccc\", \"#ffe5e5\"], \"height\": 600, \"legend\": {\"bordercolor\": \"#202534\", \"borderwidth\": 0, \"font\": {\"color\": \"lightgrey\", \"family\": \"sans-serif\", \"size\": 12}, \"orientation\": \"h\", \"traceorder\": \"normal\", \"x\": 0.58, \"xanchor\": \"left\", \"y\": -0.05, \"yanchor\": \"middle\"}, \"margin\": {\"b\": 75, \"l\": 50, \"pad\": 10, \"r\": 50, \"t\": 75}, \"paper_bgcolor\": \"#202534\", \"plot_bgcolor\": \"#202534\", \"template\": {\"data\": {\"bar\": [{\"error_x\": {\"color\": \"#2a3f5f\"}, \"error_y\": {\"color\": \"#2a3f5f\"}, \"marker\": {\"line\": {\"color\": \"#E5ECF6\", \"width\": 0.5}}, \"type\": \"bar\"}], \"barpolar\": [{\"marker\": {\"line\": {\"color\": \"#E5ECF6\", \"width\": 0.5}}, \"type\": \"barpolar\"}], \"carpet\": [{\"aaxis\": {\"endlinecolor\": \"#2a3f5f\", \"gridcolor\": \"white\", \"linecolor\": \"white\", \"minorgridcolor\": \"white\", \"startlinecolor\": \"#2a3f5f\"}, \"baxis\": {\"endlinecolor\": \"#2a3f5f\", \"gridcolor\": \"white\", \"linecolor\": \"white\", \"minorgridcolor\": \"white\", \"startlinecolor\": \"#2a3f5f\"}, \"type\": \"carpet\"}], \"choropleth\": [{\"colorbar\": {\"outlinewidth\": 0, \"ticks\": \"\"}, \"type\": \"choropleth\"}], \"contour\": [{\"colorbar\": {\"outlinewidth\": 0, \"ticks\": \"\"}, \"colorscale\": [[0.0, \"#0d0887\"], [0.1111111111111111, \"#46039f\"], [0.2222222222222222, \"#7201a8\"], [0.3333333333333333, \"#9c179e\"], [0.4444444444444444, \"#bd3786\"], [0.5555555555555556, \"#d8576b\"], [0.6666666666666666, \"#ed7953\"], [0.7777777777777778, \"#fb9f3a\"], [0.8888888888888888, \"#fdca26\"], [1.0, \"#f0f921\"]], \"type\": \"contour\"}], \"contourcarpet\": [{\"colorbar\": {\"outlinewidth\": 0, \"ticks\": \"\"}, \"type\": \"contourcarpet\"}], \"heatmap\": [{\"colorbar\": {\"outlinewidth\": 0, \"ticks\": \"\"}, \"colorscale\": [[0.0, \"#0d0887\"], [0.1111111111111111, \"#46039f\"], [0.2222222222222222, \"#7201a8\"], [0.3333333333333333, \"#9c179e\"], [0.4444444444444444, \"#bd3786\"], [0.5555555555555556, \"#d8576b\"], [0.6666666666666666, \"#ed7953\"], [0.7777777777777778, \"#fb9f3a\"], [0.8888888888888888, \"#fdca26\"], [1.0, \"#f0f921\"]], \"type\": \"heatmap\"}], \"heatmapgl\": [{\"colorbar\": {\"outlinewidth\": 0, \"ticks\": \"\"}, \"colorscale\": [[0.0, \"#0d0887\"], [0.1111111111111111, \"#46039f\"], [0.2222222222222222, \"#7201a8\"], [0.3333333333333333, \"#9c179e\"], [0.4444444444444444, \"#bd3786\"], [0.5555555555555556, \"#d8576b\"], [0.6666666666666666, \"#ed7953\"], [0.7777777777777778, \"#fb9f3a\"], [0.8888888888888888, \"#fdca26\"], [1.0, \"#f0f921\"]], \"type\": \"heatmapgl\"}], \"histogram\": [{\"marker\": {\"colorbar\": {\"outlinewidth\": 0, \"ticks\": \"\"}}, \"type\": \"histogram\"}], \"histogram2d\": [{\"colorbar\": {\"outlinewidth\": 0, \"ticks\": \"\"}, \"colorscale\": [[0.0, \"#0d0887\"], [0.1111111111111111, \"#46039f\"], [0.2222222222222222, \"#7201a8\"], [0.3333333333333333, \"#9c179e\"], [0.4444444444444444, \"#bd3786\"], [0.5555555555555556, \"#d8576b\"], [0.6666666666666666, \"#ed7953\"], [0.7777777777777778, \"#fb9f3a\"], [0.8888888888888888, \"#fdca26\"], [1.0, \"#f0f921\"]], \"type\": \"histogram2d\"}], \"histogram2dcontour\": [{\"colorbar\": {\"outlinewidth\": 0, \"ticks\": \"\"}, \"colorscale\": [[0.0, \"#0d0887\"], [0.1111111111111111, \"#46039f\"], [0.2222222222222222, \"#7201a8\"], [0.3333333333333333, \"#9c179e\"], [0.4444444444444444, \"#bd3786\"], [0.5555555555555556, \"#d8576b\"], [0.6666666666666666, \"#ed7953\"], [0.7777777777777778, \"#fb9f3a\"], [0.8888888888888888, \"#fdca26\"], [1.0, \"#f0f921\"]], \"type\": \"histogram2dcontour\"}], \"mesh3d\": [{\"colorbar\": {\"outlinewidth\": 0, \"ticks\": \"\"}, \"type\": \"mesh3d\"}], \"parcoords\": [{\"line\": {\"colorbar\": {\"outlinewidth\": 0, \"ticks\": \"\"}}, \"type\": \"parcoords\"}], \"pie\": [{\"automargin\": true, \"type\": \"pie\"}], \"scatter\": [{\"marker\": {\"colorbar\": {\"outlinewidth\": 0, \"ticks\": \"\"}}, \"type\": \"scatter\"}], \"scatter3d\": [{\"line\": {\"colorbar\": {\"outlinewidth\": 0, \"ticks\": \"\"}}, \"marker\": {\"colorbar\": {\"outlinewidth\": 0, \"ticks\": \"\"}}, \"type\": \"scatter3d\"}], \"scattercarpet\": [{\"marker\": {\"colorbar\": {\"outlinewidth\": 0, \"ticks\": \"\"}}, \"type\": \"scattercarpet\"}], \"scattergeo\": [{\"marker\": {\"colorbar\": {\"outlinewidth\": 0, \"ticks\": \"\"}}, \"type\": \"scattergeo\"}], \"scattergl\": [{\"marker\": {\"colorbar\": {\"outlinewidth\": 0, \"ticks\": \"\"}}, \"type\": \"scattergl\"}], \"scattermapbox\": [{\"marker\": {\"colorbar\": {\"outlinewidth\": 0, \"ticks\": \"\"}}, \"type\": \"scattermapbox\"}], \"scatterpolar\": [{\"marker\": {\"colorbar\": {\"outlinewidth\": 0, \"ticks\": \"\"}}, \"type\": \"scatterpolar\"}], \"scatterpolargl\": [{\"marker\": {\"colorbar\": {\"outlinewidth\": 0, \"ticks\": \"\"}}, \"type\": \"scatterpolargl\"}], \"scatterternary\": [{\"marker\": {\"colorbar\": {\"outlinewidth\": 0, \"ticks\": \"\"}}, \"type\": \"scatterternary\"}], \"surface\": [{\"colorbar\": {\"outlinewidth\": 0, \"ticks\": \"\"}, \"colorscale\": [[0.0, \"#0d0887\"], [0.1111111111111111, \"#46039f\"], [0.2222222222222222, \"#7201a8\"], [0.3333333333333333, \"#9c179e\"], [0.4444444444444444, \"#bd3786\"], [0.5555555555555556, \"#d8576b\"], [0.6666666666666666, \"#ed7953\"], [0.7777777777777778, \"#fb9f3a\"], [0.8888888888888888, \"#fdca26\"], [1.0, \"#f0f921\"]], \"type\": \"surface\"}], \"table\": [{\"cells\": {\"fill\": {\"color\": \"#EBF0F8\"}, \"line\": {\"color\": \"white\"}}, \"header\": {\"fill\": {\"color\": \"#C8D4E3\"}, \"line\": {\"color\": \"white\"}}, \"type\": \"table\"}]}, \"layout\": {\"annotationdefaults\": {\"arrowcolor\": \"#2a3f5f\", \"arrowhead\": 0, \"arrowwidth\": 1}, \"coloraxis\": {\"colorbar\": {\"outlinewidth\": 0, \"ticks\": \"\"}}, \"colorscale\": {\"diverging\": [[0, \"#8e0152\"], [0.1, \"#c51b7d\"], [0.2, \"#de77ae\"], [0.3, \"#f1b6da\"], [0.4, \"#fde0ef\"], [0.5, \"#f7f7f7\"], [0.6, \"#e6f5d0\"], [0.7, \"#b8e186\"], [0.8, \"#7fbc41\"], [0.9, \"#4d9221\"], [1, \"#276419\"]], \"sequential\": [[0.0, \"#0d0887\"], [0.1111111111111111, \"#46039f\"], [0.2222222222222222, \"#7201a8\"], [0.3333333333333333, \"#9c179e\"], [0.4444444444444444, \"#bd3786\"], [0.5555555555555556, \"#d8576b\"], [0.6666666666666666, \"#ed7953\"], [0.7777777777777778, \"#fb9f3a\"], [0.8888888888888888, \"#fdca26\"], [1.0, \"#f0f921\"]], \"sequentialminus\": [[0.0, \"#0d0887\"], [0.1111111111111111, \"#46039f\"], [0.2222222222222222, \"#7201a8\"], [0.3333333333333333, \"#9c179e\"], [0.4444444444444444, \"#bd3786\"], [0.5555555555555556, \"#d8576b\"], [0.6666666666666666, \"#ed7953\"], [0.7777777777777778, \"#fb9f3a\"], [0.8888888888888888, \"#fdca26\"], [1.0, \"#f0f921\"]]}, \"colorway\": [\"#636efa\", \"#EF553B\", \"#00cc96\", \"#ab63fa\", \"#FFA15A\", \"#19d3f3\", \"#FF6692\", \"#B6E880\", \"#FF97FF\", \"#FECB52\"], \"font\": {\"color\": \"#2a3f5f\"}, \"geo\": {\"bgcolor\": \"white\", \"lakecolor\": \"white\", \"landcolor\": \"#E5ECF6\", \"showlakes\": true, \"showland\": true, \"subunitcolor\": \"white\"}, \"hoverlabel\": {\"align\": \"left\"}, \"hovermode\": \"closest\", \"mapbox\": {\"style\": \"light\"}, \"paper_bgcolor\": \"white\", \"plot_bgcolor\": \"#E5ECF6\", \"polar\": {\"angularaxis\": {\"gridcolor\": \"white\", \"linecolor\": \"white\", \"ticks\": \"\"}, \"bgcolor\": \"#E5ECF6\", \"radialaxis\": {\"gridcolor\": \"white\", \"linecolor\": \"white\", \"ticks\": \"\"}}, \"scene\": {\"xaxis\": {\"backgroundcolor\": \"#E5ECF6\", \"gridcolor\": \"white\", \"gridwidth\": 2, \"linecolor\": \"white\", \"showbackground\": true, \"ticks\": \"\", \"zerolinecolor\": \"white\"}, \"yaxis\": {\"backgroundcolor\": \"#E5ECF6\", \"gridcolor\": \"white\", \"gridwidth\": 2, \"linecolor\": \"white\", \"showbackground\": true, \"ticks\": \"\", \"zerolinecolor\": \"white\"}, \"zaxis\": {\"backgroundcolor\": \"#E5ECF6\", \"gridcolor\": \"white\", \"gridwidth\": 2, \"linecolor\": \"white\", \"showbackground\": true, \"ticks\": \"\", \"zerolinecolor\": \"white\"}}, \"shapedefaults\": {\"line\": {\"color\": \"#2a3f5f\"}}, \"ternary\": {\"aaxis\": {\"gridcolor\": \"white\", \"linecolor\": \"white\", \"ticks\": \"\"}, \"baxis\": {\"gridcolor\": \"white\", \"linecolor\": \"white\", \"ticks\": \"\"}, \"bgcolor\": \"#E5ECF6\", \"caxis\": {\"gridcolor\": \"white\", \"linecolor\": \"white\", \"ticks\": \"\"}}, \"title\": {\"x\": 0.05}, \"xaxis\": {\"automargin\": true, \"gridcolor\": \"white\", \"linecolor\": \"white\", \"ticks\": \"\", \"title\": {\"standoff\": 15}, \"zerolinecolor\": \"white\", \"zerolinewidth\": 2}, \"yaxis\": {\"automargin\": true, \"gridcolor\": \"white\", \"linecolor\": \"white\", \"ticks\": \"\", \"title\": {\"standoff\": 15}, \"zerolinecolor\": \"white\", \"zerolinewidth\": 2}}}, \"title\": {\"font\": {\"color\": \"lightgrey\", \"family\": \"sans-serif\", \"size\": 24}, \"text\": \"\", \"x\": 0.5}, \"width\": 900, \"xaxis\": {\"autorange\": true, \"color\": \"lightgrey\", \"dtick\": 1, \"gridcolor\": \"#343846\", \"gridwidth\": 0.5, \"showgrid\": false, \"showline\": false, \"showticklabels\": false, \"tickfont\": {\"color\": \"lightgrey\", \"size\": 13}, \"tickformat\": \"\", \"tickmode\": \"auto\", \"title\": {\"font\": {\"color\": \"lightgrey\", \"family\": \"sans-serif\", \"size\": 18}, \"text\": \"\"}, \"type\": \"-\", \"zeroline\": false, \"zerolinecolor\": \"grey\"}, \"yaxis\": {\"autorange\": true, \"color\": \"lightgrey\", \"dtick\": 1, \"gridcolor\": \"#343846\", \"gridwidth\": 0.5, \"showgrid\": false, \"showline\": false, \"showticklabels\": true, \"tickfont\": {\"color\": \"lightgrey\", \"size\": 16}, \"tickformat\": \"\", \"tickmode\": \"auto\", \"ticks\": \"\", \"title\": {\"font\": {\"color\": \"lightgrey\", \"family\": \"sans-serif\", \"size\": 18}, \"text\": \"\"}, \"type\": \"-\", \"zeroline\": true, \"zerolinecolor\": \"grey\"}},\n",
       "                        {\"responsive\": true}\n",
       "                    ).then(function(){\n",
       "                            \n",
       "var gd = document.getElementById('0a57c058-ca49-414b-af08-c67a8b1bb910');\n",
       "var x = new MutationObserver(function (mutations, observer) {{\n",
       "        var display = window.getComputedStyle(gd).display;\n",
       "        if (!display || display === 'none') {{\n",
       "            console.log([gd, 'removed!']);\n",
       "            Plotly.purge(gd);\n",
       "            observer.disconnect();\n",
       "        }}\n",
       "}});\n",
       "\n",
       "// Listen for the removal of the full notebook cells\n",
       "var notebookContainer = gd.closest('#notebook-container');\n",
       "if (notebookContainer) {{\n",
       "    x.observe(notebookContainer, {childList: true});\n",
       "}}\n",
       "\n",
       "// Listen for the clearing of the current output cell\n",
       "var outputEl = gd.closest('.output');\n",
       "if (outputEl) {{\n",
       "    x.observe(outputEl, {childList: true});\n",
       "}}\n",
       "\n",
       "                        })\n",
       "                };\n",
       "                });\n",
       "            </script>\n",
       "        </div>"
      ]
     },
     "metadata": {},
     "output_type": "display_data"
    }
   ],
   "source": [
    "# create data\n",
    "index = ['Factory', 'Assembly', 'Design']\n",
    "values = {'Division 1': [55, 35, 10], \n",
    "         'Division 2': [50, 30, 20],\n",
    "         'Division 3': [45, 45, 10],\n",
    "         'Division 4': [40, 45, 15]}\n",
    "\n",
    "\n",
    "data = pd.DataFrame(data=values, index=index).transpose()\n",
    "\n",
    "# create chart\n",
    "annotations = chart.add_bar_values(data, orientation='h')\n",
    "annotations.extend(chart.add_headings(data, y=1.02, font_size=16))\n",
    "\n",
    "colors = chart.palette(color='darkred', palette_type='light', reverse=True, start_pos=2)\n",
    "\n",
    "layout = chart.layout(width=900, ml=50, legend_orientation='h', legend_x=0.58,\n",
    "                      legend_y=-0.05, yaxis_showgrid=False, xaxis_showticklabels=False,\n",
    "                      pad=10, yaxis_ticksize=16, palette=colors)\n",
    "\n",
    "chart.bar(data, layout=layout, mode='stack', bar_width=0.4, orientation='h', annotations=annotations)"
   ]
  },
  {
   "cell_type": "code",
   "execution_count": 8,
   "metadata": {},
   "outputs": [
    {
     "data": {
      "text/html": [
       "<div>\n",
       "<style scoped>\n",
       "    .dataframe tbody tr th:only-of-type {\n",
       "        vertical-align: middle;\n",
       "    }\n",
       "\n",
       "    .dataframe tbody tr th {\n",
       "        vertical-align: top;\n",
       "    }\n",
       "\n",
       "    .dataframe thead th {\n",
       "        text-align: right;\n",
       "    }\n",
       "</style>\n",
       "<table border=\"1\" class=\"dataframe\">\n",
       "  <thead>\n",
       "    <tr style=\"text-align: right;\">\n",
       "      <th></th>\n",
       "      <th>Strongly agree</th>\n",
       "      <th>Agree</th>\n",
       "      <th>Neutral</th>\n",
       "      <th>Disagree</th>\n",
       "      <th>Strongly disagree</th>\n",
       "    </tr>\n",
       "  </thead>\n",
       "  <tbody>\n",
       "    <tr>\n",
       "      <th>The course was effectively&lt;br&gt;organized</th>\n",
       "      <td>21</td>\n",
       "      <td>30</td>\n",
       "      <td>21</td>\n",
       "      <td>16</td>\n",
       "      <td>12</td>\n",
       "    </tr>\n",
       "    <tr>\n",
       "      <th>The course developed my&lt;br&gt;abilities and skills for&lt;br&gt;the subject</th>\n",
       "      <td>24</td>\n",
       "      <td>31</td>\n",
       "      <td>19</td>\n",
       "      <td>15</td>\n",
       "      <td>11</td>\n",
       "    </tr>\n",
       "    <tr>\n",
       "      <th>The course developed my&lt;br&gt;ability to think critically about&lt;br&gt;the subject</th>\n",
       "      <td>27</td>\n",
       "      <td>26</td>\n",
       "      <td>23</td>\n",
       "      <td>11</td>\n",
       "      <td>13</td>\n",
       "    </tr>\n",
       "    <tr>\n",
       "      <th>I would recommend this&lt;br&gt;course to a friend</th>\n",
       "      <td>29</td>\n",
       "      <td>24</td>\n",
       "      <td>15</td>\n",
       "      <td>18</td>\n",
       "      <td>14</td>\n",
       "    </tr>\n",
       "  </tbody>\n",
       "</table>\n",
       "</div>"
      ],
      "text/plain": [
       "                                                    Strongly agree  Agree  \\\n",
       "The course was effectively<br>organized                         21     30   \n",
       "The course developed my<br>abilities and skills...              24     31   \n",
       "The course developed my<br>ability to think cri...              27     26   \n",
       "I would recommend this<br>course to a friend                    29     24   \n",
       "\n",
       "                                                    Neutral  Disagree  \\\n",
       "The course was effectively<br>organized                  21        16   \n",
       "The course developed my<br>abilities and skills...       19        15   \n",
       "The course developed my<br>ability to think cri...       23        11   \n",
       "I would recommend this<br>course to a friend             15        18   \n",
       "\n",
       "                                                    Strongly disagree  \n",
       "The course was effectively<br>organized                            12  \n",
       "The course developed my<br>abilities and skills...                 11  \n",
       "The course developed my<br>ability to think cri...                 13  \n",
       "I would recommend this<br>course to a friend                       14  "
      ]
     },
     "execution_count": 8,
     "metadata": {},
     "output_type": "execute_result"
    }
   ],
   "source": [
    "data"
   ]
  },
  {
   "cell_type": "code",
   "execution_count": 6,
   "metadata": {},
   "outputs": [
    {
     "data": {
      "application/vnd.plotly.v1+json": {
       "config": {
        "linkText": "Export to plot.ly",
        "plotlyServerURL": "https://plot.ly",
        "showLink": false
       },
       "data": [
        {
         "marker": {
          "line": {
           "color": "#2C3347",
           "width": 1
          },
          "opacity": 0.9
         },
         "name": "Strongly agree",
         "orientation": "h",
         "text": [
          21,
          24,
          27,
          29
         ],
         "type": "bar",
         "width": 0.5,
         "x": [
          21,
          24,
          27,
          29
         ],
         "y": [
          "The course was effectively<br>organized",
          "The course developed my<br>abilities and skills for<br>the subject",
          "The course developed my<br>ability to think critically about<br>the subject",
          "I would recommend this<br>course to a friend"
         ]
        },
        {
         "marker": {
          "line": {
           "color": "#2C3347",
           "width": 1
          },
          "opacity": 0.9
         },
         "name": "Agree",
         "orientation": "h",
         "text": [
          30,
          31,
          26,
          24
         ],
         "type": "bar",
         "width": 0.5,
         "x": [
          30,
          31,
          26,
          24
         ],
         "y": [
          "The course was effectively<br>organized",
          "The course developed my<br>abilities and skills for<br>the subject",
          "The course developed my<br>ability to think critically about<br>the subject",
          "I would recommend this<br>course to a friend"
         ]
        },
        {
         "marker": {
          "line": {
           "color": "#2C3347",
           "width": 1
          },
          "opacity": 0.9
         },
         "name": "Neutral",
         "orientation": "h",
         "text": [
          21,
          19,
          23,
          15
         ],
         "type": "bar",
         "width": 0.5,
         "x": [
          21,
          19,
          23,
          15
         ],
         "y": [
          "The course was effectively<br>organized",
          "The course developed my<br>abilities and skills for<br>the subject",
          "The course developed my<br>ability to think critically about<br>the subject",
          "I would recommend this<br>course to a friend"
         ]
        },
        {
         "marker": {
          "line": {
           "color": "#2C3347",
           "width": 1
          },
          "opacity": 0.9
         },
         "name": "Disagree",
         "orientation": "h",
         "text": [
          16,
          15,
          11,
          18
         ],
         "type": "bar",
         "width": 0.5,
         "x": [
          16,
          15,
          11,
          18
         ],
         "y": [
          "The course was effectively<br>organized",
          "The course developed my<br>abilities and skills for<br>the subject",
          "The course developed my<br>ability to think critically about<br>the subject",
          "I would recommend this<br>course to a friend"
         ]
        },
        {
         "marker": {
          "line": {
           "color": "#2C3347",
           "width": 1
          },
          "opacity": 0.9
         },
         "name": "Strongly disagree",
         "orientation": "h",
         "text": [
          12,
          11,
          13,
          14
         ],
         "type": "bar",
         "width": 0.5,
         "x": [
          12,
          11,
          13,
          14
         ],
         "y": [
          "The course was effectively<br>organized",
          "The course developed my<br>abilities and skills for<br>the subject",
          "The course developed my<br>ability to think critically about<br>the subject",
          "I would recommend this<br>course to a friend"
         ]
        }
       ],
       "layout": {
        "annotations": [
         {
          "font": {
           "color": "lightgrey",
           "family": "sans-serif",
           "size": 15
          },
          "showarrow": false,
          "text": "Strongly agree",
          "textangle": 0,
          "x": 14.5,
          "xref": "x",
          "y": 1,
          "yref": "paper"
         },
         {
          "font": {
           "color": "lightgrey",
           "family": "sans-serif",
           "size": 15
          },
          "showarrow": false,
          "text": "Agree",
          "textangle": 0,
          "x": 41,
          "xref": "x",
          "y": 1,
          "yref": "paper"
         },
         {
          "font": {
           "color": "lightgrey",
           "family": "sans-serif",
           "size": 15
          },
          "showarrow": false,
          "text": "Neutral",
          "textangle": 0,
          "x": 60.5,
          "xref": "x",
          "y": 1,
          "yref": "paper"
         },
         {
          "font": {
           "color": "lightgrey",
           "family": "sans-serif",
           "size": 15
          },
          "showarrow": false,
          "text": "Disagree",
          "textangle": 0,
          "x": 77,
          "xref": "x",
          "y": 1,
          "yref": "paper"
         },
         {
          "font": {
           "color": "lightgrey",
           "family": "sans-serif",
           "size": 15
          },
          "showarrow": false,
          "text": "Strongly disagree",
          "textangle": 0,
          "x": 93,
          "xref": "x",
          "y": 1,
          "yref": "paper"
         },
         {
          "font": {
           "color": "lightgrey",
           "family": "sans-serif",
           "size": 17
          },
          "showarrow": false,
          "text": "21",
          "x": 10.5,
          "xref": "x",
          "y": "The course was effectively<br>organized",
          "yref": "y"
         },
         {
          "font": {
           "color": "lightgrey",
           "family": "sans-serif",
           "size": 17
          },
          "showarrow": false,
          "text": "30",
          "x": 36,
          "xref": "x",
          "y": "The course was effectively<br>organized",
          "yref": "y"
         },
         {
          "font": {
           "color": "lightgrey",
           "family": "sans-serif",
           "size": 17
          },
          "showarrow": false,
          "text": "21",
          "x": 61.5,
          "xref": "x",
          "y": "The course was effectively<br>organized",
          "yref": "y"
         },
         {
          "font": {
           "color": "lightgrey",
           "family": "sans-serif",
           "size": 17
          },
          "showarrow": false,
          "text": "16",
          "x": 80,
          "xref": "x",
          "y": "The course was effectively<br>organized",
          "yref": "y"
         },
         {
          "font": {
           "color": "lightgrey",
           "family": "sans-serif",
           "size": 17
          },
          "showarrow": false,
          "text": "12",
          "x": 94,
          "xref": "x",
          "y": "The course was effectively<br>organized",
          "yref": "y"
         },
         {
          "font": {
           "color": "lightgrey",
           "family": "sans-serif",
           "size": 17
          },
          "showarrow": false,
          "text": "24",
          "x": 12,
          "xref": "x",
          "y": "The course developed my<br>abilities and skills for<br>the subject",
          "yref": "y"
         },
         {
          "font": {
           "color": "lightgrey",
           "family": "sans-serif",
           "size": 17
          },
          "showarrow": false,
          "text": "31",
          "x": 39.5,
          "xref": "x",
          "y": "The course developed my<br>abilities and skills for<br>the subject",
          "yref": "y"
         },
         {
          "font": {
           "color": "lightgrey",
           "family": "sans-serif",
           "size": 17
          },
          "showarrow": false,
          "text": "19",
          "x": 64.5,
          "xref": "x",
          "y": "The course developed my<br>abilities and skills for<br>the subject",
          "yref": "y"
         },
         {
          "font": {
           "color": "lightgrey",
           "family": "sans-serif",
           "size": 17
          },
          "showarrow": false,
          "text": "15",
          "x": 81.5,
          "xref": "x",
          "y": "The course developed my<br>abilities and skills for<br>the subject",
          "yref": "y"
         },
         {
          "font": {
           "color": "lightgrey",
           "family": "sans-serif",
           "size": 17
          },
          "showarrow": false,
          "text": "11",
          "x": 94.5,
          "xref": "x",
          "y": "The course developed my<br>abilities and skills for<br>the subject",
          "yref": "y"
         },
         {
          "font": {
           "color": "lightgrey",
           "family": "sans-serif",
           "size": 17
          },
          "showarrow": false,
          "text": "27",
          "x": 13.5,
          "xref": "x",
          "y": "The course developed my<br>ability to think critically about<br>the subject",
          "yref": "y"
         },
         {
          "font": {
           "color": "lightgrey",
           "family": "sans-serif",
           "size": 17
          },
          "showarrow": false,
          "text": "26",
          "x": 40,
          "xref": "x",
          "y": "The course developed my<br>ability to think critically about<br>the subject",
          "yref": "y"
         },
         {
          "font": {
           "color": "lightgrey",
           "family": "sans-serif",
           "size": 17
          },
          "showarrow": false,
          "text": "23",
          "x": 64.5,
          "xref": "x",
          "y": "The course developed my<br>ability to think critically about<br>the subject",
          "yref": "y"
         },
         {
          "font": {
           "color": "lightgrey",
           "family": "sans-serif",
           "size": 17
          },
          "showarrow": false,
          "text": "11",
          "x": 81.5,
          "xref": "x",
          "y": "The course developed my<br>ability to think critically about<br>the subject",
          "yref": "y"
         },
         {
          "font": {
           "color": "lightgrey",
           "family": "sans-serif",
           "size": 17
          },
          "showarrow": false,
          "text": "13",
          "x": 93.5,
          "xref": "x",
          "y": "The course developed my<br>ability to think critically about<br>the subject",
          "yref": "y"
         },
         {
          "font": {
           "color": "lightgrey",
           "family": "sans-serif",
           "size": 17
          },
          "showarrow": false,
          "text": "29",
          "x": 14.5,
          "xref": "x",
          "y": "I would recommend this<br>course to a friend",
          "yref": "y"
         },
         {
          "font": {
           "color": "lightgrey",
           "family": "sans-serif",
           "size": 17
          },
          "showarrow": false,
          "text": "24",
          "x": 41,
          "xref": "x",
          "y": "I would recommend this<br>course to a friend",
          "yref": "y"
         },
         {
          "font": {
           "color": "lightgrey",
           "family": "sans-serif",
           "size": 17
          },
          "showarrow": false,
          "text": "15",
          "x": 60.5,
          "xref": "x",
          "y": "I would recommend this<br>course to a friend",
          "yref": "y"
         },
         {
          "font": {
           "color": "lightgrey",
           "family": "sans-serif",
           "size": 17
          },
          "showarrow": false,
          "text": "18",
          "x": 77,
          "xref": "x",
          "y": "I would recommend this<br>course to a friend",
          "yref": "y"
         },
         {
          "font": {
           "color": "lightgrey",
           "family": "sans-serif",
           "size": 17
          },
          "showarrow": false,
          "text": "14",
          "x": 93,
          "xref": "x",
          "y": "I would recommend this<br>course to a friend",
          "yref": "y"
         }
        ],
        "autosize": false,
        "barmode": "stack",
        "colorway": [
         "#55599b",
         "#6269bc",
         "#8387c1",
         "#6068a5",
         "#545f8e",
         "#54698e"
        ],
        "height": 600,
        "legend": {
         "bordercolor": "#202534",
         "borderwidth": 0,
         "font": {
          "color": "lightgrey",
          "family": "sans-serif",
          "size": 12
         },
         "orientation": "h",
         "traceorder": "normal",
         "x": 0.4,
         "xanchor": "left",
         "y": -0.03,
         "yanchor": "middle"
        },
        "margin": {
         "b": 75,
         "l": 75,
         "pad": 20,
         "r": 50,
         "t": 75
        },
        "paper_bgcolor": "#202534",
        "plot_bgcolor": "#202534",
        "template": {
         "data": {
          "bar": [
           {
            "error_x": {
             "color": "#2a3f5f"
            },
            "error_y": {
             "color": "#2a3f5f"
            },
            "marker": {
             "line": {
              "color": "#E5ECF6",
              "width": 0.5
             }
            },
            "type": "bar"
           }
          ],
          "barpolar": [
           {
            "marker": {
             "line": {
              "color": "#E5ECF6",
              "width": 0.5
             }
            },
            "type": "barpolar"
           }
          ],
          "carpet": [
           {
            "aaxis": {
             "endlinecolor": "#2a3f5f",
             "gridcolor": "white",
             "linecolor": "white",
             "minorgridcolor": "white",
             "startlinecolor": "#2a3f5f"
            },
            "baxis": {
             "endlinecolor": "#2a3f5f",
             "gridcolor": "white",
             "linecolor": "white",
             "minorgridcolor": "white",
             "startlinecolor": "#2a3f5f"
            },
            "type": "carpet"
           }
          ],
          "choropleth": [
           {
            "colorbar": {
             "outlinewidth": 0,
             "ticks": ""
            },
            "type": "choropleth"
           }
          ],
          "contour": [
           {
            "colorbar": {
             "outlinewidth": 0,
             "ticks": ""
            },
            "colorscale": [
             [
              0,
              "#0d0887"
             ],
             [
              0.1111111111111111,
              "#46039f"
             ],
             [
              0.2222222222222222,
              "#7201a8"
             ],
             [
              0.3333333333333333,
              "#9c179e"
             ],
             [
              0.4444444444444444,
              "#bd3786"
             ],
             [
              0.5555555555555556,
              "#d8576b"
             ],
             [
              0.6666666666666666,
              "#ed7953"
             ],
             [
              0.7777777777777778,
              "#fb9f3a"
             ],
             [
              0.8888888888888888,
              "#fdca26"
             ],
             [
              1,
              "#f0f921"
             ]
            ],
            "type": "contour"
           }
          ],
          "contourcarpet": [
           {
            "colorbar": {
             "outlinewidth": 0,
             "ticks": ""
            },
            "type": "contourcarpet"
           }
          ],
          "heatmap": [
           {
            "colorbar": {
             "outlinewidth": 0,
             "ticks": ""
            },
            "colorscale": [
             [
              0,
              "#0d0887"
             ],
             [
              0.1111111111111111,
              "#46039f"
             ],
             [
              0.2222222222222222,
              "#7201a8"
             ],
             [
              0.3333333333333333,
              "#9c179e"
             ],
             [
              0.4444444444444444,
              "#bd3786"
             ],
             [
              0.5555555555555556,
              "#d8576b"
             ],
             [
              0.6666666666666666,
              "#ed7953"
             ],
             [
              0.7777777777777778,
              "#fb9f3a"
             ],
             [
              0.8888888888888888,
              "#fdca26"
             ],
             [
              1,
              "#f0f921"
             ]
            ],
            "type": "heatmap"
           }
          ],
          "heatmapgl": [
           {
            "colorbar": {
             "outlinewidth": 0,
             "ticks": ""
            },
            "colorscale": [
             [
              0,
              "#0d0887"
             ],
             [
              0.1111111111111111,
              "#46039f"
             ],
             [
              0.2222222222222222,
              "#7201a8"
             ],
             [
              0.3333333333333333,
              "#9c179e"
             ],
             [
              0.4444444444444444,
              "#bd3786"
             ],
             [
              0.5555555555555556,
              "#d8576b"
             ],
             [
              0.6666666666666666,
              "#ed7953"
             ],
             [
              0.7777777777777778,
              "#fb9f3a"
             ],
             [
              0.8888888888888888,
              "#fdca26"
             ],
             [
              1,
              "#f0f921"
             ]
            ],
            "type": "heatmapgl"
           }
          ],
          "histogram": [
           {
            "marker": {
             "colorbar": {
              "outlinewidth": 0,
              "ticks": ""
             }
            },
            "type": "histogram"
           }
          ],
          "histogram2d": [
           {
            "colorbar": {
             "outlinewidth": 0,
             "ticks": ""
            },
            "colorscale": [
             [
              0,
              "#0d0887"
             ],
             [
              0.1111111111111111,
              "#46039f"
             ],
             [
              0.2222222222222222,
              "#7201a8"
             ],
             [
              0.3333333333333333,
              "#9c179e"
             ],
             [
              0.4444444444444444,
              "#bd3786"
             ],
             [
              0.5555555555555556,
              "#d8576b"
             ],
             [
              0.6666666666666666,
              "#ed7953"
             ],
             [
              0.7777777777777778,
              "#fb9f3a"
             ],
             [
              0.8888888888888888,
              "#fdca26"
             ],
             [
              1,
              "#f0f921"
             ]
            ],
            "type": "histogram2d"
           }
          ],
          "histogram2dcontour": [
           {
            "colorbar": {
             "outlinewidth": 0,
             "ticks": ""
            },
            "colorscale": [
             [
              0,
              "#0d0887"
             ],
             [
              0.1111111111111111,
              "#46039f"
             ],
             [
              0.2222222222222222,
              "#7201a8"
             ],
             [
              0.3333333333333333,
              "#9c179e"
             ],
             [
              0.4444444444444444,
              "#bd3786"
             ],
             [
              0.5555555555555556,
              "#d8576b"
             ],
             [
              0.6666666666666666,
              "#ed7953"
             ],
             [
              0.7777777777777778,
              "#fb9f3a"
             ],
             [
              0.8888888888888888,
              "#fdca26"
             ],
             [
              1,
              "#f0f921"
             ]
            ],
            "type": "histogram2dcontour"
           }
          ],
          "mesh3d": [
           {
            "colorbar": {
             "outlinewidth": 0,
             "ticks": ""
            },
            "type": "mesh3d"
           }
          ],
          "parcoords": [
           {
            "line": {
             "colorbar": {
              "outlinewidth": 0,
              "ticks": ""
             }
            },
            "type": "parcoords"
           }
          ],
          "pie": [
           {
            "automargin": true,
            "type": "pie"
           }
          ],
          "scatter": [
           {
            "marker": {
             "colorbar": {
              "outlinewidth": 0,
              "ticks": ""
             }
            },
            "type": "scatter"
           }
          ],
          "scatter3d": [
           {
            "line": {
             "colorbar": {
              "outlinewidth": 0,
              "ticks": ""
             }
            },
            "marker": {
             "colorbar": {
              "outlinewidth": 0,
              "ticks": ""
             }
            },
            "type": "scatter3d"
           }
          ],
          "scattercarpet": [
           {
            "marker": {
             "colorbar": {
              "outlinewidth": 0,
              "ticks": ""
             }
            },
            "type": "scattercarpet"
           }
          ],
          "scattergeo": [
           {
            "marker": {
             "colorbar": {
              "outlinewidth": 0,
              "ticks": ""
             }
            },
            "type": "scattergeo"
           }
          ],
          "scattergl": [
           {
            "marker": {
             "colorbar": {
              "outlinewidth": 0,
              "ticks": ""
             }
            },
            "type": "scattergl"
           }
          ],
          "scattermapbox": [
           {
            "marker": {
             "colorbar": {
              "outlinewidth": 0,
              "ticks": ""
             }
            },
            "type": "scattermapbox"
           }
          ],
          "scatterpolar": [
           {
            "marker": {
             "colorbar": {
              "outlinewidth": 0,
              "ticks": ""
             }
            },
            "type": "scatterpolar"
           }
          ],
          "scatterpolargl": [
           {
            "marker": {
             "colorbar": {
              "outlinewidth": 0,
              "ticks": ""
             }
            },
            "type": "scatterpolargl"
           }
          ],
          "scatterternary": [
           {
            "marker": {
             "colorbar": {
              "outlinewidth": 0,
              "ticks": ""
             }
            },
            "type": "scatterternary"
           }
          ],
          "surface": [
           {
            "colorbar": {
             "outlinewidth": 0,
             "ticks": ""
            },
            "colorscale": [
             [
              0,
              "#0d0887"
             ],
             [
              0.1111111111111111,
              "#46039f"
             ],
             [
              0.2222222222222222,
              "#7201a8"
             ],
             [
              0.3333333333333333,
              "#9c179e"
             ],
             [
              0.4444444444444444,
              "#bd3786"
             ],
             [
              0.5555555555555556,
              "#d8576b"
             ],
             [
              0.6666666666666666,
              "#ed7953"
             ],
             [
              0.7777777777777778,
              "#fb9f3a"
             ],
             [
              0.8888888888888888,
              "#fdca26"
             ],
             [
              1,
              "#f0f921"
             ]
            ],
            "type": "surface"
           }
          ],
          "table": [
           {
            "cells": {
             "fill": {
              "color": "#EBF0F8"
             },
             "line": {
              "color": "white"
             }
            },
            "header": {
             "fill": {
              "color": "#C8D4E3"
             },
             "line": {
              "color": "white"
             }
            },
            "type": "table"
           }
          ]
         },
         "layout": {
          "annotationdefaults": {
           "arrowcolor": "#2a3f5f",
           "arrowhead": 0,
           "arrowwidth": 1
          },
          "coloraxis": {
           "colorbar": {
            "outlinewidth": 0,
            "ticks": ""
           }
          },
          "colorscale": {
           "diverging": [
            [
             0,
             "#8e0152"
            ],
            [
             0.1,
             "#c51b7d"
            ],
            [
             0.2,
             "#de77ae"
            ],
            [
             0.3,
             "#f1b6da"
            ],
            [
             0.4,
             "#fde0ef"
            ],
            [
             0.5,
             "#f7f7f7"
            ],
            [
             0.6,
             "#e6f5d0"
            ],
            [
             0.7,
             "#b8e186"
            ],
            [
             0.8,
             "#7fbc41"
            ],
            [
             0.9,
             "#4d9221"
            ],
            [
             1,
             "#276419"
            ]
           ],
           "sequential": [
            [
             0,
             "#0d0887"
            ],
            [
             0.1111111111111111,
             "#46039f"
            ],
            [
             0.2222222222222222,
             "#7201a8"
            ],
            [
             0.3333333333333333,
             "#9c179e"
            ],
            [
             0.4444444444444444,
             "#bd3786"
            ],
            [
             0.5555555555555556,
             "#d8576b"
            ],
            [
             0.6666666666666666,
             "#ed7953"
            ],
            [
             0.7777777777777778,
             "#fb9f3a"
            ],
            [
             0.8888888888888888,
             "#fdca26"
            ],
            [
             1,
             "#f0f921"
            ]
           ],
           "sequentialminus": [
            [
             0,
             "#0d0887"
            ],
            [
             0.1111111111111111,
             "#46039f"
            ],
            [
             0.2222222222222222,
             "#7201a8"
            ],
            [
             0.3333333333333333,
             "#9c179e"
            ],
            [
             0.4444444444444444,
             "#bd3786"
            ],
            [
             0.5555555555555556,
             "#d8576b"
            ],
            [
             0.6666666666666666,
             "#ed7953"
            ],
            [
             0.7777777777777778,
             "#fb9f3a"
            ],
            [
             0.8888888888888888,
             "#fdca26"
            ],
            [
             1,
             "#f0f921"
            ]
           ]
          },
          "colorway": [
           "#636efa",
           "#EF553B",
           "#00cc96",
           "#ab63fa",
           "#FFA15A",
           "#19d3f3",
           "#FF6692",
           "#B6E880",
           "#FF97FF",
           "#FECB52"
          ],
          "font": {
           "color": "#2a3f5f"
          },
          "geo": {
           "bgcolor": "white",
           "lakecolor": "white",
           "landcolor": "#E5ECF6",
           "showlakes": true,
           "showland": true,
           "subunitcolor": "white"
          },
          "hoverlabel": {
           "align": "left"
          },
          "hovermode": "closest",
          "mapbox": {
           "style": "light"
          },
          "paper_bgcolor": "white",
          "plot_bgcolor": "#E5ECF6",
          "polar": {
           "angularaxis": {
            "gridcolor": "white",
            "linecolor": "white",
            "ticks": ""
           },
           "bgcolor": "#E5ECF6",
           "radialaxis": {
            "gridcolor": "white",
            "linecolor": "white",
            "ticks": ""
           }
          },
          "scene": {
           "xaxis": {
            "backgroundcolor": "#E5ECF6",
            "gridcolor": "white",
            "gridwidth": 2,
            "linecolor": "white",
            "showbackground": true,
            "ticks": "",
            "zerolinecolor": "white"
           },
           "yaxis": {
            "backgroundcolor": "#E5ECF6",
            "gridcolor": "white",
            "gridwidth": 2,
            "linecolor": "white",
            "showbackground": true,
            "ticks": "",
            "zerolinecolor": "white"
           },
           "zaxis": {
            "backgroundcolor": "#E5ECF6",
            "gridcolor": "white",
            "gridwidth": 2,
            "linecolor": "white",
            "showbackground": true,
            "ticks": "",
            "zerolinecolor": "white"
           }
          },
          "shapedefaults": {
           "line": {
            "color": "#2a3f5f"
           }
          },
          "ternary": {
           "aaxis": {
            "gridcolor": "white",
            "linecolor": "white",
            "ticks": ""
           },
           "baxis": {
            "gridcolor": "white",
            "linecolor": "white",
            "ticks": ""
           },
           "bgcolor": "#E5ECF6",
           "caxis": {
            "gridcolor": "white",
            "linecolor": "white",
            "ticks": ""
           }
          },
          "title": {
           "x": 0.05
          },
          "xaxis": {
           "automargin": true,
           "gridcolor": "white",
           "linecolor": "white",
           "ticks": "",
           "title": {
            "standoff": 15
           },
           "zerolinecolor": "white",
           "zerolinewidth": 2
          },
          "yaxis": {
           "automargin": true,
           "gridcolor": "white",
           "linecolor": "white",
           "ticks": "",
           "title": {
            "standoff": 15
           },
           "zerolinecolor": "white",
           "zerolinewidth": 2
          }
         }
        },
        "title": {
         "font": {
          "color": "lightgrey",
          "family": "sans-serif",
          "size": 24
         },
         "text": "",
         "x": 0.5
        },
        "width": 1200,
        "xaxis": {
         "autorange": true,
         "color": "lightgrey",
         "dtick": 1,
         "gridcolor": "#343846",
         "gridwidth": 0.5,
         "showgrid": false,
         "showline": false,
         "showticklabels": false,
         "tickfont": {
          "color": "lightgrey",
          "size": 13
         },
         "tickformat": "",
         "tickmode": "auto",
         "title": {
          "font": {
           "color": "lightgrey",
           "family": "sans-serif",
           "size": 18
          },
          "text": ""
         },
         "type": "-",
         "zeroline": false,
         "zerolinecolor": "grey"
        },
        "yaxis": {
         "autorange": true,
         "color": "lightgrey",
         "dtick": 1,
         "gridcolor": "#343846",
         "gridwidth": 0.5,
         "showgrid": false,
         "showline": false,
         "showticklabels": true,
         "tickfont": {
          "color": "lightgrey",
          "size": 16
         },
         "tickformat": "",
         "tickmode": "auto",
         "ticks": "",
         "title": {
          "font": {
           "color": "lightgrey",
           "family": "sans-serif",
           "size": 18
          },
          "text": ""
         },
         "type": "-",
         "zeroline": true,
         "zerolinecolor": "grey"
        }
       }
      },
      "text/html": [
       "<div>\n",
       "        \n",
       "        \n",
       "            <div id=\"f8ab440c-8f40-45fe-b729-d33882e59a15\" class=\"plotly-graph-div\" style=\"height:600px; width:1200px;\"></div>\n",
       "            <script type=\"text/javascript\">\n",
       "                require([\"plotly\"], function(Plotly) {\n",
       "                    window.PLOTLYENV=window.PLOTLYENV || {};\n",
       "                    \n",
       "                if (document.getElementById(\"f8ab440c-8f40-45fe-b729-d33882e59a15\")) {\n",
       "                    Plotly.newPlot(\n",
       "                        'f8ab440c-8f40-45fe-b729-d33882e59a15',\n",
       "                        [{\"marker\": {\"line\": {\"color\": \"#2C3347\", \"width\": 1}, \"opacity\": 0.9}, \"name\": \"Strongly agree\", \"orientation\": \"h\", \"text\": [21.0, 24.0, 27.0, 29.0], \"type\": \"bar\", \"width\": 0.5, \"x\": [21, 24, 27, 29], \"y\": [\"The course was effectively<br>organized\", \"The course developed my<br>abilities and skills for<br>the subject\", \"The course developed my<br>ability to think critically about<br>the subject\", \"I would recommend this<br>course to a friend\"]}, {\"marker\": {\"line\": {\"color\": \"#2C3347\", \"width\": 1}, \"opacity\": 0.9}, \"name\": \"Agree\", \"orientation\": \"h\", \"text\": [30.0, 31.0, 26.0, 24.0], \"type\": \"bar\", \"width\": 0.5, \"x\": [30, 31, 26, 24], \"y\": [\"The course was effectively<br>organized\", \"The course developed my<br>abilities and skills for<br>the subject\", \"The course developed my<br>ability to think critically about<br>the subject\", \"I would recommend this<br>course to a friend\"]}, {\"marker\": {\"line\": {\"color\": \"#2C3347\", \"width\": 1}, \"opacity\": 0.9}, \"name\": \"Neutral\", \"orientation\": \"h\", \"text\": [21.0, 19.0, 23.0, 15.0], \"type\": \"bar\", \"width\": 0.5, \"x\": [21, 19, 23, 15], \"y\": [\"The course was effectively<br>organized\", \"The course developed my<br>abilities and skills for<br>the subject\", \"The course developed my<br>ability to think critically about<br>the subject\", \"I would recommend this<br>course to a friend\"]}, {\"marker\": {\"line\": {\"color\": \"#2C3347\", \"width\": 1}, \"opacity\": 0.9}, \"name\": \"Disagree\", \"orientation\": \"h\", \"text\": [16.0, 15.0, 11.0, 18.0], \"type\": \"bar\", \"width\": 0.5, \"x\": [16, 15, 11, 18], \"y\": [\"The course was effectively<br>organized\", \"The course developed my<br>abilities and skills for<br>the subject\", \"The course developed my<br>ability to think critically about<br>the subject\", \"I would recommend this<br>course to a friend\"]}, {\"marker\": {\"line\": {\"color\": \"#2C3347\", \"width\": 1}, \"opacity\": 0.9}, \"name\": \"Strongly disagree\", \"orientation\": \"h\", \"text\": [12.0, 11.0, 13.0, 14.0], \"type\": \"bar\", \"width\": 0.5, \"x\": [12, 11, 13, 14], \"y\": [\"The course was effectively<br>organized\", \"The course developed my<br>abilities and skills for<br>the subject\", \"The course developed my<br>ability to think critically about<br>the subject\", \"I would recommend this<br>course to a friend\"]}],\n",
       "                        {\"annotations\": [{\"font\": {\"color\": \"lightgrey\", \"family\": \"sans-serif\", \"size\": 15}, \"showarrow\": false, \"text\": \"Strongly agree\", \"textangle\": 0, \"x\": 14.5, \"xref\": \"x\", \"y\": 1, \"yref\": \"paper\"}, {\"font\": {\"color\": \"lightgrey\", \"family\": \"sans-serif\", \"size\": 15}, \"showarrow\": false, \"text\": \"Agree\", \"textangle\": 0, \"x\": 41.0, \"xref\": \"x\", \"y\": 1, \"yref\": \"paper\"}, {\"font\": {\"color\": \"lightgrey\", \"family\": \"sans-serif\", \"size\": 15}, \"showarrow\": false, \"text\": \"Neutral\", \"textangle\": 0, \"x\": 60.5, \"xref\": \"x\", \"y\": 1, \"yref\": \"paper\"}, {\"font\": {\"color\": \"lightgrey\", \"family\": \"sans-serif\", \"size\": 15}, \"showarrow\": false, \"text\": \"Disagree\", \"textangle\": 0, \"x\": 77.0, \"xref\": \"x\", \"y\": 1, \"yref\": \"paper\"}, {\"font\": {\"color\": \"lightgrey\", \"family\": \"sans-serif\", \"size\": 15}, \"showarrow\": false, \"text\": \"Strongly disagree\", \"textangle\": 0, \"x\": 93.0, \"xref\": \"x\", \"y\": 1, \"yref\": \"paper\"}, {\"font\": {\"color\": \"lightgrey\", \"family\": \"sans-serif\", \"size\": 17}, \"showarrow\": false, \"text\": \"21\", \"x\": 10.5, \"xref\": \"x\", \"y\": \"The course was effectively<br>organized\", \"yref\": \"y\"}, {\"font\": {\"color\": \"lightgrey\", \"family\": \"sans-serif\", \"size\": 17}, \"showarrow\": false, \"text\": \"30\", \"x\": 36.0, \"xref\": \"x\", \"y\": \"The course was effectively<br>organized\", \"yref\": \"y\"}, {\"font\": {\"color\": \"lightgrey\", \"family\": \"sans-serif\", \"size\": 17}, \"showarrow\": false, \"text\": \"21\", \"x\": 61.5, \"xref\": \"x\", \"y\": \"The course was effectively<br>organized\", \"yref\": \"y\"}, {\"font\": {\"color\": \"lightgrey\", \"family\": \"sans-serif\", \"size\": 17}, \"showarrow\": false, \"text\": \"16\", \"x\": 80.0, \"xref\": \"x\", \"y\": \"The course was effectively<br>organized\", \"yref\": \"y\"}, {\"font\": {\"color\": \"lightgrey\", \"family\": \"sans-serif\", \"size\": 17}, \"showarrow\": false, \"text\": \"12\", \"x\": 94.0, \"xref\": \"x\", \"y\": \"The course was effectively<br>organized\", \"yref\": \"y\"}, {\"font\": {\"color\": \"lightgrey\", \"family\": \"sans-serif\", \"size\": 17}, \"showarrow\": false, \"text\": \"24\", \"x\": 12.0, \"xref\": \"x\", \"y\": \"The course developed my<br>abilities and skills for<br>the subject\", \"yref\": \"y\"}, {\"font\": {\"color\": \"lightgrey\", \"family\": \"sans-serif\", \"size\": 17}, \"showarrow\": false, \"text\": \"31\", \"x\": 39.5, \"xref\": \"x\", \"y\": \"The course developed my<br>abilities and skills for<br>the subject\", \"yref\": \"y\"}, {\"font\": {\"color\": \"lightgrey\", \"family\": \"sans-serif\", \"size\": 17}, \"showarrow\": false, \"text\": \"19\", \"x\": 64.5, \"xref\": \"x\", \"y\": \"The course developed my<br>abilities and skills for<br>the subject\", \"yref\": \"y\"}, {\"font\": {\"color\": \"lightgrey\", \"family\": \"sans-serif\", \"size\": 17}, \"showarrow\": false, \"text\": \"15\", \"x\": 81.5, \"xref\": \"x\", \"y\": \"The course developed my<br>abilities and skills for<br>the subject\", \"yref\": \"y\"}, {\"font\": {\"color\": \"lightgrey\", \"family\": \"sans-serif\", \"size\": 17}, \"showarrow\": false, \"text\": \"11\", \"x\": 94.5, \"xref\": \"x\", \"y\": \"The course developed my<br>abilities and skills for<br>the subject\", \"yref\": \"y\"}, {\"font\": {\"color\": \"lightgrey\", \"family\": \"sans-serif\", \"size\": 17}, \"showarrow\": false, \"text\": \"27\", \"x\": 13.5, \"xref\": \"x\", \"y\": \"The course developed my<br>ability to think critically about<br>the subject\", \"yref\": \"y\"}, {\"font\": {\"color\": \"lightgrey\", \"family\": \"sans-serif\", \"size\": 17}, \"showarrow\": false, \"text\": \"26\", \"x\": 40.0, \"xref\": \"x\", \"y\": \"The course developed my<br>ability to think critically about<br>the subject\", \"yref\": \"y\"}, {\"font\": {\"color\": \"lightgrey\", \"family\": \"sans-serif\", \"size\": 17}, \"showarrow\": false, \"text\": \"23\", \"x\": 64.5, \"xref\": \"x\", \"y\": \"The course developed my<br>ability to think critically about<br>the subject\", \"yref\": \"y\"}, {\"font\": {\"color\": \"lightgrey\", \"family\": \"sans-serif\", \"size\": 17}, \"showarrow\": false, \"text\": \"11\", \"x\": 81.5, \"xref\": \"x\", \"y\": \"The course developed my<br>ability to think critically about<br>the subject\", \"yref\": \"y\"}, {\"font\": {\"color\": \"lightgrey\", \"family\": \"sans-serif\", \"size\": 17}, \"showarrow\": false, \"text\": \"13\", \"x\": 93.5, \"xref\": \"x\", \"y\": \"The course developed my<br>ability to think critically about<br>the subject\", \"yref\": \"y\"}, {\"font\": {\"color\": \"lightgrey\", \"family\": \"sans-serif\", \"size\": 17}, \"showarrow\": false, \"text\": \"29\", \"x\": 14.5, \"xref\": \"x\", \"y\": \"I would recommend this<br>course to a friend\", \"yref\": \"y\"}, {\"font\": {\"color\": \"lightgrey\", \"family\": \"sans-serif\", \"size\": 17}, \"showarrow\": false, \"text\": \"24\", \"x\": 41.0, \"xref\": \"x\", \"y\": \"I would recommend this<br>course to a friend\", \"yref\": \"y\"}, {\"font\": {\"color\": \"lightgrey\", \"family\": \"sans-serif\", \"size\": 17}, \"showarrow\": false, \"text\": \"15\", \"x\": 60.5, \"xref\": \"x\", \"y\": \"I would recommend this<br>course to a friend\", \"yref\": \"y\"}, {\"font\": {\"color\": \"lightgrey\", \"family\": \"sans-serif\", \"size\": 17}, \"showarrow\": false, \"text\": \"18\", \"x\": 77.0, \"xref\": \"x\", \"y\": \"I would recommend this<br>course to a friend\", \"yref\": \"y\"}, {\"font\": {\"color\": \"lightgrey\", \"family\": \"sans-serif\", \"size\": 17}, \"showarrow\": false, \"text\": \"14\", \"x\": 93.0, \"xref\": \"x\", \"y\": \"I would recommend this<br>course to a friend\", \"yref\": \"y\"}], \"autosize\": false, \"barmode\": \"stack\", \"colorway\": [\"#55599b\", \"#6269bc\", \"#8387c1\", \"#6068a5\", \"#545f8e\", \"#54698e\"], \"height\": 600, \"legend\": {\"bordercolor\": \"#202534\", \"borderwidth\": 0, \"font\": {\"color\": \"lightgrey\", \"family\": \"sans-serif\", \"size\": 12}, \"orientation\": \"h\", \"traceorder\": \"normal\", \"x\": 0.4, \"xanchor\": \"left\", \"y\": -0.03, \"yanchor\": \"middle\"}, \"margin\": {\"b\": 75, \"l\": 75, \"pad\": 20, \"r\": 50, \"t\": 75}, \"paper_bgcolor\": \"#202534\", \"plot_bgcolor\": \"#202534\", \"template\": {\"data\": {\"bar\": [{\"error_x\": {\"color\": \"#2a3f5f\"}, \"error_y\": {\"color\": \"#2a3f5f\"}, \"marker\": {\"line\": {\"color\": \"#E5ECF6\", \"width\": 0.5}}, \"type\": \"bar\"}], \"barpolar\": [{\"marker\": {\"line\": {\"color\": \"#E5ECF6\", \"width\": 0.5}}, \"type\": \"barpolar\"}], \"carpet\": [{\"aaxis\": {\"endlinecolor\": \"#2a3f5f\", \"gridcolor\": \"white\", \"linecolor\": \"white\", \"minorgridcolor\": \"white\", \"startlinecolor\": \"#2a3f5f\"}, \"baxis\": {\"endlinecolor\": \"#2a3f5f\", \"gridcolor\": \"white\", \"linecolor\": \"white\", \"minorgridcolor\": \"white\", \"startlinecolor\": \"#2a3f5f\"}, \"type\": \"carpet\"}], \"choropleth\": [{\"colorbar\": {\"outlinewidth\": 0, \"ticks\": \"\"}, \"type\": \"choropleth\"}], \"contour\": [{\"colorbar\": {\"outlinewidth\": 0, \"ticks\": \"\"}, \"colorscale\": [[0.0, \"#0d0887\"], [0.1111111111111111, \"#46039f\"], [0.2222222222222222, \"#7201a8\"], [0.3333333333333333, \"#9c179e\"], [0.4444444444444444, \"#bd3786\"], [0.5555555555555556, \"#d8576b\"], [0.6666666666666666, \"#ed7953\"], [0.7777777777777778, \"#fb9f3a\"], [0.8888888888888888, \"#fdca26\"], [1.0, \"#f0f921\"]], \"type\": \"contour\"}], \"contourcarpet\": [{\"colorbar\": {\"outlinewidth\": 0, \"ticks\": \"\"}, \"type\": \"contourcarpet\"}], \"heatmap\": [{\"colorbar\": {\"outlinewidth\": 0, \"ticks\": \"\"}, \"colorscale\": [[0.0, \"#0d0887\"], [0.1111111111111111, \"#46039f\"], [0.2222222222222222, \"#7201a8\"], [0.3333333333333333, \"#9c179e\"], [0.4444444444444444, \"#bd3786\"], [0.5555555555555556, \"#d8576b\"], [0.6666666666666666, \"#ed7953\"], [0.7777777777777778, \"#fb9f3a\"], [0.8888888888888888, \"#fdca26\"], [1.0, \"#f0f921\"]], \"type\": \"heatmap\"}], \"heatmapgl\": [{\"colorbar\": {\"outlinewidth\": 0, \"ticks\": \"\"}, \"colorscale\": [[0.0, \"#0d0887\"], [0.1111111111111111, \"#46039f\"], [0.2222222222222222, \"#7201a8\"], [0.3333333333333333, \"#9c179e\"], [0.4444444444444444, \"#bd3786\"], [0.5555555555555556, \"#d8576b\"], [0.6666666666666666, \"#ed7953\"], [0.7777777777777778, \"#fb9f3a\"], [0.8888888888888888, \"#fdca26\"], [1.0, \"#f0f921\"]], \"type\": \"heatmapgl\"}], \"histogram\": [{\"marker\": {\"colorbar\": {\"outlinewidth\": 0, \"ticks\": \"\"}}, \"type\": \"histogram\"}], \"histogram2d\": [{\"colorbar\": {\"outlinewidth\": 0, \"ticks\": \"\"}, \"colorscale\": [[0.0, \"#0d0887\"], [0.1111111111111111, \"#46039f\"], [0.2222222222222222, \"#7201a8\"], [0.3333333333333333, \"#9c179e\"], [0.4444444444444444, \"#bd3786\"], [0.5555555555555556, \"#d8576b\"], [0.6666666666666666, \"#ed7953\"], [0.7777777777777778, \"#fb9f3a\"], [0.8888888888888888, \"#fdca26\"], [1.0, \"#f0f921\"]], \"type\": \"histogram2d\"}], \"histogram2dcontour\": [{\"colorbar\": {\"outlinewidth\": 0, \"ticks\": \"\"}, \"colorscale\": [[0.0, \"#0d0887\"], [0.1111111111111111, \"#46039f\"], [0.2222222222222222, \"#7201a8\"], [0.3333333333333333, \"#9c179e\"], [0.4444444444444444, \"#bd3786\"], [0.5555555555555556, \"#d8576b\"], [0.6666666666666666, \"#ed7953\"], [0.7777777777777778, \"#fb9f3a\"], [0.8888888888888888, \"#fdca26\"], [1.0, \"#f0f921\"]], \"type\": \"histogram2dcontour\"}], \"mesh3d\": [{\"colorbar\": {\"outlinewidth\": 0, \"ticks\": \"\"}, \"type\": \"mesh3d\"}], \"parcoords\": [{\"line\": {\"colorbar\": {\"outlinewidth\": 0, \"ticks\": \"\"}}, \"type\": \"parcoords\"}], \"pie\": [{\"automargin\": true, \"type\": \"pie\"}], \"scatter\": [{\"marker\": {\"colorbar\": {\"outlinewidth\": 0, \"ticks\": \"\"}}, \"type\": \"scatter\"}], \"scatter3d\": [{\"line\": {\"colorbar\": {\"outlinewidth\": 0, \"ticks\": \"\"}}, \"marker\": {\"colorbar\": {\"outlinewidth\": 0, \"ticks\": \"\"}}, \"type\": \"scatter3d\"}], \"scattercarpet\": [{\"marker\": {\"colorbar\": {\"outlinewidth\": 0, \"ticks\": \"\"}}, \"type\": \"scattercarpet\"}], \"scattergeo\": [{\"marker\": {\"colorbar\": {\"outlinewidth\": 0, \"ticks\": \"\"}}, \"type\": \"scattergeo\"}], \"scattergl\": [{\"marker\": {\"colorbar\": {\"outlinewidth\": 0, \"ticks\": \"\"}}, \"type\": \"scattergl\"}], \"scattermapbox\": [{\"marker\": {\"colorbar\": {\"outlinewidth\": 0, \"ticks\": \"\"}}, \"type\": \"scattermapbox\"}], \"scatterpolar\": [{\"marker\": {\"colorbar\": {\"outlinewidth\": 0, \"ticks\": \"\"}}, \"type\": \"scatterpolar\"}], \"scatterpolargl\": [{\"marker\": {\"colorbar\": {\"outlinewidth\": 0, \"ticks\": \"\"}}, \"type\": \"scatterpolargl\"}], \"scatterternary\": [{\"marker\": {\"colorbar\": {\"outlinewidth\": 0, \"ticks\": \"\"}}, \"type\": \"scatterternary\"}], \"surface\": [{\"colorbar\": {\"outlinewidth\": 0, \"ticks\": \"\"}, \"colorscale\": [[0.0, \"#0d0887\"], [0.1111111111111111, \"#46039f\"], [0.2222222222222222, \"#7201a8\"], [0.3333333333333333, \"#9c179e\"], [0.4444444444444444, \"#bd3786\"], [0.5555555555555556, \"#d8576b\"], [0.6666666666666666, \"#ed7953\"], [0.7777777777777778, \"#fb9f3a\"], [0.8888888888888888, \"#fdca26\"], [1.0, \"#f0f921\"]], \"type\": \"surface\"}], \"table\": [{\"cells\": {\"fill\": {\"color\": \"#EBF0F8\"}, \"line\": {\"color\": \"white\"}}, \"header\": {\"fill\": {\"color\": \"#C8D4E3\"}, \"line\": {\"color\": \"white\"}}, \"type\": \"table\"}]}, \"layout\": {\"annotationdefaults\": {\"arrowcolor\": \"#2a3f5f\", \"arrowhead\": 0, \"arrowwidth\": 1}, \"coloraxis\": {\"colorbar\": {\"outlinewidth\": 0, \"ticks\": \"\"}}, \"colorscale\": {\"diverging\": [[0, \"#8e0152\"], [0.1, \"#c51b7d\"], [0.2, \"#de77ae\"], [0.3, \"#f1b6da\"], [0.4, \"#fde0ef\"], [0.5, \"#f7f7f7\"], [0.6, \"#e6f5d0\"], [0.7, \"#b8e186\"], [0.8, \"#7fbc41\"], [0.9, \"#4d9221\"], [1, \"#276419\"]], \"sequential\": [[0.0, \"#0d0887\"], [0.1111111111111111, \"#46039f\"], [0.2222222222222222, \"#7201a8\"], [0.3333333333333333, \"#9c179e\"], [0.4444444444444444, \"#bd3786\"], [0.5555555555555556, \"#d8576b\"], [0.6666666666666666, \"#ed7953\"], [0.7777777777777778, \"#fb9f3a\"], [0.8888888888888888, \"#fdca26\"], [1.0, \"#f0f921\"]], \"sequentialminus\": [[0.0, \"#0d0887\"], [0.1111111111111111, \"#46039f\"], [0.2222222222222222, \"#7201a8\"], [0.3333333333333333, \"#9c179e\"], [0.4444444444444444, \"#bd3786\"], [0.5555555555555556, \"#d8576b\"], [0.6666666666666666, \"#ed7953\"], [0.7777777777777778, \"#fb9f3a\"], [0.8888888888888888, \"#fdca26\"], [1.0, \"#f0f921\"]]}, \"colorway\": [\"#636efa\", \"#EF553B\", \"#00cc96\", \"#ab63fa\", \"#FFA15A\", \"#19d3f3\", \"#FF6692\", \"#B6E880\", \"#FF97FF\", \"#FECB52\"], \"font\": {\"color\": \"#2a3f5f\"}, \"geo\": {\"bgcolor\": \"white\", \"lakecolor\": \"white\", \"landcolor\": \"#E5ECF6\", \"showlakes\": true, \"showland\": true, \"subunitcolor\": \"white\"}, \"hoverlabel\": {\"align\": \"left\"}, \"hovermode\": \"closest\", \"mapbox\": {\"style\": \"light\"}, \"paper_bgcolor\": \"white\", \"plot_bgcolor\": \"#E5ECF6\", \"polar\": {\"angularaxis\": {\"gridcolor\": \"white\", \"linecolor\": \"white\", \"ticks\": \"\"}, \"bgcolor\": \"#E5ECF6\", \"radialaxis\": {\"gridcolor\": \"white\", \"linecolor\": \"white\", \"ticks\": \"\"}}, \"scene\": {\"xaxis\": {\"backgroundcolor\": \"#E5ECF6\", \"gridcolor\": \"white\", \"gridwidth\": 2, \"linecolor\": \"white\", \"showbackground\": true, \"ticks\": \"\", \"zerolinecolor\": \"white\"}, \"yaxis\": {\"backgroundcolor\": \"#E5ECF6\", \"gridcolor\": \"white\", \"gridwidth\": 2, \"linecolor\": \"white\", \"showbackground\": true, \"ticks\": \"\", \"zerolinecolor\": \"white\"}, \"zaxis\": {\"backgroundcolor\": \"#E5ECF6\", \"gridcolor\": \"white\", \"gridwidth\": 2, \"linecolor\": \"white\", \"showbackground\": true, \"ticks\": \"\", \"zerolinecolor\": \"white\"}}, \"shapedefaults\": {\"line\": {\"color\": \"#2a3f5f\"}}, \"ternary\": {\"aaxis\": {\"gridcolor\": \"white\", \"linecolor\": \"white\", \"ticks\": \"\"}, \"baxis\": {\"gridcolor\": \"white\", \"linecolor\": \"white\", \"ticks\": \"\"}, \"bgcolor\": \"#E5ECF6\", \"caxis\": {\"gridcolor\": \"white\", \"linecolor\": \"white\", \"ticks\": \"\"}}, \"title\": {\"x\": 0.05}, \"xaxis\": {\"automargin\": true, \"gridcolor\": \"white\", \"linecolor\": \"white\", \"ticks\": \"\", \"title\": {\"standoff\": 15}, \"zerolinecolor\": \"white\", \"zerolinewidth\": 2}, \"yaxis\": {\"automargin\": true, \"gridcolor\": \"white\", \"linecolor\": \"white\", \"ticks\": \"\", \"title\": {\"standoff\": 15}, \"zerolinecolor\": \"white\", \"zerolinewidth\": 2}}}, \"title\": {\"font\": {\"color\": \"lightgrey\", \"family\": \"sans-serif\", \"size\": 24}, \"text\": \"\", \"x\": 0.5}, \"width\": 1200, \"xaxis\": {\"autorange\": true, \"color\": \"lightgrey\", \"dtick\": 1, \"gridcolor\": \"#343846\", \"gridwidth\": 0.5, \"showgrid\": false, \"showline\": false, \"showticklabels\": false, \"tickfont\": {\"color\": \"lightgrey\", \"size\": 13}, \"tickformat\": \"\", \"tickmode\": \"auto\", \"title\": {\"font\": {\"color\": \"lightgrey\", \"family\": \"sans-serif\", \"size\": 18}, \"text\": \"\"}, \"type\": \"-\", \"zeroline\": false, \"zerolinecolor\": \"grey\"}, \"yaxis\": {\"autorange\": true, \"color\": \"lightgrey\", \"dtick\": 1, \"gridcolor\": \"#343846\", \"gridwidth\": 0.5, \"showgrid\": false, \"showline\": false, \"showticklabels\": true, \"tickfont\": {\"color\": \"lightgrey\", \"size\": 16}, \"tickformat\": \"\", \"tickmode\": \"auto\", \"ticks\": \"\", \"title\": {\"font\": {\"color\": \"lightgrey\", \"family\": \"sans-serif\", \"size\": 18}, \"text\": \"\"}, \"type\": \"-\", \"zeroline\": true, \"zerolinecolor\": \"grey\"}},\n",
       "                        {\"responsive\": true}\n",
       "                    ).then(function(){\n",
       "                            \n",
       "var gd = document.getElementById('f8ab440c-8f40-45fe-b729-d33882e59a15');\n",
       "var x = new MutationObserver(function (mutations, observer) {{\n",
       "        var display = window.getComputedStyle(gd).display;\n",
       "        if (!display || display === 'none') {{\n",
       "            console.log([gd, 'removed!']);\n",
       "            Plotly.purge(gd);\n",
       "            observer.disconnect();\n",
       "        }}\n",
       "}});\n",
       "\n",
       "// Listen for the removal of the full notebook cells\n",
       "var notebookContainer = gd.closest('#notebook-container');\n",
       "if (notebookContainer) {{\n",
       "    x.observe(notebookContainer, {childList: true});\n",
       "}}\n",
       "\n",
       "// Listen for the clearing of the current output cell\n",
       "var outputEl = gd.closest('.output');\n",
       "if (outputEl) {{\n",
       "    x.observe(outputEl, {childList: true});\n",
       "}}\n",
       "\n",
       "                        })\n",
       "                };\n",
       "                });\n",
       "            </script>\n",
       "        </div>"
      ]
     },
     "metadata": {},
     "output_type": "display_data"
    }
   ],
   "source": [
    "top_labels = ['Strongly agree', 'Agree', 'Neutral', 'Disagree', 'Strongly disagree']\n",
    "\n",
    "x_data = [[21, 30, 21, 16, 12],\n",
    "          [24, 31, 19, 15, 11],\n",
    "          [27, 26, 23, 11, 13],\n",
    "          [29, 24, 15, 18, 14]]\n",
    "\n",
    "\n",
    "y_data = ['The course was effectively<br>organized',\n",
    "          'The course developed my<br>abilities and skills ' +\n",
    "          'for<br>the subject', 'The course developed ' +\n",
    "          'my<br>ability to think critically about<br>the subject',\n",
    "          'I would recommend this<br>course to a friend']\n",
    "\n",
    "data = pd.DataFrame(data=x_data, columns=top_labels, index=y_data)\n",
    "\n",
    "colors = chart.palette(palette='standard', palette_type='light', reverse=True, start_pos=2)\n",
    "\n",
    "layout = chart.layout(width=1200, xaxis_showticklabels=False, yaxis_ticksize=16,\n",
    "                      pad=20, legend_y=-0.03, legend_x=0.35, legend_orientation='h',\n",
    "                      legend_traceorder='normal', yaxis_showgrid=False, \n",
    "                      palette=colors)\n",
    "annotations = chart.add_headings(df=data, font_size=15, orientation='h')\n",
    "annotations.extend(chart.add_bar_values(df=data, font_size=17,orientation='h' ))\n",
    "chart.bar(data, mode='stack', orientation='h', layout=layout, annotations=annotations)"
   ]
  },
  {
   "cell_type": "code",
   "execution_count": null,
   "metadata": {},
   "outputs": [],
   "source": []
  },
  {
   "cell_type": "code",
   "execution_count": null,
   "metadata": {},
   "outputs": [],
   "source": []
  }
 ],
 "metadata": {
  "kernelspec": {
   "display_name": "Python 3.8.2 64-bit ('plotly_chart_builder_env': conda)",
   "language": "python",
   "name": "python38264bitplotlychartbuilderenvconda2b63a576baa047d3b608b03efd0184d5"
  },
  "language_info": {
   "codemirror_mode": {
    "name": "ipython",
    "version": 3
   },
   "file_extension": ".py",
   "mimetype": "text/x-python",
   "name": "python",
   "nbconvert_exporter": "python",
   "pygments_lexer": "ipython3",
   "version": "3.8.2"
  },
  "latex_envs": {
   "LaTeX_envs_menu_present": true,
   "autoclose": true,
   "autocomplete": true,
   "bibliofile": "biblio.bib",
   "cite_by": "apalike",
   "current_citInitial": 1,
   "eqLabelWithNumbers": true,
   "eqNumInitial": 1,
   "hotkeys": {
    "equation": "Ctrl-E",
    "itemize": "Ctrl-I"
   },
   "labels_anchors": false,
   "latex_user_defs": false,
   "report_style_numbering": false,
   "user_envs_cfg": false
  },
  "toc": {
   "base_numbering": 1,
   "nav_menu": {},
   "number_sections": true,
   "sideBar": false,
   "skip_h1_title": false,
   "title_cell": "Table of Contents",
   "title_sidebar": "Contents",
   "toc_cell": true,
   "toc_position": {},
   "toc_section_display": true,
   "toc_window_display": false
  }
 },
 "nbformat": 4,
 "nbformat_minor": 2
}
