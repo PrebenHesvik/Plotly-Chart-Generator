{
 "cells": [
  {
   "cell_type": "code",
   "execution_count": 1,
   "metadata": {},
   "outputs": [
    {
     "output_type": "display_data",
     "data": {
      "text/html": "        <script type=\"text/javascript\">\n        window.PlotlyConfig = {MathJaxConfig: 'local'};\n        if (window.MathJax) {MathJax.Hub.Config({SVG: {font: \"STIX-Web\"}});}\n        if (typeof require !== 'undefined') {\n        require.undef(\"plotly\");\n        requirejs.config({\n            paths: {\n                'plotly': ['https://cdn.plot.ly/plotly-latest.min']\n            }\n        });\n        require(['plotly'], function(Plotly) {\n            window._Plotly = Plotly;\n        });\n        }\n        </script>\n        "
     },
     "metadata": {}
    }
   ],
   "source": [
    "import os\n",
    "import sys\n",
    "import pandas as pd\n",
    "import numpy as np\n",
    "module_path = os.path.abspath(os.path.join('..'))\n",
    "if module_path not in sys.path:\n",
    "    sys.path.append(module_path)\n",
    "\n",
    "from plotly_chart_builder.plotly_chart_builder import PlotlyChart\n",
    "\n",
    "chart = PlotlyChart()"
   ]
  },
  {
   "cell_type": "markdown",
   "metadata": {},
   "source": [
    "## Sunburst"
   ]
  },
  {
   "cell_type": "code",
   "execution_count": 2,
   "metadata": {},
   "outputs": [
    {
     "output_type": "display_data",
     "data": {
      "application/vnd.plotly.v1+json": {
       "config": {
        "linkText": "Export to plot.ly",
        "plotlyServerURL": "https://plot.ly",
        "showLink": false
       },
       "data": [
        {
         "labels": [
          "Eve",
          "Cain",
          "Seth",
          "Enos",
          "Noam",
          "Abel",
          "Awan",
          "Enoch",
          "Azura"
         ],
         "parents": [
          "",
          "Eve",
          "Eve",
          "Seth",
          "Seth",
          "Eve",
          "Eve",
          "Awan",
          "Eve"
         ],
         "type": "sunburst",
         "values": [
          10,
          14,
          12,
          10,
          2,
          6,
          6,
          4,
          4
         ]
        }
       ],
       "layout": {
        "autosize": false,
        "height": 600,
        "legend": {
         "bordercolor": "#202534",
         "borderwidth": 0,
         "font": {
          "color": "lightgrey",
          "family": "sans-serif",
          "size": 12
         },
         "orientation": "v",
         "traceorder": "normal",
         "x": 1.02,
         "xanchor": "left",
         "y": 1,
         "yanchor": "middle"
        },
        "margin": {
         "b": 75,
         "l": 75,
         "pad": 10,
         "r": 50,
         "t": 75
        },
        "paper_bgcolor": "#202534",
        "plot_bgcolor": "#202534",
        "template": {
         "data": {
          "bar": [
           {
            "error_x": {
             "color": "#2a3f5f"
            },
            "error_y": {
             "color": "#2a3f5f"
            },
            "marker": {
             "line": {
              "color": "#E5ECF6",
              "width": 0.5
             }
            },
            "type": "bar"
           }
          ],
          "barpolar": [
           {
            "marker": {
             "line": {
              "color": "#E5ECF6",
              "width": 0.5
             }
            },
            "type": "barpolar"
           }
          ],
          "carpet": [
           {
            "aaxis": {
             "endlinecolor": "#2a3f5f",
             "gridcolor": "white",
             "linecolor": "white",
             "minorgridcolor": "white",
             "startlinecolor": "#2a3f5f"
            },
            "baxis": {
             "endlinecolor": "#2a3f5f",
             "gridcolor": "white",
             "linecolor": "white",
             "minorgridcolor": "white",
             "startlinecolor": "#2a3f5f"
            },
            "type": "carpet"
           }
          ],
          "choropleth": [
           {
            "colorbar": {
             "outlinewidth": 0,
             "ticks": ""
            },
            "type": "choropleth"
           }
          ],
          "contour": [
           {
            "colorbar": {
             "outlinewidth": 0,
             "ticks": ""
            },
            "colorscale": [
             [
              0,
              "#0d0887"
             ],
             [
              0.1111111111111111,
              "#46039f"
             ],
             [
              0.2222222222222222,
              "#7201a8"
             ],
             [
              0.3333333333333333,
              "#9c179e"
             ],
             [
              0.4444444444444444,
              "#bd3786"
             ],
             [
              0.5555555555555556,
              "#d8576b"
             ],
             [
              0.6666666666666666,
              "#ed7953"
             ],
             [
              0.7777777777777778,
              "#fb9f3a"
             ],
             [
              0.8888888888888888,
              "#fdca26"
             ],
             [
              1,
              "#f0f921"
             ]
            ],
            "type": "contour"
           }
          ],
          "contourcarpet": [
           {
            "colorbar": {
             "outlinewidth": 0,
             "ticks": ""
            },
            "type": "contourcarpet"
           }
          ],
          "heatmap": [
           {
            "colorbar": {
             "outlinewidth": 0,
             "ticks": ""
            },
            "colorscale": [
             [
              0,
              "#0d0887"
             ],
             [
              0.1111111111111111,
              "#46039f"
             ],
             [
              0.2222222222222222,
              "#7201a8"
             ],
             [
              0.3333333333333333,
              "#9c179e"
             ],
             [
              0.4444444444444444,
              "#bd3786"
             ],
             [
              0.5555555555555556,
              "#d8576b"
             ],
             [
              0.6666666666666666,
              "#ed7953"
             ],
             [
              0.7777777777777778,
              "#fb9f3a"
             ],
             [
              0.8888888888888888,
              "#fdca26"
             ],
             [
              1,
              "#f0f921"
             ]
            ],
            "type": "heatmap"
           }
          ],
          "heatmapgl": [
           {
            "colorbar": {
             "outlinewidth": 0,
             "ticks": ""
            },
            "colorscale": [
             [
              0,
              "#0d0887"
             ],
             [
              0.1111111111111111,
              "#46039f"
             ],
             [
              0.2222222222222222,
              "#7201a8"
             ],
             [
              0.3333333333333333,
              "#9c179e"
             ],
             [
              0.4444444444444444,
              "#bd3786"
             ],
             [
              0.5555555555555556,
              "#d8576b"
             ],
             [
              0.6666666666666666,
              "#ed7953"
             ],
             [
              0.7777777777777778,
              "#fb9f3a"
             ],
             [
              0.8888888888888888,
              "#fdca26"
             ],
             [
              1,
              "#f0f921"
             ]
            ],
            "type": "heatmapgl"
           }
          ],
          "histogram": [
           {
            "marker": {
             "colorbar": {
              "outlinewidth": 0,
              "ticks": ""
             }
            },
            "type": "histogram"
           }
          ],
          "histogram2d": [
           {
            "colorbar": {
             "outlinewidth": 0,
             "ticks": ""
            },
            "colorscale": [
             [
              0,
              "#0d0887"
             ],
             [
              0.1111111111111111,
              "#46039f"
             ],
             [
              0.2222222222222222,
              "#7201a8"
             ],
             [
              0.3333333333333333,
              "#9c179e"
             ],
             [
              0.4444444444444444,
              "#bd3786"
             ],
             [
              0.5555555555555556,
              "#d8576b"
             ],
             [
              0.6666666666666666,
              "#ed7953"
             ],
             [
              0.7777777777777778,
              "#fb9f3a"
             ],
             [
              0.8888888888888888,
              "#fdca26"
             ],
             [
              1,
              "#f0f921"
             ]
            ],
            "type": "histogram2d"
           }
          ],
          "histogram2dcontour": [
           {
            "colorbar": {
             "outlinewidth": 0,
             "ticks": ""
            },
            "colorscale": [
             [
              0,
              "#0d0887"
             ],
             [
              0.1111111111111111,
              "#46039f"
             ],
             [
              0.2222222222222222,
              "#7201a8"
             ],
             [
              0.3333333333333333,
              "#9c179e"
             ],
             [
              0.4444444444444444,
              "#bd3786"
             ],
             [
              0.5555555555555556,
              "#d8576b"
             ],
             [
              0.6666666666666666,
              "#ed7953"
             ],
             [
              0.7777777777777778,
              "#fb9f3a"
             ],
             [
              0.8888888888888888,
              "#fdca26"
             ],
             [
              1,
              "#f0f921"
             ]
            ],
            "type": "histogram2dcontour"
           }
          ],
          "mesh3d": [
           {
            "colorbar": {
             "outlinewidth": 0,
             "ticks": ""
            },
            "type": "mesh3d"
           }
          ],
          "parcoords": [
           {
            "line": {
             "colorbar": {
              "outlinewidth": 0,
              "ticks": ""
             }
            },
            "type": "parcoords"
           }
          ],
          "pie": [
           {
            "automargin": true,
            "type": "pie"
           }
          ],
          "scatter": [
           {
            "marker": {
             "colorbar": {
              "outlinewidth": 0,
              "ticks": ""
             }
            },
            "type": "scatter"
           }
          ],
          "scatter3d": [
           {
            "line": {
             "colorbar": {
              "outlinewidth": 0,
              "ticks": ""
             }
            },
            "marker": {
             "colorbar": {
              "outlinewidth": 0,
              "ticks": ""
             }
            },
            "type": "scatter3d"
           }
          ],
          "scattercarpet": [
           {
            "marker": {
             "colorbar": {
              "outlinewidth": 0,
              "ticks": ""
             }
            },
            "type": "scattercarpet"
           }
          ],
          "scattergeo": [
           {
            "marker": {
             "colorbar": {
              "outlinewidth": 0,
              "ticks": ""
             }
            },
            "type": "scattergeo"
           }
          ],
          "scattergl": [
           {
            "marker": {
             "colorbar": {
              "outlinewidth": 0,
              "ticks": ""
             }
            },
            "type": "scattergl"
           }
          ],
          "scattermapbox": [
           {
            "marker": {
             "colorbar": {
              "outlinewidth": 0,
              "ticks": ""
             }
            },
            "type": "scattermapbox"
           }
          ],
          "scatterpolar": [
           {
            "marker": {
             "colorbar": {
              "outlinewidth": 0,
              "ticks": ""
             }
            },
            "type": "scatterpolar"
           }
          ],
          "scatterpolargl": [
           {
            "marker": {
             "colorbar": {
              "outlinewidth": 0,
              "ticks": ""
             }
            },
            "type": "scatterpolargl"
           }
          ],
          "scatterternary": [
           {
            "marker": {
             "colorbar": {
              "outlinewidth": 0,
              "ticks": ""
             }
            },
            "type": "scatterternary"
           }
          ],
          "surface": [
           {
            "colorbar": {
             "outlinewidth": 0,
             "ticks": ""
            },
            "colorscale": [
             [
              0,
              "#0d0887"
             ],
             [
              0.1111111111111111,
              "#46039f"
             ],
             [
              0.2222222222222222,
              "#7201a8"
             ],
             [
              0.3333333333333333,
              "#9c179e"
             ],
             [
              0.4444444444444444,
              "#bd3786"
             ],
             [
              0.5555555555555556,
              "#d8576b"
             ],
             [
              0.6666666666666666,
              "#ed7953"
             ],
             [
              0.7777777777777778,
              "#fb9f3a"
             ],
             [
              0.8888888888888888,
              "#fdca26"
             ],
             [
              1,
              "#f0f921"
             ]
            ],
            "type": "surface"
           }
          ],
          "table": [
           {
            "cells": {
             "fill": {
              "color": "#EBF0F8"
             },
             "line": {
              "color": "white"
             }
            },
            "header": {
             "fill": {
              "color": "#C8D4E3"
             },
             "line": {
              "color": "white"
             }
            },
            "type": "table"
           }
          ]
         },
         "layout": {
          "annotationdefaults": {
           "arrowcolor": "#2a3f5f",
           "arrowhead": 0,
           "arrowwidth": 1
          },
          "coloraxis": {
           "colorbar": {
            "outlinewidth": 0,
            "ticks": ""
           }
          },
          "colorscale": {
           "diverging": [
            [
             0,
             "#8e0152"
            ],
            [
             0.1,
             "#c51b7d"
            ],
            [
             0.2,
             "#de77ae"
            ],
            [
             0.3,
             "#f1b6da"
            ],
            [
             0.4,
             "#fde0ef"
            ],
            [
             0.5,
             "#f7f7f7"
            ],
            [
             0.6,
             "#e6f5d0"
            ],
            [
             0.7,
             "#b8e186"
            ],
            [
             0.8,
             "#7fbc41"
            ],
            [
             0.9,
             "#4d9221"
            ],
            [
             1,
             "#276419"
            ]
           ],
           "sequential": [
            [
             0,
             "#0d0887"
            ],
            [
             0.1111111111111111,
             "#46039f"
            ],
            [
             0.2222222222222222,
             "#7201a8"
            ],
            [
             0.3333333333333333,
             "#9c179e"
            ],
            [
             0.4444444444444444,
             "#bd3786"
            ],
            [
             0.5555555555555556,
             "#d8576b"
            ],
            [
             0.6666666666666666,
             "#ed7953"
            ],
            [
             0.7777777777777778,
             "#fb9f3a"
            ],
            [
             0.8888888888888888,
             "#fdca26"
            ],
            [
             1,
             "#f0f921"
            ]
           ],
           "sequentialminus": [
            [
             0,
             "#0d0887"
            ],
            [
             0.1111111111111111,
             "#46039f"
            ],
            [
             0.2222222222222222,
             "#7201a8"
            ],
            [
             0.3333333333333333,
             "#9c179e"
            ],
            [
             0.4444444444444444,
             "#bd3786"
            ],
            [
             0.5555555555555556,
             "#d8576b"
            ],
            [
             0.6666666666666666,
             "#ed7953"
            ],
            [
             0.7777777777777778,
             "#fb9f3a"
            ],
            [
             0.8888888888888888,
             "#fdca26"
            ],
            [
             1,
             "#f0f921"
            ]
           ]
          },
          "colorway": [
           "#636efa",
           "#EF553B",
           "#00cc96",
           "#ab63fa",
           "#FFA15A",
           "#19d3f3",
           "#FF6692",
           "#B6E880",
           "#FF97FF",
           "#FECB52"
          ],
          "font": {
           "color": "#2a3f5f"
          },
          "geo": {
           "bgcolor": "white",
           "lakecolor": "white",
           "landcolor": "#E5ECF6",
           "showlakes": true,
           "showland": true,
           "subunitcolor": "white"
          },
          "hoverlabel": {
           "align": "left"
          },
          "hovermode": "closest",
          "mapbox": {
           "style": "light"
          },
          "paper_bgcolor": "white",
          "plot_bgcolor": "#E5ECF6",
          "polar": {
           "angularaxis": {
            "gridcolor": "white",
            "linecolor": "white",
            "ticks": ""
           },
           "bgcolor": "#E5ECF6",
           "radialaxis": {
            "gridcolor": "white",
            "linecolor": "white",
            "ticks": ""
           }
          },
          "scene": {
           "xaxis": {
            "backgroundcolor": "#E5ECF6",
            "gridcolor": "white",
            "gridwidth": 2,
            "linecolor": "white",
            "showbackground": true,
            "ticks": "",
            "zerolinecolor": "white"
           },
           "yaxis": {
            "backgroundcolor": "#E5ECF6",
            "gridcolor": "white",
            "gridwidth": 2,
            "linecolor": "white",
            "showbackground": true,
            "ticks": "",
            "zerolinecolor": "white"
           },
           "zaxis": {
            "backgroundcolor": "#E5ECF6",
            "gridcolor": "white",
            "gridwidth": 2,
            "linecolor": "white",
            "showbackground": true,
            "ticks": "",
            "zerolinecolor": "white"
           }
          },
          "shapedefaults": {
           "line": {
            "color": "#2a3f5f"
           }
          },
          "ternary": {
           "aaxis": {
            "gridcolor": "white",
            "linecolor": "white",
            "ticks": ""
           },
           "baxis": {
            "gridcolor": "white",
            "linecolor": "white",
            "ticks": ""
           },
           "bgcolor": "#E5ECF6",
           "caxis": {
            "gridcolor": "white",
            "linecolor": "white",
            "ticks": ""
           }
          },
          "title": {
           "x": 0.05
          },
          "xaxis": {
           "automargin": true,
           "gridcolor": "white",
           "linecolor": "white",
           "ticks": "",
           "title": {
            "standoff": 15
           },
           "zerolinecolor": "white",
           "zerolinewidth": 2
          },
          "yaxis": {
           "automargin": true,
           "gridcolor": "white",
           "linecolor": "white",
           "ticks": "",
           "title": {
            "standoff": 15
           },
           "zerolinecolor": "white",
           "zerolinewidth": 2
          }
         }
        },
        "title": {
         "font": {
          "color": "lightgrey",
          "family": "sans-serif",
          "size": 24
         },
         "text": "",
         "x": 0.5
        },
        "width": 800,
        "xaxis": {
         "autorange": true,
         "color": "lightgrey",
         "dtick": 1,
         "gridcolor": "#343846",
         "gridwidth": 0.5,
         "showgrid": false,
         "showline": false,
         "showticklabels": true,
         "tickfont": {
          "color": "lightgrey",
          "size": 13
         },
         "tickformat": "",
         "tickmode": "auto",
         "title": {
          "font": {
           "color": "lightgrey",
           "family": "sans-serif",
           "size": 18
          },
          "text": ""
         },
         "type": "-",
         "zeroline": false,
         "zerolinecolor": "grey"
        },
        "yaxis": {
         "autorange": true,
         "color": "lightgrey",
         "dtick": 1,
         "gridcolor": "#343846",
         "gridwidth": 0.5,
         "showgrid": true,
         "showline": false,
         "showticklabels": true,
         "tickfont": {
          "color": "lightgrey",
          "size": 13
         },
         "tickformat": "",
         "tickmode": "auto",
         "ticks": "",
         "title": {
          "font": {
           "color": "lightgrey",
           "family": "sans-serif",
           "size": 18
          },
          "text": ""
         },
         "type": "-",
         "zeroline": true,
         "zerolinecolor": "grey"
        }
       }
      },
      "text/html": "<div>\n        \n        \n            <div id=\"49882d92-631f-4d3f-814c-a947ca8b7951\" class=\"plotly-graph-div\" style=\"height:600px; width:800px;\"></div>\n            <script type=\"text/javascript\">\n                require([\"plotly\"], function(Plotly) {\n                    window.PLOTLYENV=window.PLOTLYENV || {};\n                    \n                if (document.getElementById(\"49882d92-631f-4d3f-814c-a947ca8b7951\")) {\n                    Plotly.newPlot(\n                        '49882d92-631f-4d3f-814c-a947ca8b7951',\n                        [{\"labels\": [\"Eve\", \"Cain\", \"Seth\", \"Enos\", \"Noam\", \"Abel\", \"Awan\", \"Enoch\", \"Azura\"], \"parents\": [\"\", \"Eve\", \"Eve\", \"Seth\", \"Seth\", \"Eve\", \"Eve\", \"Awan\", \"Eve\"], \"type\": \"sunburst\", \"values\": [10, 14, 12, 10, 2, 6, 6, 4, 4]}],\n                        {\"autosize\": false, \"height\": 600, \"legend\": {\"bordercolor\": \"#202534\", \"borderwidth\": 0, \"font\": {\"color\": \"lightgrey\", \"family\": \"sans-serif\", \"size\": 12}, \"orientation\": \"v\", \"traceorder\": \"normal\", \"x\": 1.02, \"xanchor\": \"left\", \"y\": 1, \"yanchor\": \"middle\"}, \"margin\": {\"b\": 75, \"l\": 75, \"pad\": 10, \"r\": 50, \"t\": 75}, \"paper_bgcolor\": \"#202534\", \"plot_bgcolor\": \"#202534\", \"template\": {\"data\": {\"bar\": [{\"error_x\": {\"color\": \"#2a3f5f\"}, \"error_y\": {\"color\": \"#2a3f5f\"}, \"marker\": {\"line\": {\"color\": \"#E5ECF6\", \"width\": 0.5}}, \"type\": \"bar\"}], \"barpolar\": [{\"marker\": {\"line\": {\"color\": \"#E5ECF6\", \"width\": 0.5}}, \"type\": \"barpolar\"}], \"carpet\": [{\"aaxis\": {\"endlinecolor\": \"#2a3f5f\", \"gridcolor\": \"white\", \"linecolor\": \"white\", \"minorgridcolor\": \"white\", \"startlinecolor\": \"#2a3f5f\"}, \"baxis\": {\"endlinecolor\": \"#2a3f5f\", \"gridcolor\": \"white\", \"linecolor\": \"white\", \"minorgridcolor\": \"white\", \"startlinecolor\": \"#2a3f5f\"}, \"type\": \"carpet\"}], \"choropleth\": [{\"colorbar\": {\"outlinewidth\": 0, \"ticks\": \"\"}, \"type\": \"choropleth\"}], \"contour\": [{\"colorbar\": {\"outlinewidth\": 0, \"ticks\": \"\"}, \"colorscale\": [[0.0, \"#0d0887\"], [0.1111111111111111, \"#46039f\"], [0.2222222222222222, \"#7201a8\"], [0.3333333333333333, \"#9c179e\"], [0.4444444444444444, \"#bd3786\"], [0.5555555555555556, \"#d8576b\"], [0.6666666666666666, \"#ed7953\"], [0.7777777777777778, \"#fb9f3a\"], [0.8888888888888888, \"#fdca26\"], [1.0, \"#f0f921\"]], \"type\": \"contour\"}], \"contourcarpet\": [{\"colorbar\": {\"outlinewidth\": 0, \"ticks\": \"\"}, \"type\": \"contourcarpet\"}], \"heatmap\": [{\"colorbar\": {\"outlinewidth\": 0, \"ticks\": \"\"}, \"colorscale\": [[0.0, \"#0d0887\"], [0.1111111111111111, \"#46039f\"], [0.2222222222222222, \"#7201a8\"], [0.3333333333333333, \"#9c179e\"], [0.4444444444444444, \"#bd3786\"], [0.5555555555555556, \"#d8576b\"], [0.6666666666666666, \"#ed7953\"], [0.7777777777777778, \"#fb9f3a\"], [0.8888888888888888, \"#fdca26\"], [1.0, \"#f0f921\"]], \"type\": \"heatmap\"}], \"heatmapgl\": [{\"colorbar\": {\"outlinewidth\": 0, \"ticks\": \"\"}, \"colorscale\": [[0.0, \"#0d0887\"], [0.1111111111111111, \"#46039f\"], [0.2222222222222222, \"#7201a8\"], [0.3333333333333333, \"#9c179e\"], [0.4444444444444444, \"#bd3786\"], [0.5555555555555556, \"#d8576b\"], [0.6666666666666666, \"#ed7953\"], [0.7777777777777778, \"#fb9f3a\"], [0.8888888888888888, \"#fdca26\"], [1.0, \"#f0f921\"]], \"type\": \"heatmapgl\"}], \"histogram\": [{\"marker\": {\"colorbar\": {\"outlinewidth\": 0, \"ticks\": \"\"}}, \"type\": \"histogram\"}], \"histogram2d\": [{\"colorbar\": {\"outlinewidth\": 0, \"ticks\": \"\"}, \"colorscale\": [[0.0, \"#0d0887\"], [0.1111111111111111, \"#46039f\"], [0.2222222222222222, \"#7201a8\"], [0.3333333333333333, \"#9c179e\"], [0.4444444444444444, \"#bd3786\"], [0.5555555555555556, \"#d8576b\"], [0.6666666666666666, \"#ed7953\"], [0.7777777777777778, \"#fb9f3a\"], [0.8888888888888888, \"#fdca26\"], [1.0, \"#f0f921\"]], \"type\": \"histogram2d\"}], \"histogram2dcontour\": [{\"colorbar\": {\"outlinewidth\": 0, \"ticks\": \"\"}, \"colorscale\": [[0.0, \"#0d0887\"], [0.1111111111111111, \"#46039f\"], [0.2222222222222222, \"#7201a8\"], [0.3333333333333333, \"#9c179e\"], [0.4444444444444444, \"#bd3786\"], [0.5555555555555556, \"#d8576b\"], [0.6666666666666666, \"#ed7953\"], [0.7777777777777778, \"#fb9f3a\"], [0.8888888888888888, \"#fdca26\"], [1.0, \"#f0f921\"]], \"type\": \"histogram2dcontour\"}], \"mesh3d\": [{\"colorbar\": {\"outlinewidth\": 0, \"ticks\": \"\"}, \"type\": \"mesh3d\"}], \"parcoords\": [{\"line\": {\"colorbar\": {\"outlinewidth\": 0, \"ticks\": \"\"}}, \"type\": \"parcoords\"}], \"pie\": [{\"automargin\": true, \"type\": \"pie\"}], \"scatter\": [{\"marker\": {\"colorbar\": {\"outlinewidth\": 0, \"ticks\": \"\"}}, \"type\": \"scatter\"}], \"scatter3d\": [{\"line\": {\"colorbar\": {\"outlinewidth\": 0, \"ticks\": \"\"}}, \"marker\": {\"colorbar\": {\"outlinewidth\": 0, \"ticks\": \"\"}}, \"type\": \"scatter3d\"}], \"scattercarpet\": [{\"marker\": {\"colorbar\": {\"outlinewidth\": 0, \"ticks\": \"\"}}, \"type\": \"scattercarpet\"}], \"scattergeo\": [{\"marker\": {\"colorbar\": {\"outlinewidth\": 0, \"ticks\": \"\"}}, \"type\": \"scattergeo\"}], \"scattergl\": [{\"marker\": {\"colorbar\": {\"outlinewidth\": 0, \"ticks\": \"\"}}, \"type\": \"scattergl\"}], \"scattermapbox\": [{\"marker\": {\"colorbar\": {\"outlinewidth\": 0, \"ticks\": \"\"}}, \"type\": \"scattermapbox\"}], \"scatterpolar\": [{\"marker\": {\"colorbar\": {\"outlinewidth\": 0, \"ticks\": \"\"}}, \"type\": \"scatterpolar\"}], \"scatterpolargl\": [{\"marker\": {\"colorbar\": {\"outlinewidth\": 0, \"ticks\": \"\"}}, \"type\": \"scatterpolargl\"}], \"scatterternary\": [{\"marker\": {\"colorbar\": {\"outlinewidth\": 0, \"ticks\": \"\"}}, \"type\": \"scatterternary\"}], \"surface\": [{\"colorbar\": {\"outlinewidth\": 0, \"ticks\": \"\"}, \"colorscale\": [[0.0, \"#0d0887\"], [0.1111111111111111, \"#46039f\"], [0.2222222222222222, \"#7201a8\"], [0.3333333333333333, \"#9c179e\"], [0.4444444444444444, \"#bd3786\"], [0.5555555555555556, \"#d8576b\"], [0.6666666666666666, \"#ed7953\"], [0.7777777777777778, \"#fb9f3a\"], [0.8888888888888888, \"#fdca26\"], [1.0, \"#f0f921\"]], \"type\": \"surface\"}], \"table\": [{\"cells\": {\"fill\": {\"color\": \"#EBF0F8\"}, \"line\": {\"color\": \"white\"}}, \"header\": {\"fill\": {\"color\": \"#C8D4E3\"}, \"line\": {\"color\": \"white\"}}, \"type\": \"table\"}]}, \"layout\": {\"annotationdefaults\": {\"arrowcolor\": \"#2a3f5f\", \"arrowhead\": 0, \"arrowwidth\": 1}, \"coloraxis\": {\"colorbar\": {\"outlinewidth\": 0, \"ticks\": \"\"}}, \"colorscale\": {\"diverging\": [[0, \"#8e0152\"], [0.1, \"#c51b7d\"], [0.2, \"#de77ae\"], [0.3, \"#f1b6da\"], [0.4, \"#fde0ef\"], [0.5, \"#f7f7f7\"], [0.6, \"#e6f5d0\"], [0.7, \"#b8e186\"], [0.8, \"#7fbc41\"], [0.9, \"#4d9221\"], [1, \"#276419\"]], \"sequential\": [[0.0, \"#0d0887\"], [0.1111111111111111, \"#46039f\"], [0.2222222222222222, \"#7201a8\"], [0.3333333333333333, \"#9c179e\"], [0.4444444444444444, \"#bd3786\"], [0.5555555555555556, \"#d8576b\"], [0.6666666666666666, \"#ed7953\"], [0.7777777777777778, \"#fb9f3a\"], [0.8888888888888888, \"#fdca26\"], [1.0, \"#f0f921\"]], \"sequentialminus\": [[0.0, \"#0d0887\"], [0.1111111111111111, \"#46039f\"], [0.2222222222222222, \"#7201a8\"], [0.3333333333333333, \"#9c179e\"], [0.4444444444444444, \"#bd3786\"], [0.5555555555555556, \"#d8576b\"], [0.6666666666666666, \"#ed7953\"], [0.7777777777777778, \"#fb9f3a\"], [0.8888888888888888, \"#fdca26\"], [1.0, \"#f0f921\"]]}, \"colorway\": [\"#636efa\", \"#EF553B\", \"#00cc96\", \"#ab63fa\", \"#FFA15A\", \"#19d3f3\", \"#FF6692\", \"#B6E880\", \"#FF97FF\", \"#FECB52\"], \"font\": {\"color\": \"#2a3f5f\"}, \"geo\": {\"bgcolor\": \"white\", \"lakecolor\": \"white\", \"landcolor\": \"#E5ECF6\", \"showlakes\": true, \"showland\": true, \"subunitcolor\": \"white\"}, \"hoverlabel\": {\"align\": \"left\"}, \"hovermode\": \"closest\", \"mapbox\": {\"style\": \"light\"}, \"paper_bgcolor\": \"white\", \"plot_bgcolor\": \"#E5ECF6\", \"polar\": {\"angularaxis\": {\"gridcolor\": \"white\", \"linecolor\": \"white\", \"ticks\": \"\"}, \"bgcolor\": \"#E5ECF6\", \"radialaxis\": {\"gridcolor\": \"white\", \"linecolor\": \"white\", \"ticks\": \"\"}}, \"scene\": {\"xaxis\": {\"backgroundcolor\": \"#E5ECF6\", \"gridcolor\": \"white\", \"gridwidth\": 2, \"linecolor\": \"white\", \"showbackground\": true, \"ticks\": \"\", \"zerolinecolor\": \"white\"}, \"yaxis\": {\"backgroundcolor\": \"#E5ECF6\", \"gridcolor\": \"white\", \"gridwidth\": 2, \"linecolor\": \"white\", \"showbackground\": true, \"ticks\": \"\", \"zerolinecolor\": \"white\"}, \"zaxis\": {\"backgroundcolor\": \"#E5ECF6\", \"gridcolor\": \"white\", \"gridwidth\": 2, \"linecolor\": \"white\", \"showbackground\": true, \"ticks\": \"\", \"zerolinecolor\": \"white\"}}, \"shapedefaults\": {\"line\": {\"color\": \"#2a3f5f\"}}, \"ternary\": {\"aaxis\": {\"gridcolor\": \"white\", \"linecolor\": \"white\", \"ticks\": \"\"}, \"baxis\": {\"gridcolor\": \"white\", \"linecolor\": \"white\", \"ticks\": \"\"}, \"bgcolor\": \"#E5ECF6\", \"caxis\": {\"gridcolor\": \"white\", \"linecolor\": \"white\", \"ticks\": \"\"}}, \"title\": {\"x\": 0.05}, \"xaxis\": {\"automargin\": true, \"gridcolor\": \"white\", \"linecolor\": \"white\", \"ticks\": \"\", \"title\": {\"standoff\": 15}, \"zerolinecolor\": \"white\", \"zerolinewidth\": 2}, \"yaxis\": {\"automargin\": true, \"gridcolor\": \"white\", \"linecolor\": \"white\", \"ticks\": \"\", \"title\": {\"standoff\": 15}, \"zerolinecolor\": \"white\", \"zerolinewidth\": 2}}}, \"title\": {\"font\": {\"color\": \"lightgrey\", \"family\": \"sans-serif\", \"size\": 24}, \"text\": \"\", \"x\": 0.5}, \"width\": 800, \"xaxis\": {\"autorange\": true, \"color\": \"lightgrey\", \"dtick\": 1, \"gridcolor\": \"#343846\", \"gridwidth\": 0.5, \"showgrid\": false, \"showline\": false, \"showticklabels\": true, \"tickfont\": {\"color\": \"lightgrey\", \"size\": 13}, \"tickformat\": \"\", \"tickmode\": \"auto\", \"title\": {\"font\": {\"color\": \"lightgrey\", \"family\": \"sans-serif\", \"size\": 18}, \"text\": \"\"}, \"type\": \"-\", \"zeroline\": false, \"zerolinecolor\": \"grey\"}, \"yaxis\": {\"autorange\": true, \"color\": \"lightgrey\", \"dtick\": 1, \"gridcolor\": \"#343846\", \"gridwidth\": 0.5, \"showgrid\": true, \"showline\": false, \"showticklabels\": true, \"tickfont\": {\"color\": \"lightgrey\", \"size\": 13}, \"tickformat\": \"\", \"tickmode\": \"auto\", \"ticks\": \"\", \"title\": {\"font\": {\"color\": \"lightgrey\", \"family\": \"sans-serif\", \"size\": 18}, \"text\": \"\"}, \"type\": \"-\", \"zeroline\": true, \"zerolinecolor\": \"grey\"}},\n                        {\"responsive\": true}\n                    ).then(function(){\n                            \nvar gd = document.getElementById('49882d92-631f-4d3f-814c-a947ca8b7951');\nvar x = new MutationObserver(function (mutations, observer) {{\n        var display = window.getComputedStyle(gd).display;\n        if (!display || display === 'none') {{\n            console.log([gd, 'removed!']);\n            Plotly.purge(gd);\n            observer.disconnect();\n        }}\n}});\n\n// Listen for the removal of the full notebook cells\nvar notebookContainer = gd.closest('#notebook-container');\nif (notebookContainer) {{\n    x.observe(notebookContainer, {childList: true});\n}}\n\n// Listen for the clearing of the current output cell\nvar outputEl = gd.closest('.output');\nif (outputEl) {{\n    x.observe(outputEl, {childList: true});\n}}\n\n                        })\n                };\n                });\n            </script>\n        </div>"
     },
     "metadata": {}
    }
   ],
   "source": [
    "labels = [\"Eve\", \"Cain\", \"Seth\", \"Enos\", \"Noam\", \"Abel\", \"Awan\", \"Enoch\", \"Azura\"]\n",
    "parents = [\"\", \"Eve\", \"Eve\", \"Seth\", \"Seth\", \"Eve\", \"Eve\", \"Awan\", \"Eve\" ]\n",
    "values = [10, 14, 12, 10, 2, 6, 6, 4, 4]\n",
    "\n",
    "layout = chart.layout()\n",
    "chart.sunburst(labels=labels, parents=parents, values=values, layout=layout)"
   ]
  },
  {
   "cell_type": "markdown",
   "metadata": {},
   "source": [
    "## Dot plot"
   ]
  },
  {
   "cell_type": "code",
   "execution_count": 21,
   "metadata": {},
   "outputs": [
    {
     "output_type": "display_data",
     "data": {
      "application/vnd.plotly.v1+json": {
       "config": {
        "linkText": "Export to plot.ly",
        "plotlyServerURL": "https://plot.ly",
        "showLink": false
       },
       "data": [
        {
         "mode": "markers",
         "name": "Test 1",
         "type": "scatter",
         "x": [
          75,
          50,
          92,
          90,
          65
         ],
         "y": [
          "Lisa",
          "Craig",
          "Paul",
          "Theo",
          "Jennifer"
         ]
        },
        {
         "mode": "markers",
         "name": "Test 2",
         "type": "scatter",
         "x": [
          80,
          60,
          85,
          85,
          85
         ],
         "y": [
          "Lisa",
          "Craig",
          "Paul",
          "Theo",
          "Jennifer"
         ]
        },
        {
         "mode": "markers",
         "name": "Test 3",
         "type": "scatter",
         "x": [
          90,
          75,
          88,
          95,
          95
         ],
         "y": [
          "Lisa",
          "Craig",
          "Paul",
          "Theo",
          "Jennifer"
         ]
        }
       ],
       "layout": {
        "autosize": false,
        "colorway": [
         "#aaff32",
         "#f97306",
         "#13eac9"
        ],
        "height": 600,
        "legend": {
         "bordercolor": "#202534",
         "borderwidth": 0,
         "font": {
          "color": "lightgrey",
          "family": "sans-serif",
          "size": 12
         },
         "orientation": "v",
         "traceorder": "normal",
         "x": 1.02,
         "xanchor": "left",
         "y": 1,
         "yanchor": "middle"
        },
        "margin": {
         "b": 75,
         "l": 75,
         "pad": 10,
         "r": 50,
         "t": 75
        },
        "paper_bgcolor": "#202534",
        "plot_bgcolor": "#202534",
        "template": {
         "data": {
          "bar": [
           {
            "error_x": {
             "color": "#2a3f5f"
            },
            "error_y": {
             "color": "#2a3f5f"
            },
            "marker": {
             "line": {
              "color": "#E5ECF6",
              "width": 0.5
             }
            },
            "type": "bar"
           }
          ],
          "barpolar": [
           {
            "marker": {
             "line": {
              "color": "#E5ECF6",
              "width": 0.5
             }
            },
            "type": "barpolar"
           }
          ],
          "carpet": [
           {
            "aaxis": {
             "endlinecolor": "#2a3f5f",
             "gridcolor": "white",
             "linecolor": "white",
             "minorgridcolor": "white",
             "startlinecolor": "#2a3f5f"
            },
            "baxis": {
             "endlinecolor": "#2a3f5f",
             "gridcolor": "white",
             "linecolor": "white",
             "minorgridcolor": "white",
             "startlinecolor": "#2a3f5f"
            },
            "type": "carpet"
           }
          ],
          "choropleth": [
           {
            "colorbar": {
             "outlinewidth": 0,
             "ticks": ""
            },
            "type": "choropleth"
           }
          ],
          "contour": [
           {
            "colorbar": {
             "outlinewidth": 0,
             "ticks": ""
            },
            "colorscale": [
             [
              0,
              "#0d0887"
             ],
             [
              0.1111111111111111,
              "#46039f"
             ],
             [
              0.2222222222222222,
              "#7201a8"
             ],
             [
              0.3333333333333333,
              "#9c179e"
             ],
             [
              0.4444444444444444,
              "#bd3786"
             ],
             [
              0.5555555555555556,
              "#d8576b"
             ],
             [
              0.6666666666666666,
              "#ed7953"
             ],
             [
              0.7777777777777778,
              "#fb9f3a"
             ],
             [
              0.8888888888888888,
              "#fdca26"
             ],
             [
              1,
              "#f0f921"
             ]
            ],
            "type": "contour"
           }
          ],
          "contourcarpet": [
           {
            "colorbar": {
             "outlinewidth": 0,
             "ticks": ""
            },
            "type": "contourcarpet"
           }
          ],
          "heatmap": [
           {
            "colorbar": {
             "outlinewidth": 0,
             "ticks": ""
            },
            "colorscale": [
             [
              0,
              "#0d0887"
             ],
             [
              0.1111111111111111,
              "#46039f"
             ],
             [
              0.2222222222222222,
              "#7201a8"
             ],
             [
              0.3333333333333333,
              "#9c179e"
             ],
             [
              0.4444444444444444,
              "#bd3786"
             ],
             [
              0.5555555555555556,
              "#d8576b"
             ],
             [
              0.6666666666666666,
              "#ed7953"
             ],
             [
              0.7777777777777778,
              "#fb9f3a"
             ],
             [
              0.8888888888888888,
              "#fdca26"
             ],
             [
              1,
              "#f0f921"
             ]
            ],
            "type": "heatmap"
           }
          ],
          "heatmapgl": [
           {
            "colorbar": {
             "outlinewidth": 0,
             "ticks": ""
            },
            "colorscale": [
             [
              0,
              "#0d0887"
             ],
             [
              0.1111111111111111,
              "#46039f"
             ],
             [
              0.2222222222222222,
              "#7201a8"
             ],
             [
              0.3333333333333333,
              "#9c179e"
             ],
             [
              0.4444444444444444,
              "#bd3786"
             ],
             [
              0.5555555555555556,
              "#d8576b"
             ],
             [
              0.6666666666666666,
              "#ed7953"
             ],
             [
              0.7777777777777778,
              "#fb9f3a"
             ],
             [
              0.8888888888888888,
              "#fdca26"
             ],
             [
              1,
              "#f0f921"
             ]
            ],
            "type": "heatmapgl"
           }
          ],
          "histogram": [
           {
            "marker": {
             "colorbar": {
              "outlinewidth": 0,
              "ticks": ""
             }
            },
            "type": "histogram"
           }
          ],
          "histogram2d": [
           {
            "colorbar": {
             "outlinewidth": 0,
             "ticks": ""
            },
            "colorscale": [
             [
              0,
              "#0d0887"
             ],
             [
              0.1111111111111111,
              "#46039f"
             ],
             [
              0.2222222222222222,
              "#7201a8"
             ],
             [
              0.3333333333333333,
              "#9c179e"
             ],
             [
              0.4444444444444444,
              "#bd3786"
             ],
             [
              0.5555555555555556,
              "#d8576b"
             ],
             [
              0.6666666666666666,
              "#ed7953"
             ],
             [
              0.7777777777777778,
              "#fb9f3a"
             ],
             [
              0.8888888888888888,
              "#fdca26"
             ],
             [
              1,
              "#f0f921"
             ]
            ],
            "type": "histogram2d"
           }
          ],
          "histogram2dcontour": [
           {
            "colorbar": {
             "outlinewidth": 0,
             "ticks": ""
            },
            "colorscale": [
             [
              0,
              "#0d0887"
             ],
             [
              0.1111111111111111,
              "#46039f"
             ],
             [
              0.2222222222222222,
              "#7201a8"
             ],
             [
              0.3333333333333333,
              "#9c179e"
             ],
             [
              0.4444444444444444,
              "#bd3786"
             ],
             [
              0.5555555555555556,
              "#d8576b"
             ],
             [
              0.6666666666666666,
              "#ed7953"
             ],
             [
              0.7777777777777778,
              "#fb9f3a"
             ],
             [
              0.8888888888888888,
              "#fdca26"
             ],
             [
              1,
              "#f0f921"
             ]
            ],
            "type": "histogram2dcontour"
           }
          ],
          "mesh3d": [
           {
            "colorbar": {
             "outlinewidth": 0,
             "ticks": ""
            },
            "type": "mesh3d"
           }
          ],
          "parcoords": [
           {
            "line": {
             "colorbar": {
              "outlinewidth": 0,
              "ticks": ""
             }
            },
            "type": "parcoords"
           }
          ],
          "pie": [
           {
            "automargin": true,
            "type": "pie"
           }
          ],
          "scatter": [
           {
            "marker": {
             "colorbar": {
              "outlinewidth": 0,
              "ticks": ""
             }
            },
            "type": "scatter"
           }
          ],
          "scatter3d": [
           {
            "line": {
             "colorbar": {
              "outlinewidth": 0,
              "ticks": ""
             }
            },
            "marker": {
             "colorbar": {
              "outlinewidth": 0,
              "ticks": ""
             }
            },
            "type": "scatter3d"
           }
          ],
          "scattercarpet": [
           {
            "marker": {
             "colorbar": {
              "outlinewidth": 0,
              "ticks": ""
             }
            },
            "type": "scattercarpet"
           }
          ],
          "scattergeo": [
           {
            "marker": {
             "colorbar": {
              "outlinewidth": 0,
              "ticks": ""
             }
            },
            "type": "scattergeo"
           }
          ],
          "scattergl": [
           {
            "marker": {
             "colorbar": {
              "outlinewidth": 0,
              "ticks": ""
             }
            },
            "type": "scattergl"
           }
          ],
          "scattermapbox": [
           {
            "marker": {
             "colorbar": {
              "outlinewidth": 0,
              "ticks": ""
             }
            },
            "type": "scattermapbox"
           }
          ],
          "scatterpolar": [
           {
            "marker": {
             "colorbar": {
              "outlinewidth": 0,
              "ticks": ""
             }
            },
            "type": "scatterpolar"
           }
          ],
          "scatterpolargl": [
           {
            "marker": {
             "colorbar": {
              "outlinewidth": 0,
              "ticks": ""
             }
            },
            "type": "scatterpolargl"
           }
          ],
          "scatterternary": [
           {
            "marker": {
             "colorbar": {
              "outlinewidth": 0,
              "ticks": ""
             }
            },
            "type": "scatterternary"
           }
          ],
          "surface": [
           {
            "colorbar": {
             "outlinewidth": 0,
             "ticks": ""
            },
            "colorscale": [
             [
              0,
              "#0d0887"
             ],
             [
              0.1111111111111111,
              "#46039f"
             ],
             [
              0.2222222222222222,
              "#7201a8"
             ],
             [
              0.3333333333333333,
              "#9c179e"
             ],
             [
              0.4444444444444444,
              "#bd3786"
             ],
             [
              0.5555555555555556,
              "#d8576b"
             ],
             [
              0.6666666666666666,
              "#ed7953"
             ],
             [
              0.7777777777777778,
              "#fb9f3a"
             ],
             [
              0.8888888888888888,
              "#fdca26"
             ],
             [
              1,
              "#f0f921"
             ]
            ],
            "type": "surface"
           }
          ],
          "table": [
           {
            "cells": {
             "fill": {
              "color": "#EBF0F8"
             },
             "line": {
              "color": "white"
             }
            },
            "header": {
             "fill": {
              "color": "#C8D4E3"
             },
             "line": {
              "color": "white"
             }
            },
            "type": "table"
           }
          ]
         },
         "layout": {
          "annotationdefaults": {
           "arrowcolor": "#2a3f5f",
           "arrowhead": 0,
           "arrowwidth": 1
          },
          "coloraxis": {
           "colorbar": {
            "outlinewidth": 0,
            "ticks": ""
           }
          },
          "colorscale": {
           "diverging": [
            [
             0,
             "#8e0152"
            ],
            [
             0.1,
             "#c51b7d"
            ],
            [
             0.2,
             "#de77ae"
            ],
            [
             0.3,
             "#f1b6da"
            ],
            [
             0.4,
             "#fde0ef"
            ],
            [
             0.5,
             "#f7f7f7"
            ],
            [
             0.6,
             "#e6f5d0"
            ],
            [
             0.7,
             "#b8e186"
            ],
            [
             0.8,
             "#7fbc41"
            ],
            [
             0.9,
             "#4d9221"
            ],
            [
             1,
             "#276419"
            ]
           ],
           "sequential": [
            [
             0,
             "#0d0887"
            ],
            [
             0.1111111111111111,
             "#46039f"
            ],
            [
             0.2222222222222222,
             "#7201a8"
            ],
            [
             0.3333333333333333,
             "#9c179e"
            ],
            [
             0.4444444444444444,
             "#bd3786"
            ],
            [
             0.5555555555555556,
             "#d8576b"
            ],
            [
             0.6666666666666666,
             "#ed7953"
            ],
            [
             0.7777777777777778,
             "#fb9f3a"
            ],
            [
             0.8888888888888888,
             "#fdca26"
            ],
            [
             1,
             "#f0f921"
            ]
           ],
           "sequentialminus": [
            [
             0,
             "#0d0887"
            ],
            [
             0.1111111111111111,
             "#46039f"
            ],
            [
             0.2222222222222222,
             "#7201a8"
            ],
            [
             0.3333333333333333,
             "#9c179e"
            ],
            [
             0.4444444444444444,
             "#bd3786"
            ],
            [
             0.5555555555555556,
             "#d8576b"
            ],
            [
             0.6666666666666666,
             "#ed7953"
            ],
            [
             0.7777777777777778,
             "#fb9f3a"
            ],
            [
             0.8888888888888888,
             "#fdca26"
            ],
            [
             1,
             "#f0f921"
            ]
           ]
          },
          "colorway": [
           "#636efa",
           "#EF553B",
           "#00cc96",
           "#ab63fa",
           "#FFA15A",
           "#19d3f3",
           "#FF6692",
           "#B6E880",
           "#FF97FF",
           "#FECB52"
          ],
          "font": {
           "color": "#2a3f5f"
          },
          "geo": {
           "bgcolor": "white",
           "lakecolor": "white",
           "landcolor": "#E5ECF6",
           "showlakes": true,
           "showland": true,
           "subunitcolor": "white"
          },
          "hoverlabel": {
           "align": "left"
          },
          "hovermode": "closest",
          "mapbox": {
           "style": "light"
          },
          "paper_bgcolor": "white",
          "plot_bgcolor": "#E5ECF6",
          "polar": {
           "angularaxis": {
            "gridcolor": "white",
            "linecolor": "white",
            "ticks": ""
           },
           "bgcolor": "#E5ECF6",
           "radialaxis": {
            "gridcolor": "white",
            "linecolor": "white",
            "ticks": ""
           }
          },
          "scene": {
           "xaxis": {
            "backgroundcolor": "#E5ECF6",
            "gridcolor": "white",
            "gridwidth": 2,
            "linecolor": "white",
            "showbackground": true,
            "ticks": "",
            "zerolinecolor": "white"
           },
           "yaxis": {
            "backgroundcolor": "#E5ECF6",
            "gridcolor": "white",
            "gridwidth": 2,
            "linecolor": "white",
            "showbackground": true,
            "ticks": "",
            "zerolinecolor": "white"
           },
           "zaxis": {
            "backgroundcolor": "#E5ECF6",
            "gridcolor": "white",
            "gridwidth": 2,
            "linecolor": "white",
            "showbackground": true,
            "ticks": "",
            "zerolinecolor": "white"
           }
          },
          "shapedefaults": {
           "line": {
            "color": "#2a3f5f"
           }
          },
          "ternary": {
           "aaxis": {
            "gridcolor": "white",
            "linecolor": "white",
            "ticks": ""
           },
           "baxis": {
            "gridcolor": "white",
            "linecolor": "white",
            "ticks": ""
           },
           "bgcolor": "#E5ECF6",
           "caxis": {
            "gridcolor": "white",
            "linecolor": "white",
            "ticks": ""
           }
          },
          "title": {
           "x": 0.05
          },
          "xaxis": {
           "automargin": true,
           "gridcolor": "white",
           "linecolor": "white",
           "ticks": "",
           "title": {
            "standoff": 15
           },
           "zerolinecolor": "white",
           "zerolinewidth": 2
          },
          "yaxis": {
           "automargin": true,
           "gridcolor": "white",
           "linecolor": "white",
           "ticks": "",
           "title": {
            "standoff": 15
           },
           "zerolinecolor": "white",
           "zerolinewidth": 2
          }
         }
        },
        "title": {
         "font": {
          "color": "lightgrey",
          "family": "sans-serif",
          "size": 24
         },
         "text": "Test Scores",
         "x": 0.5
        },
        "width": 800,
        "xaxis": {
         "autorange": true,
         "color": "lightgrey",
         "dtick": 1,
         "gridcolor": "#343846",
         "gridwidth": 0.5,
         "showgrid": false,
         "showline": false,
         "showticklabels": true,
         "tickfont": {
          "color": "lightgrey",
          "size": 13
         },
         "tickformat": "",
         "tickmode": "auto",
         "title": {
          "font": {
           "color": "lightgrey",
           "family": "sans-serif",
           "size": 18
          },
          "text": ""
         },
         "type": "-",
         "zeroline": false,
         "zerolinecolor": "grey"
        },
        "yaxis": {
         "autorange": true,
         "color": "lightgrey",
         "dtick": 1,
         "gridcolor": "#343846",
         "gridwidth": 0.5,
         "showgrid": true,
         "showline": false,
         "showticklabels": true,
         "tickfont": {
          "color": "lightgrey",
          "size": 13
         },
         "tickformat": "",
         "tickmode": "array",
         "ticks": "",
         "tickvals": [
          "Lisa",
          "Craig",
          "Paul",
          "Theo",
          "Jennifer"
         ],
         "title": {
          "font": {
           "color": "lightgrey",
           "family": "sans-serif",
           "size": 18
          },
          "text": ""
         },
         "type": "-",
         "zeroline": true,
         "zerolinecolor": "grey"
        }
       }
      },
      "text/html": "<div>\n        \n        \n            <div id=\"57be572a-be7b-46c7-976f-dd515addc91b\" class=\"plotly-graph-div\" style=\"height:600px; width:800px;\"></div>\n            <script type=\"text/javascript\">\n                require([\"plotly\"], function(Plotly) {\n                    window.PLOTLYENV=window.PLOTLYENV || {};\n                    \n                if (document.getElementById(\"57be572a-be7b-46c7-976f-dd515addc91b\")) {\n                    Plotly.newPlot(\n                        '57be572a-be7b-46c7-976f-dd515addc91b',\n                        [{\"mode\": \"markers\", \"name\": \"Test 1\", \"type\": \"scatter\", \"x\": [75, 50, 92, 90, 65], \"y\": [\"Lisa\", \"Craig\", \"Paul\", \"Theo\", \"Jennifer\"]}, {\"mode\": \"markers\", \"name\": \"Test 2\", \"type\": \"scatter\", \"x\": [80, 60, 85, 85, 85], \"y\": [\"Lisa\", \"Craig\", \"Paul\", \"Theo\", \"Jennifer\"]}, {\"mode\": \"markers\", \"name\": \"Test 3\", \"type\": \"scatter\", \"x\": [90, 75, 88, 95, 95], \"y\": [\"Lisa\", \"Craig\", \"Paul\", \"Theo\", \"Jennifer\"]}],\n                        {\"autosize\": false, \"colorway\": [\"#aaff32\", \"#f97306\", \"#13eac9\"], \"height\": 600, \"legend\": {\"bordercolor\": \"#202534\", \"borderwidth\": 0, \"font\": {\"color\": \"lightgrey\", \"family\": \"sans-serif\", \"size\": 12}, \"orientation\": \"v\", \"traceorder\": \"normal\", \"x\": 1.02, \"xanchor\": \"left\", \"y\": 1, \"yanchor\": \"middle\"}, \"margin\": {\"b\": 75, \"l\": 75, \"pad\": 10, \"r\": 50, \"t\": 75}, \"paper_bgcolor\": \"#202534\", \"plot_bgcolor\": \"#202534\", \"template\": {\"data\": {\"bar\": [{\"error_x\": {\"color\": \"#2a3f5f\"}, \"error_y\": {\"color\": \"#2a3f5f\"}, \"marker\": {\"line\": {\"color\": \"#E5ECF6\", \"width\": 0.5}}, \"type\": \"bar\"}], \"barpolar\": [{\"marker\": {\"line\": {\"color\": \"#E5ECF6\", \"width\": 0.5}}, \"type\": \"barpolar\"}], \"carpet\": [{\"aaxis\": {\"endlinecolor\": \"#2a3f5f\", \"gridcolor\": \"white\", \"linecolor\": \"white\", \"minorgridcolor\": \"white\", \"startlinecolor\": \"#2a3f5f\"}, \"baxis\": {\"endlinecolor\": \"#2a3f5f\", \"gridcolor\": \"white\", \"linecolor\": \"white\", \"minorgridcolor\": \"white\", \"startlinecolor\": \"#2a3f5f\"}, \"type\": \"carpet\"}], \"choropleth\": [{\"colorbar\": {\"outlinewidth\": 0, \"ticks\": \"\"}, \"type\": \"choropleth\"}], \"contour\": [{\"colorbar\": {\"outlinewidth\": 0, \"ticks\": \"\"}, \"colorscale\": [[0.0, \"#0d0887\"], [0.1111111111111111, \"#46039f\"], [0.2222222222222222, \"#7201a8\"], [0.3333333333333333, \"#9c179e\"], [0.4444444444444444, \"#bd3786\"], [0.5555555555555556, \"#d8576b\"], [0.6666666666666666, \"#ed7953\"], [0.7777777777777778, \"#fb9f3a\"], [0.8888888888888888, \"#fdca26\"], [1.0, \"#f0f921\"]], \"type\": \"contour\"}], \"contourcarpet\": [{\"colorbar\": {\"outlinewidth\": 0, \"ticks\": \"\"}, \"type\": \"contourcarpet\"}], \"heatmap\": [{\"colorbar\": {\"outlinewidth\": 0, \"ticks\": \"\"}, \"colorscale\": [[0.0, \"#0d0887\"], [0.1111111111111111, \"#46039f\"], [0.2222222222222222, \"#7201a8\"], [0.3333333333333333, \"#9c179e\"], [0.4444444444444444, \"#bd3786\"], [0.5555555555555556, \"#d8576b\"], [0.6666666666666666, \"#ed7953\"], [0.7777777777777778, \"#fb9f3a\"], [0.8888888888888888, \"#fdca26\"], [1.0, \"#f0f921\"]], \"type\": \"heatmap\"}], \"heatmapgl\": [{\"colorbar\": {\"outlinewidth\": 0, \"ticks\": \"\"}, \"colorscale\": [[0.0, \"#0d0887\"], [0.1111111111111111, \"#46039f\"], [0.2222222222222222, \"#7201a8\"], [0.3333333333333333, \"#9c179e\"], [0.4444444444444444, \"#bd3786\"], [0.5555555555555556, \"#d8576b\"], [0.6666666666666666, \"#ed7953\"], [0.7777777777777778, \"#fb9f3a\"], [0.8888888888888888, \"#fdca26\"], [1.0, \"#f0f921\"]], \"type\": \"heatmapgl\"}], \"histogram\": [{\"marker\": {\"colorbar\": {\"outlinewidth\": 0, \"ticks\": \"\"}}, \"type\": \"histogram\"}], \"histogram2d\": [{\"colorbar\": {\"outlinewidth\": 0, \"ticks\": \"\"}, \"colorscale\": [[0.0, \"#0d0887\"], [0.1111111111111111, \"#46039f\"], [0.2222222222222222, \"#7201a8\"], [0.3333333333333333, \"#9c179e\"], [0.4444444444444444, \"#bd3786\"], [0.5555555555555556, \"#d8576b\"], [0.6666666666666666, \"#ed7953\"], [0.7777777777777778, \"#fb9f3a\"], [0.8888888888888888, \"#fdca26\"], [1.0, \"#f0f921\"]], \"type\": \"histogram2d\"}], \"histogram2dcontour\": [{\"colorbar\": {\"outlinewidth\": 0, \"ticks\": \"\"}, \"colorscale\": [[0.0, \"#0d0887\"], [0.1111111111111111, \"#46039f\"], [0.2222222222222222, \"#7201a8\"], [0.3333333333333333, \"#9c179e\"], [0.4444444444444444, \"#bd3786\"], [0.5555555555555556, \"#d8576b\"], [0.6666666666666666, \"#ed7953\"], [0.7777777777777778, \"#fb9f3a\"], [0.8888888888888888, \"#fdca26\"], [1.0, \"#f0f921\"]], \"type\": \"histogram2dcontour\"}], \"mesh3d\": [{\"colorbar\": {\"outlinewidth\": 0, \"ticks\": \"\"}, \"type\": \"mesh3d\"}], \"parcoords\": [{\"line\": {\"colorbar\": {\"outlinewidth\": 0, \"ticks\": \"\"}}, \"type\": \"parcoords\"}], \"pie\": [{\"automargin\": true, \"type\": \"pie\"}], \"scatter\": [{\"marker\": {\"colorbar\": {\"outlinewidth\": 0, \"ticks\": \"\"}}, \"type\": \"scatter\"}], \"scatter3d\": [{\"line\": {\"colorbar\": {\"outlinewidth\": 0, \"ticks\": \"\"}}, \"marker\": {\"colorbar\": {\"outlinewidth\": 0, \"ticks\": \"\"}}, \"type\": \"scatter3d\"}], \"scattercarpet\": [{\"marker\": {\"colorbar\": {\"outlinewidth\": 0, \"ticks\": \"\"}}, \"type\": \"scattercarpet\"}], \"scattergeo\": [{\"marker\": {\"colorbar\": {\"outlinewidth\": 0, \"ticks\": \"\"}}, \"type\": \"scattergeo\"}], \"scattergl\": [{\"marker\": {\"colorbar\": {\"outlinewidth\": 0, \"ticks\": \"\"}}, \"type\": \"scattergl\"}], \"scattermapbox\": [{\"marker\": {\"colorbar\": {\"outlinewidth\": 0, \"ticks\": \"\"}}, \"type\": \"scattermapbox\"}], \"scatterpolar\": [{\"marker\": {\"colorbar\": {\"outlinewidth\": 0, \"ticks\": \"\"}}, \"type\": \"scatterpolar\"}], \"scatterpolargl\": [{\"marker\": {\"colorbar\": {\"outlinewidth\": 0, \"ticks\": \"\"}}, \"type\": \"scatterpolargl\"}], \"scatterternary\": [{\"marker\": {\"colorbar\": {\"outlinewidth\": 0, \"ticks\": \"\"}}, \"type\": \"scatterternary\"}], \"surface\": [{\"colorbar\": {\"outlinewidth\": 0, \"ticks\": \"\"}, \"colorscale\": [[0.0, \"#0d0887\"], [0.1111111111111111, \"#46039f\"], [0.2222222222222222, \"#7201a8\"], [0.3333333333333333, \"#9c179e\"], [0.4444444444444444, \"#bd3786\"], [0.5555555555555556, \"#d8576b\"], [0.6666666666666666, \"#ed7953\"], [0.7777777777777778, \"#fb9f3a\"], [0.8888888888888888, \"#fdca26\"], [1.0, \"#f0f921\"]], \"type\": \"surface\"}], \"table\": [{\"cells\": {\"fill\": {\"color\": \"#EBF0F8\"}, \"line\": {\"color\": \"white\"}}, \"header\": {\"fill\": {\"color\": \"#C8D4E3\"}, \"line\": {\"color\": \"white\"}}, \"type\": \"table\"}]}, \"layout\": {\"annotationdefaults\": {\"arrowcolor\": \"#2a3f5f\", \"arrowhead\": 0, \"arrowwidth\": 1}, \"coloraxis\": {\"colorbar\": {\"outlinewidth\": 0, \"ticks\": \"\"}}, \"colorscale\": {\"diverging\": [[0, \"#8e0152\"], [0.1, \"#c51b7d\"], [0.2, \"#de77ae\"], [0.3, \"#f1b6da\"], [0.4, \"#fde0ef\"], [0.5, \"#f7f7f7\"], [0.6, \"#e6f5d0\"], [0.7, \"#b8e186\"], [0.8, \"#7fbc41\"], [0.9, \"#4d9221\"], [1, \"#276419\"]], \"sequential\": [[0.0, \"#0d0887\"], [0.1111111111111111, \"#46039f\"], [0.2222222222222222, \"#7201a8\"], [0.3333333333333333, \"#9c179e\"], [0.4444444444444444, \"#bd3786\"], [0.5555555555555556, \"#d8576b\"], [0.6666666666666666, \"#ed7953\"], [0.7777777777777778, \"#fb9f3a\"], [0.8888888888888888, \"#fdca26\"], [1.0, \"#f0f921\"]], \"sequentialminus\": [[0.0, \"#0d0887\"], [0.1111111111111111, \"#46039f\"], [0.2222222222222222, \"#7201a8\"], [0.3333333333333333, \"#9c179e\"], [0.4444444444444444, \"#bd3786\"], [0.5555555555555556, \"#d8576b\"], [0.6666666666666666, \"#ed7953\"], [0.7777777777777778, \"#fb9f3a\"], [0.8888888888888888, \"#fdca26\"], [1.0, \"#f0f921\"]]}, \"colorway\": [\"#636efa\", \"#EF553B\", \"#00cc96\", \"#ab63fa\", \"#FFA15A\", \"#19d3f3\", \"#FF6692\", \"#B6E880\", \"#FF97FF\", \"#FECB52\"], \"font\": {\"color\": \"#2a3f5f\"}, \"geo\": {\"bgcolor\": \"white\", \"lakecolor\": \"white\", \"landcolor\": \"#E5ECF6\", \"showlakes\": true, \"showland\": true, \"subunitcolor\": \"white\"}, \"hoverlabel\": {\"align\": \"left\"}, \"hovermode\": \"closest\", \"mapbox\": {\"style\": \"light\"}, \"paper_bgcolor\": \"white\", \"plot_bgcolor\": \"#E5ECF6\", \"polar\": {\"angularaxis\": {\"gridcolor\": \"white\", \"linecolor\": \"white\", \"ticks\": \"\"}, \"bgcolor\": \"#E5ECF6\", \"radialaxis\": {\"gridcolor\": \"white\", \"linecolor\": \"white\", \"ticks\": \"\"}}, \"scene\": {\"xaxis\": {\"backgroundcolor\": \"#E5ECF6\", \"gridcolor\": \"white\", \"gridwidth\": 2, \"linecolor\": \"white\", \"showbackground\": true, \"ticks\": \"\", \"zerolinecolor\": \"white\"}, \"yaxis\": {\"backgroundcolor\": \"#E5ECF6\", \"gridcolor\": \"white\", \"gridwidth\": 2, \"linecolor\": \"white\", \"showbackground\": true, \"ticks\": \"\", \"zerolinecolor\": \"white\"}, \"zaxis\": {\"backgroundcolor\": \"#E5ECF6\", \"gridcolor\": \"white\", \"gridwidth\": 2, \"linecolor\": \"white\", \"showbackground\": true, \"ticks\": \"\", \"zerolinecolor\": \"white\"}}, \"shapedefaults\": {\"line\": {\"color\": \"#2a3f5f\"}}, \"ternary\": {\"aaxis\": {\"gridcolor\": \"white\", \"linecolor\": \"white\", \"ticks\": \"\"}, \"baxis\": {\"gridcolor\": \"white\", \"linecolor\": \"white\", \"ticks\": \"\"}, \"bgcolor\": \"#E5ECF6\", \"caxis\": {\"gridcolor\": \"white\", \"linecolor\": \"white\", \"ticks\": \"\"}}, \"title\": {\"x\": 0.05}, \"xaxis\": {\"automargin\": true, \"gridcolor\": \"white\", \"linecolor\": \"white\", \"ticks\": \"\", \"title\": {\"standoff\": 15}, \"zerolinecolor\": \"white\", \"zerolinewidth\": 2}, \"yaxis\": {\"automargin\": true, \"gridcolor\": \"white\", \"linecolor\": \"white\", \"ticks\": \"\", \"title\": {\"standoff\": 15}, \"zerolinecolor\": \"white\", \"zerolinewidth\": 2}}}, \"title\": {\"font\": {\"color\": \"lightgrey\", \"family\": \"sans-serif\", \"size\": 24}, \"text\": \"Test Scores\", \"x\": 0.5}, \"width\": 800, \"xaxis\": {\"autorange\": true, \"color\": \"lightgrey\", \"dtick\": 1, \"gridcolor\": \"#343846\", \"gridwidth\": 0.5, \"showgrid\": false, \"showline\": false, \"showticklabels\": true, \"tickfont\": {\"color\": \"lightgrey\", \"size\": 13}, \"tickformat\": \"\", \"tickmode\": \"auto\", \"title\": {\"font\": {\"color\": \"lightgrey\", \"family\": \"sans-serif\", \"size\": 18}, \"text\": \"\"}, \"type\": \"-\", \"zeroline\": false, \"zerolinecolor\": \"grey\"}, \"yaxis\": {\"autorange\": true, \"color\": \"lightgrey\", \"dtick\": 1, \"gridcolor\": \"#343846\", \"gridwidth\": 0.5, \"showgrid\": true, \"showline\": false, \"showticklabels\": true, \"tickfont\": {\"color\": \"lightgrey\", \"size\": 13}, \"tickformat\": \"\", \"tickmode\": \"array\", \"ticks\": \"\", \"tickvals\": [\"Lisa\", \"Craig\", \"Paul\", \"Theo\", \"Jennifer\"], \"title\": {\"font\": {\"color\": \"lightgrey\", \"family\": \"sans-serif\", \"size\": 18}, \"text\": \"\"}, \"type\": \"-\", \"zeroline\": true, \"zerolinecolor\": \"grey\"}},\n                        {\"responsive\": true}\n                    ).then(function(){\n                            \nvar gd = document.getElementById('57be572a-be7b-46c7-976f-dd515addc91b');\nvar x = new MutationObserver(function (mutations, observer) {{\n        var display = window.getComputedStyle(gd).display;\n        if (!display || display === 'none') {{\n            console.log([gd, 'removed!']);\n            Plotly.purge(gd);\n            observer.disconnect();\n        }}\n}});\n\n// Listen for the removal of the full notebook cells\nvar notebookContainer = gd.closest('#notebook-container');\nif (notebookContainer) {{\n    x.observe(notebookContainer, {childList: true});\n}}\n\n// Listen for the clearing of the current output cell\nvar outputEl = gd.closest('.output');\nif (outputEl) {{\n    x.observe(outputEl, {childList: true});\n}}\n\n                        })\n                };\n                });\n            </script>\n        </div>"
     },
     "metadata": {}
    }
   ],
   "source": [
    "index = ['Test 1', 'Test 2', 'Test 3']\n",
    "values = {'Lisa': [75, 80, 90], \n",
    "         'Craig': [50, 60, 75],\n",
    "         'Paul': [92, 85, 88],\n",
    "         'Theo': [90, 85, 95],\n",
    "         'Jennifer': [65, 85, 95]}\n",
    "\n",
    "data = pd.DataFrame(data=values, index=index)\n",
    "\n",
    "colors = ['lime', 'orange', 'aqua']\n",
    "palette = chart.color_palette(palette_type='xkcd', palette=colors)\n",
    "layout = chart.layout(title='Test Scores', color_palette=palette)\n",
    "chart.dot(data, layout)"
   ]
  },
  {
   "cell_type": "code",
   "execution_count": 6,
   "metadata": {},
   "outputs": [
    {
     "output_type": "display_data",
     "data": {
      "application/vnd.plotly.v1+json": {
       "config": {
        "linkText": "Export to plot.ly",
        "plotlyServerURL": "https://plot.ly",
        "showLink": false
       },
       "data": [
        {
         "mode": "markers",
         "name": "voting_pop",
         "type": "scatter",
         "x": [
          40,
          45.7,
          52,
          53.6,
          54.1,
          54.2,
          54.5,
          54.7,
          55.1,
          56.6
         ],
         "y": [
          "Switzerland (2011)",
          "Chile (2013)",
          "Japan (2014)",
          "United States (2012)",
          "Slovenia (2014)",
          "Canada (2011)",
          "Poland (2010)",
          "Estonia (2015)",
          "Luxembourg (2013)",
          "Portugal (2011)"
         ]
        },
        {
         "mode": "markers",
         "name": "reg_voters",
         "type": "scatter",
         "x": [
          49.1,
          42,
          52.7,
          84.3,
          51.7,
          61.1,
          55.3,
          64.2,
          91.1,
          58.9
         ],
         "y": [
          "Switzerland (2011)",
          "Chile (2013)",
          "Japan (2014)",
          "United States (2012)",
          "Slovenia (2014)",
          "Canada (2011)",
          "Poland (2010)",
          "Estonia (2015)",
          "Luxembourg (2013)",
          "Portugal (2011)"
         ]
        }
       ],
       "layout": {
        "autosize": false,
        "height": 600,
        "legend": {
         "bordercolor": "#202534",
         "borderwidth": 0,
         "font": {
          "color": "lightgrey",
          "family": "sans-serif",
          "size": 12
         },
         "orientation": "v",
         "traceorder": "normal",
         "x": 1.02,
         "xanchor": "left",
         "y": 1,
         "yanchor": "middle"
        },
        "margin": {
         "b": 75,
         "l": 75,
         "pad": 10,
         "r": 50,
         "t": 75
        },
        "paper_bgcolor": "#202534",
        "plot_bgcolor": "#202534",
        "template": {
         "data": {
          "bar": [
           {
            "error_x": {
             "color": "#2a3f5f"
            },
            "error_y": {
             "color": "#2a3f5f"
            },
            "marker": {
             "line": {
              "color": "#E5ECF6",
              "width": 0.5
             }
            },
            "type": "bar"
           }
          ],
          "barpolar": [
           {
            "marker": {
             "line": {
              "color": "#E5ECF6",
              "width": 0.5
             }
            },
            "type": "barpolar"
           }
          ],
          "carpet": [
           {
            "aaxis": {
             "endlinecolor": "#2a3f5f",
             "gridcolor": "white",
             "linecolor": "white",
             "minorgridcolor": "white",
             "startlinecolor": "#2a3f5f"
            },
            "baxis": {
             "endlinecolor": "#2a3f5f",
             "gridcolor": "white",
             "linecolor": "white",
             "minorgridcolor": "white",
             "startlinecolor": "#2a3f5f"
            },
            "type": "carpet"
           }
          ],
          "choropleth": [
           {
            "colorbar": {
             "outlinewidth": 0,
             "ticks": ""
            },
            "type": "choropleth"
           }
          ],
          "contour": [
           {
            "colorbar": {
             "outlinewidth": 0,
             "ticks": ""
            },
            "colorscale": [
             [
              0,
              "#0d0887"
             ],
             [
              0.1111111111111111,
              "#46039f"
             ],
             [
              0.2222222222222222,
              "#7201a8"
             ],
             [
              0.3333333333333333,
              "#9c179e"
             ],
             [
              0.4444444444444444,
              "#bd3786"
             ],
             [
              0.5555555555555556,
              "#d8576b"
             ],
             [
              0.6666666666666666,
              "#ed7953"
             ],
             [
              0.7777777777777778,
              "#fb9f3a"
             ],
             [
              0.8888888888888888,
              "#fdca26"
             ],
             [
              1,
              "#f0f921"
             ]
            ],
            "type": "contour"
           }
          ],
          "contourcarpet": [
           {
            "colorbar": {
             "outlinewidth": 0,
             "ticks": ""
            },
            "type": "contourcarpet"
           }
          ],
          "heatmap": [
           {
            "colorbar": {
             "outlinewidth": 0,
             "ticks": ""
            },
            "colorscale": [
             [
              0,
              "#0d0887"
             ],
             [
              0.1111111111111111,
              "#46039f"
             ],
             [
              0.2222222222222222,
              "#7201a8"
             ],
             [
              0.3333333333333333,
              "#9c179e"
             ],
             [
              0.4444444444444444,
              "#bd3786"
             ],
             [
              0.5555555555555556,
              "#d8576b"
             ],
             [
              0.6666666666666666,
              "#ed7953"
             ],
             [
              0.7777777777777778,
              "#fb9f3a"
             ],
             [
              0.8888888888888888,
              "#fdca26"
             ],
             [
              1,
              "#f0f921"
             ]
            ],
            "type": "heatmap"
           }
          ],
          "heatmapgl": [
           {
            "colorbar": {
             "outlinewidth": 0,
             "ticks": ""
            },
            "colorscale": [
             [
              0,
              "#0d0887"
             ],
             [
              0.1111111111111111,
              "#46039f"
             ],
             [
              0.2222222222222222,
              "#7201a8"
             ],
             [
              0.3333333333333333,
              "#9c179e"
             ],
             [
              0.4444444444444444,
              "#bd3786"
             ],
             [
              0.5555555555555556,
              "#d8576b"
             ],
             [
              0.6666666666666666,
              "#ed7953"
             ],
             [
              0.7777777777777778,
              "#fb9f3a"
             ],
             [
              0.8888888888888888,
              "#fdca26"
             ],
             [
              1,
              "#f0f921"
             ]
            ],
            "type": "heatmapgl"
           }
          ],
          "histogram": [
           {
            "marker": {
             "colorbar": {
              "outlinewidth": 0,
              "ticks": ""
             }
            },
            "type": "histogram"
           }
          ],
          "histogram2d": [
           {
            "colorbar": {
             "outlinewidth": 0,
             "ticks": ""
            },
            "colorscale": [
             [
              0,
              "#0d0887"
             ],
             [
              0.1111111111111111,
              "#46039f"
             ],
             [
              0.2222222222222222,
              "#7201a8"
             ],
             [
              0.3333333333333333,
              "#9c179e"
             ],
             [
              0.4444444444444444,
              "#bd3786"
             ],
             [
              0.5555555555555556,
              "#d8576b"
             ],
             [
              0.6666666666666666,
              "#ed7953"
             ],
             [
              0.7777777777777778,
              "#fb9f3a"
             ],
             [
              0.8888888888888888,
              "#fdca26"
             ],
             [
              1,
              "#f0f921"
             ]
            ],
            "type": "histogram2d"
           }
          ],
          "histogram2dcontour": [
           {
            "colorbar": {
             "outlinewidth": 0,
             "ticks": ""
            },
            "colorscale": [
             [
              0,
              "#0d0887"
             ],
             [
              0.1111111111111111,
              "#46039f"
             ],
             [
              0.2222222222222222,
              "#7201a8"
             ],
             [
              0.3333333333333333,
              "#9c179e"
             ],
             [
              0.4444444444444444,
              "#bd3786"
             ],
             [
              0.5555555555555556,
              "#d8576b"
             ],
             [
              0.6666666666666666,
              "#ed7953"
             ],
             [
              0.7777777777777778,
              "#fb9f3a"
             ],
             [
              0.8888888888888888,
              "#fdca26"
             ],
             [
              1,
              "#f0f921"
             ]
            ],
            "type": "histogram2dcontour"
           }
          ],
          "mesh3d": [
           {
            "colorbar": {
             "outlinewidth": 0,
             "ticks": ""
            },
            "type": "mesh3d"
           }
          ],
          "parcoords": [
           {
            "line": {
             "colorbar": {
              "outlinewidth": 0,
              "ticks": ""
             }
            },
            "type": "parcoords"
           }
          ],
          "pie": [
           {
            "automargin": true,
            "type": "pie"
           }
          ],
          "scatter": [
           {
            "marker": {
             "colorbar": {
              "outlinewidth": 0,
              "ticks": ""
             }
            },
            "type": "scatter"
           }
          ],
          "scatter3d": [
           {
            "line": {
             "colorbar": {
              "outlinewidth": 0,
              "ticks": ""
             }
            },
            "marker": {
             "colorbar": {
              "outlinewidth": 0,
              "ticks": ""
             }
            },
            "type": "scatter3d"
           }
          ],
          "scattercarpet": [
           {
            "marker": {
             "colorbar": {
              "outlinewidth": 0,
              "ticks": ""
             }
            },
            "type": "scattercarpet"
           }
          ],
          "scattergeo": [
           {
            "marker": {
             "colorbar": {
              "outlinewidth": 0,
              "ticks": ""
             }
            },
            "type": "scattergeo"
           }
          ],
          "scattergl": [
           {
            "marker": {
             "colorbar": {
              "outlinewidth": 0,
              "ticks": ""
             }
            },
            "type": "scattergl"
           }
          ],
          "scattermapbox": [
           {
            "marker": {
             "colorbar": {
              "outlinewidth": 0,
              "ticks": ""
             }
            },
            "type": "scattermapbox"
           }
          ],
          "scatterpolar": [
           {
            "marker": {
             "colorbar": {
              "outlinewidth": 0,
              "ticks": ""
             }
            },
            "type": "scatterpolar"
           }
          ],
          "scatterpolargl": [
           {
            "marker": {
             "colorbar": {
              "outlinewidth": 0,
              "ticks": ""
             }
            },
            "type": "scatterpolargl"
           }
          ],
          "scatterternary": [
           {
            "marker": {
             "colorbar": {
              "outlinewidth": 0,
              "ticks": ""
             }
            },
            "type": "scatterternary"
           }
          ],
          "surface": [
           {
            "colorbar": {
             "outlinewidth": 0,
             "ticks": ""
            },
            "colorscale": [
             [
              0,
              "#0d0887"
             ],
             [
              0.1111111111111111,
              "#46039f"
             ],
             [
              0.2222222222222222,
              "#7201a8"
             ],
             [
              0.3333333333333333,
              "#9c179e"
             ],
             [
              0.4444444444444444,
              "#bd3786"
             ],
             [
              0.5555555555555556,
              "#d8576b"
             ],
             [
              0.6666666666666666,
              "#ed7953"
             ],
             [
              0.7777777777777778,
              "#fb9f3a"
             ],
             [
              0.8888888888888888,
              "#fdca26"
             ],
             [
              1,
              "#f0f921"
             ]
            ],
            "type": "surface"
           }
          ],
          "table": [
           {
            "cells": {
             "fill": {
              "color": "#EBF0F8"
             },
             "line": {
              "color": "white"
             }
            },
            "header": {
             "fill": {
              "color": "#C8D4E3"
             },
             "line": {
              "color": "white"
             }
            },
            "type": "table"
           }
          ]
         },
         "layout": {
          "annotationdefaults": {
           "arrowcolor": "#2a3f5f",
           "arrowhead": 0,
           "arrowwidth": 1
          },
          "coloraxis": {
           "colorbar": {
            "outlinewidth": 0,
            "ticks": ""
           }
          },
          "colorscale": {
           "diverging": [
            [
             0,
             "#8e0152"
            ],
            [
             0.1,
             "#c51b7d"
            ],
            [
             0.2,
             "#de77ae"
            ],
            [
             0.3,
             "#f1b6da"
            ],
            [
             0.4,
             "#fde0ef"
            ],
            [
             0.5,
             "#f7f7f7"
            ],
            [
             0.6,
             "#e6f5d0"
            ],
            [
             0.7,
             "#b8e186"
            ],
            [
             0.8,
             "#7fbc41"
            ],
            [
             0.9,
             "#4d9221"
            ],
            [
             1,
             "#276419"
            ]
           ],
           "sequential": [
            [
             0,
             "#0d0887"
            ],
            [
             0.1111111111111111,
             "#46039f"
            ],
            [
             0.2222222222222222,
             "#7201a8"
            ],
            [
             0.3333333333333333,
             "#9c179e"
            ],
            [
             0.4444444444444444,
             "#bd3786"
            ],
            [
             0.5555555555555556,
             "#d8576b"
            ],
            [
             0.6666666666666666,
             "#ed7953"
            ],
            [
             0.7777777777777778,
             "#fb9f3a"
            ],
            [
             0.8888888888888888,
             "#fdca26"
            ],
            [
             1,
             "#f0f921"
            ]
           ],
           "sequentialminus": [
            [
             0,
             "#0d0887"
            ],
            [
             0.1111111111111111,
             "#46039f"
            ],
            [
             0.2222222222222222,
             "#7201a8"
            ],
            [
             0.3333333333333333,
             "#9c179e"
            ],
            [
             0.4444444444444444,
             "#bd3786"
            ],
            [
             0.5555555555555556,
             "#d8576b"
            ],
            [
             0.6666666666666666,
             "#ed7953"
            ],
            [
             0.7777777777777778,
             "#fb9f3a"
            ],
            [
             0.8888888888888888,
             "#fdca26"
            ],
            [
             1,
             "#f0f921"
            ]
           ]
          },
          "colorway": [
           "#636efa",
           "#EF553B",
           "#00cc96",
           "#ab63fa",
           "#FFA15A",
           "#19d3f3",
           "#FF6692",
           "#B6E880",
           "#FF97FF",
           "#FECB52"
          ],
          "font": {
           "color": "#2a3f5f"
          },
          "geo": {
           "bgcolor": "white",
           "lakecolor": "white",
           "landcolor": "#E5ECF6",
           "showlakes": true,
           "showland": true,
           "subunitcolor": "white"
          },
          "hoverlabel": {
           "align": "left"
          },
          "hovermode": "closest",
          "mapbox": {
           "style": "light"
          },
          "paper_bgcolor": "white",
          "plot_bgcolor": "#E5ECF6",
          "polar": {
           "angularaxis": {
            "gridcolor": "white",
            "linecolor": "white",
            "ticks": ""
           },
           "bgcolor": "#E5ECF6",
           "radialaxis": {
            "gridcolor": "white",
            "linecolor": "white",
            "ticks": ""
           }
          },
          "scene": {
           "xaxis": {
            "backgroundcolor": "#E5ECF6",
            "gridcolor": "white",
            "gridwidth": 2,
            "linecolor": "white",
            "showbackground": true,
            "ticks": "",
            "zerolinecolor": "white"
           },
           "yaxis": {
            "backgroundcolor": "#E5ECF6",
            "gridcolor": "white",
            "gridwidth": 2,
            "linecolor": "white",
            "showbackground": true,
            "ticks": "",
            "zerolinecolor": "white"
           },
           "zaxis": {
            "backgroundcolor": "#E5ECF6",
            "gridcolor": "white",
            "gridwidth": 2,
            "linecolor": "white",
            "showbackground": true,
            "ticks": "",
            "zerolinecolor": "white"
           }
          },
          "shapedefaults": {
           "line": {
            "color": "#2a3f5f"
           }
          },
          "ternary": {
           "aaxis": {
            "gridcolor": "white",
            "linecolor": "white",
            "ticks": ""
           },
           "baxis": {
            "gridcolor": "white",
            "linecolor": "white",
            "ticks": ""
           },
           "bgcolor": "#E5ECF6",
           "caxis": {
            "gridcolor": "white",
            "linecolor": "white",
            "ticks": ""
           }
          },
          "title": {
           "x": 0.05
          },
          "xaxis": {
           "automargin": true,
           "gridcolor": "white",
           "linecolor": "white",
           "ticks": "",
           "title": {
            "standoff": 15
           },
           "zerolinecolor": "white",
           "zerolinewidth": 2
          },
          "yaxis": {
           "automargin": true,
           "gridcolor": "white",
           "linecolor": "white",
           "ticks": "",
           "title": {
            "standoff": 15
           },
           "zerolinecolor": "white",
           "zerolinewidth": 2
          }
         }
        },
        "title": {
         "font": {
          "color": "lightgrey",
          "family": "sans-serif",
          "size": 24
         },
         "text": "",
         "x": 0.5
        },
        "width": 800,
        "xaxis": {
         "autorange": true,
         "color": "lightgrey",
         "dtick": 1,
         "gridcolor": "#343846",
         "gridwidth": 0.5,
         "showgrid": false,
         "showline": false,
         "showticklabels": true,
         "tickfont": {
          "color": "lightgrey",
          "size": 13
         },
         "tickformat": "",
         "tickmode": "auto",
         "title": {
          "font": {
           "color": "lightgrey",
           "family": "sans-serif",
           "size": 18
          },
          "text": ""
         },
         "type": "-",
         "zeroline": false,
         "zerolinecolor": "grey"
        },
        "yaxis": {
         "autorange": true,
         "color": "lightgrey",
         "dtick": 1,
         "gridcolor": "#343846",
         "gridwidth": 0.5,
         "showgrid": true,
         "showline": false,
         "showticklabels": true,
         "tickfont": {
          "color": "lightgrey",
          "size": 13
         },
         "tickformat": "",
         "tickmode": "array",
         "ticks": "",
         "tickvals": [
          "Switzerland (2011)",
          "Chile (2013)",
          "Japan (2014)",
          "United States (2012)",
          "Slovenia (2014)",
          "Canada (2011)",
          "Poland (2010)",
          "Estonia (2015)",
          "Luxembourg (2013)",
          "Portugal (2011)"
         ],
         "title": {
          "font": {
           "color": "lightgrey",
           "family": "sans-serif",
           "size": 18
          },
          "text": ""
         },
         "type": "-",
         "zeroline": true,
         "zerolinecolor": "grey"
        }
       }
      },
      "text/html": "<div>\n        \n        \n            <div id=\"b519ad50-d3ca-47a8-9d89-1b2464d7f8e7\" class=\"plotly-graph-div\" style=\"height:600px; width:800px;\"></div>\n            <script type=\"text/javascript\">\n                require([\"plotly\"], function(Plotly) {\n                    window.PLOTLYENV=window.PLOTLYENV || {};\n                    \n                if (document.getElementById(\"b519ad50-d3ca-47a8-9d89-1b2464d7f8e7\")) {\n                    Plotly.newPlot(\n                        'b519ad50-d3ca-47a8-9d89-1b2464d7f8e7',\n                        [{\"mode\": \"markers\", \"name\": \"voting_pop\", \"type\": \"scatter\", \"x\": [40.0, 45.7, 52.0, 53.6, 54.1, 54.2, 54.5, 54.7, 55.1, 56.6], \"y\": [\"Switzerland (2011)\", \"Chile (2013)\", \"Japan (2014)\", \"United States (2012)\", \"Slovenia (2014)\", \"Canada (2011)\", \"Poland (2010)\", \"Estonia (2015)\", \"Luxembourg (2013)\", \"Portugal (2011)\"]}, {\"mode\": \"markers\", \"name\": \"reg_voters\", \"type\": \"scatter\", \"x\": [49.1, 42.0, 52.7, 84.3, 51.7, 61.1, 55.3, 64.2, 91.1, 58.9], \"y\": [\"Switzerland (2011)\", \"Chile (2013)\", \"Japan (2014)\", \"United States (2012)\", \"Slovenia (2014)\", \"Canada (2011)\", \"Poland (2010)\", \"Estonia (2015)\", \"Luxembourg (2013)\", \"Portugal (2011)\"]}],\n                        {\"autosize\": false, \"height\": 600, \"legend\": {\"bordercolor\": \"#202534\", \"borderwidth\": 0, \"font\": {\"color\": \"lightgrey\", \"family\": \"sans-serif\", \"size\": 12}, \"orientation\": \"v\", \"traceorder\": \"normal\", \"x\": 1.02, \"xanchor\": \"left\", \"y\": 1, \"yanchor\": \"middle\"}, \"margin\": {\"b\": 75, \"l\": 75, \"pad\": 10, \"r\": 50, \"t\": 75}, \"paper_bgcolor\": \"#202534\", \"plot_bgcolor\": \"#202534\", \"template\": {\"data\": {\"bar\": [{\"error_x\": {\"color\": \"#2a3f5f\"}, \"error_y\": {\"color\": \"#2a3f5f\"}, \"marker\": {\"line\": {\"color\": \"#E5ECF6\", \"width\": 0.5}}, \"type\": \"bar\"}], \"barpolar\": [{\"marker\": {\"line\": {\"color\": \"#E5ECF6\", \"width\": 0.5}}, \"type\": \"barpolar\"}], \"carpet\": [{\"aaxis\": {\"endlinecolor\": \"#2a3f5f\", \"gridcolor\": \"white\", \"linecolor\": \"white\", \"minorgridcolor\": \"white\", \"startlinecolor\": \"#2a3f5f\"}, \"baxis\": {\"endlinecolor\": \"#2a3f5f\", \"gridcolor\": \"white\", \"linecolor\": \"white\", \"minorgridcolor\": \"white\", \"startlinecolor\": \"#2a3f5f\"}, \"type\": \"carpet\"}], \"choropleth\": [{\"colorbar\": {\"outlinewidth\": 0, \"ticks\": \"\"}, \"type\": \"choropleth\"}], \"contour\": [{\"colorbar\": {\"outlinewidth\": 0, \"ticks\": \"\"}, \"colorscale\": [[0.0, \"#0d0887\"], [0.1111111111111111, \"#46039f\"], [0.2222222222222222, \"#7201a8\"], [0.3333333333333333, \"#9c179e\"], [0.4444444444444444, \"#bd3786\"], [0.5555555555555556, \"#d8576b\"], [0.6666666666666666, \"#ed7953\"], [0.7777777777777778, \"#fb9f3a\"], [0.8888888888888888, \"#fdca26\"], [1.0, \"#f0f921\"]], \"type\": \"contour\"}], \"contourcarpet\": [{\"colorbar\": {\"outlinewidth\": 0, \"ticks\": \"\"}, \"type\": \"contourcarpet\"}], \"heatmap\": [{\"colorbar\": {\"outlinewidth\": 0, \"ticks\": \"\"}, \"colorscale\": [[0.0, \"#0d0887\"], [0.1111111111111111, \"#46039f\"], [0.2222222222222222, \"#7201a8\"], [0.3333333333333333, \"#9c179e\"], [0.4444444444444444, \"#bd3786\"], [0.5555555555555556, \"#d8576b\"], [0.6666666666666666, \"#ed7953\"], [0.7777777777777778, \"#fb9f3a\"], [0.8888888888888888, \"#fdca26\"], [1.0, \"#f0f921\"]], \"type\": \"heatmap\"}], \"heatmapgl\": [{\"colorbar\": {\"outlinewidth\": 0, \"ticks\": \"\"}, \"colorscale\": [[0.0, \"#0d0887\"], [0.1111111111111111, \"#46039f\"], [0.2222222222222222, \"#7201a8\"], [0.3333333333333333, \"#9c179e\"], [0.4444444444444444, \"#bd3786\"], [0.5555555555555556, \"#d8576b\"], [0.6666666666666666, \"#ed7953\"], [0.7777777777777778, \"#fb9f3a\"], [0.8888888888888888, \"#fdca26\"], [1.0, \"#f0f921\"]], \"type\": \"heatmapgl\"}], \"histogram\": [{\"marker\": {\"colorbar\": {\"outlinewidth\": 0, \"ticks\": \"\"}}, \"type\": \"histogram\"}], \"histogram2d\": [{\"colorbar\": {\"outlinewidth\": 0, \"ticks\": \"\"}, \"colorscale\": [[0.0, \"#0d0887\"], [0.1111111111111111, \"#46039f\"], [0.2222222222222222, \"#7201a8\"], [0.3333333333333333, \"#9c179e\"], [0.4444444444444444, \"#bd3786\"], [0.5555555555555556, \"#d8576b\"], [0.6666666666666666, \"#ed7953\"], [0.7777777777777778, \"#fb9f3a\"], [0.8888888888888888, \"#fdca26\"], [1.0, \"#f0f921\"]], \"type\": \"histogram2d\"}], \"histogram2dcontour\": [{\"colorbar\": {\"outlinewidth\": 0, \"ticks\": \"\"}, \"colorscale\": [[0.0, \"#0d0887\"], [0.1111111111111111, \"#46039f\"], [0.2222222222222222, \"#7201a8\"], [0.3333333333333333, \"#9c179e\"], [0.4444444444444444, \"#bd3786\"], [0.5555555555555556, \"#d8576b\"], [0.6666666666666666, \"#ed7953\"], [0.7777777777777778, \"#fb9f3a\"], [0.8888888888888888, \"#fdca26\"], [1.0, \"#f0f921\"]], \"type\": \"histogram2dcontour\"}], \"mesh3d\": [{\"colorbar\": {\"outlinewidth\": 0, \"ticks\": \"\"}, \"type\": \"mesh3d\"}], \"parcoords\": [{\"line\": {\"colorbar\": {\"outlinewidth\": 0, \"ticks\": \"\"}}, \"type\": \"parcoords\"}], \"pie\": [{\"automargin\": true, \"type\": \"pie\"}], \"scatter\": [{\"marker\": {\"colorbar\": {\"outlinewidth\": 0, \"ticks\": \"\"}}, \"type\": \"scatter\"}], \"scatter3d\": [{\"line\": {\"colorbar\": {\"outlinewidth\": 0, \"ticks\": \"\"}}, \"marker\": {\"colorbar\": {\"outlinewidth\": 0, \"ticks\": \"\"}}, \"type\": \"scatter3d\"}], \"scattercarpet\": [{\"marker\": {\"colorbar\": {\"outlinewidth\": 0, \"ticks\": \"\"}}, \"type\": \"scattercarpet\"}], \"scattergeo\": [{\"marker\": {\"colorbar\": {\"outlinewidth\": 0, \"ticks\": \"\"}}, \"type\": \"scattergeo\"}], \"scattergl\": [{\"marker\": {\"colorbar\": {\"outlinewidth\": 0, \"ticks\": \"\"}}, \"type\": \"scattergl\"}], \"scattermapbox\": [{\"marker\": {\"colorbar\": {\"outlinewidth\": 0, \"ticks\": \"\"}}, \"type\": \"scattermapbox\"}], \"scatterpolar\": [{\"marker\": {\"colorbar\": {\"outlinewidth\": 0, \"ticks\": \"\"}}, \"type\": \"scatterpolar\"}], \"scatterpolargl\": [{\"marker\": {\"colorbar\": {\"outlinewidth\": 0, \"ticks\": \"\"}}, \"type\": \"scatterpolargl\"}], \"scatterternary\": [{\"marker\": {\"colorbar\": {\"outlinewidth\": 0, \"ticks\": \"\"}}, \"type\": \"scatterternary\"}], \"surface\": [{\"colorbar\": {\"outlinewidth\": 0, \"ticks\": \"\"}, \"colorscale\": [[0.0, \"#0d0887\"], [0.1111111111111111, \"#46039f\"], [0.2222222222222222, \"#7201a8\"], [0.3333333333333333, \"#9c179e\"], [0.4444444444444444, \"#bd3786\"], [0.5555555555555556, \"#d8576b\"], [0.6666666666666666, \"#ed7953\"], [0.7777777777777778, \"#fb9f3a\"], [0.8888888888888888, \"#fdca26\"], [1.0, \"#f0f921\"]], \"type\": \"surface\"}], \"table\": [{\"cells\": {\"fill\": {\"color\": \"#EBF0F8\"}, \"line\": {\"color\": \"white\"}}, \"header\": {\"fill\": {\"color\": \"#C8D4E3\"}, \"line\": {\"color\": \"white\"}}, \"type\": \"table\"}]}, \"layout\": {\"annotationdefaults\": {\"arrowcolor\": \"#2a3f5f\", \"arrowhead\": 0, \"arrowwidth\": 1}, \"coloraxis\": {\"colorbar\": {\"outlinewidth\": 0, \"ticks\": \"\"}}, \"colorscale\": {\"diverging\": [[0, \"#8e0152\"], [0.1, \"#c51b7d\"], [0.2, \"#de77ae\"], [0.3, \"#f1b6da\"], [0.4, \"#fde0ef\"], [0.5, \"#f7f7f7\"], [0.6, \"#e6f5d0\"], [0.7, \"#b8e186\"], [0.8, \"#7fbc41\"], [0.9, \"#4d9221\"], [1, \"#276419\"]], \"sequential\": [[0.0, \"#0d0887\"], [0.1111111111111111, \"#46039f\"], [0.2222222222222222, \"#7201a8\"], [0.3333333333333333, \"#9c179e\"], [0.4444444444444444, \"#bd3786\"], [0.5555555555555556, \"#d8576b\"], [0.6666666666666666, \"#ed7953\"], [0.7777777777777778, \"#fb9f3a\"], [0.8888888888888888, \"#fdca26\"], [1.0, \"#f0f921\"]], \"sequentialminus\": [[0.0, \"#0d0887\"], [0.1111111111111111, \"#46039f\"], [0.2222222222222222, \"#7201a8\"], [0.3333333333333333, \"#9c179e\"], [0.4444444444444444, \"#bd3786\"], [0.5555555555555556, \"#d8576b\"], [0.6666666666666666, \"#ed7953\"], [0.7777777777777778, \"#fb9f3a\"], [0.8888888888888888, \"#fdca26\"], [1.0, \"#f0f921\"]]}, \"colorway\": [\"#636efa\", \"#EF553B\", \"#00cc96\", \"#ab63fa\", \"#FFA15A\", \"#19d3f3\", \"#FF6692\", \"#B6E880\", \"#FF97FF\", \"#FECB52\"], \"font\": {\"color\": \"#2a3f5f\"}, \"geo\": {\"bgcolor\": \"white\", \"lakecolor\": \"white\", \"landcolor\": \"#E5ECF6\", \"showlakes\": true, \"showland\": true, \"subunitcolor\": \"white\"}, \"hoverlabel\": {\"align\": \"left\"}, \"hovermode\": \"closest\", \"mapbox\": {\"style\": \"light\"}, \"paper_bgcolor\": \"white\", \"plot_bgcolor\": \"#E5ECF6\", \"polar\": {\"angularaxis\": {\"gridcolor\": \"white\", \"linecolor\": \"white\", \"ticks\": \"\"}, \"bgcolor\": \"#E5ECF6\", \"radialaxis\": {\"gridcolor\": \"white\", \"linecolor\": \"white\", \"ticks\": \"\"}}, \"scene\": {\"xaxis\": {\"backgroundcolor\": \"#E5ECF6\", \"gridcolor\": \"white\", \"gridwidth\": 2, \"linecolor\": \"white\", \"showbackground\": true, \"ticks\": \"\", \"zerolinecolor\": \"white\"}, \"yaxis\": {\"backgroundcolor\": \"#E5ECF6\", \"gridcolor\": \"white\", \"gridwidth\": 2, \"linecolor\": \"white\", \"showbackground\": true, \"ticks\": \"\", \"zerolinecolor\": \"white\"}, \"zaxis\": {\"backgroundcolor\": \"#E5ECF6\", \"gridcolor\": \"white\", \"gridwidth\": 2, \"linecolor\": \"white\", \"showbackground\": true, \"ticks\": \"\", \"zerolinecolor\": \"white\"}}, \"shapedefaults\": {\"line\": {\"color\": \"#2a3f5f\"}}, \"ternary\": {\"aaxis\": {\"gridcolor\": \"white\", \"linecolor\": \"white\", \"ticks\": \"\"}, \"baxis\": {\"gridcolor\": \"white\", \"linecolor\": \"white\", \"ticks\": \"\"}, \"bgcolor\": \"#E5ECF6\", \"caxis\": {\"gridcolor\": \"white\", \"linecolor\": \"white\", \"ticks\": \"\"}}, \"title\": {\"x\": 0.05}, \"xaxis\": {\"automargin\": true, \"gridcolor\": \"white\", \"linecolor\": \"white\", \"ticks\": \"\", \"title\": {\"standoff\": 15}, \"zerolinecolor\": \"white\", \"zerolinewidth\": 2}, \"yaxis\": {\"automargin\": true, \"gridcolor\": \"white\", \"linecolor\": \"white\", \"ticks\": \"\", \"title\": {\"standoff\": 15}, \"zerolinecolor\": \"white\", \"zerolinewidth\": 2}}}, \"title\": {\"font\": {\"color\": \"lightgrey\", \"family\": \"sans-serif\", \"size\": 24}, \"text\": \"\", \"x\": 0.5}, \"width\": 800, \"xaxis\": {\"autorange\": true, \"color\": \"lightgrey\", \"dtick\": 1, \"gridcolor\": \"#343846\", \"gridwidth\": 0.5, \"showgrid\": false, \"showline\": false, \"showticklabels\": true, \"tickfont\": {\"color\": \"lightgrey\", \"size\": 13}, \"tickformat\": \"\", \"tickmode\": \"auto\", \"title\": {\"font\": {\"color\": \"lightgrey\", \"family\": \"sans-serif\", \"size\": 18}, \"text\": \"\"}, \"type\": \"-\", \"zeroline\": false, \"zerolinecolor\": \"grey\"}, \"yaxis\": {\"autorange\": true, \"color\": \"lightgrey\", \"dtick\": 1, \"gridcolor\": \"#343846\", \"gridwidth\": 0.5, \"showgrid\": true, \"showline\": false, \"showticklabels\": true, \"tickfont\": {\"color\": \"lightgrey\", \"size\": 13}, \"tickformat\": \"\", \"tickmode\": \"array\", \"ticks\": \"\", \"tickvals\": [\"Switzerland (2011)\", \"Chile (2013)\", \"Japan (2014)\", \"United States (2012)\", \"Slovenia (2014)\", \"Canada (2011)\", \"Poland (2010)\", \"Estonia (2015)\", \"Luxembourg (2013)\", \"Portugal (2011)\"], \"title\": {\"font\": {\"color\": \"lightgrey\", \"family\": \"sans-serif\", \"size\": 18}, \"text\": \"\"}, \"type\": \"-\", \"zeroline\": true, \"zerolinecolor\": \"grey\"}},\n                        {\"responsive\": true}\n                    ).then(function(){\n                            \nvar gd = document.getElementById('b519ad50-d3ca-47a8-9d89-1b2464d7f8e7');\nvar x = new MutationObserver(function (mutations, observer) {{\n        var display = window.getComputedStyle(gd).display;\n        if (!display || display === 'none') {{\n            console.log([gd, 'removed!']);\n            Plotly.purge(gd);\n            observer.disconnect();\n        }}\n}});\n\n// Listen for the removal of the full notebook cells\nvar notebookContainer = gd.closest('#notebook-container');\nif (notebookContainer) {{\n    x.observe(notebookContainer, {childList: true});\n}}\n\n// Listen for the clearing of the current output cell\nvar outputEl = gd.closest('.output');\nif (outputEl) {{\n    x.observe(outputEl, {childList: true});\n}}\n\n                        })\n                };\n                });\n            </script>\n        </div>"
     },
     "metadata": {}
    }
   ],
   "source": [
    "country = ['Switzerland (2011)', 'Chile (2013)', 'Japan (2014)',\n",
    "           'United States (2012)', 'Slovenia (2014)', 'Canada (2011)',\n",
    "           'Poland (2010)', 'Estonia (2015)', 'Luxembourg (2013)', 'Portugal (2011)']\n",
    "voting_pop = [40, 45.7, 52, 53.6, 54.1, 54.2, 54.5, 54.7, 55.1, 56.6]\n",
    "reg_voters = [49.1, 42, 52.7, 84.3, 51.7, 61.1, 55.3, 64.2, 91.1, 58.9]\n",
    "data = pd.DataFrame(data=[voting_pop, reg_voters], columns=country, index=['voting_pop', 'reg_voters'])\n",
    "layout = chart.layout()\n",
    "chart.dot(data, layout)"
   ]
  },
  {
   "cell_type": "markdown",
   "metadata": {},
   "source": [
    "## Histogram"
   ]
  },
  {
   "cell_type": "code",
   "execution_count": 5,
   "metadata": {},
   "outputs": [
    {
     "output_type": "display_data",
     "data": {
      "application/vnd.plotly.v1+json": {
       "config": {
        "linkText": "Export to plot.ly",
        "plotlyServerURL": "https://plot.ly",
        "showLink": false
       },
       "data": [
        {
         "histfunc": "count",
         "histnorm": "percent",
         "marker": {
          "opacity": 0.5
         },
         "name": "Preben",
         "orientation": "v",
         "type": "histogram",
         "x": [
          0.6763652438871599,
          -0.8590113551635266,
          -1.54492129106888,
          -0.820452824541747,
          -1.4432157558882168,
          -0.42595396561190574,
          0.7931741449804864,
          0.1741159250105094,
          0.8247655683659645,
          -0.3151121808044686,
          0.693204116053538,
          0.6337523422118496,
          -1.575709943084816,
          -1.955290532559474,
          0.5090724950674971,
          -0.061487097171987526,
          2.2879305894088704,
          1.4945361967593314,
          -0.4764784441996596,
          1.331272342502932,
          0.3077037691698448,
          -0.6670109958820835,
          1.6464039650763653,
          0.02479394269707688,
          -0.0013416896986683774,
          1.2553871113426347,
          0.7880386961558351,
          0.2767946731722972,
          -0.3541736877622848,
          0.6255372335624723,
          -0.41849695628253836,
          1.7419174839804203,
          -1.7250744298754739,
          -0.8646804861384692,
          -0.9150718508281579,
          1.2151835361745047,
          0.3680764725790175,
          -0.0004693147575068328,
          -0.27833672913463725,
          -0.7281909657543214,
          0.5093163620279132,
          -0.09582264656135628,
          0.9946225794443857,
          0.2446163123000246,
          -1.8991549254370181,
          -0.836755985123113,
          1.536610655595143,
          0.035676683957902564,
          1.0951336903847622,
          -1.2157796865103765,
          -0.7121270915868549,
          0.3722461177398032,
          -1.2821363284227585,
          -0.612088249054336,
          0.8329427835886266,
          0.21925020676492907,
          -2.0028362518154954,
          0.870323980432202,
          0.5059642844312228,
          0.7289743162984491,
          -0.6069938485194549,
          0.17106457600526473,
          0.4519264733727719,
          0.5642052316952756,
          -0.2891151323991106,
          -0.5994931296531847,
          -1.3283047199170512,
          1.4486779926353064,
          2.3152075679157047,
          -0.6443498266747903,
          -0.00997174159291365,
          -1.2623906783920913,
          0.19952810071983113,
          2.0497512738354695,
          0.6757616969050276,
          0.9134817404191654,
          -0.2660983972642864,
          -2.4538408259688933,
          1.1460004777612278,
          0.2914531570424324,
          -1.3705167983799884,
          -1.1724930923625556,
          -1.4195359776490273,
          -0.22203195847733825,
          0.9762855563144897,
          -1.1819315234003465,
          -0.3162065407957699,
          -0.9856401027376688,
          0.09493196065356961,
          -0.12721763522213164,
          -0.9160873888757753,
          -0.38441497657837137,
          -0.6676296209407286,
          -0.09034791938761803,
          0.10789669307774816,
          1.4369758583657017,
          0.6459617275183119,
          -0.368903961595409,
          -0.2181909173418294,
          -0.015527894859255537,
          1.394809709321753,
          -0.5341844255382849,
          2.7168224645121732,
          1.40521053798173,
          1.9512261705320817,
          0.05616937709245626,
          -0.4914445304564921,
          -1.1719400235938142,
          1.8793060831712012,
          -0.2733121069412725,
          -1.0160215171528157,
          -0.6641501404230841,
          0.651295616986743,
          1.490263665662021,
          -0.6883165542121482,
          -0.26704285208243095,
          0.0039926977387272945,
          -1.097597221234956,
          1.1733065472989983,
          0.5779494126017346,
          -1.2552455874014952,
          0.4057169008513431,
          -1.0378238253406913,
          -0.17739259231910345,
          0.5001771554710934,
          0.564833231504659,
          -1.6628271589918424,
          -0.41295431630253415,
          0.9086703255929616,
          2.53073219890999,
          -0.9237688307206756,
          -1.0111559649700257,
          0.06240538607874398,
          -2.4420563564452276,
          0.2029362370841537,
          0.16309041935050198,
          -1.5691134438323417,
          -0.4925934370593018,
          0.05975452616622649,
          -0.9531134823762928,
          -0.7408430728534539,
          1.1094819702460652,
          -0.9499844493302715,
          -1.3913454488148076,
          -0.05150890718800414,
          -0.021569226353626722,
          2.9752295205695027,
          0.41473545356267083,
          -1.3934235585026578,
          -0.21840050432635408,
          0.19532930352172376,
          1.1171837449303819,
          -0.7797907942619707,
          -0.5740817286754132,
          0.3426345178821818,
          -0.12621207430763692,
          -0.41092333919202967,
          0.8844879656841613,
          0.0892452350636663,
          0.80430837627309,
          -0.29439634794225894,
          0.8580580625064131,
          0.31751359318617595,
          0.24057032861540942,
          1.07052000342476,
          0.2469371210316795,
          0.2686365608348357,
          -0.07228462124906919,
          -0.6310262759410439,
          -1.1841953092023618,
          -0.7357736801452932,
          0.20132200669803513,
          -0.2118263958751275,
          -1.3416083792609501,
          -0.4052322322170504,
          -0.13036692099668704,
          -0.3308043342198672,
          -0.9443784616470606,
          -0.46375250125629874,
          -1.0063889134196873,
          0.2627771885756576,
          0.56842530470213,
          -0.2657192430705351,
          0.1171644019482672,
          0.025886293039217023,
          0.17801974291400466,
          -3.493745876078415,
          -0.9887051369235714,
          0.9016294606644703,
          -0.5500297432992913,
          1.2200003871852876,
          0.6920785535754279,
          1.3527210359961621,
          -0.779476044679489,
          -1.6605906755868662,
          -0.8232331925031869,
          1.6958129138354572,
          -1.7137957959939965,
          -0.5994495492570511,
          0.24316072037103034,
          0.9804719783748748,
          0.9041128420319463,
          -1.4415377216628913,
          0.09732144838846439,
          -0.09890886246082733,
          0.7952219902463814,
          0.3242382521843639,
          -1.624985102796635,
          0.2928332587553915,
          -0.2234562449843267,
          -2.1492950759274674,
          -0.7463259108709785,
          0.32384650266116216,
          1.1028838278070383,
          0.4507775330037808,
          0.6056206090809784,
          0.4829637073711352,
          -0.12637241984560035,
          -2.1752462821089167,
          -0.7657679689474216,
          2.550365381055698,
          -0.7920788174115343,
          -1.4666676835977113,
          0.30356481457795237,
          1.3490254960456516,
          0.2901032358867025,
          -0.7101067159009578,
          -1.777242140482985,
          -1.532933128734462,
          -0.06941511356605985,
          0.44211897878918505,
          1.1809989364739841,
          0.24404279499925385,
          -2.1438541036222327,
          -0.678104854831124,
          -0.24051349660919413,
          0.22894086769520672,
          -0.5446128099964822,
          0.3272197971161037,
          -0.3036802165324453,
          -0.7167140754793859,
          0.934381693199237,
          -0.9501102529518538,
          -0.7220618611264622,
          -0.05914705272931725,
          -1.7663149066155681,
          -0.5260024961552415,
          0.7619293765602332,
          -0.6713707997002321,
          1.595428335260266,
          -2.114747970740229,
          0.8830492424532804,
          0.3551854912614949,
          -0.8478610832158378,
          -1.1999634207704053,
          1.4232833381205088,
          -0.14687580073689957,
          -1.2710915045865745,
          -0.3607044546155013,
          0.7035476603573799,
          -0.2710654185133288,
          2.2320533125127873,
          -0.4274621168117954,
          0.9308353737458757,
          0.07116409885943839,
          0.3206433025193373,
          1.7188645383573027,
          -0.7690224930289822,
          0.32527444138349,
          1.233550626299878,
          0.24432921490269313,
          -1.5082663676984078,
          0.28269848870009606,
          -0.7004998753131885,
          -0.8810803715451535,
          0.862535943733673,
          -0.5658441791606592,
          -0.1547450582972535,
          -0.32045750416752355,
          0.6939043151554565,
          0.866739978486634,
          1.3737368145863202,
          -1.327664664521525,
          -1.0839402259335509,
          0.24112892899400445,
          0.12600171517696926,
          0.9179458371780833,
          -1.0024734171562748,
          0.9044486940751618,
          0.19361101461396638,
          -0.4346921709451923,
          0.5317159563982603,
          0.4581720256551693,
          0.26511727297354226,
          1.4858508645485191,
          0.0881358312429035,
          0.26393288789399444,
          0.1495383218742873,
          0.3779910123899793,
          -0.9667458449450606,
          -0.061674811190869205,
          -0.7616894331414478,
          -0.0824462723193859,
          1.3296429376217496,
          -0.8309792056820956,
          -0.39439833381015965,
          1.5965688258217672,
          0.6673603710061464,
          0.10639180172888552,
          0.24307818915380114,
          0.7312399988033783,
          0.051341311676493376,
          -1.4575608629352197,
          -1.3533454527200721,
          1.4544942334695004,
          -1.1731510727963648,
          1.022836709429911,
          -1.0045915560625214,
          -1.554949125620424,
          -1.5801135587907327,
          -0.22871692953196857,
          0.7788850192604613,
          0.9020399361159781,
          0.5494240284374252,
          1.1395116915543013,
          0.18113957893776642,
          0.23121003355756073,
          1.5002995595249486,
          1.5028794572859359,
          1.3597731917826499,
          2.20654358602077,
          0.9556039220417102,
          -0.5740997576069741,
          -0.9898140201935872,
          -1.4075620139809895,
          -0.8617708068386687,
          0.19107598579973642,
          0.3995053404920973,
          -2.556093566697943,
          0.26376655577189034,
          0.5248662432167738,
          -1.4581542314631135,
          0.17501207777861288,
          -0.8570345158694122,
          0.2998946273621328,
          -0.4651258085720605,
          0.2409057879457011,
          1.72108103982119,
          0.813820752711985,
          -0.506906312640226,
          -0.70513604502959,
          1.079851286309956,
          0.10572102599658985,
          0.7840834153497908,
          -0.16517252477031583,
          -0.6514189530900809,
          -1.0865074762453677,
          -0.29660020016312805,
          0.33432601148487895,
          0.22027257761892105,
          -0.1714716384582115,
          2.6128169585985446,
          -0.3684606189928536,
          0.13312630023809424,
          -0.4481287782392927,
          0.1922148889528472,
          0.13717480808825547,
          1.190788502858637,
          0.08956129275397928,
          0.3584034849308593,
          -1.4554915487856412,
          -0.9013519596978492,
          -0.28336364342669546,
          -0.25726719801368064,
          0.8155635881971338,
          0.5335139659594791,
          0.8265011843132675,
          -0.6961926370755002,
          0.7323676198535914,
          -0.7136115198990256,
          -0.16241074009138007,
          0.8720666133652601,
          0.6332901798796136,
          0.09321200803073193,
          -0.5686939100740408,
          -0.6914214516419981,
          -0.7542448455383208,
          -0.14712574564960995,
          2.579687409666723,
          -0.36349507908485446,
          0.9577964537993598,
          -0.27843151025553464,
          0.19080956696037862,
          1.9410898450307583,
          -2.583286092707062,
          -1.1703206534044142,
          -0.57049710762994,
          -0.1502552185788978,
          -0.9819296107191987,
          -0.05028227622145003,
          0.3203291184281088,
          -1.3039347003190118,
          -0.4454343002183224,
          2.799104590413397,
          0.18747377311150903,
          -0.4113402635475118,
          -0.5625357595102125,
          0.8879119923208144,
          0.03890766768046273,
          -0.1934851711098012,
          -1.1599792522255863,
          -1.5050026026506829,
          0.45656724044850755,
          0.8995759549933692,
          -0.4620622967046655,
          -0.43662853911757943,
          0.7240153197417118,
          -0.4659686926653658,
          -0.44426457713191353,
          -1.038673142975183,
          1.5387754491370118,
          0.6666213978747699,
          -0.9077420051842855,
          0.8028248317570333,
          0.9792301510009523,
          -1.2162689457122438,
          0.20896970842028945,
          0.06965487718465149,
          -0.74527904871512,
          0.13083876161217792,
          0.3098156241316939,
          -0.12575984935632142,
          0.059525898646269594,
          0.7824903532590215,
          -0.27116054825384533,
          0.48784814727143505,
          -0.9938869593150393,
          0.4160452933635808,
          0.6648717746116292,
          0.14324944568304143,
          0.172648910496586,
          1.5600634249088703,
          -0.43828508566048313,
          0.19379822703308347,
          1.0362040321521604,
          -1.3879811597816558,
          -0.47788763560747016,
          -0.9687720382165705,
          -1.2565013052337854,
          0.11715858699172745,
          -1.2304460331357825,
          0.5605509495276844,
          0.6264685047775316,
          0.804697242627806,
          0.4918551978830693,
          -0.9545687772543644,
          0.9405333287445918,
          0.2928844706925409,
          0.9290476467707873,
          1.0581436431836857,
          1.198181154051669,
          2.3666256315078242,
          -0.0738917125298946,
          0.028052330285612638,
          0.5781634899250432,
          -1.5428077386398928,
          0.8069485224783818,
          1.5607428127256762,
          0.23298343655807424,
          1.1367733828467181,
          1.5046550713112514,
          -2.002228741197508,
          -1.2378173650003157,
          -2.1253458330276396,
          1.4006343837633646,
          1.633155232149043,
          0.8646793913088587,
          0.9412199780554951,
          0.33089618657151626,
          -0.42619492292284045,
          -0.9872974519492818,
          -0.8767639198773588,
          0.3081883810239853,
          0.09638617547527624,
          2.0888003272009206,
          -0.35512578755544283,
          1.1210766705657849,
          -0.9106650888700363,
          -0.8252450386876097,
          -0.06796275957044533,
          0.004883796994800859,
          0.026537016785802094,
          0.4842831386690204,
          -0.4490447563183135,
          -0.3960807240952301,
          0.6461224169960951,
          0.023259384369123302,
          0.7146317245103921,
          0.5120771964525376,
          0.4487314069511483
         ]
        }
       ],
       "layout": {
        "autosize": false,
        "colorway": [
         "#f97306"
        ],
        "height": 600,
        "legend": {
         "bordercolor": "#202534",
         "borderwidth": 0,
         "font": {
          "color": "lightgrey",
          "family": "sans-serif",
          "size": 12
         },
         "orientation": "v",
         "traceorder": "normal",
         "x": 1.02,
         "xanchor": "left",
         "y": 1,
         "yanchor": "middle"
        },
        "margin": {
         "b": 75,
         "l": 75,
         "pad": 10,
         "r": 50,
         "t": 75
        },
        "paper_bgcolor": "#202534",
        "plot_bgcolor": "#202534",
        "template": {
         "data": {
          "bar": [
           {
            "error_x": {
             "color": "#2a3f5f"
            },
            "error_y": {
             "color": "#2a3f5f"
            },
            "marker": {
             "line": {
              "color": "#E5ECF6",
              "width": 0.5
             }
            },
            "type": "bar"
           }
          ],
          "barpolar": [
           {
            "marker": {
             "line": {
              "color": "#E5ECF6",
              "width": 0.5
             }
            },
            "type": "barpolar"
           }
          ],
          "carpet": [
           {
            "aaxis": {
             "endlinecolor": "#2a3f5f",
             "gridcolor": "white",
             "linecolor": "white",
             "minorgridcolor": "white",
             "startlinecolor": "#2a3f5f"
            },
            "baxis": {
             "endlinecolor": "#2a3f5f",
             "gridcolor": "white",
             "linecolor": "white",
             "minorgridcolor": "white",
             "startlinecolor": "#2a3f5f"
            },
            "type": "carpet"
           }
          ],
          "choropleth": [
           {
            "colorbar": {
             "outlinewidth": 0,
             "ticks": ""
            },
            "type": "choropleth"
           }
          ],
          "contour": [
           {
            "colorbar": {
             "outlinewidth": 0,
             "ticks": ""
            },
            "colorscale": [
             [
              0,
              "#0d0887"
             ],
             [
              0.1111111111111111,
              "#46039f"
             ],
             [
              0.2222222222222222,
              "#7201a8"
             ],
             [
              0.3333333333333333,
              "#9c179e"
             ],
             [
              0.4444444444444444,
              "#bd3786"
             ],
             [
              0.5555555555555556,
              "#d8576b"
             ],
             [
              0.6666666666666666,
              "#ed7953"
             ],
             [
              0.7777777777777778,
              "#fb9f3a"
             ],
             [
              0.8888888888888888,
              "#fdca26"
             ],
             [
              1,
              "#f0f921"
             ]
            ],
            "type": "contour"
           }
          ],
          "contourcarpet": [
           {
            "colorbar": {
             "outlinewidth": 0,
             "ticks": ""
            },
            "type": "contourcarpet"
           }
          ],
          "heatmap": [
           {
            "colorbar": {
             "outlinewidth": 0,
             "ticks": ""
            },
            "colorscale": [
             [
              0,
              "#0d0887"
             ],
             [
              0.1111111111111111,
              "#46039f"
             ],
             [
              0.2222222222222222,
              "#7201a8"
             ],
             [
              0.3333333333333333,
              "#9c179e"
             ],
             [
              0.4444444444444444,
              "#bd3786"
             ],
             [
              0.5555555555555556,
              "#d8576b"
             ],
             [
              0.6666666666666666,
              "#ed7953"
             ],
             [
              0.7777777777777778,
              "#fb9f3a"
             ],
             [
              0.8888888888888888,
              "#fdca26"
             ],
             [
              1,
              "#f0f921"
             ]
            ],
            "type": "heatmap"
           }
          ],
          "heatmapgl": [
           {
            "colorbar": {
             "outlinewidth": 0,
             "ticks": ""
            },
            "colorscale": [
             [
              0,
              "#0d0887"
             ],
             [
              0.1111111111111111,
              "#46039f"
             ],
             [
              0.2222222222222222,
              "#7201a8"
             ],
             [
              0.3333333333333333,
              "#9c179e"
             ],
             [
              0.4444444444444444,
              "#bd3786"
             ],
             [
              0.5555555555555556,
              "#d8576b"
             ],
             [
              0.6666666666666666,
              "#ed7953"
             ],
             [
              0.7777777777777778,
              "#fb9f3a"
             ],
             [
              0.8888888888888888,
              "#fdca26"
             ],
             [
              1,
              "#f0f921"
             ]
            ],
            "type": "heatmapgl"
           }
          ],
          "histogram": [
           {
            "marker": {
             "colorbar": {
              "outlinewidth": 0,
              "ticks": ""
             }
            },
            "type": "histogram"
           }
          ],
          "histogram2d": [
           {
            "colorbar": {
             "outlinewidth": 0,
             "ticks": ""
            },
            "colorscale": [
             [
              0,
              "#0d0887"
             ],
             [
              0.1111111111111111,
              "#46039f"
             ],
             [
              0.2222222222222222,
              "#7201a8"
             ],
             [
              0.3333333333333333,
              "#9c179e"
             ],
             [
              0.4444444444444444,
              "#bd3786"
             ],
             [
              0.5555555555555556,
              "#d8576b"
             ],
             [
              0.6666666666666666,
              "#ed7953"
             ],
             [
              0.7777777777777778,
              "#fb9f3a"
             ],
             [
              0.8888888888888888,
              "#fdca26"
             ],
             [
              1,
              "#f0f921"
             ]
            ],
            "type": "histogram2d"
           }
          ],
          "histogram2dcontour": [
           {
            "colorbar": {
             "outlinewidth": 0,
             "ticks": ""
            },
            "colorscale": [
             [
              0,
              "#0d0887"
             ],
             [
              0.1111111111111111,
              "#46039f"
             ],
             [
              0.2222222222222222,
              "#7201a8"
             ],
             [
              0.3333333333333333,
              "#9c179e"
             ],
             [
              0.4444444444444444,
              "#bd3786"
             ],
             [
              0.5555555555555556,
              "#d8576b"
             ],
             [
              0.6666666666666666,
              "#ed7953"
             ],
             [
              0.7777777777777778,
              "#fb9f3a"
             ],
             [
              0.8888888888888888,
              "#fdca26"
             ],
             [
              1,
              "#f0f921"
             ]
            ],
            "type": "histogram2dcontour"
           }
          ],
          "mesh3d": [
           {
            "colorbar": {
             "outlinewidth": 0,
             "ticks": ""
            },
            "type": "mesh3d"
           }
          ],
          "parcoords": [
           {
            "line": {
             "colorbar": {
              "outlinewidth": 0,
              "ticks": ""
             }
            },
            "type": "parcoords"
           }
          ],
          "pie": [
           {
            "automargin": true,
            "type": "pie"
           }
          ],
          "scatter": [
           {
            "marker": {
             "colorbar": {
              "outlinewidth": 0,
              "ticks": ""
             }
            },
            "type": "scatter"
           }
          ],
          "scatter3d": [
           {
            "line": {
             "colorbar": {
              "outlinewidth": 0,
              "ticks": ""
             }
            },
            "marker": {
             "colorbar": {
              "outlinewidth": 0,
              "ticks": ""
             }
            },
            "type": "scatter3d"
           }
          ],
          "scattercarpet": [
           {
            "marker": {
             "colorbar": {
              "outlinewidth": 0,
              "ticks": ""
             }
            },
            "type": "scattercarpet"
           }
          ],
          "scattergeo": [
           {
            "marker": {
             "colorbar": {
              "outlinewidth": 0,
              "ticks": ""
             }
            },
            "type": "scattergeo"
           }
          ],
          "scattergl": [
           {
            "marker": {
             "colorbar": {
              "outlinewidth": 0,
              "ticks": ""
             }
            },
            "type": "scattergl"
           }
          ],
          "scattermapbox": [
           {
            "marker": {
             "colorbar": {
              "outlinewidth": 0,
              "ticks": ""
             }
            },
            "type": "scattermapbox"
           }
          ],
          "scatterpolar": [
           {
            "marker": {
             "colorbar": {
              "outlinewidth": 0,
              "ticks": ""
             }
            },
            "type": "scatterpolar"
           }
          ],
          "scatterpolargl": [
           {
            "marker": {
             "colorbar": {
              "outlinewidth": 0,
              "ticks": ""
             }
            },
            "type": "scatterpolargl"
           }
          ],
          "scatterternary": [
           {
            "marker": {
             "colorbar": {
              "outlinewidth": 0,
              "ticks": ""
             }
            },
            "type": "scatterternary"
           }
          ],
          "surface": [
           {
            "colorbar": {
             "outlinewidth": 0,
             "ticks": ""
            },
            "colorscale": [
             [
              0,
              "#0d0887"
             ],
             [
              0.1111111111111111,
              "#46039f"
             ],
             [
              0.2222222222222222,
              "#7201a8"
             ],
             [
              0.3333333333333333,
              "#9c179e"
             ],
             [
              0.4444444444444444,
              "#bd3786"
             ],
             [
              0.5555555555555556,
              "#d8576b"
             ],
             [
              0.6666666666666666,
              "#ed7953"
             ],
             [
              0.7777777777777778,
              "#fb9f3a"
             ],
             [
              0.8888888888888888,
              "#fdca26"
             ],
             [
              1,
              "#f0f921"
             ]
            ],
            "type": "surface"
           }
          ],
          "table": [
           {
            "cells": {
             "fill": {
              "color": "#EBF0F8"
             },
             "line": {
              "color": "white"
             }
            },
            "header": {
             "fill": {
              "color": "#C8D4E3"
             },
             "line": {
              "color": "white"
             }
            },
            "type": "table"
           }
          ]
         },
         "layout": {
          "annotationdefaults": {
           "arrowcolor": "#2a3f5f",
           "arrowhead": 0,
           "arrowwidth": 1
          },
          "coloraxis": {
           "colorbar": {
            "outlinewidth": 0,
            "ticks": ""
           }
          },
          "colorscale": {
           "diverging": [
            [
             0,
             "#8e0152"
            ],
            [
             0.1,
             "#c51b7d"
            ],
            [
             0.2,
             "#de77ae"
            ],
            [
             0.3,
             "#f1b6da"
            ],
            [
             0.4,
             "#fde0ef"
            ],
            [
             0.5,
             "#f7f7f7"
            ],
            [
             0.6,
             "#e6f5d0"
            ],
            [
             0.7,
             "#b8e186"
            ],
            [
             0.8,
             "#7fbc41"
            ],
            [
             0.9,
             "#4d9221"
            ],
            [
             1,
             "#276419"
            ]
           ],
           "sequential": [
            [
             0,
             "#0d0887"
            ],
            [
             0.1111111111111111,
             "#46039f"
            ],
            [
             0.2222222222222222,
             "#7201a8"
            ],
            [
             0.3333333333333333,
             "#9c179e"
            ],
            [
             0.4444444444444444,
             "#bd3786"
            ],
            [
             0.5555555555555556,
             "#d8576b"
            ],
            [
             0.6666666666666666,
             "#ed7953"
            ],
            [
             0.7777777777777778,
             "#fb9f3a"
            ],
            [
             0.8888888888888888,
             "#fdca26"
            ],
            [
             1,
             "#f0f921"
            ]
           ],
           "sequentialminus": [
            [
             0,
             "#0d0887"
            ],
            [
             0.1111111111111111,
             "#46039f"
            ],
            [
             0.2222222222222222,
             "#7201a8"
            ],
            [
             0.3333333333333333,
             "#9c179e"
            ],
            [
             0.4444444444444444,
             "#bd3786"
            ],
            [
             0.5555555555555556,
             "#d8576b"
            ],
            [
             0.6666666666666666,
             "#ed7953"
            ],
            [
             0.7777777777777778,
             "#fb9f3a"
            ],
            [
             0.8888888888888888,
             "#fdca26"
            ],
            [
             1,
             "#f0f921"
            ]
           ]
          },
          "colorway": [
           "#636efa",
           "#EF553B",
           "#00cc96",
           "#ab63fa",
           "#FFA15A",
           "#19d3f3",
           "#FF6692",
           "#B6E880",
           "#FF97FF",
           "#FECB52"
          ],
          "font": {
           "color": "#2a3f5f"
          },
          "geo": {
           "bgcolor": "white",
           "lakecolor": "white",
           "landcolor": "#E5ECF6",
           "showlakes": true,
           "showland": true,
           "subunitcolor": "white"
          },
          "hoverlabel": {
           "align": "left"
          },
          "hovermode": "closest",
          "mapbox": {
           "style": "light"
          },
          "paper_bgcolor": "white",
          "plot_bgcolor": "#E5ECF6",
          "polar": {
           "angularaxis": {
            "gridcolor": "white",
            "linecolor": "white",
            "ticks": ""
           },
           "bgcolor": "#E5ECF6",
           "radialaxis": {
            "gridcolor": "white",
            "linecolor": "white",
            "ticks": ""
           }
          },
          "scene": {
           "xaxis": {
            "backgroundcolor": "#E5ECF6",
            "gridcolor": "white",
            "gridwidth": 2,
            "linecolor": "white",
            "showbackground": true,
            "ticks": "",
            "zerolinecolor": "white"
           },
           "yaxis": {
            "backgroundcolor": "#E5ECF6",
            "gridcolor": "white",
            "gridwidth": 2,
            "linecolor": "white",
            "showbackground": true,
            "ticks": "",
            "zerolinecolor": "white"
           },
           "zaxis": {
            "backgroundcolor": "#E5ECF6",
            "gridcolor": "white",
            "gridwidth": 2,
            "linecolor": "white",
            "showbackground": true,
            "ticks": "",
            "zerolinecolor": "white"
           }
          },
          "shapedefaults": {
           "line": {
            "color": "#2a3f5f"
           }
          },
          "ternary": {
           "aaxis": {
            "gridcolor": "white",
            "linecolor": "white",
            "ticks": ""
           },
           "baxis": {
            "gridcolor": "white",
            "linecolor": "white",
            "ticks": ""
           },
           "bgcolor": "#E5ECF6",
           "caxis": {
            "gridcolor": "white",
            "linecolor": "white",
            "ticks": ""
           }
          },
          "title": {
           "x": 0.05
          },
          "xaxis": {
           "automargin": true,
           "gridcolor": "white",
           "linecolor": "white",
           "ticks": "",
           "title": {
            "standoff": 15
           },
           "zerolinecolor": "white",
           "zerolinewidth": 2
          },
          "yaxis": {
           "automargin": true,
           "gridcolor": "white",
           "linecolor": "white",
           "ticks": "",
           "title": {
            "standoff": 15
           },
           "zerolinecolor": "white",
           "zerolinewidth": 2
          }
         }
        },
        "title": {
         "font": {
          "color": "lightgrey",
          "family": "sans-serif",
          "size": 24
         },
         "text": "",
         "x": 0.5
        },
        "width": 800,
        "xaxis": {
         "autorange": true,
         "color": "lightgrey",
         "dtick": 1,
         "gridcolor": "#343846",
         "gridwidth": 0.5,
         "showgrid": false,
         "showline": false,
         "showticklabels": true,
         "tickfont": {
          "color": "lightgrey",
          "size": 13
         },
         "tickformat": "",
         "tickmode": "auto",
         "title": {
          "font": {
           "color": "lightgrey",
           "family": "sans-serif",
           "size": 18
          },
          "text": ""
         },
         "type": "-",
         "zeroline": false,
         "zerolinecolor": "grey"
        },
        "yaxis": {
         "autorange": true,
         "color": "lightgrey",
         "dtick": 1,
         "gridcolor": "#343846",
         "gridwidth": 0.5,
         "showgrid": true,
         "showline": false,
         "showticklabels": true,
         "tickfont": {
          "color": "lightgrey",
          "size": 13
         },
         "tickformat": "",
         "tickmode": "auto",
         "ticks": "",
         "title": {
          "font": {
           "color": "lightgrey",
           "family": "sans-serif",
           "size": 18
          },
          "text": ""
         },
         "type": "-",
         "zeroline": true,
         "zerolinecolor": "grey"
        }
       }
      },
      "text/html": "<div>\n        \n        \n            <div id=\"ef924c42-9296-40c1-90a3-e96bd3aa61c0\" class=\"plotly-graph-div\" style=\"height:600px; width:800px;\"></div>\n            <script type=\"text/javascript\">\n                require([\"plotly\"], function(Plotly) {\n                    window.PLOTLYENV=window.PLOTLYENV || {};\n                    \n                if (document.getElementById(\"ef924c42-9296-40c1-90a3-e96bd3aa61c0\")) {\n                    Plotly.newPlot(\n                        'ef924c42-9296-40c1-90a3-e96bd3aa61c0',\n                        [{\"histfunc\": \"count\", \"histnorm\": \"percent\", \"marker\": {\"opacity\": 0.5}, \"name\": \"Preben\", \"orientation\": \"v\", \"type\": \"histogram\", \"x\": [0.6763652438871599, -0.8590113551635266, -1.54492129106888, -0.820452824541747, -1.4432157558882168, -0.42595396561190574, 0.7931741449804864, 0.1741159250105094, 0.8247655683659645, -0.3151121808044686, 0.693204116053538, 0.6337523422118496, -1.575709943084816, -1.955290532559474, 0.5090724950674971, -0.061487097171987526, 2.2879305894088704, 1.4945361967593314, -0.4764784441996596, 1.331272342502932, 0.3077037691698448, -0.6670109958820835, 1.6464039650763653, 0.02479394269707688, -0.0013416896986683774, 1.2553871113426347, 0.7880386961558351, 0.2767946731722972, -0.3541736877622848, 0.6255372335624723, -0.41849695628253836, 1.7419174839804203, -1.7250744298754739, -0.8646804861384692, -0.9150718508281579, 1.2151835361745047, 0.3680764725790175, -0.0004693147575068328, -0.27833672913463725, -0.7281909657543214, 0.5093163620279132, -0.09582264656135628, 0.9946225794443857, 0.2446163123000246, -1.8991549254370181, -0.836755985123113, 1.536610655595143, 0.035676683957902564, 1.0951336903847622, -1.2157796865103765, -0.7121270915868549, 0.3722461177398032, -1.2821363284227585, -0.612088249054336, 0.8329427835886266, 0.21925020676492907, -2.0028362518154954, 0.870323980432202, 0.5059642844312228, 0.7289743162984491, -0.6069938485194549, 0.17106457600526473, 0.4519264733727719, 0.5642052316952756, -0.2891151323991106, -0.5994931296531847, -1.3283047199170512, 1.4486779926353064, 2.3152075679157047, -0.6443498266747903, -0.00997174159291365, -1.2623906783920913, 0.19952810071983113, 2.0497512738354695, 0.6757616969050276, 0.9134817404191654, -0.2660983972642864, -2.4538408259688933, 1.1460004777612278, 0.2914531570424324, -1.3705167983799884, -1.1724930923625556, -1.4195359776490273, -0.22203195847733825, 0.9762855563144897, -1.1819315234003465, -0.3162065407957699, -0.9856401027376688, 0.09493196065356961, -0.12721763522213164, -0.9160873888757753, -0.38441497657837137, -0.6676296209407286, -0.09034791938761803, 0.10789669307774816, 1.4369758583657017, 0.6459617275183119, -0.368903961595409, -0.2181909173418294, -0.015527894859255537, 1.394809709321753, -0.5341844255382849, 2.7168224645121732, 1.40521053798173, 1.9512261705320817, 0.05616937709245626, -0.4914445304564921, -1.1719400235938142, 1.8793060831712012, -0.2733121069412725, -1.0160215171528157, -0.6641501404230841, 0.651295616986743, 1.490263665662021, -0.6883165542121482, -0.26704285208243095, 0.0039926977387272945, -1.097597221234956, 1.1733065472989983, 0.5779494126017346, -1.2552455874014952, 0.4057169008513431, -1.0378238253406913, -0.17739259231910345, 0.5001771554710934, 0.564833231504659, -1.6628271589918424, -0.41295431630253415, 0.9086703255929616, 2.53073219890999, -0.9237688307206756, -1.0111559649700257, 0.06240538607874398, -2.4420563564452276, 0.2029362370841537, 0.16309041935050198, -1.5691134438323417, -0.4925934370593018, 0.05975452616622649, -0.9531134823762928, -0.7408430728534539, 1.1094819702460652, -0.9499844493302715, -1.3913454488148076, -0.05150890718800414, -0.021569226353626722, 2.9752295205695027, 0.41473545356267083, -1.3934235585026578, -0.21840050432635408, 0.19532930352172376, 1.1171837449303819, -0.7797907942619707, -0.5740817286754132, 0.3426345178821818, -0.12621207430763692, -0.41092333919202967, 0.8844879656841613, 0.0892452350636663, 0.80430837627309, -0.29439634794225894, 0.8580580625064131, 0.31751359318617595, 0.24057032861540942, 1.07052000342476, 0.2469371210316795, 0.2686365608348357, -0.07228462124906919, -0.6310262759410439, -1.1841953092023618, -0.7357736801452932, 0.20132200669803513, -0.2118263958751275, -1.3416083792609501, -0.4052322322170504, -0.13036692099668704, -0.3308043342198672, -0.9443784616470606, -0.46375250125629874, -1.0063889134196873, 0.2627771885756576, 0.56842530470213, -0.2657192430705351, 0.1171644019482672, 0.025886293039217023, 0.17801974291400466, -3.493745876078415, -0.9887051369235714, 0.9016294606644703, -0.5500297432992913, 1.2200003871852876, 0.6920785535754279, 1.3527210359961621, -0.779476044679489, -1.6605906755868662, -0.8232331925031869, 1.6958129138354572, -1.7137957959939965, -0.5994495492570511, 0.24316072037103034, 0.9804719783748748, 0.9041128420319463, -1.4415377216628913, 0.09732144838846439, -0.09890886246082733, 0.7952219902463814, 0.3242382521843639, -1.624985102796635, 0.2928332587553915, -0.2234562449843267, -2.1492950759274674, -0.7463259108709785, 0.32384650266116216, 1.1028838278070383, 0.4507775330037808, 0.6056206090809784, 0.4829637073711352, -0.12637241984560035, -2.1752462821089167, -0.7657679689474216, 2.550365381055698, -0.7920788174115343, -1.4666676835977113, 0.30356481457795237, 1.3490254960456516, 0.2901032358867025, -0.7101067159009578, -1.777242140482985, -1.532933128734462, -0.06941511356605985, 0.44211897878918505, 1.1809989364739841, 0.24404279499925385, -2.1438541036222327, -0.678104854831124, -0.24051349660919413, 0.22894086769520672, -0.5446128099964822, 0.3272197971161037, -0.3036802165324453, -0.7167140754793859, 0.934381693199237, -0.9501102529518538, -0.7220618611264622, -0.05914705272931725, -1.7663149066155681, -0.5260024961552415, 0.7619293765602332, -0.6713707997002321, 1.595428335260266, -2.114747970740229, 0.8830492424532804, 0.3551854912614949, -0.8478610832158378, -1.1999634207704053, 1.4232833381205088, -0.14687580073689957, -1.2710915045865745, -0.3607044546155013, 0.7035476603573799, -0.2710654185133288, 2.2320533125127873, -0.4274621168117954, 0.9308353737458757, 0.07116409885943839, 0.3206433025193373, 1.7188645383573027, -0.7690224930289822, 0.32527444138349, 1.233550626299878, 0.24432921490269313, -1.5082663676984078, 0.28269848870009606, -0.7004998753131885, -0.8810803715451535, 0.862535943733673, -0.5658441791606592, -0.1547450582972535, -0.32045750416752355, 0.6939043151554565, 0.866739978486634, 1.3737368145863202, -1.327664664521525, -1.0839402259335509, 0.24112892899400445, 0.12600171517696926, 0.9179458371780833, -1.0024734171562748, 0.9044486940751618, 0.19361101461396638, -0.4346921709451923, 0.5317159563982603, 0.4581720256551693, 0.26511727297354226, 1.4858508645485191, 0.0881358312429035, 0.26393288789399444, 0.1495383218742873, 0.3779910123899793, -0.9667458449450606, -0.061674811190869205, -0.7616894331414478, -0.0824462723193859, 1.3296429376217496, -0.8309792056820956, -0.39439833381015965, 1.5965688258217672, 0.6673603710061464, 0.10639180172888552, 0.24307818915380114, 0.7312399988033783, 0.051341311676493376, -1.4575608629352197, -1.3533454527200721, 1.4544942334695004, -1.1731510727963648, 1.022836709429911, -1.0045915560625214, -1.554949125620424, -1.5801135587907327, -0.22871692953196857, 0.7788850192604613, 0.9020399361159781, 0.5494240284374252, 1.1395116915543013, 0.18113957893776642, 0.23121003355756073, 1.5002995595249486, 1.5028794572859359, 1.3597731917826499, 2.20654358602077, 0.9556039220417102, -0.5740997576069741, -0.9898140201935872, -1.4075620139809895, -0.8617708068386687, 0.19107598579973642, 0.3995053404920973, -2.556093566697943, 0.26376655577189034, 0.5248662432167738, -1.4581542314631135, 0.17501207777861288, -0.8570345158694122, 0.2998946273621328, -0.4651258085720605, 0.2409057879457011, 1.72108103982119, 0.813820752711985, -0.506906312640226, -0.70513604502959, 1.079851286309956, 0.10572102599658985, 0.7840834153497908, -0.16517252477031583, -0.6514189530900809, -1.0865074762453677, -0.29660020016312805, 0.33432601148487895, 0.22027257761892105, -0.1714716384582115, 2.6128169585985446, -0.3684606189928536, 0.13312630023809424, -0.4481287782392927, 0.1922148889528472, 0.13717480808825547, 1.190788502858637, 0.08956129275397928, 0.3584034849308593, -1.4554915487856412, -0.9013519596978492, -0.28336364342669546, -0.25726719801368064, 0.8155635881971338, 0.5335139659594791, 0.8265011843132675, -0.6961926370755002, 0.7323676198535914, -0.7136115198990256, -0.16241074009138007, 0.8720666133652601, 0.6332901798796136, 0.09321200803073193, -0.5686939100740408, -0.6914214516419981, -0.7542448455383208, -0.14712574564960995, 2.579687409666723, -0.36349507908485446, 0.9577964537993598, -0.27843151025553464, 0.19080956696037862, 1.9410898450307583, -2.583286092707062, -1.1703206534044142, -0.57049710762994, -0.1502552185788978, -0.9819296107191987, -0.05028227622145003, 0.3203291184281088, -1.3039347003190118, -0.4454343002183224, 2.799104590413397, 0.18747377311150903, -0.4113402635475118, -0.5625357595102125, 0.8879119923208144, 0.03890766768046273, -0.1934851711098012, -1.1599792522255863, -1.5050026026506829, 0.45656724044850755, 0.8995759549933692, -0.4620622967046655, -0.43662853911757943, 0.7240153197417118, -0.4659686926653658, -0.44426457713191353, -1.038673142975183, 1.5387754491370118, 0.6666213978747699, -0.9077420051842855, 0.8028248317570333, 0.9792301510009523, -1.2162689457122438, 0.20896970842028945, 0.06965487718465149, -0.74527904871512, 0.13083876161217792, 0.3098156241316939, -0.12575984935632142, 0.059525898646269594, 0.7824903532590215, -0.27116054825384533, 0.48784814727143505, -0.9938869593150393, 0.4160452933635808, 0.6648717746116292, 0.14324944568304143, 0.172648910496586, 1.5600634249088703, -0.43828508566048313, 0.19379822703308347, 1.0362040321521604, -1.3879811597816558, -0.47788763560747016, -0.9687720382165705, -1.2565013052337854, 0.11715858699172745, -1.2304460331357825, 0.5605509495276844, 0.6264685047775316, 0.804697242627806, 0.4918551978830693, -0.9545687772543644, 0.9405333287445918, 0.2928844706925409, 0.9290476467707873, 1.0581436431836857, 1.198181154051669, 2.3666256315078242, -0.0738917125298946, 0.028052330285612638, 0.5781634899250432, -1.5428077386398928, 0.8069485224783818, 1.5607428127256762, 0.23298343655807424, 1.1367733828467181, 1.5046550713112514, -2.002228741197508, -1.2378173650003157, -2.1253458330276396, 1.4006343837633646, 1.633155232149043, 0.8646793913088587, 0.9412199780554951, 0.33089618657151626, -0.42619492292284045, -0.9872974519492818, -0.8767639198773588, 0.3081883810239853, 0.09638617547527624, 2.0888003272009206, -0.35512578755544283, 1.1210766705657849, -0.9106650888700363, -0.8252450386876097, -0.06796275957044533, 0.004883796994800859, 0.026537016785802094, 0.4842831386690204, -0.4490447563183135, -0.3960807240952301, 0.6461224169960951, 0.023259384369123302, 0.7146317245103921, 0.5120771964525376, 0.4487314069511483]}],\n                        {\"autosize\": false, \"colorway\": [\"#f97306\"], \"height\": 600, \"legend\": {\"bordercolor\": \"#202534\", \"borderwidth\": 0, \"font\": {\"color\": \"lightgrey\", \"family\": \"sans-serif\", \"size\": 12}, \"orientation\": \"v\", \"traceorder\": \"normal\", \"x\": 1.02, \"xanchor\": \"left\", \"y\": 1, \"yanchor\": \"middle\"}, \"margin\": {\"b\": 75, \"l\": 75, \"pad\": 10, \"r\": 50, \"t\": 75}, \"paper_bgcolor\": \"#202534\", \"plot_bgcolor\": \"#202534\", \"template\": {\"data\": {\"bar\": [{\"error_x\": {\"color\": \"#2a3f5f\"}, \"error_y\": {\"color\": \"#2a3f5f\"}, \"marker\": {\"line\": {\"color\": \"#E5ECF6\", \"width\": 0.5}}, \"type\": \"bar\"}], \"barpolar\": [{\"marker\": {\"line\": {\"color\": \"#E5ECF6\", \"width\": 0.5}}, \"type\": \"barpolar\"}], \"carpet\": [{\"aaxis\": {\"endlinecolor\": \"#2a3f5f\", \"gridcolor\": \"white\", \"linecolor\": \"white\", \"minorgridcolor\": \"white\", \"startlinecolor\": \"#2a3f5f\"}, \"baxis\": {\"endlinecolor\": \"#2a3f5f\", \"gridcolor\": \"white\", \"linecolor\": \"white\", \"minorgridcolor\": \"white\", \"startlinecolor\": \"#2a3f5f\"}, \"type\": \"carpet\"}], \"choropleth\": [{\"colorbar\": {\"outlinewidth\": 0, \"ticks\": \"\"}, \"type\": \"choropleth\"}], \"contour\": [{\"colorbar\": {\"outlinewidth\": 0, \"ticks\": \"\"}, \"colorscale\": [[0.0, \"#0d0887\"], [0.1111111111111111, \"#46039f\"], [0.2222222222222222, \"#7201a8\"], [0.3333333333333333, \"#9c179e\"], [0.4444444444444444, \"#bd3786\"], [0.5555555555555556, \"#d8576b\"], [0.6666666666666666, \"#ed7953\"], [0.7777777777777778, \"#fb9f3a\"], [0.8888888888888888, \"#fdca26\"], [1.0, \"#f0f921\"]], \"type\": \"contour\"}], \"contourcarpet\": [{\"colorbar\": {\"outlinewidth\": 0, \"ticks\": \"\"}, \"type\": \"contourcarpet\"}], \"heatmap\": [{\"colorbar\": {\"outlinewidth\": 0, \"ticks\": \"\"}, \"colorscale\": [[0.0, \"#0d0887\"], [0.1111111111111111, \"#46039f\"], [0.2222222222222222, \"#7201a8\"], [0.3333333333333333, \"#9c179e\"], [0.4444444444444444, \"#bd3786\"], [0.5555555555555556, \"#d8576b\"], [0.6666666666666666, \"#ed7953\"], [0.7777777777777778, \"#fb9f3a\"], [0.8888888888888888, \"#fdca26\"], [1.0, \"#f0f921\"]], \"type\": \"heatmap\"}], \"heatmapgl\": [{\"colorbar\": {\"outlinewidth\": 0, \"ticks\": \"\"}, \"colorscale\": [[0.0, \"#0d0887\"], [0.1111111111111111, \"#46039f\"], [0.2222222222222222, \"#7201a8\"], [0.3333333333333333, \"#9c179e\"], [0.4444444444444444, \"#bd3786\"], [0.5555555555555556, \"#d8576b\"], [0.6666666666666666, \"#ed7953\"], [0.7777777777777778, \"#fb9f3a\"], [0.8888888888888888, \"#fdca26\"], [1.0, \"#f0f921\"]], \"type\": \"heatmapgl\"}], \"histogram\": [{\"marker\": {\"colorbar\": {\"outlinewidth\": 0, \"ticks\": \"\"}}, \"type\": \"histogram\"}], \"histogram2d\": [{\"colorbar\": {\"outlinewidth\": 0, \"ticks\": \"\"}, \"colorscale\": [[0.0, \"#0d0887\"], [0.1111111111111111, \"#46039f\"], [0.2222222222222222, \"#7201a8\"], [0.3333333333333333, \"#9c179e\"], [0.4444444444444444, \"#bd3786\"], [0.5555555555555556, \"#d8576b\"], [0.6666666666666666, \"#ed7953\"], [0.7777777777777778, \"#fb9f3a\"], [0.8888888888888888, \"#fdca26\"], [1.0, \"#f0f921\"]], \"type\": \"histogram2d\"}], \"histogram2dcontour\": [{\"colorbar\": {\"outlinewidth\": 0, \"ticks\": \"\"}, \"colorscale\": [[0.0, \"#0d0887\"], [0.1111111111111111, \"#46039f\"], [0.2222222222222222, \"#7201a8\"], [0.3333333333333333, \"#9c179e\"], [0.4444444444444444, \"#bd3786\"], [0.5555555555555556, \"#d8576b\"], [0.6666666666666666, \"#ed7953\"], [0.7777777777777778, \"#fb9f3a\"], [0.8888888888888888, \"#fdca26\"], [1.0, \"#f0f921\"]], \"type\": \"histogram2dcontour\"}], \"mesh3d\": [{\"colorbar\": {\"outlinewidth\": 0, \"ticks\": \"\"}, \"type\": \"mesh3d\"}], \"parcoords\": [{\"line\": {\"colorbar\": {\"outlinewidth\": 0, \"ticks\": \"\"}}, \"type\": \"parcoords\"}], \"pie\": [{\"automargin\": true, \"type\": \"pie\"}], \"scatter\": [{\"marker\": {\"colorbar\": {\"outlinewidth\": 0, \"ticks\": \"\"}}, \"type\": \"scatter\"}], \"scatter3d\": [{\"line\": {\"colorbar\": {\"outlinewidth\": 0, \"ticks\": \"\"}}, \"marker\": {\"colorbar\": {\"outlinewidth\": 0, \"ticks\": \"\"}}, \"type\": \"scatter3d\"}], \"scattercarpet\": [{\"marker\": {\"colorbar\": {\"outlinewidth\": 0, \"ticks\": \"\"}}, \"type\": \"scattercarpet\"}], \"scattergeo\": [{\"marker\": {\"colorbar\": {\"outlinewidth\": 0, \"ticks\": \"\"}}, \"type\": \"scattergeo\"}], \"scattergl\": [{\"marker\": {\"colorbar\": {\"outlinewidth\": 0, \"ticks\": \"\"}}, \"type\": \"scattergl\"}], \"scattermapbox\": [{\"marker\": {\"colorbar\": {\"outlinewidth\": 0, \"ticks\": \"\"}}, \"type\": \"scattermapbox\"}], \"scatterpolar\": [{\"marker\": {\"colorbar\": {\"outlinewidth\": 0, \"ticks\": \"\"}}, \"type\": \"scatterpolar\"}], \"scatterpolargl\": [{\"marker\": {\"colorbar\": {\"outlinewidth\": 0, \"ticks\": \"\"}}, \"type\": \"scatterpolargl\"}], \"scatterternary\": [{\"marker\": {\"colorbar\": {\"outlinewidth\": 0, \"ticks\": \"\"}}, \"type\": \"scatterternary\"}], \"surface\": [{\"colorbar\": {\"outlinewidth\": 0, \"ticks\": \"\"}, \"colorscale\": [[0.0, \"#0d0887\"], [0.1111111111111111, \"#46039f\"], [0.2222222222222222, \"#7201a8\"], [0.3333333333333333, \"#9c179e\"], [0.4444444444444444, \"#bd3786\"], [0.5555555555555556, \"#d8576b\"], [0.6666666666666666, \"#ed7953\"], [0.7777777777777778, \"#fb9f3a\"], [0.8888888888888888, \"#fdca26\"], [1.0, \"#f0f921\"]], \"type\": \"surface\"}], \"table\": [{\"cells\": {\"fill\": {\"color\": \"#EBF0F8\"}, \"line\": {\"color\": \"white\"}}, \"header\": {\"fill\": {\"color\": \"#C8D4E3\"}, \"line\": {\"color\": \"white\"}}, \"type\": \"table\"}]}, \"layout\": {\"annotationdefaults\": {\"arrowcolor\": \"#2a3f5f\", \"arrowhead\": 0, \"arrowwidth\": 1}, \"coloraxis\": {\"colorbar\": {\"outlinewidth\": 0, \"ticks\": \"\"}}, \"colorscale\": {\"diverging\": [[0, \"#8e0152\"], [0.1, \"#c51b7d\"], [0.2, \"#de77ae\"], [0.3, \"#f1b6da\"], [0.4, \"#fde0ef\"], [0.5, \"#f7f7f7\"], [0.6, \"#e6f5d0\"], [0.7, \"#b8e186\"], [0.8, \"#7fbc41\"], [0.9, \"#4d9221\"], [1, \"#276419\"]], \"sequential\": [[0.0, \"#0d0887\"], [0.1111111111111111, \"#46039f\"], [0.2222222222222222, \"#7201a8\"], [0.3333333333333333, \"#9c179e\"], [0.4444444444444444, \"#bd3786\"], [0.5555555555555556, \"#d8576b\"], [0.6666666666666666, \"#ed7953\"], [0.7777777777777778, \"#fb9f3a\"], [0.8888888888888888, \"#fdca26\"], [1.0, \"#f0f921\"]], \"sequentialminus\": [[0.0, \"#0d0887\"], [0.1111111111111111, \"#46039f\"], [0.2222222222222222, \"#7201a8\"], [0.3333333333333333, \"#9c179e\"], [0.4444444444444444, \"#bd3786\"], [0.5555555555555556, \"#d8576b\"], [0.6666666666666666, \"#ed7953\"], [0.7777777777777778, \"#fb9f3a\"], [0.8888888888888888, \"#fdca26\"], [1.0, \"#f0f921\"]]}, \"colorway\": [\"#636efa\", \"#EF553B\", \"#00cc96\", \"#ab63fa\", \"#FFA15A\", \"#19d3f3\", \"#FF6692\", \"#B6E880\", \"#FF97FF\", \"#FECB52\"], \"font\": {\"color\": \"#2a3f5f\"}, \"geo\": {\"bgcolor\": \"white\", \"lakecolor\": \"white\", \"landcolor\": \"#E5ECF6\", \"showlakes\": true, \"showland\": true, \"subunitcolor\": \"white\"}, \"hoverlabel\": {\"align\": \"left\"}, \"hovermode\": \"closest\", \"mapbox\": {\"style\": \"light\"}, \"paper_bgcolor\": \"white\", \"plot_bgcolor\": \"#E5ECF6\", \"polar\": {\"angularaxis\": {\"gridcolor\": \"white\", \"linecolor\": \"white\", \"ticks\": \"\"}, \"bgcolor\": \"#E5ECF6\", \"radialaxis\": {\"gridcolor\": \"white\", \"linecolor\": \"white\", \"ticks\": \"\"}}, \"scene\": {\"xaxis\": {\"backgroundcolor\": \"#E5ECF6\", \"gridcolor\": \"white\", \"gridwidth\": 2, \"linecolor\": \"white\", \"showbackground\": true, \"ticks\": \"\", \"zerolinecolor\": \"white\"}, \"yaxis\": {\"backgroundcolor\": \"#E5ECF6\", \"gridcolor\": \"white\", \"gridwidth\": 2, \"linecolor\": \"white\", \"showbackground\": true, \"ticks\": \"\", \"zerolinecolor\": \"white\"}, \"zaxis\": {\"backgroundcolor\": \"#E5ECF6\", \"gridcolor\": \"white\", \"gridwidth\": 2, \"linecolor\": \"white\", \"showbackground\": true, \"ticks\": \"\", \"zerolinecolor\": \"white\"}}, \"shapedefaults\": {\"line\": {\"color\": \"#2a3f5f\"}}, \"ternary\": {\"aaxis\": {\"gridcolor\": \"white\", \"linecolor\": \"white\", \"ticks\": \"\"}, \"baxis\": {\"gridcolor\": \"white\", \"linecolor\": \"white\", \"ticks\": \"\"}, \"bgcolor\": \"#E5ECF6\", \"caxis\": {\"gridcolor\": \"white\", \"linecolor\": \"white\", \"ticks\": \"\"}}, \"title\": {\"x\": 0.05}, \"xaxis\": {\"automargin\": true, \"gridcolor\": \"white\", \"linecolor\": \"white\", \"ticks\": \"\", \"title\": {\"standoff\": 15}, \"zerolinecolor\": \"white\", \"zerolinewidth\": 2}, \"yaxis\": {\"automargin\": true, \"gridcolor\": \"white\", \"linecolor\": \"white\", \"ticks\": \"\", \"title\": {\"standoff\": 15}, \"zerolinecolor\": \"white\", \"zerolinewidth\": 2}}}, \"title\": {\"font\": {\"color\": \"lightgrey\", \"family\": \"sans-serif\", \"size\": 24}, \"text\": \"\", \"x\": 0.5}, \"width\": 800, \"xaxis\": {\"autorange\": true, \"color\": \"lightgrey\", \"dtick\": 1, \"gridcolor\": \"#343846\", \"gridwidth\": 0.5, \"showgrid\": false, \"showline\": false, \"showticklabels\": true, \"tickfont\": {\"color\": \"lightgrey\", \"size\": 13}, \"tickformat\": \"\", \"tickmode\": \"auto\", \"title\": {\"font\": {\"color\": \"lightgrey\", \"family\": \"sans-serif\", \"size\": 18}, \"text\": \"\"}, \"type\": \"-\", \"zeroline\": false, \"zerolinecolor\": \"grey\"}, \"yaxis\": {\"autorange\": true, \"color\": \"lightgrey\", \"dtick\": 1, \"gridcolor\": \"#343846\", \"gridwidth\": 0.5, \"showgrid\": true, \"showline\": false, \"showticklabels\": true, \"tickfont\": {\"color\": \"lightgrey\", \"size\": 13}, \"tickformat\": \"\", \"tickmode\": \"auto\", \"ticks\": \"\", \"title\": {\"font\": {\"color\": \"lightgrey\", \"family\": \"sans-serif\", \"size\": 18}, \"text\": \"\"}, \"type\": \"-\", \"zeroline\": true, \"zerolinecolor\": \"grey\"}},\n                        {\"responsive\": true}\n                    ).then(function(){\n                            \nvar gd = document.getElementById('ef924c42-9296-40c1-90a3-e96bd3aa61c0');\nvar x = new MutationObserver(function (mutations, observer) {{\n        var display = window.getComputedStyle(gd).display;\n        if (!display || display === 'none') {{\n            console.log([gd, 'removed!']);\n            Plotly.purge(gd);\n            observer.disconnect();\n        }}\n}});\n\n// Listen for the removal of the full notebook cells\nvar notebookContainer = gd.closest('#notebook-container');\nif (notebookContainer) {{\n    x.observe(notebookContainer, {childList: true});\n}}\n\n// Listen for the clearing of the current output cell\nvar outputEl = gd.closest('.output');\nif (outputEl) {{\n    x.observe(outputEl, {childList: true});\n}}\n\n                        })\n                };\n                });\n            </script>\n        </div>"
     },
     "metadata": {}
    }
   ],
   "source": [
    "x = np.random.randn(500)\n",
    "\n",
    "color = chart.color_palette(palette_type='xkcd', palette=['orange'])\n",
    "layout = chart.layout(color_palette=color)\n",
    "chart.hist(layout, x=x, orientation='v', opacity=0.5, name='Preben')"
   ]
  },
  {
   "cell_type": "markdown",
   "metadata": {},
   "source": [
    "## Box plot"
   ]
  },
  {
   "cell_type": "code",
   "execution_count": 6,
   "metadata": {},
   "outputs": [
    {
     "output_type": "display_data",
     "data": {
      "application/vnd.plotly.v1+json": {
       "config": {
        "linkText": "Export to plot.ly",
        "plotlyServerURL": "https://plot.ly",
        "showLink": false
       },
       "data": [
        {
         "boxmean": true,
         "boxpoints": false,
         "jitter": 0.3,
         "name": "y1",
         "pointpos": -1.5,
         "type": "box",
         "y": [
          0.6243453636632417,
          -1.6117564136500753,
          -1.5281717522634557,
          -2.0729686221561705,
          -0.13459237067532148,
          -3.3015386968802827,
          0.74481176421648,
          -1.7612069008951028,
          -0.6809609039429014,
          -1.2493703754774101,
          0.4621079370449741,
          -3.060140709497654,
          -1.3224172040135076,
          -1.3840543546684156,
          0.13376944233543742,
          -2.099891267314031,
          -1.1724282075504358,
          -1.8778584179213718,
          -0.9577862532844071,
          -0.41718478628417777,
          -2.1006191772129212,
          0.14472370983961413,
          -0.09840927940720445,
          -0.49750566109813177,
          -0.09914405073558819,
          -1.6837278591743332,
          -1.1228902255186481,
          -1.9357694342590688,
          -1.267888079626016,
          -0.469644533261814,
          -1.691660751725309,
          -1.3967535268559774,
          -1.6871727001195995,
          -1.8452056414987195,
          -1.6712461308368192,
          -1.0126645989189014,
          -2.117310348635278,
          -0.7655843021829078,
          0.6598021771098705,
          -0.2579558394226644,
          -1.1918355523616149,
          -1.8876289640848363,
          -1.7471582937508376,
          0.6924546010277466,
          -0.949192245223971,
          -1.6369956465693534,
          -0.809084515332534,
          1.1002551364788422,
          -0.8798410475183709,
          -0.3827968902925808
         ]
        },
        {
         "boxmean": true,
         "boxpoints": false,
         "jitter": 0.3,
         "name": "y2",
         "pointpos": -1.5,
         "type": "box",
         "y": [
          2.3001703199558277,
          1.6477501535064814,
          0.8574818019778598,
          1.6506572775871224,
          1.791105766625222,
          2.5866231911821975,
          2.838983413874505,
          2.9311020813035573,
          2.2855873252542587,
          2.885141164270728,
          1.2456020590033472,
          3.252868155233288,
          2.512929820418009,
          1.7019071648972843,
          2.488518146537497,
          1.9244282869789442,
          3.1316293874514267,
          3.519816816422199,
          4.185575406533161,
          0.6035036645118623,
          0.5558861945704106,
          1.4955341370535487,
          2.1600370694478306,
          2.876168921116225,
          2.3156349472416053,
          -0.02220121582400303,
          1.6937959873716282,
          2.8279746426072463,
          2.2300947353643834,
          2.7620111803120246,
          1.7776718573896408,
          1.7992419310700025,
          2.186561390988284,
          2.4100516472082565,
          2.1982997201267698,
          2.1190086458074586,
          1.3293377137109694,
          2.3775637863209194,
          2.121821270991437,
          3.1294839079119194,
          3.198917879901507,
          2.185156417483944,
          1.6247150499098857,
          1.3612695925457776,
          2.423494354064113,
          2.077340068348559,
          1.6561463244289243,
          2.043596856834247,
          1.3799991560518707,
          2.698032034072219
         ]
        }
       ],
       "layout": {
        "autosize": false,
        "height": 600,
        "legend": {
         "bordercolor": "#202534",
         "borderwidth": 0,
         "font": {
          "color": "lightgrey",
          "family": "sans-serif",
          "size": 12
         },
         "orientation": "v",
         "traceorder": "normal",
         "x": 1.02,
         "xanchor": "left",
         "y": 1,
         "yanchor": "middle"
        },
        "margin": {
         "b": 75,
         "l": 75,
         "pad": 10,
         "r": 50,
         "t": 75
        },
        "paper_bgcolor": "#202534",
        "plot_bgcolor": "#202534",
        "template": {
         "data": {
          "bar": [
           {
            "error_x": {
             "color": "#2a3f5f"
            },
            "error_y": {
             "color": "#2a3f5f"
            },
            "marker": {
             "line": {
              "color": "#E5ECF6",
              "width": 0.5
             }
            },
            "type": "bar"
           }
          ],
          "barpolar": [
           {
            "marker": {
             "line": {
              "color": "#E5ECF6",
              "width": 0.5
             }
            },
            "type": "barpolar"
           }
          ],
          "carpet": [
           {
            "aaxis": {
             "endlinecolor": "#2a3f5f",
             "gridcolor": "white",
             "linecolor": "white",
             "minorgridcolor": "white",
             "startlinecolor": "#2a3f5f"
            },
            "baxis": {
             "endlinecolor": "#2a3f5f",
             "gridcolor": "white",
             "linecolor": "white",
             "minorgridcolor": "white",
             "startlinecolor": "#2a3f5f"
            },
            "type": "carpet"
           }
          ],
          "choropleth": [
           {
            "colorbar": {
             "outlinewidth": 0,
             "ticks": ""
            },
            "type": "choropleth"
           }
          ],
          "contour": [
           {
            "colorbar": {
             "outlinewidth": 0,
             "ticks": ""
            },
            "colorscale": [
             [
              0,
              "#0d0887"
             ],
             [
              0.1111111111111111,
              "#46039f"
             ],
             [
              0.2222222222222222,
              "#7201a8"
             ],
             [
              0.3333333333333333,
              "#9c179e"
             ],
             [
              0.4444444444444444,
              "#bd3786"
             ],
             [
              0.5555555555555556,
              "#d8576b"
             ],
             [
              0.6666666666666666,
              "#ed7953"
             ],
             [
              0.7777777777777778,
              "#fb9f3a"
             ],
             [
              0.8888888888888888,
              "#fdca26"
             ],
             [
              1,
              "#f0f921"
             ]
            ],
            "type": "contour"
           }
          ],
          "contourcarpet": [
           {
            "colorbar": {
             "outlinewidth": 0,
             "ticks": ""
            },
            "type": "contourcarpet"
           }
          ],
          "heatmap": [
           {
            "colorbar": {
             "outlinewidth": 0,
             "ticks": ""
            },
            "colorscale": [
             [
              0,
              "#0d0887"
             ],
             [
              0.1111111111111111,
              "#46039f"
             ],
             [
              0.2222222222222222,
              "#7201a8"
             ],
             [
              0.3333333333333333,
              "#9c179e"
             ],
             [
              0.4444444444444444,
              "#bd3786"
             ],
             [
              0.5555555555555556,
              "#d8576b"
             ],
             [
              0.6666666666666666,
              "#ed7953"
             ],
             [
              0.7777777777777778,
              "#fb9f3a"
             ],
             [
              0.8888888888888888,
              "#fdca26"
             ],
             [
              1,
              "#f0f921"
             ]
            ],
            "type": "heatmap"
           }
          ],
          "heatmapgl": [
           {
            "colorbar": {
             "outlinewidth": 0,
             "ticks": ""
            },
            "colorscale": [
             [
              0,
              "#0d0887"
             ],
             [
              0.1111111111111111,
              "#46039f"
             ],
             [
              0.2222222222222222,
              "#7201a8"
             ],
             [
              0.3333333333333333,
              "#9c179e"
             ],
             [
              0.4444444444444444,
              "#bd3786"
             ],
             [
              0.5555555555555556,
              "#d8576b"
             ],
             [
              0.6666666666666666,
              "#ed7953"
             ],
             [
              0.7777777777777778,
              "#fb9f3a"
             ],
             [
              0.8888888888888888,
              "#fdca26"
             ],
             [
              1,
              "#f0f921"
             ]
            ],
            "type": "heatmapgl"
           }
          ],
          "histogram": [
           {
            "marker": {
             "colorbar": {
              "outlinewidth": 0,
              "ticks": ""
             }
            },
            "type": "histogram"
           }
          ],
          "histogram2d": [
           {
            "colorbar": {
             "outlinewidth": 0,
             "ticks": ""
            },
            "colorscale": [
             [
              0,
              "#0d0887"
             ],
             [
              0.1111111111111111,
              "#46039f"
             ],
             [
              0.2222222222222222,
              "#7201a8"
             ],
             [
              0.3333333333333333,
              "#9c179e"
             ],
             [
              0.4444444444444444,
              "#bd3786"
             ],
             [
              0.5555555555555556,
              "#d8576b"
             ],
             [
              0.6666666666666666,
              "#ed7953"
             ],
             [
              0.7777777777777778,
              "#fb9f3a"
             ],
             [
              0.8888888888888888,
              "#fdca26"
             ],
             [
              1,
              "#f0f921"
             ]
            ],
            "type": "histogram2d"
           }
          ],
          "histogram2dcontour": [
           {
            "colorbar": {
             "outlinewidth": 0,
             "ticks": ""
            },
            "colorscale": [
             [
              0,
              "#0d0887"
             ],
             [
              0.1111111111111111,
              "#46039f"
             ],
             [
              0.2222222222222222,
              "#7201a8"
             ],
             [
              0.3333333333333333,
              "#9c179e"
             ],
             [
              0.4444444444444444,
              "#bd3786"
             ],
             [
              0.5555555555555556,
              "#d8576b"
             ],
             [
              0.6666666666666666,
              "#ed7953"
             ],
             [
              0.7777777777777778,
              "#fb9f3a"
             ],
             [
              0.8888888888888888,
              "#fdca26"
             ],
             [
              1,
              "#f0f921"
             ]
            ],
            "type": "histogram2dcontour"
           }
          ],
          "mesh3d": [
           {
            "colorbar": {
             "outlinewidth": 0,
             "ticks": ""
            },
            "type": "mesh3d"
           }
          ],
          "parcoords": [
           {
            "line": {
             "colorbar": {
              "outlinewidth": 0,
              "ticks": ""
             }
            },
            "type": "parcoords"
           }
          ],
          "pie": [
           {
            "automargin": true,
            "type": "pie"
           }
          ],
          "scatter": [
           {
            "marker": {
             "colorbar": {
              "outlinewidth": 0,
              "ticks": ""
             }
            },
            "type": "scatter"
           }
          ],
          "scatter3d": [
           {
            "line": {
             "colorbar": {
              "outlinewidth": 0,
              "ticks": ""
             }
            },
            "marker": {
             "colorbar": {
              "outlinewidth": 0,
              "ticks": ""
             }
            },
            "type": "scatter3d"
           }
          ],
          "scattercarpet": [
           {
            "marker": {
             "colorbar": {
              "outlinewidth": 0,
              "ticks": ""
             }
            },
            "type": "scattercarpet"
           }
          ],
          "scattergeo": [
           {
            "marker": {
             "colorbar": {
              "outlinewidth": 0,
              "ticks": ""
             }
            },
            "type": "scattergeo"
           }
          ],
          "scattergl": [
           {
            "marker": {
             "colorbar": {
              "outlinewidth": 0,
              "ticks": ""
             }
            },
            "type": "scattergl"
           }
          ],
          "scattermapbox": [
           {
            "marker": {
             "colorbar": {
              "outlinewidth": 0,
              "ticks": ""
             }
            },
            "type": "scattermapbox"
           }
          ],
          "scatterpolar": [
           {
            "marker": {
             "colorbar": {
              "outlinewidth": 0,
              "ticks": ""
             }
            },
            "type": "scatterpolar"
           }
          ],
          "scatterpolargl": [
           {
            "marker": {
             "colorbar": {
              "outlinewidth": 0,
              "ticks": ""
             }
            },
            "type": "scatterpolargl"
           }
          ],
          "scatterternary": [
           {
            "marker": {
             "colorbar": {
              "outlinewidth": 0,
              "ticks": ""
             }
            },
            "type": "scatterternary"
           }
          ],
          "surface": [
           {
            "colorbar": {
             "outlinewidth": 0,
             "ticks": ""
            },
            "colorscale": [
             [
              0,
              "#0d0887"
             ],
             [
              0.1111111111111111,
              "#46039f"
             ],
             [
              0.2222222222222222,
              "#7201a8"
             ],
             [
              0.3333333333333333,
              "#9c179e"
             ],
             [
              0.4444444444444444,
              "#bd3786"
             ],
             [
              0.5555555555555556,
              "#d8576b"
             ],
             [
              0.6666666666666666,
              "#ed7953"
             ],
             [
              0.7777777777777778,
              "#fb9f3a"
             ],
             [
              0.8888888888888888,
              "#fdca26"
             ],
             [
              1,
              "#f0f921"
             ]
            ],
            "type": "surface"
           }
          ],
          "table": [
           {
            "cells": {
             "fill": {
              "color": "#EBF0F8"
             },
             "line": {
              "color": "white"
             }
            },
            "header": {
             "fill": {
              "color": "#C8D4E3"
             },
             "line": {
              "color": "white"
             }
            },
            "type": "table"
           }
          ]
         },
         "layout": {
          "annotationdefaults": {
           "arrowcolor": "#2a3f5f",
           "arrowhead": 0,
           "arrowwidth": 1
          },
          "coloraxis": {
           "colorbar": {
            "outlinewidth": 0,
            "ticks": ""
           }
          },
          "colorscale": {
           "diverging": [
            [
             0,
             "#8e0152"
            ],
            [
             0.1,
             "#c51b7d"
            ],
            [
             0.2,
             "#de77ae"
            ],
            [
             0.3,
             "#f1b6da"
            ],
            [
             0.4,
             "#fde0ef"
            ],
            [
             0.5,
             "#f7f7f7"
            ],
            [
             0.6,
             "#e6f5d0"
            ],
            [
             0.7,
             "#b8e186"
            ],
            [
             0.8,
             "#7fbc41"
            ],
            [
             0.9,
             "#4d9221"
            ],
            [
             1,
             "#276419"
            ]
           ],
           "sequential": [
            [
             0,
             "#0d0887"
            ],
            [
             0.1111111111111111,
             "#46039f"
            ],
            [
             0.2222222222222222,
             "#7201a8"
            ],
            [
             0.3333333333333333,
             "#9c179e"
            ],
            [
             0.4444444444444444,
             "#bd3786"
            ],
            [
             0.5555555555555556,
             "#d8576b"
            ],
            [
             0.6666666666666666,
             "#ed7953"
            ],
            [
             0.7777777777777778,
             "#fb9f3a"
            ],
            [
             0.8888888888888888,
             "#fdca26"
            ],
            [
             1,
             "#f0f921"
            ]
           ],
           "sequentialminus": [
            [
             0,
             "#0d0887"
            ],
            [
             0.1111111111111111,
             "#46039f"
            ],
            [
             0.2222222222222222,
             "#7201a8"
            ],
            [
             0.3333333333333333,
             "#9c179e"
            ],
            [
             0.4444444444444444,
             "#bd3786"
            ],
            [
             0.5555555555555556,
             "#d8576b"
            ],
            [
             0.6666666666666666,
             "#ed7953"
            ],
            [
             0.7777777777777778,
             "#fb9f3a"
            ],
            [
             0.8888888888888888,
             "#fdca26"
            ],
            [
             1,
             "#f0f921"
            ]
           ]
          },
          "colorway": [
           "#636efa",
           "#EF553B",
           "#00cc96",
           "#ab63fa",
           "#FFA15A",
           "#19d3f3",
           "#FF6692",
           "#B6E880",
           "#FF97FF",
           "#FECB52"
          ],
          "font": {
           "color": "#2a3f5f"
          },
          "geo": {
           "bgcolor": "white",
           "lakecolor": "white",
           "landcolor": "#E5ECF6",
           "showlakes": true,
           "showland": true,
           "subunitcolor": "white"
          },
          "hoverlabel": {
           "align": "left"
          },
          "hovermode": "closest",
          "mapbox": {
           "style": "light"
          },
          "paper_bgcolor": "white",
          "plot_bgcolor": "#E5ECF6",
          "polar": {
           "angularaxis": {
            "gridcolor": "white",
            "linecolor": "white",
            "ticks": ""
           },
           "bgcolor": "#E5ECF6",
           "radialaxis": {
            "gridcolor": "white",
            "linecolor": "white",
            "ticks": ""
           }
          },
          "scene": {
           "xaxis": {
            "backgroundcolor": "#E5ECF6",
            "gridcolor": "white",
            "gridwidth": 2,
            "linecolor": "white",
            "showbackground": true,
            "ticks": "",
            "zerolinecolor": "white"
           },
           "yaxis": {
            "backgroundcolor": "#E5ECF6",
            "gridcolor": "white",
            "gridwidth": 2,
            "linecolor": "white",
            "showbackground": true,
            "ticks": "",
            "zerolinecolor": "white"
           },
           "zaxis": {
            "backgroundcolor": "#E5ECF6",
            "gridcolor": "white",
            "gridwidth": 2,
            "linecolor": "white",
            "showbackground": true,
            "ticks": "",
            "zerolinecolor": "white"
           }
          },
          "shapedefaults": {
           "line": {
            "color": "#2a3f5f"
           }
          },
          "ternary": {
           "aaxis": {
            "gridcolor": "white",
            "linecolor": "white",
            "ticks": ""
           },
           "baxis": {
            "gridcolor": "white",
            "linecolor": "white",
            "ticks": ""
           },
           "bgcolor": "#E5ECF6",
           "caxis": {
            "gridcolor": "white",
            "linecolor": "white",
            "ticks": ""
           }
          },
          "title": {
           "x": 0.05
          },
          "xaxis": {
           "automargin": true,
           "gridcolor": "white",
           "linecolor": "white",
           "ticks": "",
           "title": {
            "standoff": 15
           },
           "zerolinecolor": "white",
           "zerolinewidth": 2
          },
          "yaxis": {
           "automargin": true,
           "gridcolor": "white",
           "linecolor": "white",
           "ticks": "",
           "title": {
            "standoff": 15
           },
           "zerolinecolor": "white",
           "zerolinewidth": 2
          }
         }
        },
        "title": {
         "font": {
          "color": "lightgrey",
          "family": "sans-serif",
          "size": 24
         },
         "text": "",
         "x": 0.5
        },
        "width": 800,
        "xaxis": {
         "autorange": true,
         "color": "lightgrey",
         "dtick": 1,
         "gridcolor": "#343846",
         "gridwidth": 0.5,
         "showgrid": false,
         "showline": false,
         "showticklabels": true,
         "tickfont": {
          "color": "lightgrey",
          "size": 13
         },
         "tickformat": "",
         "tickmode": "auto",
         "title": {
          "font": {
           "color": "lightgrey",
           "family": "sans-serif",
           "size": 18
          },
          "text": ""
         },
         "type": "-",
         "zeroline": false,
         "zerolinecolor": "grey"
        },
        "yaxis": {
         "autorange": true,
         "color": "lightgrey",
         "dtick": 1,
         "gridcolor": "#343846",
         "gridwidth": 0.5,
         "showgrid": true,
         "showline": false,
         "showticklabels": true,
         "tickfont": {
          "color": "lightgrey",
          "size": 13
         },
         "tickformat": "",
         "tickmode": "auto",
         "ticks": "",
         "title": {
          "font": {
           "color": "lightgrey",
           "family": "sans-serif",
           "size": 18
          },
          "text": ""
         },
         "type": "-",
         "zeroline": true,
         "zerolinecolor": "grey"
        }
       }
      },
      "text/html": "<div>\n        \n        \n            <div id=\"88220cae-029a-4d65-a0e7-6e4dbeb5cbda\" class=\"plotly-graph-div\" style=\"height:600px; width:800px;\"></div>\n            <script type=\"text/javascript\">\n                require([\"plotly\"], function(Plotly) {\n                    window.PLOTLYENV=window.PLOTLYENV || {};\n                    \n                if (document.getElementById(\"88220cae-029a-4d65-a0e7-6e4dbeb5cbda\")) {\n                    Plotly.newPlot(\n                        '88220cae-029a-4d65-a0e7-6e4dbeb5cbda',\n                        [{\"boxmean\": true, \"boxpoints\": false, \"jitter\": 0.3, \"name\": \"y1\", \"pointpos\": -1.5, \"type\": \"box\", \"y\": [0.6243453636632417, -1.6117564136500753, -1.5281717522634557, -2.0729686221561705, -0.13459237067532148, -3.3015386968802827, 0.74481176421648, -1.7612069008951028, -0.6809609039429014, -1.2493703754774101, 0.4621079370449741, -3.060140709497654, -1.3224172040135076, -1.3840543546684156, 0.13376944233543742, -2.099891267314031, -1.1724282075504358, -1.8778584179213718, -0.9577862532844071, -0.41718478628417777, -2.1006191772129212, 0.14472370983961413, -0.09840927940720445, -0.49750566109813177, -0.09914405073558819, -1.6837278591743332, -1.1228902255186481, -1.9357694342590688, -1.267888079626016, -0.469644533261814, -1.691660751725309, -1.3967535268559774, -1.6871727001195995, -1.8452056414987195, -1.6712461308368192, -1.0126645989189014, -2.117310348635278, -0.7655843021829078, 0.6598021771098705, -0.2579558394226644, -1.1918355523616149, -1.8876289640848363, -1.7471582937508376, 0.6924546010277466, -0.949192245223971, -1.6369956465693534, -0.809084515332534, 1.1002551364788422, -0.8798410475183709, -0.3827968902925808]}, {\"boxmean\": true, \"boxpoints\": false, \"jitter\": 0.3, \"name\": \"y2\", \"pointpos\": -1.5, \"type\": \"box\", \"y\": [2.3001703199558277, 1.6477501535064814, 0.8574818019778598, 1.6506572775871224, 1.791105766625222, 2.5866231911821975, 2.838983413874505, 2.9311020813035573, 2.2855873252542587, 2.885141164270728, 1.2456020590033472, 3.252868155233288, 2.512929820418009, 1.7019071648972843, 2.488518146537497, 1.9244282869789442, 3.1316293874514267, 3.519816816422199, 4.185575406533161, 0.6035036645118623, 0.5558861945704106, 1.4955341370535487, 2.1600370694478306, 2.876168921116225, 2.3156349472416053, -0.02220121582400303, 1.6937959873716282, 2.8279746426072463, 2.2300947353643834, 2.7620111803120246, 1.7776718573896408, 1.7992419310700025, 2.186561390988284, 2.4100516472082565, 2.1982997201267698, 2.1190086458074586, 1.3293377137109694, 2.3775637863209194, 2.121821270991437, 3.1294839079119194, 3.198917879901507, 2.185156417483944, 1.6247150499098857, 1.3612695925457776, 2.423494354064113, 2.077340068348559, 1.6561463244289243, 2.043596856834247, 1.3799991560518707, 2.698032034072219]}],\n                        {\"autosize\": false, \"height\": 600, \"legend\": {\"bordercolor\": \"#202534\", \"borderwidth\": 0, \"font\": {\"color\": \"lightgrey\", \"family\": \"sans-serif\", \"size\": 12}, \"orientation\": \"v\", \"traceorder\": \"normal\", \"x\": 1.02, \"xanchor\": \"left\", \"y\": 1, \"yanchor\": \"middle\"}, \"margin\": {\"b\": 75, \"l\": 75, \"pad\": 10, \"r\": 50, \"t\": 75}, \"paper_bgcolor\": \"#202534\", \"plot_bgcolor\": \"#202534\", \"template\": {\"data\": {\"bar\": [{\"error_x\": {\"color\": \"#2a3f5f\"}, \"error_y\": {\"color\": \"#2a3f5f\"}, \"marker\": {\"line\": {\"color\": \"#E5ECF6\", \"width\": 0.5}}, \"type\": \"bar\"}], \"barpolar\": [{\"marker\": {\"line\": {\"color\": \"#E5ECF6\", \"width\": 0.5}}, \"type\": \"barpolar\"}], \"carpet\": [{\"aaxis\": {\"endlinecolor\": \"#2a3f5f\", \"gridcolor\": \"white\", \"linecolor\": \"white\", \"minorgridcolor\": \"white\", \"startlinecolor\": \"#2a3f5f\"}, \"baxis\": {\"endlinecolor\": \"#2a3f5f\", \"gridcolor\": \"white\", \"linecolor\": \"white\", \"minorgridcolor\": \"white\", \"startlinecolor\": \"#2a3f5f\"}, \"type\": \"carpet\"}], \"choropleth\": [{\"colorbar\": {\"outlinewidth\": 0, \"ticks\": \"\"}, \"type\": \"choropleth\"}], \"contour\": [{\"colorbar\": {\"outlinewidth\": 0, \"ticks\": \"\"}, \"colorscale\": [[0.0, \"#0d0887\"], [0.1111111111111111, \"#46039f\"], [0.2222222222222222, \"#7201a8\"], [0.3333333333333333, \"#9c179e\"], [0.4444444444444444, \"#bd3786\"], [0.5555555555555556, \"#d8576b\"], [0.6666666666666666, \"#ed7953\"], [0.7777777777777778, \"#fb9f3a\"], [0.8888888888888888, \"#fdca26\"], [1.0, \"#f0f921\"]], \"type\": \"contour\"}], \"contourcarpet\": [{\"colorbar\": {\"outlinewidth\": 0, \"ticks\": \"\"}, \"type\": \"contourcarpet\"}], \"heatmap\": [{\"colorbar\": {\"outlinewidth\": 0, \"ticks\": \"\"}, \"colorscale\": [[0.0, \"#0d0887\"], [0.1111111111111111, \"#46039f\"], [0.2222222222222222, \"#7201a8\"], [0.3333333333333333, \"#9c179e\"], [0.4444444444444444, \"#bd3786\"], [0.5555555555555556, \"#d8576b\"], [0.6666666666666666, \"#ed7953\"], [0.7777777777777778, \"#fb9f3a\"], [0.8888888888888888, \"#fdca26\"], [1.0, \"#f0f921\"]], \"type\": \"heatmap\"}], \"heatmapgl\": [{\"colorbar\": {\"outlinewidth\": 0, \"ticks\": \"\"}, \"colorscale\": [[0.0, \"#0d0887\"], [0.1111111111111111, \"#46039f\"], [0.2222222222222222, \"#7201a8\"], [0.3333333333333333, \"#9c179e\"], [0.4444444444444444, \"#bd3786\"], [0.5555555555555556, \"#d8576b\"], [0.6666666666666666, \"#ed7953\"], [0.7777777777777778, \"#fb9f3a\"], [0.8888888888888888, \"#fdca26\"], [1.0, \"#f0f921\"]], \"type\": \"heatmapgl\"}], \"histogram\": [{\"marker\": {\"colorbar\": {\"outlinewidth\": 0, \"ticks\": \"\"}}, \"type\": \"histogram\"}], \"histogram2d\": [{\"colorbar\": {\"outlinewidth\": 0, \"ticks\": \"\"}, \"colorscale\": [[0.0, \"#0d0887\"], [0.1111111111111111, \"#46039f\"], [0.2222222222222222, \"#7201a8\"], [0.3333333333333333, \"#9c179e\"], [0.4444444444444444, \"#bd3786\"], [0.5555555555555556, \"#d8576b\"], [0.6666666666666666, \"#ed7953\"], [0.7777777777777778, \"#fb9f3a\"], [0.8888888888888888, \"#fdca26\"], [1.0, \"#f0f921\"]], \"type\": \"histogram2d\"}], \"histogram2dcontour\": [{\"colorbar\": {\"outlinewidth\": 0, \"ticks\": \"\"}, \"colorscale\": [[0.0, \"#0d0887\"], [0.1111111111111111, \"#46039f\"], [0.2222222222222222, \"#7201a8\"], [0.3333333333333333, \"#9c179e\"], [0.4444444444444444, \"#bd3786\"], [0.5555555555555556, \"#d8576b\"], [0.6666666666666666, \"#ed7953\"], [0.7777777777777778, \"#fb9f3a\"], [0.8888888888888888, \"#fdca26\"], [1.0, \"#f0f921\"]], \"type\": \"histogram2dcontour\"}], \"mesh3d\": [{\"colorbar\": {\"outlinewidth\": 0, \"ticks\": \"\"}, \"type\": \"mesh3d\"}], \"parcoords\": [{\"line\": {\"colorbar\": {\"outlinewidth\": 0, \"ticks\": \"\"}}, \"type\": \"parcoords\"}], \"pie\": [{\"automargin\": true, \"type\": \"pie\"}], \"scatter\": [{\"marker\": {\"colorbar\": {\"outlinewidth\": 0, \"ticks\": \"\"}}, \"type\": \"scatter\"}], \"scatter3d\": [{\"line\": {\"colorbar\": {\"outlinewidth\": 0, \"ticks\": \"\"}}, \"marker\": {\"colorbar\": {\"outlinewidth\": 0, \"ticks\": \"\"}}, \"type\": \"scatter3d\"}], \"scattercarpet\": [{\"marker\": {\"colorbar\": {\"outlinewidth\": 0, \"ticks\": \"\"}}, \"type\": \"scattercarpet\"}], \"scattergeo\": [{\"marker\": {\"colorbar\": {\"outlinewidth\": 0, \"ticks\": \"\"}}, \"type\": \"scattergeo\"}], \"scattergl\": [{\"marker\": {\"colorbar\": {\"outlinewidth\": 0, \"ticks\": \"\"}}, \"type\": \"scattergl\"}], \"scattermapbox\": [{\"marker\": {\"colorbar\": {\"outlinewidth\": 0, \"ticks\": \"\"}}, \"type\": \"scattermapbox\"}], \"scatterpolar\": [{\"marker\": {\"colorbar\": {\"outlinewidth\": 0, \"ticks\": \"\"}}, \"type\": \"scatterpolar\"}], \"scatterpolargl\": [{\"marker\": {\"colorbar\": {\"outlinewidth\": 0, \"ticks\": \"\"}}, \"type\": \"scatterpolargl\"}], \"scatterternary\": [{\"marker\": {\"colorbar\": {\"outlinewidth\": 0, \"ticks\": \"\"}}, \"type\": \"scatterternary\"}], \"surface\": [{\"colorbar\": {\"outlinewidth\": 0, \"ticks\": \"\"}, \"colorscale\": [[0.0, \"#0d0887\"], [0.1111111111111111, \"#46039f\"], [0.2222222222222222, \"#7201a8\"], [0.3333333333333333, \"#9c179e\"], [0.4444444444444444, \"#bd3786\"], [0.5555555555555556, \"#d8576b\"], [0.6666666666666666, \"#ed7953\"], [0.7777777777777778, \"#fb9f3a\"], [0.8888888888888888, \"#fdca26\"], [1.0, \"#f0f921\"]], \"type\": \"surface\"}], \"table\": [{\"cells\": {\"fill\": {\"color\": \"#EBF0F8\"}, \"line\": {\"color\": \"white\"}}, \"header\": {\"fill\": {\"color\": \"#C8D4E3\"}, \"line\": {\"color\": \"white\"}}, \"type\": \"table\"}]}, \"layout\": {\"annotationdefaults\": {\"arrowcolor\": \"#2a3f5f\", \"arrowhead\": 0, \"arrowwidth\": 1}, \"coloraxis\": {\"colorbar\": {\"outlinewidth\": 0, \"ticks\": \"\"}}, \"colorscale\": {\"diverging\": [[0, \"#8e0152\"], [0.1, \"#c51b7d\"], [0.2, \"#de77ae\"], [0.3, \"#f1b6da\"], [0.4, \"#fde0ef\"], [0.5, \"#f7f7f7\"], [0.6, \"#e6f5d0\"], [0.7, \"#b8e186\"], [0.8, \"#7fbc41\"], [0.9, \"#4d9221\"], [1, \"#276419\"]], \"sequential\": [[0.0, \"#0d0887\"], [0.1111111111111111, \"#46039f\"], [0.2222222222222222, \"#7201a8\"], [0.3333333333333333, \"#9c179e\"], [0.4444444444444444, \"#bd3786\"], [0.5555555555555556, \"#d8576b\"], [0.6666666666666666, \"#ed7953\"], [0.7777777777777778, \"#fb9f3a\"], [0.8888888888888888, \"#fdca26\"], [1.0, \"#f0f921\"]], \"sequentialminus\": [[0.0, \"#0d0887\"], [0.1111111111111111, \"#46039f\"], [0.2222222222222222, \"#7201a8\"], [0.3333333333333333, \"#9c179e\"], [0.4444444444444444, \"#bd3786\"], [0.5555555555555556, \"#d8576b\"], [0.6666666666666666, \"#ed7953\"], [0.7777777777777778, \"#fb9f3a\"], [0.8888888888888888, \"#fdca26\"], [1.0, \"#f0f921\"]]}, \"colorway\": [\"#636efa\", \"#EF553B\", \"#00cc96\", \"#ab63fa\", \"#FFA15A\", \"#19d3f3\", \"#FF6692\", \"#B6E880\", \"#FF97FF\", \"#FECB52\"], \"font\": {\"color\": \"#2a3f5f\"}, \"geo\": {\"bgcolor\": \"white\", \"lakecolor\": \"white\", \"landcolor\": \"#E5ECF6\", \"showlakes\": true, \"showland\": true, \"subunitcolor\": \"white\"}, \"hoverlabel\": {\"align\": \"left\"}, \"hovermode\": \"closest\", \"mapbox\": {\"style\": \"light\"}, \"paper_bgcolor\": \"white\", \"plot_bgcolor\": \"#E5ECF6\", \"polar\": {\"angularaxis\": {\"gridcolor\": \"white\", \"linecolor\": \"white\", \"ticks\": \"\"}, \"bgcolor\": \"#E5ECF6\", \"radialaxis\": {\"gridcolor\": \"white\", \"linecolor\": \"white\", \"ticks\": \"\"}}, \"scene\": {\"xaxis\": {\"backgroundcolor\": \"#E5ECF6\", \"gridcolor\": \"white\", \"gridwidth\": 2, \"linecolor\": \"white\", \"showbackground\": true, \"ticks\": \"\", \"zerolinecolor\": \"white\"}, \"yaxis\": {\"backgroundcolor\": \"#E5ECF6\", \"gridcolor\": \"white\", \"gridwidth\": 2, \"linecolor\": \"white\", \"showbackground\": true, \"ticks\": \"\", \"zerolinecolor\": \"white\"}, \"zaxis\": {\"backgroundcolor\": \"#E5ECF6\", \"gridcolor\": \"white\", \"gridwidth\": 2, \"linecolor\": \"white\", \"showbackground\": true, \"ticks\": \"\", \"zerolinecolor\": \"white\"}}, \"shapedefaults\": {\"line\": {\"color\": \"#2a3f5f\"}}, \"ternary\": {\"aaxis\": {\"gridcolor\": \"white\", \"linecolor\": \"white\", \"ticks\": \"\"}, \"baxis\": {\"gridcolor\": \"white\", \"linecolor\": \"white\", \"ticks\": \"\"}, \"bgcolor\": \"#E5ECF6\", \"caxis\": {\"gridcolor\": \"white\", \"linecolor\": \"white\", \"ticks\": \"\"}}, \"title\": {\"x\": 0.05}, \"xaxis\": {\"automargin\": true, \"gridcolor\": \"white\", \"linecolor\": \"white\", \"ticks\": \"\", \"title\": {\"standoff\": 15}, \"zerolinecolor\": \"white\", \"zerolinewidth\": 2}, \"yaxis\": {\"automargin\": true, \"gridcolor\": \"white\", \"linecolor\": \"white\", \"ticks\": \"\", \"title\": {\"standoff\": 15}, \"zerolinecolor\": \"white\", \"zerolinewidth\": 2}}}, \"title\": {\"font\": {\"color\": \"lightgrey\", \"family\": \"sans-serif\", \"size\": 24}, \"text\": \"\", \"x\": 0.5}, \"width\": 800, \"xaxis\": {\"autorange\": true, \"color\": \"lightgrey\", \"dtick\": 1, \"gridcolor\": \"#343846\", \"gridwidth\": 0.5, \"showgrid\": false, \"showline\": false, \"showticklabels\": true, \"tickfont\": {\"color\": \"lightgrey\", \"size\": 13}, \"tickformat\": \"\", \"tickmode\": \"auto\", \"title\": {\"font\": {\"color\": \"lightgrey\", \"family\": \"sans-serif\", \"size\": 18}, \"text\": \"\"}, \"type\": \"-\", \"zeroline\": false, \"zerolinecolor\": \"grey\"}, \"yaxis\": {\"autorange\": true, \"color\": \"lightgrey\", \"dtick\": 1, \"gridcolor\": \"#343846\", \"gridwidth\": 0.5, \"showgrid\": true, \"showline\": false, \"showticklabels\": true, \"tickfont\": {\"color\": \"lightgrey\", \"size\": 13}, \"tickformat\": \"\", \"tickmode\": \"auto\", \"ticks\": \"\", \"title\": {\"font\": {\"color\": \"lightgrey\", \"family\": \"sans-serif\", \"size\": 18}, \"text\": \"\"}, \"type\": \"-\", \"zeroline\": true, \"zerolinecolor\": \"grey\"}},\n                        {\"responsive\": true}\n                    ).then(function(){\n                            \nvar gd = document.getElementById('88220cae-029a-4d65-a0e7-6e4dbeb5cbda');\nvar x = new MutationObserver(function (mutations, observer) {{\n        var display = window.getComputedStyle(gd).display;\n        if (!display || display === 'none') {{\n            console.log([gd, 'removed!']);\n            Plotly.purge(gd);\n            observer.disconnect();\n        }}\n}});\n\n// Listen for the removal of the full notebook cells\nvar notebookContainer = gd.closest('#notebook-container');\nif (notebookContainer) {{\n    x.observe(notebookContainer, {childList: true});\n}}\n\n// Listen for the clearing of the current output cell\nvar outputEl = gd.closest('.output');\nif (outputEl) {{\n    x.observe(outputEl, {childList: true});\n}}\n\n                        })\n                };\n                });\n            </script>\n        </div>"
     },
     "metadata": {}
    }
   ],
   "source": [
    "import numpy as np\n",
    "np.random.seed(1)\n",
    "\n",
    "arr1 = np.random.randn(50) - 1\n",
    "ser1 = pd.Series(arr1, name='y1')\n",
    "\n",
    "arr2 = np.random.randn(50) + 2\n",
    "ser2 = pd.Series(arr2, name='y2')\n",
    "\n",
    "layout = chart.layout()\n",
    "chart.box(y=[ser1, ser2], layout=layout)"
   ]
  },
  {
   "cell_type": "code",
   "execution_count": 9,
   "metadata": {},
   "outputs": [
    {
     "output_type": "execute_result",
     "data": {
      "text/plain": "array([ 0.62434536, -1.61175641, -1.52817175, -2.07296862, -0.13459237,\n       -3.3015387 ,  0.74481176, -1.7612069 , -0.6809609 , -1.24937038,\n        0.46210794, -3.06014071, -1.3224172 , -1.38405435,  0.13376944,\n       -2.09989127, -1.17242821, -1.87785842, -0.95778625, -0.41718479,\n       -2.10061918,  0.14472371, -0.09840928, -0.49750566, -0.09914405,\n       -1.68372786, -1.12289023, -1.93576943, -1.26788808, -0.46964453,\n       -1.69166075, -1.39675353, -1.6871727 , -1.84520564, -1.67124613,\n       -1.0126646 , -2.11731035, -0.7655843 ,  0.65980218, -0.25795584,\n       -1.19183555, -1.88762896, -1.74715829,  0.6924546 , -0.94919225,\n       -1.63699565, -0.80908452,  1.10025514, -0.87984105, -0.38279689])"
     },
     "metadata": {},
     "execution_count": 9
    }
   ],
   "source": [
    "y0"
   ]
  },
  {
   "cell_type": "code",
   "execution_count": 10,
   "metadata": {},
   "outputs": [
    {
     "output_type": "execute_result",
     "data": {
      "text/plain": "0     0.624345\n1    -1.611756\n2    -1.528172\n3    -2.072969\n4    -0.134592\n5    -3.301539\n6     0.744812\n7    -1.761207\n8    -0.680961\n9    -1.249370\n10    0.462108\n11   -3.060141\n12   -1.322417\n13   -1.384054\n14    0.133769\n15   -2.099891\n16   -1.172428\n17   -1.877858\n18   -0.957786\n19   -0.417185\n20   -2.100619\n21    0.144724\n22   -0.098409\n23   -0.497506\n24   -0.099144\n25   -1.683728\n26   -1.122890\n27   -1.935769\n28   -1.267888\n29   -0.469645\n30   -1.691661\n31   -1.396754\n32   -1.687173\n33   -1.845206\n34   -1.671246\n35   -1.012665\n36   -2.117310\n37   -0.765584\n38    0.659802\n39   -0.257956\n40   -1.191836\n41   -1.887629\n42   -1.747158\n43    0.692455\n44   -0.949192\n45   -1.636996\n46   -0.809085\n47    1.100255\n48   -0.879841\n49   -0.382797\nName: y0, dtype: float64"
     },
     "metadata": {},
     "execution_count": 10
    }
   ],
   "source": [
    "pd.Series(y0, name='y0')"
   ]
  },
  {
   "cell_type": "code",
   "execution_count": null,
   "metadata": {},
   "outputs": [],
   "source": []
  }
 ],
 "metadata": {
  "language_info": {
   "codemirror_mode": {
    "name": "ipython",
    "version": 3
   },
   "file_extension": ".py",
   "mimetype": "text/x-python",
   "name": "python",
   "nbconvert_exporter": "python",
   "pygments_lexer": "ipython3",
   "version": "3.8.2-final"
  },
  "orig_nbformat": 2,
  "kernelspec": {
   "name": "python38264bitplotlychartbuilderenvconda2b63a576baa047d3b608b03efd0184d5",
   "display_name": "Python 3.8.2 64-bit ('plotly_chart_builder_env': conda)"
  }
 },
 "nbformat": 4,
 "nbformat_minor": 2
}